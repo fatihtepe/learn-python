{
  "nbformat": 4,
  "nbformat_minor": 0,
  "metadata": {
    "colab": {
      "name": "set_samples.ipynb",
      "provenance": [],
      "authorship_tag": "ABX9TyMErWriA/4V+0bORyc6BW0k",
      "include_colab_link": true
    },
    "kernelspec": {
      "name": "python3",
      "display_name": "Python 3"
    },
    "language_info": {
      "name": "python"
    }
  },
  "cells": [
    {
      "cell_type": "markdown",
      "metadata": {
        "id": "view-in-github",
        "colab_type": "text"
      },
      "source": [
        "<a href=\"https://colab.research.google.com/github/fatihtepe/learn_python/blob/main/set_samples.ipynb\" target=\"_parent\"><img src=\"https://colab.research.google.com/assets/colab-badge.svg\" alt=\"Open In Colab\"/></a>"
      ]
    },
    {
      "cell_type": "code",
      "metadata": {
        "colab": {
          "base_uri": "https://localhost:8080/"
        },
        "id": "4kMeLnDkyZGf",
        "outputId": "d3e9fc90-bb78-44d7-d289-3e5b7cdeae81"
      },
      "source": [
        "# empty_set = set()\n",
        "# print(type(empty_set))\n",
        "\n",
        "stRing_sample = \"elmaarmutportakalordakal\"\n",
        "yset = set(stRing_sample)\n",
        "print(yset) \n",
        " \n",
        "list_sampel = city = ['New York', 'London', 'Seoul', 'Sydney', 111, 222]\n",
        "xset = set(list_sampel)\n",
        "print(xset)\n",
        "\n",
        "tuple_sample = (True, False, 1, 0, \"a\", \"b\", None)\n",
        "zset = set(tuple_sample)\n",
        "print(zset) #  True = 1 False = 0 REMEMBER!! \n",
        "\n",
        "state_capitals = {'Ontario': 'Toronto',\n",
        "                   'Alberta': 'Edmonton',\n",
        "                   'British Columbia': 'Victoria',\n",
        "                   'Saskatchewan': 'Regina',\n",
        "                   'Newfoundland and Labrador': 'St.John\\'s',\n",
        "                   'New Brunswick': 'Frederiction',\n",
        "                   'Prince Edward Island': 'Chharlottetown',\n",
        "                   'Quebec': 'Quebec',\n",
        "                   'Manitoba': 'Winnipeg',\n",
        "                   'Nunavut': 'Iqaluit',\n",
        "                   'Northwest Territories': 'Yellowknife',\n",
        "                   'Yukon': 'Whitehorse',\n",
        "                   }\n",
        "\n",
        "set_from_dict = set(state_capitals)\n",
        "print(set_from_dict)\n",
        "\n",
        "set_from_values = set(state_capitals.values())\n",
        "print(set_from_values)\n",
        "\n",
        "set_from_items = set(state_capitals.items())\n",
        "print(set_from_items)\n"
      ],
      "execution_count": 1,
      "outputs": [
        {
          "output_type": "stream",
          "text": [
            "{'l', 't', 'm', 'p', 'o', 'r', 'd', 'e', 'k', 'a', 'u'}\n",
            "{'Seoul', 'London', 111, 'New York', 'Sydney', 222}\n",
            "{False, True, 'b', None, 'a'}\n",
            "{'Nunavut', 'Manitoba', 'New Brunswick', 'British Columbia', 'Yukon', 'Prince Edward Island', 'Northwest Territories', 'Ontario', 'Quebec', 'Newfoundland and Labrador', 'Alberta', 'Saskatchewan'}\n",
            "{'Yellowknife', 'Victoria', 'Iqaluit', \"St.John's\", 'Regina', 'Chharlottetown', 'Whitehorse', 'Frederiction', 'Quebec', 'Winnipeg', 'Toronto', 'Edmonton'}\n",
            "{('British Columbia', 'Victoria'), ('Nunavut', 'Iqaluit'), ('Prince Edward Island', 'Chharlottetown'), ('Quebec', 'Quebec'), ('Manitoba', 'Winnipeg'), ('Yukon', 'Whitehorse'), ('New Brunswick', 'Frederiction'), ('Ontario', 'Toronto'), ('Saskatchewan', 'Regina'), ('Newfoundland and Labrador', \"St.John's\"), ('Northwest Territories', 'Yellowknife'), ('Alberta', 'Edmonton')}\n"
          ],
          "name": "stdout"
        }
      ]
    }
  ]
}