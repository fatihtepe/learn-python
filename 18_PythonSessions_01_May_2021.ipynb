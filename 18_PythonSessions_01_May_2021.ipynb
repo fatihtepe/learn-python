{
  "nbformat": 4,
  "nbformat_minor": 0,
  "metadata": {
    "kernelspec": {
      "display_name": "Python 3",
      "language": "python",
      "name": "python3"
    },
    "language_info": {
      "codemirror_mode": {
        "name": "ipython",
        "version": 3
      },
      "file_extension": ".py",
      "mimetype": "text/x-python",
      "name": "python",
      "nbconvert_exporter": "python",
      "pygments_lexer": "ipython3",
      "version": "3.8.5"
    },
    "colab": {
      "name": "18_PythonSessions-01-May-2021.ipynb",
      "provenance": [],
      "include_colab_link": true
    }
  },
  "cells": [
    {
      "cell_type": "markdown",
      "metadata": {
        "id": "view-in-github",
        "colab_type": "text"
      },
      "source": [
        "<a href=\"https://colab.research.google.com/github/fatihtepe/learn_python/blob/main/18_PythonSessions_01_May_2021.ipynb\" target=\"_parent\"><img src=\"https://colab.research.google.com/assets/colab-badge.svg\" alt=\"Open In Colab\"/></a>"
      ]
    },
    {
      "cell_type": "code",
      "metadata": {
        "id": "n_zszB_xoqXY"
      },
      "source": [
        "def listem() :\n",
        "    return [\"hello\"]"
      ],
      "execution_count": null,
      "outputs": []
    },
    {
      "cell_type": "code",
      "metadata": {
        "id": "5dazxSXioqXZ",
        "outputId": "71c3d338-750c-4e41-ca0a-d98b49a7f05a"
      },
      "source": [
        "listem()"
      ],
      "execution_count": null,
      "outputs": [
        {
          "output_type": "execute_result",
          "data": {
            "text/plain": [
              "['hello']"
            ]
          },
          "metadata": {
            "tags": []
          },
          "execution_count": 2
        }
      ]
    },
    {
      "cell_type": "code",
      "metadata": {
        "id": "MCRH0kF3oqXZ"
      },
      "source": [
        "filter()"
      ],
      "execution_count": null,
      "outputs": []
    },
    {
      "cell_type": "code",
      "metadata": {
        "id": "TrkAxv0ooqXZ"
      },
      "source": [
        "def filterVowels(letter) :\n",
        "    vowels = [\"a\", \"e\", \"i\", \"o\", \"u\"]\n",
        "    \n",
        "    if letter.lower() in vowels :\n",
        "        return True\n",
        "    else :\n",
        "        return False"
      ],
      "execution_count": null,
      "outputs": []
    },
    {
      "cell_type": "code",
      "metadata": {
        "id": "z0keiwlPoqXZ"
      },
      "source": [
        "vowels = [\"a\", \"e\", \"i\", \"o\", \"u\"]"
      ],
      "execution_count": null,
      "outputs": []
    },
    {
      "cell_type": "code",
      "metadata": {
        "id": "ZGXN_C8eoqXa",
        "outputId": "e491318b-0290-49e6-b14d-e65302b33da0"
      },
      "source": [
        "\"b\" in vowels"
      ],
      "execution_count": null,
      "outputs": [
        {
          "output_type": "execute_result",
          "data": {
            "text/plain": [
              "False"
            ]
          },
          "metadata": {
            "tags": []
          },
          "execution_count": 4
        }
      ]
    },
    {
      "cell_type": "code",
      "metadata": {
        "id": "sfXvad7xoqXa",
        "outputId": "d9dbfc33-991a-4cda-89e2-905b484c520f"
      },
      "source": [
        "filterVowels(\"U\")"
      ],
      "execution_count": null,
      "outputs": [
        {
          "output_type": "execute_result",
          "data": {
            "text/plain": [
              "True"
            ]
          },
          "metadata": {
            "tags": []
          },
          "execution_count": 8
        }
      ]
    },
    {
      "cell_type": "code",
      "metadata": {
        "id": "8wbWLsyUoqXa",
        "outputId": "ae572100-8102-45cb-a3be-d8daf0ecaba0"
      },
      "source": [
        "\"a\" in vowels"
      ],
      "execution_count": null,
      "outputs": [
        {
          "output_type": "execute_result",
          "data": {
            "text/plain": [
              "True"
            ]
          },
          "metadata": {
            "tags": []
          },
          "execution_count": 5
        }
      ]
    },
    {
      "cell_type": "code",
      "metadata": {
        "id": "VpjNPwJnoqXa",
        "outputId": "4f5bfafb-afb6-4cd1-a1e3-11d22eee4b0d"
      },
      "source": [
        "filterVowels(\"b\")"
      ],
      "execution_count": null,
      "outputs": [
        {
          "output_type": "execute_result",
          "data": {
            "text/plain": [
              "False"
            ]
          },
          "metadata": {
            "tags": []
          },
          "execution_count": 7
        }
      ]
    },
    {
      "cell_type": "code",
      "metadata": {
        "id": "RoQ9Au3qoqXa"
      },
      "source": [
        "sentence = \"the clarusway is the best.\""
      ],
      "execution_count": null,
      "outputs": []
    },
    {
      "cell_type": "code",
      "metadata": {
        "id": "6G5pKl0hoqXa"
      },
      "source": [
        "filtered_vowels = filter(filterVowels, sentence)"
      ],
      "execution_count": null,
      "outputs": []
    },
    {
      "cell_type": "code",
      "metadata": {
        "id": "NGfGvlL9oqXa",
        "outputId": "b17686c7-e9a7-4962-9d45-4f6287384f74"
      },
      "source": [
        "print(* filtered_vowels)"
      ],
      "execution_count": null,
      "outputs": [
        {
          "output_type": "stream",
          "text": [
            "e a u a i e e\n"
          ],
          "name": "stdout"
        }
      ]
    },
    {
      "cell_type": "code",
      "metadata": {
        "id": "4neIOdCqoqXb"
      },
      "source": [
        "def absolute(num) :\n",
        "    \"\"\"\n",
        "This function returns the absolute\n",
        "value of the entered number\n",
        "    \"\"\"\n",
        "    if num >= 0 :\n",
        "        return num\n",
        "    else:\n",
        "        return -num"
      ],
      "execution_count": null,
      "outputs": []
    },
    {
      "cell_type": "code",
      "metadata": {
        "id": "mRT1VmT1oqXb",
        "outputId": "c6dd1e0e-290c-43a0-cfb8-a07c139870e3"
      },
      "source": [
        "print(absolute.__doc__)"
      ],
      "execution_count": null,
      "outputs": [
        {
          "output_type": "stream",
          "text": [
            "\n",
            "This function returns the absolute\n",
            "value of the entered number\n",
            "    \n"
          ],
          "name": "stdout"
        }
      ]
    },
    {
      "cell_type": "code",
      "metadata": {
        "id": "rE1HQ0Z1oqXb",
        "outputId": "1c71a706-8ae7-4087-d0ec-9b9c3cf713ff"
      },
      "source": [
        "absolute(-11)"
      ],
      "execution_count": null,
      "outputs": [
        {
          "output_type": "execute_result",
          "data": {
            "text/plain": [
              "11"
            ]
          },
          "metadata": {
            "tags": []
          },
          "execution_count": 16
        }
      ]
    },
    {
      "cell_type": "code",
      "metadata": {
        "id": "2gViX8hAoqXb"
      },
      "source": [
        "def pos_arg(a, b) :\n",
        "    print(a, \"is the first arg\")\n",
        "    print(b, \"is the second arg\")"
      ],
      "execution_count": null,
      "outputs": []
    },
    {
      "cell_type": "code",
      "metadata": {
        "id": "0HNqr5iJoqXb",
        "outputId": "438cd795-5eda-4a42-8791-d5da2a5d6962"
      },
      "source": [
        "pos_arg(3, 4)"
      ],
      "execution_count": null,
      "outputs": [
        {
          "output_type": "stream",
          "text": [
            "3 is the first arg\n",
            "4 is the second arg\n"
          ],
          "name": "stdout"
        }
      ]
    },
    {
      "cell_type": "code",
      "metadata": {
        "id": "jFr3O8QroqXb",
        "outputId": "693626eb-8da6-4cd5-f0d1-ea4d8851ee5f"
      },
      "source": [
        "pos_arg(4, 3)"
      ],
      "execution_count": null,
      "outputs": [
        {
          "output_type": "stream",
          "text": [
            "4 is the first arg\n",
            "3 is the second arg\n"
          ],
          "name": "stdout"
        }
      ]
    },
    {
      "cell_type": "code",
      "metadata": {
        "id": "9oZscRxsoqXb",
        "outputId": "d046d147-2139-4dba-d748-3e503d1501cc"
      },
      "source": [
        "pos_arg(\"second\", \"first\")"
      ],
      "execution_count": null,
      "outputs": [
        {
          "output_type": "stream",
          "text": [
            "second is the first arg\n",
            "first is the second arg\n"
          ],
          "name": "stdout"
        }
      ]
    },
    {
      "cell_type": "code",
      "metadata": {
        "id": "a7uLHn8xoqXb",
        "outputId": "ee85110a-ad71-4dd5-8dcc-478378ca60d8"
      },
      "source": [
        "pos_arg([1,2, \"1\"], {2,44})"
      ],
      "execution_count": null,
      "outputs": [
        {
          "output_type": "stream",
          "text": [
            "[1, 2, '1'] is the first arg\n",
            "{2, 44} is the second arg\n"
          ],
          "name": "stdout"
        }
      ]
    },
    {
      "cell_type": "code",
      "metadata": {
        "id": "1QDFhODaoqXc"
      },
      "source": [
        "def concat(a, b) :\n",
        "    print(a + b)"
      ],
      "execution_count": null,
      "outputs": []
    },
    {
      "cell_type": "code",
      "metadata": {
        "id": "dgoh8CdfoqXc",
        "outputId": "a801679d-fb8c-4d86-d5f5-904d643c55eb"
      },
      "source": [
        "concat(a = \"istanbul \", b = \"erzurum \")"
      ],
      "execution_count": null,
      "outputs": [
        {
          "output_type": "stream",
          "text": [
            "istanbul erzurum \n"
          ],
          "name": "stdout"
        }
      ]
    },
    {
      "cell_type": "code",
      "metadata": {
        "id": "ZkWBEPDzoqXc",
        "outputId": "1e91dbed-1b33-4df6-d646-e9c57e4de699"
      },
      "source": [
        "concat(b = \"erzurum \", a = \"istanbul \")"
      ],
      "execution_count": null,
      "outputs": [
        {
          "output_type": "stream",
          "text": [
            "istanbul erzurum \n"
          ],
          "name": "stdout"
        }
      ]
    },
    {
      "cell_type": "code",
      "metadata": {
        "id": "dDgLv7cBoqXc",
        "outputId": "e8e6fb95-e833-41a2-bb6b-7278889a30ea"
      },
      "source": [
        "concat(a = \"london \", b = \"seoul \")"
      ],
      "execution_count": null,
      "outputs": [
        {
          "output_type": "stream",
          "text": [
            "london seoul \n"
          ],
          "name": "stdout"
        }
      ]
    },
    {
      "cell_type": "code",
      "metadata": {
        "id": "05mlTdGmoqXc",
        "outputId": "c2005d37-dadb-4377-9165-80563706dbb4"
      },
      "source": [
        "concat(\"london \", \"seoul\")"
      ],
      "execution_count": null,
      "outputs": [
        {
          "output_type": "stream",
          "text": [
            "london seoul\n"
          ],
          "name": "stdout"
        }
      ]
    },
    {
      "cell_type": "code",
      "metadata": {
        "id": "7s9T9nlZoqXc"
      },
      "source": [
        "def default(a = \"ali\", b = 33) :\n",
        "    print(a, \"is\", b, \"years old.\")"
      ],
      "execution_count": null,
      "outputs": []
    },
    {
      "cell_type": "code",
      "metadata": {
        "id": "GDVCG40ToqXc",
        "outputId": "9d90df1b-307c-4726-f452-590c6f5b7774"
      },
      "source": [
        "default()"
      ],
      "execution_count": null,
      "outputs": [
        {
          "output_type": "stream",
          "text": [
            "ali is 33 years old.\n"
          ],
          "name": "stdout"
        }
      ]
    },
    {
      "cell_type": "code",
      "metadata": {
        "id": "ycZIyUY3oqXc",
        "outputId": "e62e2567-d848-4dd9-ee01-5fe18aabbc56"
      },
      "source": [
        "default(\"mehmet\", 44)"
      ],
      "execution_count": null,
      "outputs": [
        {
          "output_type": "stream",
          "text": [
            "mehmet is 44 years old.\n"
          ],
          "name": "stdout"
        }
      ]
    },
    {
      "cell_type": "code",
      "metadata": {
        "id": "_B3v7GTEoqXc",
        "outputId": "003ab58b-20bb-46bf-90f3-56e226b05dbb"
      },
      "source": [
        "default(\"selvi\")"
      ],
      "execution_count": null,
      "outputs": [
        {
          "output_type": "stream",
          "text": [
            "selvi is 33 years old.\n"
          ],
          "name": "stdout"
        }
      ]
    },
    {
      "cell_type": "code",
      "metadata": {
        "id": "3mWrmhcIoqXc",
        "outputId": "f5d2a2b4-ebc5-43e9-a920-8df0ebf3d134"
      },
      "source": [
        "default(b = 55)"
      ],
      "execution_count": null,
      "outputs": [
        {
          "output_type": "stream",
          "text": [
            "ali is 55 years old.\n"
          ],
          "name": "stdout"
        }
      ]
    },
    {
      "cell_type": "code",
      "metadata": {
        "id": "Pi06gdYFoqXd",
        "outputId": "acaf7504-cce3-4172-9140-d7a6ff4308c6"
      },
      "source": [
        "default(a = \"songül\", b = 22)"
      ],
      "execution_count": null,
      "outputs": [
        {
          "output_type": "stream",
          "text": [
            "songül is 22 years old.\n"
          ],
          "name": "stdout"
        }
      ]
    },
    {
      "cell_type": "code",
      "metadata": {
        "id": "mbwWvylvoqXd"
      },
      "source": [
        "def default(x, a = \"ali\", b = 33) :\n",
        "    print(a, \"and\",x, \"is\", b, \"years old.\")"
      ],
      "execution_count": null,
      "outputs": []
    },
    {
      "cell_type": "code",
      "metadata": {
        "id": "iMUXvidBoqXd",
        "outputId": "99f8c5b5-6c8e-4343-eeb0-4015b71275e6"
      },
      "source": [
        "default(\"gonca\")"
      ],
      "execution_count": null,
      "outputs": [
        {
          "output_type": "stream",
          "text": [
            "ali and gonca is 33 years old.\n"
          ],
          "name": "stdout"
        }
      ]
    },
    {
      "cell_type": "code",
      "metadata": {
        "id": "poweB-KMoqXd"
      },
      "source": [
        "def parrot(voltage, state=\"a stiff\", action=\"voom\", typed=\"Norwegian Blue\"):\n",
        "    print(\"-- This parrot wouldn't\", action, end=\" \")\n",
        "    print(\"if you put\", voltage, \"volts through it.\")\n",
        "    print(\"-- Lovely plumage, the\", typed)\n",
        "    print(\"-- It's\", state, \"!\")"
      ],
      "execution_count": null,
      "outputs": []
    },
    {
      "cell_type": "code",
      "metadata": {
        "id": "A-No6TyRoqXd",
        "outputId": "00e2623c-bf85-40e7-c380-6fccf2b0310c"
      },
      "source": [
        "parrot()"
      ],
      "execution_count": null,
      "outputs": [
        {
          "output_type": "error",
          "ename": "TypeError",
          "evalue": "parrot() missing 1 required positional argument: 'voltage'",
          "traceback": [
            "\u001b[0;31m---------------------------------------------------------------------------\u001b[0m",
            "\u001b[0;31mTypeError\u001b[0m                                 Traceback (most recent call last)",
            "\u001b[0;32m<ipython-input-43-1fa32faf15ff>\u001b[0m in \u001b[0;36m<module>\u001b[0;34m\u001b[0m\n\u001b[0;32m----> 1\u001b[0;31m \u001b[0mparrot\u001b[0m\u001b[0;34m(\u001b[0m\u001b[0;34m)\u001b[0m\u001b[0;34m\u001b[0m\u001b[0;34m\u001b[0m\u001b[0m\n\u001b[0m",
            "\u001b[0;31mTypeError\u001b[0m: parrot() missing 1 required positional argument: 'voltage'"
          ]
        }
      ]
    },
    {
      "cell_type": "code",
      "metadata": {
        "id": "PF23f7UfoqXd",
        "outputId": "9d0e4025-70a0-4dce-d51a-f6d625931b9a"
      },
      "source": [
        "parrot(1000)"
      ],
      "execution_count": null,
      "outputs": [
        {
          "output_type": "stream",
          "text": [
            "-- This parrot wouldn't voom if you put 1000 volts through it.\n",
            "-- Lovely plumage, the Norwegian Blue\n",
            "-- It's a stiff !\n"
          ],
          "name": "stdout"
        }
      ]
    },
    {
      "cell_type": "code",
      "metadata": {
        "id": "7DwruI_PoqXd",
        "outputId": "09bba90f-e4bf-4407-a463-2fe60f0fa269"
      },
      "source": [
        "parrot(voltage = 10000000, action = \"VOOOOOOM\")"
      ],
      "execution_count": null,
      "outputs": [
        {
          "output_type": "stream",
          "text": [
            "-- This parrot wouldn't VOOOOOOM if you put 10000000 volts through it.\n",
            "-- Lovely plumage, the Norwegian Blue\n",
            "-- It's a stiff !\n"
          ],
          "name": "stdout"
        }
      ]
    },
    {
      "cell_type": "code",
      "metadata": {
        "id": "bwI6xyjYoqXd",
        "outputId": "c2363322-fb19-431b-bbda-2d8e024d449d"
      },
      "source": [
        "parrot(action = \"VOOOOOOM\", voltage = 10000000)"
      ],
      "execution_count": null,
      "outputs": [
        {
          "output_type": "stream",
          "text": [
            "-- This parrot wouldn't VOOOOOOM if you put 10000000 volts through it.\n",
            "-- Lovely plumage, the Norwegian Blue\n",
            "-- It's a stiff !\n"
          ],
          "name": "stdout"
        }
      ]
    },
    {
      "cell_type": "code",
      "metadata": {
        "id": "Ggr0fXX2oqXd",
        "outputId": "77415747-479a-408d-fd28-050a56a84e02"
      },
      "source": [
        "def parrot(state=\"a stiff\", voltage, action=\"voom\", typed=\"Norwegian Blue\"):\n",
        "    print(\"-- This parrot wouldn't\", action, end=\" \")\n",
        "    print(\"if you put\", voltage, \"volts through it.\")\n",
        "    print(\"-- Lovely plumage, the\", typed)\n",
        "    print(\"-- It's\", state, \"!\")"
      ],
      "execution_count": null,
      "outputs": [
        {
          "output_type": "error",
          "ename": "SyntaxError",
          "evalue": "non-default argument follows default argument (<ipython-input-47-3db317de1ad6>, line 1)",
          "traceback": [
            "\u001b[0;36m  File \u001b[0;32m\"<ipython-input-47-3db317de1ad6>\"\u001b[0;36m, line \u001b[0;32m1\u001b[0m\n\u001b[0;31m    def parrot(state=\"a stiff\", voltage, action=\"voom\", typed=\"Norwegian Blue\"):\u001b[0m\n\u001b[0m               ^\u001b[0m\n\u001b[0;31mSyntaxError\u001b[0m\u001b[0;31m:\u001b[0m non-default argument follows default argument\n"
          ]
        }
      ]
    },
    {
      "cell_type": "code",
      "metadata": {
        "id": "7ns-C2XHoqXd",
        "outputId": "1cf1efb7-9bd2-46af-9de6-b0c476680b25"
      },
      "source": [
        "def argu(a, b = \"dünya\", c, d = \"satürn\") :\n",
        "    print(a, b, c, d, sep = \"\\n\")"
      ],
      "execution_count": null,
      "outputs": [
        {
          "output_type": "error",
          "ename": "SyntaxError",
          "evalue": "non-default argument follows default argument (<ipython-input-48-a16aa314c4e9>, line 1)",
          "traceback": [
            "\u001b[0;36m  File \u001b[0;32m\"<ipython-input-48-a16aa314c4e9>\"\u001b[0;36m, line \u001b[0;32m1\u001b[0m\n\u001b[0;31m    def argu(a, b = \"dünya\", c, d = \"satürn\") :\u001b[0m\n\u001b[0m             ^\u001b[0m\n\u001b[0;31mSyntaxError\u001b[0m\u001b[0;31m:\u001b[0m non-default argument follows default argument\n"
          ]
        }
      ]
    },
    {
      "cell_type": "code",
      "metadata": {
        "id": "_eo3SOahoqXe"
      },
      "source": [
        "def argu(a, c, b = \"dünya\", d = \"satürn\") :\n",
        "    print(a, b, c, d, sep = \"\\n\")"
      ],
      "execution_count": null,
      "outputs": []
    },
    {
      "cell_type": "code",
      "metadata": {
        "id": "F6F7oBCxoqXe",
        "outputId": "1d74c115-67eb-4aed-bbe5-38375046ae36"
      },
      "source": [
        "argu()"
      ],
      "execution_count": null,
      "outputs": [
        {
          "output_type": "error",
          "ename": "TypeError",
          "evalue": "argu() missing 2 required positional arguments: 'a' and 'c'",
          "traceback": [
            "\u001b[0;31m---------------------------------------------------------------------------\u001b[0m",
            "\u001b[0;31mTypeError\u001b[0m                                 Traceback (most recent call last)",
            "\u001b[0;32m<ipython-input-50-2743aba80a34>\u001b[0m in \u001b[0;36m<module>\u001b[0;34m\u001b[0m\n\u001b[0;32m----> 1\u001b[0;31m \u001b[0margu\u001b[0m\u001b[0;34m(\u001b[0m\u001b[0;34m)\u001b[0m\u001b[0;34m\u001b[0m\u001b[0;34m\u001b[0m\u001b[0m\n\u001b[0m",
            "\u001b[0;31mTypeError\u001b[0m: argu() missing 2 required positional arguments: 'a' and 'c'"
          ]
        }
      ]
    },
    {
      "cell_type": "code",
      "metadata": {
        "id": "f6a1kencoqXe",
        "outputId": "af67d602-4fcb-4732-84d5-6ebf48edffd0"
      },
      "source": [
        "argu(\"uranüs\", \"jüpiter\")"
      ],
      "execution_count": null,
      "outputs": [
        {
          "output_type": "stream",
          "text": [
            "uranüs\n",
            "dünya\n",
            "jüpiter\n",
            "satürn\n"
          ],
          "name": "stdout"
        }
      ]
    },
    {
      "cell_type": "code",
      "metadata": {
        "id": "mX_p04CToqXe",
        "outputId": "68c967c9-31cd-4544-8e17-924ee1d7d2e7"
      },
      "source": [
        "argu(d = \"güneş\", a = \"dünya\", c = \"pluto\", b = \"mars\")"
      ],
      "execution_count": null,
      "outputs": [
        {
          "output_type": "stream",
          "text": [
            "dünya\n",
            "mars\n",
            "pluto\n",
            "güneş\n"
          ],
          "name": "stdout"
        }
      ]
    },
    {
      "cell_type": "code",
      "metadata": {
        "id": "3YVN27dfoqXe",
        "outputId": "42b7ec17-55ca-4d54-e5da-8c64920a4d7d"
      },
      "source": [
        "argu(a = \"dünya\", c = \"merkür\", \"uranüs\")"
      ],
      "execution_count": null,
      "outputs": [
        {
          "output_type": "error",
          "ename": "SyntaxError",
          "evalue": "positional argument follows keyword argument (<ipython-input-54-8b3e802bea27>, line 1)",
          "traceback": [
            "\u001b[0;36m  File \u001b[0;32m\"<ipython-input-54-8b3e802bea27>\"\u001b[0;36m, line \u001b[0;32m1\u001b[0m\n\u001b[0;31m    argu(a = \"dünya\", c = \"merkür\", \"uranüs\")\u001b[0m\n\u001b[0m                                      ^\u001b[0m\n\u001b[0;31mSyntaxError\u001b[0m\u001b[0;31m:\u001b[0m positional argument follows keyword argument\n"
          ]
        }
      ]
    },
    {
      "cell_type": "code",
      "metadata": {
        "id": "0igdoB3woqXe",
        "outputId": "ad0dbbed-4be7-4ef7-de88-77c9f561898a"
      },
      "source": [
        "argu(\"uranüs\", a = \"dünya\", c = \"merkür\")"
      ],
      "execution_count": null,
      "outputs": [
        {
          "output_type": "error",
          "ename": "TypeError",
          "evalue": "argu() got multiple values for argument 'a'",
          "traceback": [
            "\u001b[0;31m---------------------------------------------------------------------------\u001b[0m",
            "\u001b[0;31mTypeError\u001b[0m                                 Traceback (most recent call last)",
            "\u001b[0;32m<ipython-input-55-34087e19cc44>\u001b[0m in \u001b[0;36m<module>\u001b[0;34m\u001b[0m\n\u001b[0;32m----> 1\u001b[0;31m \u001b[0margu\u001b[0m\u001b[0;34m(\u001b[0m\u001b[0;34m\"uranüs\"\u001b[0m\u001b[0;34m,\u001b[0m \u001b[0ma\u001b[0m \u001b[0;34m=\u001b[0m \u001b[0;34m\"dünya\"\u001b[0m\u001b[0;34m,\u001b[0m \u001b[0mc\u001b[0m \u001b[0;34m=\u001b[0m \u001b[0;34m\"merkür\"\u001b[0m\u001b[0;34m)\u001b[0m\u001b[0;34m\u001b[0m\u001b[0;34m\u001b[0m\u001b[0m\n\u001b[0m",
            "\u001b[0;31mTypeError\u001b[0m: argu() got multiple values for argument 'a'"
          ]
        }
      ]
    },
    {
      "cell_type": "code",
      "metadata": {
        "id": "diuwGi2-oqXe"
      },
      "source": [
        "pass"
      ],
      "execution_count": null,
      "outputs": []
    },
    {
      "cell_type": "code",
      "metadata": {
        "id": "44d5BJq6oqXe",
        "outputId": "c0b40fb8-85c2-4331-8474-b60832687769"
      },
      "source": [
        "if 10 > 0 :\n",
        "    pass\n",
        "    print(\"ben ikinci satırım\")"
      ],
      "execution_count": null,
      "outputs": [
        {
          "output_type": "stream",
          "text": [
            "ben ikinci satırım\n"
          ],
          "name": "stdout"
        }
      ]
    },
    {
      "cell_type": "code",
      "metadata": {
        "id": "sS1yXx8_oqXe"
      },
      "source": [
        "def slicer(*num) :\n",
        "    print(\"evens :\", [i for i in num if i%2 == 0])\n",
        "    print(\"odd :\", [i for i in num if not i%2 == 0])"
      ],
      "execution_count": null,
      "outputs": []
    },
    {
      "cell_type": "code",
      "metadata": {
        "id": "j9d15sAEoqXf",
        "outputId": "fc154f3f-b6b6-49b3-e022-79c8eeec9fac"
      },
      "source": [
        "slicer(0,1,2,3,4,5,6,7,8,9)"
      ],
      "execution_count": null,
      "outputs": [
        {
          "output_type": "stream",
          "text": [
            "evens : [0, 2, 4, 6, 8]\n",
            "odd : [1, 3, 5, 7, 9]\n"
          ],
          "name": "stdout"
        }
      ]
    },
    {
      "cell_type": "code",
      "metadata": {
        "id": "YlbP1PhOoqXf"
      },
      "source": [
        "sözlük = dict(ahmet = \"bacanak\", mehmet = \"ağabey\", ceyda = \"baldız\", meryem = \"anne\")"
      ],
      "execution_count": null,
      "outputs": []
    },
    {
      "cell_type": "code",
      "metadata": {
        "id": "ygbtaCZwoqXf",
        "outputId": "28ade008-d3c8-4bcd-c148-e4ef3b2000ee"
      },
      "source": [
        "sözlük"
      ],
      "execution_count": null,
      "outputs": [
        {
          "output_type": "execute_result",
          "data": {
            "text/plain": [
              "{'ahmet': 'bacanak', 'mehmet': 'ağabey', 'ceyda': 'baldız', 'meryem': 'anne'}"
            ]
          },
          "metadata": {
            "tags": []
          },
          "execution_count": 63
        }
      ]
    },
    {
      "cell_type": "code",
      "metadata": {
        "id": "_PJCWjdhoqXf"
      },
      "source": [
        "def sözlük(**a) :\n",
        "    for key, value in a.items() :\n",
        "        print(key, value)"
      ],
      "execution_count": null,
      "outputs": []
    },
    {
      "cell_type": "code",
      "metadata": {
        "id": "8VpbKhJtoqXf",
        "outputId": "98f7360e-1a6f-4c63-d563-ba608bf20e14"
      },
      "source": [
        "sözlük(ahmet = \"bacanak\", mehmet = \"ağabey\", ceyda = \"baldız\")"
      ],
      "execution_count": null,
      "outputs": [
        {
          "output_type": "stream",
          "text": [
            "ahmet bacanak\n",
            "mehmet ağabey\n",
            "ceyda baldız\n"
          ],
          "name": "stdout"
        }
      ]
    },
    {
      "cell_type": "code",
      "metadata": {
        "id": "0SMzvfYaoqXf",
        "outputId": "7ffde348-fa7f-4de4-8905-611a9534e29a"
      },
      "source": [
        "sözlük(ahmet = \"bacanak\", mehmet = \"ağabey\", ceyda = \"baldız\", leyla = \"komşu\", zeyno = \"bebek\")"
      ],
      "execution_count": null,
      "outputs": [
        {
          "output_type": "stream",
          "text": [
            "ahmet bacanak\n",
            "mehmet ağabey\n",
            "ceyda baldız\n",
            "leyla komşu\n",
            "zeyno bebek\n"
          ],
          "name": "stdout"
        }
      ]
    },
    {
      "cell_type": "code",
      "metadata": {
        "id": "-nrmCHLjoqXf"
      },
      "source": [
        "def defa(**x) :\n",
        "    for t, z in x.items():\n",
        "        print(t, \"is\", z, \"years old.\")"
      ],
      "execution_count": null,
      "outputs": []
    },
    {
      "cell_type": "code",
      "metadata": {
        "id": "5t3ZP3_coqXf",
        "outputId": "c3ca4e35-e4aa-4d3c-a8e8-7b687012a227"
      },
      "source": [
        "defa(ali = 33, veli = 44, deli = 100, ayşe = 22, nazan = 77)"
      ],
      "execution_count": null,
      "outputs": [
        {
          "output_type": "stream",
          "text": [
            "ali is 33 years old.\n",
            "veli is 44 years old.\n",
            "deli is 100 years old.\n",
            "ayşe is 22 years old.\n",
            "nazan is 77 years old.\n"
          ],
          "name": "stdout"
        }
      ]
    },
    {
      "cell_type": "code",
      "metadata": {
        "id": "-mzvIjhDoqXf"
      },
      "source": [
        ""
      ],
      "execution_count": null,
      "outputs": []
    },
    {
      "cell_type": "code",
      "metadata": {
        "id": "elRtJ_VMoqXf"
      },
      "source": [
        ""
      ],
      "execution_count": null,
      "outputs": []
    }
  ]
}