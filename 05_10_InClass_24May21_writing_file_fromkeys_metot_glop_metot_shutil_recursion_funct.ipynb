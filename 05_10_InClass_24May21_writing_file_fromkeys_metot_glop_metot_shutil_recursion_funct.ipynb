{
  "nbformat": 4,
  "nbformat_minor": 5,
  "metadata": {
    "kernelspec": {
      "display_name": "Python 3",
      "language": "python",
      "name": "python3"
    },
    "language_info": {
      "codemirror_mode": {
        "name": "ipython",
        "version": 3
      },
      "file_extension": ".py",
      "mimetype": "text/x-python",
      "name": "python",
      "nbconvert_exporter": "python",
      "pygments_lexer": "ipython3",
      "version": "3.7.8"
    },
    "colab": {
      "name": "05_10-InClass-24May21-writing file-fromkeys metot-glop metot-shutil-recursion funct.ipynb",
      "provenance": [],
      "include_colab_link": true
    }
  },
  "cells": [
    {
      "cell_type": "markdown",
      "metadata": {
        "id": "view-in-github",
        "colab_type": "text"
      },
      "source": [
        "<a href=\"https://colab.research.google.com/github/fatihtepe/learn_python/blob/main/05_10_InClass_24May21_writing_file_fromkeys_metot_glop_metot_shutil_recursion_funct.ipynb\" target=\"_parent\"><img src=\"https://colab.research.google.com/assets/colab-badge.svg\" alt=\"Open In Colab\"/></a>"
      ]
    },
    {
      "cell_type": "markdown",
      "metadata": {
        "id": "periodic-windsor"
      },
      "source": [
        "# file like object"
      ],
      "id": "periodic-windsor"
    },
    {
      "cell_type": "markdown",
      "metadata": {
        "id": "umwxv9arltnu"
      },
      "source": [
        "prepared by C8406-Huseyin"
      ],
      "id": "umwxv9arltnu"
    },
    {
      "cell_type": "code",
      "metadata": {
        "id": "sweet-combining"
      },
      "source": [
        "with open(\"dummy_file.txt\", 'w', encoding=\"utf-8\") as file:  \n",
        "# we create and open the file\n",
        "\n",
        "    file.write('This is the first line of my text file')  \n",
        "    # writes str data into file\n",
        "\n",
        "with open(\"dummy_file.txt\", 'r', encoding=\"utf-8\") as file:\n",
        "    print(file.read())  # reads the content of the 'dummy_file'"
      ],
      "id": "sweet-combining",
      "execution_count": null,
      "outputs": []
    },
    {
      "cell_type": "code",
      "metadata": {
        "id": "capital-ethiopia"
      },
      "source": [
        "\"\"\"\n",
        "file like object in üzerine kullanılan metodlar:\n",
        "\n",
        "file.read()\n",
        "file.readline()\n",
        "file.readlines()\n",
        "\n",
        "\"\"\"\n"
      ],
      "id": "capital-ethiopia",
      "execution_count": null,
      "outputs": []
    },
    {
      "cell_type": "code",
      "metadata": {
        "id": "embedded-return",
        "outputId": "657bc196-63c1-457a-c644-142a29fde98d"
      },
      "source": [
        "fruits=['Banana', 'Orange', 'Apple', 'Strawberry', 'Cherry']\n",
        "\n",
        "\n",
        "with open(\"fruits_24.txt\", \"w\", encoding=\"utf-8\") as ff :\n",
        "    for meyve in fruits :\n",
        "        ff.write(meyve + \"\\n\") # her bir meyvenin sonuna new line ekleyip meyveleri satır satır yazdırmış oluyoruz.\n",
        "        \n",
        "with open(\"fruits_24.txt\", \"r\", encoding=\"utf-8\") as ff :\n",
        "    print(ff.read())"
      ],
      "id": "embedded-return",
      "execution_count": null,
      "outputs": [
        {
          "output_type": "stream",
          "text": [
            "Banana\n",
            "Orange\n",
            "Apple\n",
            "Strawberry\n",
            "Cherry\n",
            "\n"
          ],
          "name": "stdout"
        }
      ]
    },
    {
      "cell_type": "code",
      "metadata": {
        "id": "domestic-litigation",
        "outputId": "db8dd3be-4775-49f8-fc13-06b670631f1b"
      },
      "source": [
        "# her birinin arasına bir boşluk koyalım. alt alta olmasın. ve write metodu ile yapalım.\n",
        "\n",
        "flowers = ['Jasmine', 'Rose', 'Lily', 'Daisy', 'Tulip']\n",
        "\n",
        "with open(\"flowers_24.txt\", \"w\", encoding=\"utf-8\") as ff :\n",
        "    for çiçek in flowers :\n",
        "        ff.write(çiçek + \"\\n\\n\") # her bir meyvenin sonuna new line ekleyip meyveleri satır satır yazdırmış oluyoruz.\n",
        "        \n",
        "with open(\"flowers_24.txt\", \"r\", encoding=\"utf-8\") as ff :\n",
        "    print(ff.read())\n",
        "\n"
      ],
      "id": "domestic-litigation",
      "execution_count": null,
      "outputs": [
        {
          "output_type": "stream",
          "text": [
            "Jasmine\n",
            "\n",
            "Rose\n",
            "\n",
            "Lily\n",
            "\n",
            "Daisy\n",
            "\n",
            "Tulip\n",
            "\n",
            "\n"
          ],
          "name": "stdout"
        }
      ]
    },
    {
      "cell_type": "code",
      "metadata": {
        "id": "wrong-reform"
      },
      "source": [
        "# readlines() iterable alır ve onu satır satır yazdırır."
      ],
      "id": "wrong-reform",
      "execution_count": null,
      "outputs": []
    },
    {
      "cell_type": "code",
      "metadata": {
        "id": "wired-finnish",
        "outputId": "fd97e1c1-a55e-4ff3-da42-1de15e153e91"
      },
      "source": [
        "flowers = ['Jasmine\\n', 'Rose\\n', 'Lily\\n', 'Daisy\\n', 'Tulip\\n']\n",
        "\n",
        "with open(\"flowers_24.txt\", \"w\", encoding=\"utf-8\") as ff :\n",
        "        ff.writelines(flowers)\n",
        "        \n",
        "with open(\"flowers_24.txt\", \"r\", encoding=\"utf-8\") as ff :\n",
        "    print(ff.read())"
      ],
      "id": "wired-finnish",
      "execution_count": null,
      "outputs": [
        {
          "output_type": "stream",
          "text": [
            "Jasmine\n",
            "Rose\n",
            "Lily\n",
            "Daisy\n",
            "Tulip\n",
            "\n"
          ],
          "name": "stdout"
        }
      ]
    },
    {
      "cell_type": "code",
      "metadata": {
        "id": "backed-argentina",
        "outputId": "c9142abe-ae8f-46b2-a7b4-c1235cab53cc"
      },
      "source": [
        "# fruits listesine kavun (melon) ekleyelim\n",
        "\n",
        "with open(\"fruits_24.txt\", \"a\", encoding=\"utf-8\") as ff :\n",
        "        ff.write(\"melon\")\n",
        "        \n",
        "with open(\"fruits_24.txt\", \"r\", encoding=\"utf-8\") as ff :\n",
        "    print(ff.read())"
      ],
      "id": "backed-argentina",
      "execution_count": null,
      "outputs": [
        {
          "output_type": "stream",
          "text": [
            "Banana\n",
            "Orange\n",
            "Apple\n",
            "Strawberry\n",
            "Cherry\n",
            "melon\n"
          ],
          "name": "stdout"
        }
      ]
    },
    {
      "cell_type": "code",
      "metadata": {
        "id": "characteristic-possibility"
      },
      "source": [
        "\"\"\"\n",
        "with open(\"fruit.txt\",\"a\",encoding=\"utf- 8\") as file:\n",
        "file.write(\"Melon\")\n",
        "\"\"\""
      ],
      "id": "characteristic-possibility",
      "execution_count": null,
      "outputs": []
    },
    {
      "cell_type": "code",
      "metadata": {
        "id": "answering-cowboy",
        "outputId": "711c82e8-e28b-4e6d-b551-b0b23095d129"
      },
      "source": [
        "with open(\"fruits_24.txt\", \"r\", encoding=\"utf-8\") as ff :\n",
        "    meyveler = ff.read()  # tüm dosyanın içeriğini meyveler değişkenine atadık.\n",
        "    meyveler = meyveler.replace(\"melon\", \"Melon\")  # melon'u Melon ile değiştirdik.\n",
        "    \n",
        "with open(\"fruits_24.txt\", \"w\", encoding=\"utf-8\") as ff :\n",
        "    ff.write(meyveler)   # meyveler değişkeninin son halini dosyaya yazdırdık.\n",
        "    \n",
        "with open(\"fruits_24.txt\", \"r\", encoding=\"utf-8\") as ff :\n",
        "    meyveler = ff.read()\n",
        "    \n",
        "print(meyveler)"
      ],
      "id": "answering-cowboy",
      "execution_count": null,
      "outputs": [
        {
          "output_type": "stream",
          "text": [
            "Banana\n",
            "Orange\n",
            "Apple\n",
            "Strawberry\n",
            "Cherry\n",
            "Melon\n"
          ],
          "name": "stdout"
        }
      ]
    },
    {
      "cell_type": "code",
      "metadata": {
        "id": "disciplinary-elder",
        "outputId": "0a15f2cf-be4e-4d16-ffdf-59f78574c11e"
      },
      "source": [
        "pwd"
      ],
      "id": "disciplinary-elder",
      "execution_count": null,
      "outputs": [
        {
          "output_type": "execute_result",
          "data": {
            "text/plain": [
              "'C:\\\\Users\\\\hüseyin'"
            ]
          },
          "metadata": {
            "tags": []
          },
          "execution_count": 14
        }
      ]
    },
    {
      "cell_type": "code",
      "metadata": {
        "id": "institutional-optics",
        "outputId": "d52b0a3e-f341-4d3f-fdbb-fd30088749d1"
      },
      "source": [
        "# burada istiklal.txt dosyasını hocadan indirip çalışma klasörüne kopyaladık\n",
        "\n",
        "with open(\"istiklal.txt\", \"r\", encoding=\"utf-8\") as f:\n",
        "    print(f.read())\n",
        "    "
      ],
      "id": "institutional-optics",
      "execution_count": null,
      "outputs": [
        {
          "output_type": "stream",
          "text": [
            "Korkma, sönmez bu şafaklarda yüzen al sancak;\n",
            "Sönmeden yurdumun üstünde tüten en son ocak.\n",
            "O benim milletimin yıldızıdır, parlayacak;\n",
            "O benimdir, o benim milletimindir ancak.\n",
            "Çatma, kurban olayım, çehreni ey nazlı hilal!\n",
            "Kahraman ırkıma bir gül! Ne bu şiddet, bu celal?\n",
            "Sana olmaz dökülen kanlarımız sonra helal...\n",
            "Hakkıdır, hakk'a tapan, milletimin istiklal!\n",
            "Ben ezelden beridir hür yaşadım, hür yaşarım.\n",
            "Hangi çılgın bana zincir vuracakmış? Şaşarım!\n",
            "Kükremiş sel gibiyim, bendimi çiğner, aşarım.\n",
            "Yırtarım dağları, enginlere sığmam, taşarım.\n",
            "Garbın afakını sarmışsa çelik zırhlı duvar,\n",
            "Benim iman dolu göğsüm gibi serhaddim var.\n",
            "Ulusun, korkma! Nasıl böyle bir imanı boğar,\n",
            "'Medeniyet!' dediğin tek dişi kalmış canavar?\n",
            "Arkadaş! Yurduma alçakları uğratma, sakın.\n",
            "Siper et gövdeni, dursun bu hayasızca akın.\n",
            "Doğacaktır sana va'dettigi günler hakk'ın...\n",
            "Kim bilir, belki yarın, belki yarından da yakın.\n",
            "Bastığın yerleri 'toprak!' diyerek geçme, tanı:\n",
            "Düşün altında binlerce kefensiz yatanı.\n",
            "Sen şehit oğlusun, incitme, yazıktır, atanı:\n",
            "Verme, dünyaları alsan da, bu cennet vatanı.\n",
            "Kim bu cennet vatanın uğruna olmaz ki feda?\n",
            "Şuheda fışkıracak toprağı sıksan, şuheda!\n",
            "Canı, cananı, bütün varımı alsın da hüda,\n",
            "Etmesin tek vatanımdan beni dünyada cüda.\n",
            "Ruhumun senden, ilahi, şudur ancak emeli:\n",
            "Değmesin mabedimin göğsüne namahrem eli.\n",
            "Bu ezanlar-ki şahadetleri dinin temeli,\n",
            "Ebedi yurdumun üstünde benim inlemeli.\n",
            "\n"
          ],
          "name": "stdout"
        }
      ]
    },
    {
      "cell_type": "code",
      "metadata": {
        "id": "atomic-infrastructure"
      },
      "source": [
        "# Task: bu şiiri dörtlükler haline getir ve dosyanın üzerine yazdır.\n"
      ],
      "id": "atomic-infrastructure",
      "execution_count": null,
      "outputs": []
    },
    {
      "cell_type": "code",
      "metadata": {
        "id": "traditional-observer",
        "outputId": "b7ac2601-5119-47e4-c33f-e7b145d398d7"
      },
      "source": [
        "# önce satırları liste halinde görelim. bunun için readlines() metodu kullanıyoruz.\n",
        "\n",
        "with open(\"istiklal.txt\", \"r\", encoding=\"utf-8\") as f:\n",
        "    lines = f.readlines()  # tüm dosyayı satır satır listeledik. bu halini lines değişkenine atadık.\n",
        "lines\n",
        "\n",
        "# şimdi bu lines iterable değişkenini döngüye sokarak 4 satırda bir boşluk koyduralım "
      ],
      "id": "traditional-observer",
      "execution_count": null,
      "outputs": [
        {
          "output_type": "execute_result",
          "data": {
            "text/plain": [
              "['Korkma, sönmez bu şafaklarda yüzen al sancak;\\n',\n",
              " 'Sönmeden yurdumun üstünde tüten en son ocak.\\n',\n",
              " 'O benim milletimin yıldızıdır, parlayacak;\\n',\n",
              " 'O benimdir, o benim milletimindir ancak.\\n',\n",
              " 'Çatma, kurban olayım, çehreni ey nazlı hilal!\\n',\n",
              " 'Kahraman ırkıma bir gül! Ne bu şiddet, bu celal?\\n',\n",
              " 'Sana olmaz dökülen kanlarımız sonra helal...\\n',\n",
              " \"Hakkıdır, hakk'a tapan, milletimin istiklal!\\n\",\n",
              " 'Ben ezelden beridir hür yaşadım, hür yaşarım.\\n',\n",
              " 'Hangi çılgın bana zincir vuracakmış? Şaşarım!\\n',\n",
              " 'Kükremiş sel gibiyim, bendimi çiğner, aşarım.\\n',\n",
              " 'Yırtarım dağları, enginlere sığmam, taşarım.\\n',\n",
              " 'Garbın afakını sarmışsa çelik zırhlı duvar,\\n',\n",
              " 'Benim iman dolu göğsüm gibi serhaddim var.\\n',\n",
              " 'Ulusun, korkma! Nasıl böyle bir imanı boğar,\\n',\n",
              " \"'Medeniyet!' dediğin tek dişi kalmış canavar?\\n\",\n",
              " 'Arkadaş! Yurduma alçakları uğratma, sakın.\\n',\n",
              " 'Siper et gövdeni, dursun bu hayasızca akın.\\n',\n",
              " \"Doğacaktır sana va'dettigi günler hakk'ın...\\n\",\n",
              " 'Kim bilir, belki yarın, belki yarından da yakın.\\n',\n",
              " \"Bastığın yerleri 'toprak!' diyerek geçme, tanı:\\n\",\n",
              " 'Düşün altında binlerce kefensiz yatanı.\\n',\n",
              " 'Sen şehit oğlusun, incitme, yazıktır, atanı:\\n',\n",
              " 'Verme, dünyaları alsan da, bu cennet vatanı.\\n',\n",
              " 'Kim bu cennet vatanın uğruna olmaz ki feda?\\n',\n",
              " 'Şuheda fışkıracak toprağı sıksan, şuheda!\\n',\n",
              " 'Canı, cananı, bütün varımı alsın da hüda,\\n',\n",
              " 'Etmesin tek vatanımdan beni dünyada cüda.\\n',\n",
              " 'Ruhumun senden, ilahi, şudur ancak emeli:\\n',\n",
              " 'Değmesin mabedimin göğsüne namahrem eli.\\n',\n",
              " 'Bu ezanlar-ki şahadetleri dinin temeli,\\n',\n",
              " 'Ebedi yurdumun üstünde benim inlemeli.']"
            ]
          },
          "metadata": {
            "tags": []
          },
          "execution_count": 20
        }
      ]
    },
    {
      "cell_type": "code",
      "metadata": {
        "id": "timely-intensity",
        "outputId": "45e7fc0a-254f-4fa0-943c-3179eb2fdce9"
      },
      "source": [
        "# burada 4'ün katlarını bulup bir enter vurdurursak dörtlüklere ayırmış oluruz.\n",
        "# bunu %4 ile yapabilirim.\n",
        "# satırlar içinde gezinmek için hangi control flow elemanını kullanırım? = for, while..\n",
        "\n",
        "counter = 0\n",
        "with open(\"istiklal.txt\", \"w\", encoding=\"utf-8\") as f :\n",
        "    for i in lines :            # yukarda tanımladığım lines'ı burada da kullandık. (lines=f.readlines() ataması yapmıştık)\n",
        "        counter += 1\n",
        "        if counter %4 == 0 :    # counter 4'ün katı olduğunda\n",
        "            f.write(i + \"\\n\")   # 4 ün katı olan satırıma (i'ye) ilave new line ekleyeceğiz\n",
        "        else :\n",
        "            f.write(i)          # satır sayısı 4 ün katı değilse normal satırı yazdır.\n",
        "\n",
        "with open(\"istiklal.txt\", \"r\", encoding=\"utf-8\") as f:\n",
        "    print(f.read())\n",
        "    \n",
        "# burada \"w\" ile dosyayı açtığımız için yeni halini eski dosyanın üzerine yazdırdığımıza dikkat edelim."
      ],
      "id": "timely-intensity",
      "execution_count": null,
      "outputs": [
        {
          "output_type": "stream",
          "text": [
            "Korkma, sönmez bu şafaklarda yüzen al sancak;\n",
            "Sönmeden yurdumun üstünde tüten en son ocak.\n",
            "O benim milletimin yıldızıdır, parlayacak;\n",
            "O benimdir, o benim milletimindir ancak.\n",
            "\n",
            "Çatma, kurban olayım, çehreni ey nazlı hilal!\n",
            "Kahraman ırkıma bir gül! Ne bu şiddet, bu celal?\n",
            "Sana olmaz dökülen kanlarımız sonra helal...\n",
            "Hakkıdır, hakk'a tapan, milletimin istiklal!\n",
            "\n",
            "Ben ezelden beridir hür yaşadım, hür yaşarım.\n",
            "Hangi çılgın bana zincir vuracakmış? Şaşarım!\n",
            "Kükremiş sel gibiyim, bendimi çiğner, aşarım.\n",
            "Yırtarım dağları, enginlere sığmam, taşarım.\n",
            "\n",
            "Garbın afakını sarmışsa çelik zırhlı duvar,\n",
            "Benim iman dolu göğsüm gibi serhaddim var.\n",
            "Ulusun, korkma! Nasıl böyle bir imanı boğar,\n",
            "'Medeniyet!' dediğin tek dişi kalmış canavar?\n",
            "\n",
            "Arkadaş! Yurduma alçakları uğratma, sakın.\n",
            "Siper et gövdeni, dursun bu hayasızca akın.\n",
            "Doğacaktır sana va'dettigi günler hakk'ın...\n",
            "Kim bilir, belki yarın, belki yarından da yakın.\n",
            "\n",
            "Bastığın yerleri 'toprak!' diyerek geçme, tanı:\n",
            "Düşün altında binlerce kefensiz yatanı.\n",
            "Sen şehit oğlusun, incitme, yazıktır, atanı:\n",
            "Verme, dünyaları alsan da, bu cennet vatanı.\n",
            "\n",
            "Kim bu cennet vatanın uğruna olmaz ki feda?\n",
            "Şuheda fışkıracak toprağı sıksan, şuheda!\n",
            "Canı, cananı, bütün varımı alsın da hüda,\n",
            "Etmesin tek vatanımdan beni dünyada cüda.\n",
            "\n",
            "Ruhumun senden, ilahi, şudur ancak emeli:\n",
            "Değmesin mabedimin göğsüne namahrem eli.\n",
            "Bu ezanlar-ki şahadetleri dinin temeli,\n",
            "Ebedi yurdumun üstünde benim inlemeli.\n",
            "\n"
          ],
          "name": "stdout"
        }
      ]
    },
    {
      "cell_type": "code",
      "metadata": {
        "id": "italian-separate",
        "outputId": "88550ea4-59a0-45f6-c12d-e430ceb78a68"
      },
      "source": [
        "# dosyamızın yeni halini \"liste\" halinde görelim. (readlines() metodu uygulayıp bunu new_lines değişkenine atayıp bunu yazdıracağız)\n",
        "\n",
        "with open(\"istiklal.txt\", \"r\", encoding=\"utf-8\") as f:\n",
        "    new_lines=f.readlines()\n",
        "new_lines"
      ],
      "id": "italian-separate",
      "execution_count": null,
      "outputs": [
        {
          "output_type": "execute_result",
          "data": {
            "text/plain": [
              "['Korkma, sönmez bu şafaklarda yüzen al sancak;\\n',\n",
              " 'Sönmeden yurdumun üstünde tüten en son ocak.\\n',\n",
              " 'O benim milletimin yıldızıdır, parlayacak;\\n',\n",
              " 'O benimdir, o benim milletimindir ancak.\\n',\n",
              " '\\n',\n",
              " 'Çatma, kurban olayım, çehreni ey nazlı hilal!\\n',\n",
              " 'Kahraman ırkıma bir gül! Ne bu şiddet, bu celal?\\n',\n",
              " 'Sana olmaz dökülen kanlarımız sonra helal...\\n',\n",
              " \"Hakkıdır, hakk'a tapan, milletimin istiklal!\\n\",\n",
              " '\\n',\n",
              " 'Ben ezelden beridir hür yaşadım, hür yaşarım.\\n',\n",
              " 'Hangi çılgın bana zincir vuracakmış? Şaşarım!\\n',\n",
              " 'Kükremiş sel gibiyim, bendimi çiğner, aşarım.\\n',\n",
              " 'Yırtarım dağları, enginlere sığmam, taşarım.\\n',\n",
              " '\\n',\n",
              " 'Garbın afakını sarmışsa çelik zırhlı duvar,\\n',\n",
              " 'Benim iman dolu göğsüm gibi serhaddim var.\\n',\n",
              " 'Ulusun, korkma! Nasıl böyle bir imanı boğar,\\n',\n",
              " \"'Medeniyet!' dediğin tek dişi kalmış canavar?\\n\",\n",
              " '\\n',\n",
              " 'Arkadaş! Yurduma alçakları uğratma, sakın.\\n',\n",
              " 'Siper et gövdeni, dursun bu hayasızca akın.\\n',\n",
              " \"Doğacaktır sana va'dettigi günler hakk'ın...\\n\",\n",
              " 'Kim bilir, belki yarın, belki yarından da yakın.\\n',\n",
              " '\\n',\n",
              " \"Bastığın yerleri 'toprak!' diyerek geçme, tanı:\\n\",\n",
              " 'Düşün altında binlerce kefensiz yatanı.\\n',\n",
              " 'Sen şehit oğlusun, incitme, yazıktır, atanı:\\n',\n",
              " 'Verme, dünyaları alsan da, bu cennet vatanı.\\n',\n",
              " '\\n',\n",
              " 'Kim bu cennet vatanın uğruna olmaz ki feda?\\n',\n",
              " 'Şuheda fışkıracak toprağı sıksan, şuheda!\\n',\n",
              " 'Canı, cananı, bütün varımı alsın da hüda,\\n',\n",
              " 'Etmesin tek vatanımdan beni dünyada cüda.\\n',\n",
              " '\\n',\n",
              " 'Ruhumun senden, ilahi, şudur ancak emeli:\\n',\n",
              " 'Değmesin mabedimin göğsüne namahrem eli.\\n',\n",
              " 'Bu ezanlar-ki şahadetleri dinin temeli,\\n',\n",
              " 'Ebedi yurdumun üstünde benim inlemeli.\\n']"
            ]
          },
          "metadata": {
            "tags": []
          },
          "execution_count": 24
        }
      ]
    },
    {
      "cell_type": "code",
      "metadata": {
        "id": "scheduled-german",
        "outputId": "49f12476-00ff-470d-9d51-05f661ccc1b3"
      },
      "source": [
        "# TASK : dosyayı yazdırdığında yukardaki gibi yazsın. en altına ise dosyanın ilk halini yani kıtasız olanını ekle.\n",
        "\n",
        "with open(\"istiklal.txt\", \"a\", encoding=\"utf-8\") as f:   # mevcut dosyanın altına ilave edeceğimiz için \"a\" ile açtık.\n",
        "    f.write(\"\\n\") # önce eski içeriğin altına bir boş satır ekledik.\n",
        "    \n",
        "    for i in new_lines :\n",
        "        if i == \"\\n\" :# eğer bu satır \\n a eşit ise bunu al ve boş string ile değiştir. yani \\n ı kaldır.\n",
        "            i.replace(\"\\n\", \"\")   # buraya replace yapmayıp sadece pass de diyebilirdik.\n",
        "        else :\n",
        "            f.write(i)\n",
        "                      \n",
        "with open(\"istiklal.txt\", \"r\", encoding=\"utf-8\") as f :\n",
        "    print(f.read())"
      ],
      "id": "scheduled-german",
      "execution_count": null,
      "outputs": [
        {
          "output_type": "stream",
          "text": [
            "Korkma, sönmez bu şafaklarda yüzen al sancak;\n",
            "Sönmeden yurdumun üstünde tüten en son ocak.\n",
            "O benim milletimin yıldızıdır, parlayacak;\n",
            "O benimdir, o benim milletimindir ancak.\n",
            "\n",
            "Çatma, kurban olayım, çehreni ey nazlı hilal!\n",
            "Kahraman ırkıma bir gül! Ne bu şiddet, bu celal?\n",
            "Sana olmaz dökülen kanlarımız sonra helal...\n",
            "Hakkıdır, hakk'a tapan, milletimin istiklal!\n",
            "\n",
            "Ben ezelden beridir hür yaşadım, hür yaşarım.\n",
            "Hangi çılgın bana zincir vuracakmış? Şaşarım!\n",
            "Kükremiş sel gibiyim, bendimi çiğner, aşarım.\n",
            "Yırtarım dağları, enginlere sığmam, taşarım.\n",
            "\n",
            "Garbın afakını sarmışsa çelik zırhlı duvar,\n",
            "Benim iman dolu göğsüm gibi serhaddim var.\n",
            "Ulusun, korkma! Nasıl böyle bir imanı boğar,\n",
            "'Medeniyet!' dediğin tek dişi kalmış canavar?\n",
            "\n",
            "Arkadaş! Yurduma alçakları uğratma, sakın.\n",
            "Siper et gövdeni, dursun bu hayasızca akın.\n",
            "Doğacaktır sana va'dettigi günler hakk'ın...\n",
            "Kim bilir, belki yarın, belki yarından da yakın.\n",
            "\n",
            "Bastığın yerleri 'toprak!' diyerek geçme, tanı:\n",
            "Düşün altında binlerce kefensiz yatanı.\n",
            "Sen şehit oğlusun, incitme, yazıktır, atanı:\n",
            "Verme, dünyaları alsan da, bu cennet vatanı.\n",
            "\n",
            "Kim bu cennet vatanın uğruna olmaz ki feda?\n",
            "Şuheda fışkıracak toprağı sıksan, şuheda!\n",
            "Canı, cananı, bütün varımı alsın da hüda,\n",
            "Etmesin tek vatanımdan beni dünyada cüda.\n",
            "\n",
            "Ruhumun senden, ilahi, şudur ancak emeli:\n",
            "Değmesin mabedimin göğsüne namahrem eli.\n",
            "Bu ezanlar-ki şahadetleri dinin temeli,\n",
            "Ebedi yurdumun üstünde benim inlemeli.\n",
            "\n",
            "Korkma, sönmez bu şafaklarda yüzen al sancak;\n",
            "Sönmeden yurdumun üstünde tüten en son ocak.\n",
            "O benim milletimin yıldızıdır, parlayacak;\n",
            "O benimdir, o benim milletimindir ancak.\n",
            "Çatma, kurban olayım, çehreni ey nazlı hilal!\n",
            "Kahraman ırkıma bir gül! Ne bu şiddet, bu celal?\n",
            "Sana olmaz dökülen kanlarımız sonra helal...\n",
            "Hakkıdır, hakk'a tapan, milletimin istiklal!\n",
            "Ben ezelden beridir hür yaşadım, hür yaşarım.\n",
            "Hangi çılgın bana zincir vuracakmış? Şaşarım!\n",
            "Kükremiş sel gibiyim, bendimi çiğner, aşarım.\n",
            "Yırtarım dağları, enginlere sığmam, taşarım.\n",
            "Garbın afakını sarmışsa çelik zırhlı duvar,\n",
            "Benim iman dolu göğsüm gibi serhaddim var.\n",
            "Ulusun, korkma! Nasıl böyle bir imanı boğar,\n",
            "'Medeniyet!' dediğin tek dişi kalmış canavar?\n",
            "Arkadaş! Yurduma alçakları uğratma, sakın.\n",
            "Siper et gövdeni, dursun bu hayasızca akın.\n",
            "Doğacaktır sana va'dettigi günler hakk'ın...\n",
            "Kim bilir, belki yarın, belki yarından da yakın.\n",
            "Bastığın yerleri 'toprak!' diyerek geçme, tanı:\n",
            "Düşün altında binlerce kefensiz yatanı.\n",
            "Sen şehit oğlusun, incitme, yazıktır, atanı:\n",
            "Verme, dünyaları alsan da, bu cennet vatanı.\n",
            "Kim bu cennet vatanın uğruna olmaz ki feda?\n",
            "Şuheda fışkıracak toprağı sıksan, şuheda!\n",
            "Canı, cananı, bütün varımı alsın da hüda,\n",
            "Etmesin tek vatanımdan beni dünyada cüda.\n",
            "Ruhumun senden, ilahi, şudur ancak emeli:\n",
            "Değmesin mabedimin göğsüne namahrem eli.\n",
            "Bu ezanlar-ki şahadetleri dinin temeli,\n",
            "Ebedi yurdumun üstünde benim inlemeli.\n",
            "\n"
          ],
          "name": "stdout"
        }
      ]
    },
    {
      "cell_type": "code",
      "metadata": {
        "id": "eight-sharing",
        "outputId": "dd81bfba-dc43-4102-a82a-aef9de72bdd3"
      },
      "source": [
        "# bir sözlük oluşturuyoruz\n",
        "\n",
        "words = {1 : \"1\", 2 : \"2\"}\n",
        "\n",
        "keys = words.keys()\n",
        "keys"
      ],
      "id": "eight-sharing",
      "execution_count": null,
      "outputs": [
        {
          "output_type": "execute_result",
          "data": {
            "text/plain": [
              "dict_keys([1, 2])"
            ]
          },
          "metadata": {
            "tags": []
          },
          "execution_count": 33
        }
      ]
    },
    {
      "cell_type": "code",
      "metadata": {
        "id": "higher-share"
      },
      "source": [
        "# boş bir dict. oluşturalım\n",
        "\n",
        "word_1 = {}"
      ],
      "id": "higher-share",
      "execution_count": null,
      "outputs": []
    },
    {
      "cell_type": "code",
      "metadata": {
        "id": "smooth-railway",
        "outputId": "7e6c984c-94dc-4029-fac4-f97712fb6cf8"
      },
      "source": [
        "word_1[3] = 1\n",
        "word_1\n",
        "\n",
        "# dict.e 3 keyi value su 1 olacak şekilde ekledik."
      ],
      "id": "smooth-railway",
      "execution_count": null,
      "outputs": [
        {
          "output_type": "execute_result",
          "data": {
            "text/plain": [
              "{3: 1}"
            ]
          },
          "metadata": {
            "tags": []
          },
          "execution_count": 36
        }
      ]
    },
    {
      "cell_type": "code",
      "metadata": {
        "id": "freelance-bonus",
        "outputId": "dcc455d4-3d2b-49e7-db1d-e47500cdc6aa"
      },
      "source": [
        "word_1[1] = 1\n",
        "word_1"
      ],
      "id": "freelance-bonus",
      "execution_count": null,
      "outputs": [
        {
          "output_type": "execute_result",
          "data": {
            "text/plain": [
              "{3: 1, 1: 1}"
            ]
          },
          "metadata": {
            "tags": []
          },
          "execution_count": 37
        }
      ]
    },
    {
      "cell_type": "code",
      "metadata": {
        "id": "middle-subsection",
        "outputId": "3d437f4e-39e7-4529-c58d-6844a007f079"
      },
      "source": [
        "# 3 numaralı key'in value sunu 1 arttırmak istersem\n",
        "\n",
        "word_1[3] += 1    # word_1[3] = word_1[3] + 1 demek. her çalıştırdığımda word_1[3] ün değerini 1 arttırır.\n",
        "\n",
        "word_1  # 3'ün değerinin 2 olduğunu gör. bu kodu her çalıştırdığında 1 artacaktır"
      ],
      "id": "middle-subsection",
      "execution_count": null,
      "outputs": [
        {
          "output_type": "execute_result",
          "data": {
            "text/plain": [
              "{3: 2, 1: 1}"
            ]
          },
          "metadata": {
            "tags": []
          },
          "execution_count": 38
        }
      ]
    },
    {
      "cell_type": "code",
      "metadata": {
        "id": "round-charm"
      },
      "source": [
        "# şimdi gelelim sorumuza...\n",
        "\n",
        "string = \"bir berber, bir'e berber.\"\n",
        "\n",
        "# Task: her bir karakterin kaç adet olduğunu bir sözlükte topla."
      ],
      "id": "round-charm",
      "execution_count": null,
      "outputs": []
    },
    {
      "cell_type": "code",
      "metadata": {
        "id": "aware-cancer",
        "outputId": "599776a2-d48e-4503-de61-76ce3825f10e"
      },
      "source": [
        "string = \"bir berber, bir'e berber.\"\n",
        "\n",
        "word_dict = {}\n",
        "\n",
        "for n in string : # önce iterable olan key leri alacağım ve kontrol edeceğim.\n",
        "    keys = word_dict.keys() \n",
        "    if n in keys : # sözlüğün her bir elemanını bir key yapacağız. n, yani sırasıyla her bir eleman keyler arasında ise\n",
        "        word_dict[n] += 1  # stringin her elemanını word_dict'in key'i yapıyoruz.\n",
        "    else : \n",
        "        word_dict[n] = 1 # stringin o elemanına ilk defa karşılaşırsak bunu 1 e eşitle. yani saymaya 1 den başla..\n",
        "\n",
        "print(word_dict)"
      ],
      "id": "aware-cancer",
      "execution_count": null,
      "outputs": [
        {
          "output_type": "stream",
          "text": [
            "{'b': 6, 'i': 2, 'r': 6, ' ': 3, 'e': 5, ',': 1, \"'\": 1, '.': 1}\n"
          ],
          "name": "stdout"
        }
      ]
    },
    {
      "cell_type": "code",
      "metadata": {
        "id": "cross-aquarium",
        "outputId": "c1587c8b-ff07-4e5a-a10a-bb08da137215"
      },
      "source": [
        "# list comprehension çözümüm\n",
        "\n",
        "string = \"bir berber, bir'e berber.\"\n",
        "sözlük = {i: string.count(i) for i in string}\n",
        "sözlük"
      ],
      "id": "cross-aquarium",
      "execution_count": null,
      "outputs": [
        {
          "output_type": "execute_result",
          "data": {
            "text/plain": [
              "{'b': 6, 'i': 2, 'r': 6, ' ': 3, 'e': 5, ',': 1, \"'\": 1, '.': 1}"
            ]
          },
          "metadata": {
            "tags": []
          },
          "execution_count": 42
        }
      ]
    },
    {
      "cell_type": "code",
      "metadata": {
        "id": "referenced-sculpture",
        "outputId": "35c467ac-7863-400f-a764-37f86ed2d42e"
      },
      "source": [
        "# Task: tiplerin kaçar adet olduğunu sözlükte göster\n",
        "\n",
        "veri = [\"a\", \"b\", True, (False, 1), {\"1\": 2}, [1,2], {\"2\" : \"two\"}, {2, \"3\"}, \"c\", 23, 0]\n",
        "\n",
        "\n",
        "tipler = [\"int\", \"str\", \"bool\", \"list\", \"tuple\", \"dict\", \"set\"]\n",
        "\n",
        "\n",
        "# fromnkeys() metodunu kullanacağız. bu metod, listenin her bir elemanını alıp key yapıyor\n",
        "\n",
        "{}.fromkeys(tipler, 0)  # tipler listesinin elemanlarını key yapar ve bunlara value olarak 0 atar\n",
        "\n"
      ],
      "id": "referenced-sculpture",
      "execution_count": null,
      "outputs": [
        {
          "output_type": "execute_result",
          "data": {
            "text/plain": [
              "{'int': 0, 'str': 0, 'bool': 0, 'list': 0, 'tuple': 0, 'dict': 0, 'set': 0}"
            ]
          },
          "metadata": {
            "tags": []
          },
          "execution_count": 43
        }
      ]
    },
    {
      "cell_type": "code",
      "metadata": {
        "id": "grateful-pitch",
        "outputId": "61743d00-44e8-40bc-fee5-34f9c1d03a11"
      },
      "source": [
        "toplam = {}.fromkeys(tipler, 0)  # bu sözlüğü toplam değişkenine atadım. başlangıçta değerleri 0. sonra toplayarak gideceğiz.\n",
        "\n",
        "for i in range(len(veri)) :\n",
        "    if type(veri[i]) == int : toplam[\"int\"] += 1   # verinin n'inci elemanının tipi int.ise int.keyinin değerini bir arttır.\n",
        "    elif type(veri[i]) == str : toplam[\"str\"] += 1  # str yerine type(\"sgasf\") de yazabilirdik.\n",
        "    elif type(veri[i]) == bool : toplam[\"bool\"] += 1  # bool yerine type(False) de yazabilirdik.      \n",
        "    elif type(veri[i]) == list : toplam[\"list\"] += 1        \n",
        "    elif type(veri[i]) == tuple : toplam[\"tuple\"] += 1       \n",
        "    elif type(veri[i]) == dict : toplam[\"dict\"] += 1       \n",
        "    elif type(veri[i]) == set : toplam[\"set\"] += 1     \n",
        "toplam\n",
        "        "
      ],
      "id": "grateful-pitch",
      "execution_count": null,
      "outputs": [
        {
          "output_type": "execute_result",
          "data": {
            "text/plain": [
              "{'int': 2, 'str': 3, 'bool': 1, 'list': 1, 'tuple': 1, 'dict': 2, 'set': 1}"
            ]
          },
          "metadata": {
            "tags": []
          },
          "execution_count": 45
        }
      ]
    },
    {
      "cell_type": "code",
      "metadata": {
        "id": "iraqi-covering",
        "outputId": "bb09d569-ee6f-4a32-c970-73a6c3485096"
      },
      "source": [
        "pwd"
      ],
      "id": "iraqi-covering",
      "execution_count": null,
      "outputs": [
        {
          "output_type": "execute_result",
          "data": {
            "text/plain": [
              "'C:\\\\Users\\\\hüseyin'"
            ]
          },
          "metadata": {
            "tags": []
          },
          "execution_count": 46
        }
      ]
    },
    {
      "cell_type": "code",
      "metadata": {
        "id": "refined-closer"
      },
      "source": [
        "import os  # operating system modülünü import et"
      ],
      "id": "refined-closer",
      "execution_count": null,
      "outputs": []
    },
    {
      "cell_type": "code",
      "metadata": {
        "id": "arranged-uganda",
        "outputId": "f59581ce-2f67-4ced-f41f-7178a4c7dd6b"
      },
      "source": [
        "os.listdir()  # os modülünün içinde ne varsa listele, görelim"
      ],
      "id": "arranged-uganda",
      "execution_count": null,
      "outputs": [
        {
          "output_type": "execute_result",
          "data": {
            "text/plain": [
              "['.bash_history',\n",
              " '.gitconfig',\n",
              " '.idlerc',\n",
              " '.ipynb_checkpoints',\n",
              " '.ipython',\n",
              " '.jupyter',\n",
              " '.viminfo',\n",
              " '.VirtualBox',\n",
              " '.vscode',\n",
              " '00_1-SelfStudy-döngüler-break - continue - for - Kopya.ipynb',\n",
              " '00_1-SelfStudy-döngüler-break - continue - for.ipynb',\n",
              " '00_2-SelfStudy-listenin elemanlarını unique yapma - Kopya.ipynb',\n",
              " '00_2-SelfStudy-listenin elemanlarını unique yapma.ipynb',\n",
              " '00_3-SelfStudy-zip-lambda - Kopya.ipynb',\n",
              " '00_3-SelfStudy-zip-lambda.ipynb',\n",
              " '00_4- w3resource Çalışmalarım - Kopya.ipynb',\n",
              " '00_4- w3resource Çalışmalarım.ipynb',\n",
              " '01_1-assignment çalışmalarım - Kopya.ipynb',\n",
              " '01_1-assignment çalışmalarım.ipynb',\n",
              " '02-3-Pyhton addict kanalı çalışmaları - Kopya.ipynb',\n",
              " '02-3-Pyhton addict kanalı çalışmaları.ipynb',\n",
              " '02_1-python addict kanalı çalışmaları - Kopya.ipynb',\n",
              " '02_1-python addict kanalı çalışmaları.ipynb',\n",
              " '02_2-python addict kanalı çalışmaları - Kopya.ipynb',\n",
              " '02_2-python addict kanalı çalışmaları.ipynb',\n",
              " '02_3-Python Addict kanalı çalışmaları - Kopya.ipynb',\n",
              " '02_3-Python Addict kanalı çalışmaları.ipynb',\n",
              " '03_1-WorkShop Python çalışmam.ipynb',\n",
              " '03_2 WorkShop-3 Python.ipynb',\n",
              " '03_3 Teamwork9 7 Mayıs.ipynb',\n",
              " '04_1-PreClass çalışmam-Functions - Kopya.ipynb',\n",
              " '04_1-PreClass çalışmam-Functions.ipynb',\n",
              " '04_2-PreClass-Exeption handling - Kopya.ipynb',\n",
              " '04_2-PreClass-Exeption handling.ipynb',\n",
              " '04_3-Pre-Class-LEGB Ranking Rule-LAMBDA-MAP-FILTER WITH LAMBDA - Kopya.ipynb',\n",
              " '04_3-Pre-Class-LEGB Ranking Rule-LAMBDA-MAP-FILTER WITH LAMBDA.ipynb',\n",
              " '05-1_InClass_14Nisan-set-if-else-max-sort-çoklu değişken atama - Kopya.ipynb',\n",
              " '05-1_InClass_14Nisan-set-if-else-max-sort-çoklu değişken atama.ipynb',\n",
              " '05-2_InClass_17Nisan-Döngüler - Kopya.ipynb',\n",
              " '05-2_InClass_17Nisan-Döngüler.ipynb',\n",
              " '05-3_InClass_21Nisan_döngüler-tuple unpacking-hayali değişken-generate görünür yapma.ipynb',\n",
              " '05-3_InClass_24Nisan-zip func.-for döngüsü-if statement-aynı satırda if-generate olayı.ipynb',\n",
              " '05-4_InClass_28Nisan-Build_In_Functions-Creating function.ipynb',\n",
              " '05-5_InClass_01Mayıs-def. Functions-kwarg-arbitraries.ipynb',\n",
              " '05-6_InClass_05Mayıs_args_kwargs_args_kwargs_arbitrary args-kwargs.ipynb',\n",
              " '05_10-InClass-24May21-writing file.ipynb',\n",
              " '05_7_InClass1-8Mayıs-lambda-map funct.-modules - Kopya.ipynb',\n",
              " '05_7_InClass1-8Mayıs-lambda-map funct.-modules.ipynb',\n",
              " '05_8_InClass-19Mayıs21-packages-error handling-exceptions - Kopya.ipynb',\n",
              " '05_8_InClass-19Mayıs21-packages-error handling-exceptions.ipynb',\n",
              " '05_9-InClas-22Mayıs21-open file- - Kopya.ipynb',\n",
              " '05_9-InClas-22Mayıs21-open file-.ipynb',\n",
              " '06_3-TeamWork-10.ipynb',\n",
              " '10-Python In class 3 Nisan_LIST SLICING.ipynb',\n",
              " '14 nisan calısmam.ipynb',\n",
              " '17_PythonSession-28-Apr-2021.ipynb',\n",
              " '18 Nisan çalışmam_ loop.ipynb',\n",
              " '20_PythonSessions-08-May-2021.ipynb',\n",
              " '21 Nisan İSTİHZA döngüler çalışmam.ipynb',\n",
              " '3 sayıyı çarpan program .ipynb',\n",
              " '3D Objects',\n",
              " 'AppData',\n",
              " 'Application Data',\n",
              " 'Belgelerim',\n",
              " 'benim_ilk_dosyam.txt',\n",
              " 'Contacts',\n",
              " 'Cookies',\n",
              " 'cprog.c',\n",
              " 'Creative Cloud Files',\n",
              " 'Desktop',\n",
              " 'dictionary in class notbook um.ipynb',\n",
              " 'Documents',\n",
              " 'Downloads',\n",
              " 'Favorites',\n",
              " 'file.txt',\n",
              " 'fishes.txt',\n",
              " 'flowers_24.txt',\n",
              " 'for ve if döngü çalışmam1.ipynb',\n",
              " 'fruits.txt',\n",
              " 'fruits_24.txt',\n",
              " 'git_lessons',\n",
              " 'index.html',\n",
              " 'index.js',\n",
              " 'istiklal.txt',\n",
              " 'javaprog.java',\n",
              " 'lab1.1',\n",
              " 'Links',\n",
              " 'Local Settings',\n",
              " 'max fonkiyonu içinde key olarak count kullanımının_list tuple ve sete uygulanması.ipynb',\n",
              " 'max fonksiyonu ve içinde key olarak .count kullanımı',\n",
              " 'Music',\n",
              " 'my-demo-repo',\n",
              " 'NetHood',\n",
              " 'NTUSER.DAT',\n",
              " 'ntuser.dat.LOG1',\n",
              " 'ntuser.dat.LOG2',\n",
              " 'NTUSER.DAT{53b39e88-18c4-11ea-a811-000d3aa4692b}.TM.blf',\n",
              " 'NTUSER.DAT{53b39e88-18c4-11ea-a811-000d3aa4692b}.TMContainer00000000000000000001.regtrans-ms',\n",
              " 'NTUSER.DAT{53b39e88-18c4-11ea-a811-000d3aa4692b}.TMContainer00000000000000000002.regtrans-ms',\n",
              " 'ntuser.ini',\n",
              " 'officelisans.cmd',\n",
              " 'OneDrive',\n",
              " 'Pictures',\n",
              " 'PreClass çalışmam-Collections_list,tuple,set,dict.ipynb',\n",
              " 'PrintHood',\n",
              " 'Python Scripts',\n",
              " 'Recent',\n",
              " 'rumi.txt',\n",
              " 'Saved Games',\n",
              " 'Searches',\n",
              " 'SendTo',\n",
              " 'Start Menu',\n",
              " 'style.css',\n",
              " 'task 2 calısmaları burada 14_04_2021.ipynb',\n",
              " 'Teamwork-7_23 Nisan 21.ipynb',\n",
              " 'teamwork3',\n",
              " 'teamwork4',\n",
              " 'teamwork5',\n",
              " 'TeamWork8 çalışmam.ipynb',\n",
              " 'Templates',\n",
              " 'type.ts',\n",
              " 'Untitled.ipynb',\n",
              " 'Untitled1.ipynb',\n",
              " 'Untitled2.ipynb',\n",
              " 'Untitled3.ipynb',\n",
              " 'Untitled4.ipynb',\n",
              " 'Untitled5.ipynb',\n",
              " 'Untitled6.ipynb',\n",
              " 'Untitled7.ipynb',\n",
              " 'upper_package',\n",
              " 'Videos',\n",
              " 'VirtualBox VMs',\n",
              " 'workshop-2(student).ipynb',\n",
              " 'workshop-3(student).ipynb',\n",
              " 'WS Python-3 Student Version-20210504.zip']"
            ]
          },
          "metadata": {
            "tags": []
          },
          "execution_count": 49
        }
      ]
    },
    {
      "cell_type": "code",
      "metadata": {
        "id": "absolute-spring"
      },
      "source": [
        "# şimdi bu dosyaların içinde txt olanları seçelim  \n",
        "\n",
        "import glob  # glob modülünü import ettik."
      ],
      "id": "absolute-spring",
      "execution_count": null,
      "outputs": []
    },
    {
      "cell_type": "code",
      "metadata": {
        "id": "governmental-requirement"
      },
      "source": [
        "for file in glob.glob(\"*.txt\") :    # sonu txt ile bitenleri iterable haline getir ve\n",
        "    print()                         # print et"
      ],
      "id": "governmental-requirement",
      "execution_count": null,
      "outputs": []
    },
    {
      "cell_type": "code",
      "metadata": {
        "id": "raised-vacuum"
      },
      "source": [
        ""
      ],
      "id": "raised-vacuum",
      "execution_count": null,
      "outputs": []
    },
    {
      "cell_type": "markdown",
      "metadata": {
        "id": "emotional-surveillance"
      },
      "source": [
        "# bir folder dan diğer folder a yazdırma"
      ],
      "id": "emotional-surveillance"
    },
    {
      "cell_type": "code",
      "metadata": {
        "id": "liberal-doctrine"
      },
      "source": [
        "import shutil"
      ],
      "id": "liberal-doctrine",
      "execution_count": null,
      "outputs": []
    },
    {
      "cell_type": "code",
      "metadata": {
        "id": "cutting-miracle",
        "outputId": "50024fd8-422a-4a86-c149-1c019d217d66"
      },
      "source": [
        "shutil.copy(\"fruits_24.txt\", \"../fruits_24_copy.txt\") # fruits_24.txt dosyasını bir üst dizine fruits_24_copy.txt olarak yazdır."
      ],
      "id": "cutting-miracle",
      "execution_count": null,
      "outputs": [
        {
          "output_type": "error",
          "ename": "PermissionError",
          "evalue": "[Errno 13] Permission denied: '../fruits_24_copy.txt'",
          "traceback": [
            "\u001b[1;31m---------------------------------------------------------------------------\u001b[0m",
            "\u001b[1;31mPermissionError\u001b[0m                           Traceback (most recent call last)",
            "\u001b[1;32m<ipython-input-54-1a71aa06c548>\u001b[0m in \u001b[0;36m<module>\u001b[1;34m\u001b[0m\n\u001b[1;32m----> 1\u001b[1;33m \u001b[0mshutil\u001b[0m\u001b[1;33m.\u001b[0m\u001b[0mcopy\u001b[0m\u001b[1;33m(\u001b[0m\u001b[1;34m\"fruits_24.txt\"\u001b[0m\u001b[1;33m,\u001b[0m \u001b[1;34m\"../fruits_24_copy.txt\"\u001b[0m\u001b[1;33m)\u001b[0m \u001b[1;31m# fruits_24.txt dosyasını bir üst dizine fruits_24_copy.txt olarak yazdır.\u001b[0m\u001b[1;33m\u001b[0m\u001b[1;33m\u001b[0m\u001b[0m\n\u001b[0m",
            "\u001b[1;32mc:\\users\\hüseyin\\appdata\\local\\programs\\python\\python37\\lib\\shutil.py\u001b[0m in \u001b[0;36mcopy\u001b[1;34m(src, dst, follow_symlinks)\u001b[0m\n\u001b[0;32m    246\u001b[0m     \u001b[1;32mif\u001b[0m \u001b[0mos\u001b[0m\u001b[1;33m.\u001b[0m\u001b[0mpath\u001b[0m\u001b[1;33m.\u001b[0m\u001b[0misdir\u001b[0m\u001b[1;33m(\u001b[0m\u001b[0mdst\u001b[0m\u001b[1;33m)\u001b[0m\u001b[1;33m:\u001b[0m\u001b[1;33m\u001b[0m\u001b[1;33m\u001b[0m\u001b[0m\n\u001b[0;32m    247\u001b[0m         \u001b[0mdst\u001b[0m \u001b[1;33m=\u001b[0m \u001b[0mos\u001b[0m\u001b[1;33m.\u001b[0m\u001b[0mpath\u001b[0m\u001b[1;33m.\u001b[0m\u001b[0mjoin\u001b[0m\u001b[1;33m(\u001b[0m\u001b[0mdst\u001b[0m\u001b[1;33m,\u001b[0m \u001b[0mos\u001b[0m\u001b[1;33m.\u001b[0m\u001b[0mpath\u001b[0m\u001b[1;33m.\u001b[0m\u001b[0mbasename\u001b[0m\u001b[1;33m(\u001b[0m\u001b[0msrc\u001b[0m\u001b[1;33m)\u001b[0m\u001b[1;33m)\u001b[0m\u001b[1;33m\u001b[0m\u001b[1;33m\u001b[0m\u001b[0m\n\u001b[1;32m--> 248\u001b[1;33m     \u001b[0mcopyfile\u001b[0m\u001b[1;33m(\u001b[0m\u001b[0msrc\u001b[0m\u001b[1;33m,\u001b[0m \u001b[0mdst\u001b[0m\u001b[1;33m,\u001b[0m \u001b[0mfollow_symlinks\u001b[0m\u001b[1;33m=\u001b[0m\u001b[0mfollow_symlinks\u001b[0m\u001b[1;33m)\u001b[0m\u001b[1;33m\u001b[0m\u001b[1;33m\u001b[0m\u001b[0m\n\u001b[0m\u001b[0;32m    249\u001b[0m     \u001b[0mcopymode\u001b[0m\u001b[1;33m(\u001b[0m\u001b[0msrc\u001b[0m\u001b[1;33m,\u001b[0m \u001b[0mdst\u001b[0m\u001b[1;33m,\u001b[0m \u001b[0mfollow_symlinks\u001b[0m\u001b[1;33m=\u001b[0m\u001b[0mfollow_symlinks\u001b[0m\u001b[1;33m)\u001b[0m\u001b[1;33m\u001b[0m\u001b[1;33m\u001b[0m\u001b[0m\n\u001b[0;32m    250\u001b[0m     \u001b[1;32mreturn\u001b[0m \u001b[0mdst\u001b[0m\u001b[1;33m\u001b[0m\u001b[1;33m\u001b[0m\u001b[0m\n",
            "\u001b[1;32mc:\\users\\hüseyin\\appdata\\local\\programs\\python\\python37\\lib\\shutil.py\u001b[0m in \u001b[0;36mcopyfile\u001b[1;34m(src, dst, follow_symlinks)\u001b[0m\n\u001b[0;32m    119\u001b[0m     \u001b[1;32melse\u001b[0m\u001b[1;33m:\u001b[0m\u001b[1;33m\u001b[0m\u001b[1;33m\u001b[0m\u001b[0m\n\u001b[0;32m    120\u001b[0m         \u001b[1;32mwith\u001b[0m \u001b[0mopen\u001b[0m\u001b[1;33m(\u001b[0m\u001b[0msrc\u001b[0m\u001b[1;33m,\u001b[0m \u001b[1;34m'rb'\u001b[0m\u001b[1;33m)\u001b[0m \u001b[1;32mas\u001b[0m \u001b[0mfsrc\u001b[0m\u001b[1;33m:\u001b[0m\u001b[1;33m\u001b[0m\u001b[1;33m\u001b[0m\u001b[0m\n\u001b[1;32m--> 121\u001b[1;33m             \u001b[1;32mwith\u001b[0m \u001b[0mopen\u001b[0m\u001b[1;33m(\u001b[0m\u001b[0mdst\u001b[0m\u001b[1;33m,\u001b[0m \u001b[1;34m'wb'\u001b[0m\u001b[1;33m)\u001b[0m \u001b[1;32mas\u001b[0m \u001b[0mfdst\u001b[0m\u001b[1;33m:\u001b[0m\u001b[1;33m\u001b[0m\u001b[1;33m\u001b[0m\u001b[0m\n\u001b[0m\u001b[0;32m    122\u001b[0m                 \u001b[0mcopyfileobj\u001b[0m\u001b[1;33m(\u001b[0m\u001b[0mfsrc\u001b[0m\u001b[1;33m,\u001b[0m \u001b[0mfdst\u001b[0m\u001b[1;33m)\u001b[0m\u001b[1;33m\u001b[0m\u001b[1;33m\u001b[0m\u001b[0m\n\u001b[0;32m    123\u001b[0m     \u001b[1;32mreturn\u001b[0m \u001b[0mdst\u001b[0m\u001b[1;33m\u001b[0m\u001b[1;33m\u001b[0m\u001b[0m\n",
            "\u001b[1;31mPermissionError\u001b[0m: [Errno 13] Permission denied: '../fruits_24_copy.txt'"
          ]
        }
      ]
    },
    {
      "cell_type": "markdown",
      "metadata": {
        "id": "australian-sacramento"
      },
      "source": [
        "# recursion, (fonksiyon içinde fonksiyon kullanma.. hayat kurtarır.)"
      ],
      "id": "australian-sacramento"
    },
    {
      "cell_type": "code",
      "metadata": {
        "id": "psychological-marina",
        "outputId": "26ea9420-deca-4dc3-ed2f-0121287616fe"
      },
      "source": [
        "def my_factorial(n) :\n",
        "    if n == 0 : return 1     # n, 0 ise hiç uğraşma sonucu 1 yap.\n",
        "    else :\n",
        "        return n * my_factorial(n-1)\n",
        "    \n",
        "my_factorial(3)"
      ],
      "id": "psychological-marina",
      "execution_count": null,
      "outputs": [
        {
          "output_type": "execute_result",
          "data": {
            "text/plain": [
              "6"
            ]
          },
          "metadata": {
            "tags": []
          },
          "execution_count": 58
        }
      ]
    },
    {
      "cell_type": "code",
      "metadata": {
        "id": "requested-hygiene"
      },
      "source": [
        ""
      ],
      "id": "requested-hygiene",
      "execution_count": null,
      "outputs": []
    },
    {
      "cell_type": "code",
      "metadata": {
        "id": "promotional-anniversary"
      },
      "source": [
        ""
      ],
      "id": "promotional-anniversary",
      "execution_count": null,
      "outputs": []
    },
    {
      "cell_type": "code",
      "metadata": {
        "id": "respected-india"
      },
      "source": [
        ""
      ],
      "id": "respected-india",
      "execution_count": null,
      "outputs": []
    }
  ]
}