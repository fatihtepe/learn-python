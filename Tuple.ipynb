{
  "nbformat": 4,
  "nbformat_minor": 0,
  "metadata": {
    "colab": {
      "name": "Tuple.ipynb",
      "provenance": [],
      "collapsed_sections": [],
      "authorship_tag": "ABX9TyOX3v/fWqOj0+j62YeR6n8C",
      "include_colab_link": true
    },
    "kernelspec": {
      "name": "python3",
      "display_name": "Python 3"
    },
    "language_info": {
      "name": "python"
    }
  },
  "cells": [
    {
      "cell_type": "markdown",
      "metadata": {
        "id": "view-in-github",
        "colab_type": "text"
      },
      "source": [
        "<a href=\"https://colab.research.google.com/github/fatihtepe/python_ground/blob/main/Tuple.ipynb\" target=\"_parent\"><img src=\"https://colab.research.google.com/assets/colab-badge.svg\" alt=\"Open In Colab\"/></a>"
      ]
    },
    {
      "cell_type": "code",
      "metadata": {
        "id": "vzdo2PdatVwa"
      },
      "source": [
        "# TUPLES\n"
      ],
      "execution_count": null,
      "outputs": []
    },
    {
      "cell_type": "code",
      "metadata": {
        "colab": {
          "base_uri": "https://localhost:8080/"
        },
        "id": "BlvmkjfktZh-",
        "outputId": "72acbe80-20fb-449e-d9b3-c0b1a4f304d3"
      },
      "source": [
        "my_list = [1, 4, 2, 4, 5, 7, 3,]\n",
        "\n",
        "my_tuple = tuple(my_list)\n",
        "\n",
        "print(my_tuple)"
      ],
      "execution_count": null,
      "outputs": [
        {
          "output_type": "stream",
          "text": [
            "(1, 4, 2, 4, 5, 7, 3)\n"
          ],
          "name": "stdout"
        }
      ]
    },
    {
      "cell_type": "code",
      "metadata": {
        "colab": {
          "base_uri": "https://localhost:8080/"
        },
        "id": "R5mnNGBQt44-",
        "outputId": "36b4d427-c4e6-4136-b79e-0450d98137b3"
      },
      "source": [
        "mountain = tuple('Alps',)\n",
        "print(mountain)"
      ],
      "execution_count": null,
      "outputs": [
        {
          "output_type": "stream",
          "text": [
            "('A', 'l', 'p', 's')\n"
          ],
          "name": "stdout"
        }
      ]
    },
    {
      "cell_type": "code",
      "metadata": {
        "colab": {
          "base_uri": "https://localhost:8080/"
        },
        "id": "iDpgslTbuXZc",
        "outputId": "a4b38939-6e47-4553-b57f-5865ed4bd8cc"
      },
      "source": [
        "planets = 'mercury', 'jupiter', 'saturn'\n",
        "\n",
        "print(planets)"
      ],
      "execution_count": null,
      "outputs": [
        {
          "output_type": "stream",
          "text": [
            "('mercury', 'jupiter', 'saturn')\n"
          ],
          "name": "stdout"
        }
      ]
    },
    {
      "cell_type": "code",
      "metadata": {
        "colab": {
          "base_uri": "https://localhost:8080/"
        },
        "id": "EFOLfQvIusGt",
        "outputId": "120293fc-eb8f-45c4-fe73-4acb989fb6c1"
      },
      "source": [
        "planets = 'mercury', 'jupiter', 'saturn'\n",
        "list_of_planets = list(planets)\n",
        "print(list_of_planets)"
      ],
      "execution_count": null,
      "outputs": [
        {
          "output_type": "stream",
          "text": [
            "['mercury', 'jupiter', 'saturn']\n"
          ],
          "name": "stdout"
        }
      ]
    },
    {
      "cell_type": "code",
      "metadata": {
        "colab": {
          "base_uri": "https://localhost:8080/"
        },
        "id": "27o_oNYhu4vK",
        "outputId": "5ab4b301-aa0e-4387-e876-bea68ac39228"
      },
      "source": [
        "list_of_planets = ['mercury', 'jupiter', 'saturn', 'mercury', 'saturn', 'mars']\n",
        "\n",
        "my_tuple_planets = tuple(list_of_planets)\n",
        "print(my_tuple_planets)\n",
        "\n",
        "count = my_tuple_planets.count('mercury')\n",
        "print(count)\n"
      ],
      "execution_count": null,
      "outputs": [
        {
          "output_type": "stream",
          "text": [
            "('mercury', 'jupiter', 'saturn', 'mercury', 'saturn', 'mars')\n",
            "2\n"
          ],
          "name": "stdout"
        }
      ]
    },
    {
      "cell_type": "code",
      "metadata": {
        "colab": {
          "base_uri": "https://localhost:8080/"
        },
        "id": "9JdZq6invqWZ",
        "outputId": "5e098997-7d33-4083-dc5a-ce6d43909886"
      },
      "source": [
        "mix_value_tuple = (0, 'bird', 3.14, True)\n",
        "\n",
        "print(len(mix_value_tuple))\n"
      ],
      "execution_count": null,
      "outputs": [
        {
          "output_type": "stream",
          "text": [
            "4\n"
          ],
          "name": "stdout"
        }
      ]
    },
    {
      "cell_type": "code",
      "metadata": {
        "colab": {
          "base_uri": "https://localhost:8080/"
        },
        "id": "r8jBqDj4v1fA",
        "outputId": "b9d85d14-91e2-4d02-db18-510696b67d25"
      },
      "source": [
        "even_no = (0, 2, 4)\n",
        "print(even_no[0])    \n",
        "print(even_no[1])    \n",
        "print(even_no[2])   \n"
      ],
      "execution_count": null,
      "outputs": [
        {
          "output_type": "stream",
          "text": [
            "0\n",
            "2\n",
            "4\n"
          ],
          "name": "stdout"
        }
      ]
    },
    {
      "cell_type": "markdown",
      "metadata": {
        "id": "qwRNdZ02wMiY"
      },
      "source": [
        "And one of the most important differences of tuples from lists is that 'tuple' object does not support item assignment. Yes, because tuple is immutable. "
      ]
    },
    {
      "cell_type": "code",
      "metadata": {
        "colab": {
          "base_uri": "https://localhost:8080/",
          "height": 252
        },
        "id": "VX4d5xfdv8Ug",
        "outputId": "98e722cd-2dc6-48dc-a21a-80be929e9b6e"
      },
      "source": [
        "abc = ('a', 'e', 'i', 'o', 'g', 'l', 'i', 'u', 'f', 'e', 'c', 'm')\n",
        "\n",
        "index = abc.index('o') \n",
        "print(index)\n",
        "\n",
        "\n",
        "index = abc.index('i', 4)\n",
        "print(index)\n",
        "\n",
        "index = abc.index('f', 3, 5) \n",
        "print(index)"
      ],
      "execution_count": null,
      "outputs": [
        {
          "output_type": "stream",
          "text": [
            "3\n",
            "6\n"
          ],
          "name": "stdout"
        },
        {
          "output_type": "error",
          "ename": "ValueError",
          "evalue": "ignored",
          "traceback": [
            "\u001b[0;31m---------------------------------------------------------------------------\u001b[0m",
            "\u001b[0;31mValueError\u001b[0m                                Traceback (most recent call last)",
            "\u001b[0;32m<ipython-input-32-895165f0e987>\u001b[0m in \u001b[0;36m<module>\u001b[0;34m()\u001b[0m\n\u001b[1;32m      8\u001b[0m \u001b[0mprint\u001b[0m\u001b[0;34m(\u001b[0m\u001b[0mindex\u001b[0m\u001b[0;34m)\u001b[0m\u001b[0;34m\u001b[0m\u001b[0;34m\u001b[0m\u001b[0m\n\u001b[1;32m      9\u001b[0m \u001b[0;34m\u001b[0m\u001b[0m\n\u001b[0;32m---> 10\u001b[0;31m \u001b[0mindex\u001b[0m \u001b[0;34m=\u001b[0m \u001b[0mabc\u001b[0m\u001b[0;34m.\u001b[0m\u001b[0mindex\u001b[0m\u001b[0;34m(\u001b[0m\u001b[0;34m'f'\u001b[0m\u001b[0;34m,\u001b[0m \u001b[0;36m3\u001b[0m\u001b[0;34m,\u001b[0m \u001b[0;36m5\u001b[0m\u001b[0;34m)\u001b[0m\u001b[0;34m\u001b[0m\u001b[0;34m\u001b[0m\u001b[0m\n\u001b[0m\u001b[1;32m     11\u001b[0m \u001b[0mprint\u001b[0m\u001b[0;34m(\u001b[0m\u001b[0mindex\u001b[0m\u001b[0;34m)\u001b[0m\u001b[0;34m\u001b[0m\u001b[0;34m\u001b[0m\u001b[0m\n",
            "\u001b[0;31mValueError\u001b[0m: tuple.index(x): x not in tuple"
          ]
        }
      ]
    },
    {
      "cell_type": "code",
      "metadata": {
        "colab": {
          "base_uri": "https://localhost:8080/"
        },
        "id": "dIdF2u1EwOGV",
        "outputId": "687cda0a-349c-4ec1-8d32-dade10193431"
      },
      "source": [
        "nums = [1, ['51','41'], 2, 3, ['16', '17'], 4]\n",
        "\n",
        "nums[1].remove('41')\n",
        "print(nums)"
      ],
      "execution_count": null,
      "outputs": [
        {
          "output_type": "stream",
          "text": [
            "[1, ['51'], 2, 3, ['16', '17'], 4]\n"
          ],
          "name": "stdout"
        }
      ]
    },
    {
      "cell_type": "code",
      "metadata": {
        "colab": {
          "base_uri": "https://localhost:8080/"
        },
        "id": "2dBbNqkO3qEb",
        "outputId": "463f1b9d-73d5-41bd-a8a0-1cd5d92edbd0"
      },
      "source": [
        "mix_value = (10, False, 'fruit', 1.618)\n",
        "\n",
        "print(len(mix_value))"
      ],
      "execution_count": 3,
      "outputs": [
        {
          "output_type": "stream",
          "text": [
            "4\n"
          ],
          "name": "stdout"
        }
      ]
    },
    {
      "cell_type": "code",
      "metadata": {
        "colab": {
          "base_uri": "https://localhost:8080/"
        },
        "id": "KE4EtGvOW-Vl",
        "outputId": "9e5c2762-8277-47df-9ad9-d2e51b359376"
      },
      "source": [
        "coordinates = (1,2, 3)  # unpacking\n",
        "x, y, z = coordinates\n",
        "print(x)"
      ],
      "execution_count": 2,
      "outputs": [
        {
          "output_type": "stream",
          "text": [
            "1\n"
          ],
          "name": "stdout"
        }
      ]
    },
    {
      "cell_type": "code",
      "metadata": {
        "id": "rJA0UgT7W-FK"
      },
      "source": [
        ""
      ],
      "execution_count": null,
      "outputs": []
    }
  ]
}