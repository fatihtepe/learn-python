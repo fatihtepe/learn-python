{
  "nbformat": 4,
  "nbformat_minor": 5,
  "metadata": {
    "kernelspec": {
      "name": "python3",
      "display_name": "Python 3",
      "language": "python"
    },
    "language_info": {
      "name": "python",
      "version": "3.6.13",
      "mimetype": "text/x-python",
      "codemirror_mode": {
        "name": "ipython",
        "version": 3
      },
      "pygments_lexer": "ipython3",
      "nbconvert_exporter": "python",
      "file_extension": ".py"
    },
    "colab": {
      "name": "pyhton functions exercises.ipynb",
      "provenance": [],
      "collapsed_sections": [],
      "include_colab_link": true
    }
  },
  "cells": [
    {
      "cell_type": "markdown",
      "metadata": {
        "id": "view-in-github",
        "colab_type": "text"
      },
      "source": [
        "<a href=\"https://colab.research.google.com/github/fatihtepe/learn_python/blob/main/pyhton_functions_exercises.ipynb\" target=\"_parent\"><img src=\"https://colab.research.google.com/assets/colab-badge.svg\" alt=\"Open In Colab\"/></a>"
      ]
    },
    {
      "cell_type": "markdown",
      "metadata": {
        "id": "greek-prediction"
      },
      "source": [
        "7. Write a Python function that accepts a string and calculate the number of upper case letters and lower case letters. Go to the editor\n",
        "Sample String : 'The quick Brow Fox'\n",
        "Expected Output :\n",
        "No. of Upper case characters : 3\n",
        "No. of Lower case Characters : 12"
      ],
      "id": "greek-prediction"
    },
    {
      "cell_type": "code",
      "metadata": {
        "trusted": false,
        "id": "several-toolbox",
        "colab": {
          "base_uri": "https://localhost:8080/"
        },
        "outputId": "0a774bce-fa3d-4036-fd14-82acaa16b74b"
      },
      "source": [
        "sample=\"The quick Brown Fox\"\n",
        "sample=sample.replace(\" \",\"\")\n",
        "upper=[]\n",
        "lower=[]\n",
        "for i in sample:\n",
        "    if i.isupper():\n",
        "        upper.append(i)\n",
        "    else:\n",
        "        lower.append(i)\n",
        "print (f\"Number of Uppercase is :{len(upper)} number of lower is:{len(lower)}\")\n",
        "print(upper, lower)"
      ],
      "id": "several-toolbox",
      "execution_count": 2,
      "outputs": [
        {
          "output_type": "stream",
          "text": [
            "Number of Uppercase is :3 number of lower is:13\n",
            "['T', 'B', 'F'] ['h', 'e', 'q', 'u', 'i', 'c', 'k', 'r', 'o', 'w', 'n', 'o', 'x']\n"
          ],
          "name": "stdout"
        }
      ]
    },
    {
      "cell_type": "code",
      "metadata": {
        "trusted": false,
        "id": "split-career",
        "outputId": "d01637d8-ffb2-4c49-dcb6-9540210ca9f4"
      },
      "source": [
        "sample=\"The quick Brown Fox\"\n",
        "sample=sample.replace(\" \",\"\") #boşlukları sildik\n",
        "\n",
        "upper=len([x for x in sample if x.isupper()]) #sample daki büyük harfleri \"isupper()\"\" fonksiyonu ile bulduk.\n",
        "\n",
        "print (f\"Number of Uppercase is :{upper} number of lower is:{len(sample)-upper}\")"
      ],
      "id": "split-career",
      "execution_count": null,
      "outputs": [
        {
          "output_type": "stream",
          "text": [
            "Number of Uppercase is :3 number of lower is:13\n"
          ],
          "name": "stdout"
        }
      ]
    },
    {
      "cell_type": "code",
      "metadata": {
        "trusted": false,
        "id": "worldwide-assembly",
        "outputId": "872408c0-c2b3-4f8a-917c-b22969953835"
      },
      "source": [
        "def string_test(s):\n",
        "    d={\"UPPER_CASE\":0, \"LOWER_CASE\":0}\n",
        "    for c in s:\n",
        "        if c.isupper():\n",
        "           d[\"UPPER_CASE\"]+=1\n",
        "        elif c.islower():\n",
        "           d[\"LOWER_CASE\"]+=1\n",
        "        else:\n",
        "           pass\n",
        "    print (\"Original String : \", s)\n",
        "    print (\"No. of Upper case characters : \", d[\"UPPER_CASE\"])\n",
        "    print (\"No. of Lower case Characters : \", d[\"LOWER_CASE\"])\n",
        "\n",
        "string_test('The quick Brown Fox')"
      ],
      "id": "worldwide-assembly",
      "execution_count": null,
      "outputs": [
        {
          "output_type": "stream",
          "text": [
            "Original String :  The quick Brown Fox\n",
            "No. of Upper case characters :  3\n",
            "No. of Lower case Characters :  13\n"
          ],
          "name": "stdout"
        }
      ]
    },
    {
      "cell_type": "markdown",
      "metadata": {
        "id": "vanilla-procurement"
      },
      "source": [
        "8. Write a Python function that takes a list and returns a new list with unique elements of the first list. Go to the editor\n",
        "Sample List : [1,2,3,3,3,3,4,5]\n",
        "Unique List : [1, 2, 3, 4, 5]"
      ],
      "id": "vanilla-procurement"
    },
    {
      "cell_type": "code",
      "metadata": {
        "trusted": false,
        "id": "international-dispute",
        "outputId": "9aec03dd-f8ae-431e-a68e-794057b23acc"
      },
      "source": [
        "def unique(sample):\n",
        "    return list(set(sample))    \n",
        "unique([1,2,3,3,3,3,4,5])"
      ],
      "id": "international-dispute",
      "execution_count": null,
      "outputs": [
        {
          "output_type": "execute_result",
          "data": {
            "text/plain": [
              "[1, 2, 3, 4, 5]"
            ]
          },
          "metadata": {
            "tags": []
          },
          "execution_count": 37
        }
      ]
    },
    {
      "cell_type": "code",
      "metadata": {
        "trusted": false,
        "id": "floral-worship"
      },
      "source": [
        "def unique_list(l):\n",
        "    x = []\n",
        "    for a in l:\n",
        "        if a not in x:\n",
        "            x.append(a)\n",
        "    return x\n",
        "\n",
        "print(unique_list([1,2,3,3,3,3,4,5])) "
      ],
      "id": "floral-worship",
      "execution_count": null,
      "outputs": []
    },
    {
      "cell_type": "markdown",
      "metadata": {
        "id": "fz2vrwjTERUv"
      },
      "source": [
        "9- Write a Python function that takes a number as a parameter and check the number is prime or not.\n",
        "\n",
        "Note : A prime number (or a prime) is a natural number greater than 1 and that has no positive divisors other than 1 and itself."
      ],
      "id": "fz2vrwjTERUv"
    },
    {
      "cell_type": "code",
      "metadata": {
        "trusted": false,
        "colab": {
          "base_uri": "https://localhost:8080/",
          "height": 35
        },
        "id": "comparable-coalition",
        "outputId": "080aff4a-f790-427e-e3e7-aa7062c06036"
      },
      "source": [
        "def isprime(n):\n",
        "    count=0\n",
        "    for i in range(1,n+1):\n",
        "        if n%i==0:\n",
        "            count+=1\n",
        "        else:\n",
        "            pass\n",
        "    if count<3:\n",
        "        return \"prime\" \n",
        "    else:\n",
        "        return \"not prime\"\n",
        "isprime(17)"
      ],
      "id": "comparable-coalition",
      "execution_count": null,
      "outputs": [
        {
          "output_type": "execute_result",
          "data": {
            "application/vnd.google.colaboratory.intrinsic+json": {
              "type": "string"
            },
            "text/plain": [
              "'prime'"
            ]
          },
          "metadata": {
            "tags": []
          },
          "execution_count": 70
        }
      ]
    },
    {
      "cell_type": "code",
      "metadata": {
        "trusted": true,
        "id": "critical-memphis",
        "outputId": "67d6adc5-2fbf-4163-bfce-d21cda86ccf0"
      },
      "source": [
        "n=int(input('Enter a number to check if it is a prime number : '))\n",
        "count=0\n",
        "for i in range(1, n+1):\n",
        "    if n%i==0 :\n",
        "        count += 1\n",
        "    else : count += 0\n",
        "if count < 3: print(f'{n} is a prime number')\n",
        "else : print(f'{n} is not a prime number')"
      ],
      "id": "critical-memphis",
      "execution_count": null,
      "outputs": [
        {
          "output_type": "stream",
          "text": [
            "Enter a number to check if it is a prime number : 22\n",
            "22 is not a prime number\n"
          ],
          "name": "stdout"
        }
      ]
    },
    {
      "cell_type": "markdown",
      "metadata": {
        "trusted": false,
        "id": "LjWrxvO6s9IX"
      },
      "source": [
        "10. Write a Python program to print the even numbers from a given list.\n",
        "Sample List : [1, 2, 3, 4, 5, 6, 7, 8, 9]\n",
        "Expected Result : [2, 4, 6, 8]"
      ],
      "id": "LjWrxvO6s9IX"
    },
    {
      "cell_type": "code",
      "metadata": {
        "trusted": true,
        "id": "breathing-settle",
        "outputId": "0d27d656-57e0-4521-f0f0-90777f2f2b63"
      },
      "source": [
        "def sample(n):\n",
        "    return [x for x in n if x%2==0]\n",
        "sample([1, 2, 3, 4, 5, 6, 7, 8, 9])"
      ],
      "id": "breathing-settle",
      "execution_count": null,
      "outputs": [
        {
          "output_type": "execute_result",
          "data": {
            "text/plain": [
              "[2, 4, 6, 8]"
            ]
          },
          "metadata": {
            "tags": []
          },
          "execution_count": 5
        }
      ]
    },
    {
      "cell_type": "markdown",
      "metadata": {
        "trusted": false,
        "id": "TZ4fmh_Js9IZ"
      },
      "source": [
        "11. Write a Python function to check whether a number is perfect or not.\n",
        "According to Wikipedia : In number theory, a perfect number is a positive integer that is equal to the sum of its proper positive divisors, that is, the sum of its positive divisors excluding the number itself (also known as its aliquot sum). Equivalently, a perfect number is a number that is half the sum of all of its positive divisors (including itself).\n",
        "Example : The first perfect number is 6, because 1, 2, and 3 are its proper positive divisors, and 1 + 2 + 3 = 6. Equivalently, the number 6 is equal to half the sum of all its positive divisors: ( 1 + 2 + 3 + 6 ) / 2 = 6. The next perfect number is 28 = 1 + 2 + 4 + 7 + 14. This is followed by the perfect numbers 496 and 8128."
      ],
      "id": "TZ4fmh_Js9IZ"
    },
    {
      "cell_type": "code",
      "metadata": {
        "trusted": true,
        "id": "1yZOlxYms9Ia",
        "outputId": "2706f1c5-02d4-4b18-ae03-c6cc15177781"
      },
      "source": [
        "def isperfect(n):\n",
        "    count=0\n",
        "    for i in range(1,n):\n",
        "        if n%i==0:\n",
        "            count+=i\n",
        "    if count==n:\n",
        "        return True\n",
        "    else:\n",
        "        return False\n",
        "print (isperfect(28))"
      ],
      "id": "1yZOlxYms9Ia",
      "execution_count": null,
      "outputs": [
        {
          "output_type": "stream",
          "text": [
            "True\n"
          ],
          "name": "stdout"
        }
      ]
    },
    {
      "cell_type": "code",
      "metadata": {
        "trusted": true,
        "id": "5QCdhL3vs9Ia",
        "outputId": "87e56470-2763-46d8-dacf-351b18cfe8c0"
      },
      "source": [
        "def isperfect(n):\n",
        "    return n==sum([x for x in range(1,n) if n%x==0])\n",
        "print (isperfect(8128))"
      ],
      "id": "5QCdhL3vs9Ia",
      "execution_count": null,
      "outputs": [
        {
          "output_type": "stream",
          "text": [
            "True\n"
          ],
          "name": "stdout"
        }
      ]
    },
    {
      "cell_type": "markdown",
      "metadata": {
        "id": "DZhNyQVRs9Ib"
      },
      "source": [
        "12. Write a Python function that checks whether a passed string is palindrome or not. \n",
        "Note: A palindrome is a word, phrase, or sequence that reads the same backward as forward, e.g., madam or nurses run."
      ],
      "id": "DZhNyQVRs9Ib"
    },
    {
      "cell_type": "code",
      "metadata": {
        "trusted": true,
        "colab": {
          "base_uri": "https://localhost:8080/"
        },
        "id": "Bub58cNKs9Ic",
        "outputId": "71f7ea21-ac36-4c7b-bbf1-de86d6633e03"
      },
      "source": [
        "def palindrome(sample):\n",
        "    sample=sample.replace(\" \",\"\")\n",
        "    return sample==sample[::-1]\n",
        "\n",
        "print (palindrome(\"a b c d e f ghg f e dcba\"))\n",
        "\n",
        "def same_word(s):\n",
        "    new_text = \"\".join(filter(str.isalpha,s)).lower()\n",
        "    return new_text == new_text[::-1]"
      ],
      "id": "Bub58cNKs9Ic",
      "execution_count": null,
      "outputs": [
        {
          "output_type": "stream",
          "text": [
            "True\n"
          ],
          "name": "stdout"
        }
      ]
    },
    {
      "cell_type": "markdown",
      "metadata": {
        "id": "ve_nvXWau_Z1"
      },
      "source": [
        "13-Write a Python function that prints out the first n rows of Pascal's triangle."
      ],
      "id": "ve_nvXWau_Z1"
    },
    {
      "cell_type": "code",
      "metadata": {
        "colab": {
          "base_uri": "https://localhost:8080/"
        },
        "id": "oeKamkRXu8Hx",
        "outputId": "878e8fe7-6f4d-4ad0-c5d6-87377fd206ce"
      },
      "source": [
        "\n",
        "def pascal(n):\n",
        "    for k in range(1, n+1):\n",
        "        s = 1; # her satırın ilk elemanı 1 \n",
        "        for i in range(1, k+1):\n",
        "            print(s, end=\" \")    #bu satır her k daki C sayılarını sırayla yazdırır.\n",
        "            s = int(s * (k - i) / i) #her k satırının içindeki sayıları sırayla hesaplıyor.  \n",
        "        print(\"\")\n",
        "n = 5\n",
        "pascal(n)"
      ],
      "id": "oeKamkRXu8Hx",
      "execution_count": null,
      "outputs": [
        {
          "output_type": "stream",
          "text": [
            "1 \n",
            "1 1 \n",
            "1 2 1 \n",
            "1 3 3 1 \n",
            "1 4 6 4 1 \n"
          ],
          "name": "stdout"
        }
      ]
    },
    {
      "cell_type": "markdown",
      "metadata": {
        "id": "JvZggor8LdwX"
      },
      "source": [
        "14-Write a Python function to check whether a string is a pangram or not. \n",
        "Note : Pangrams are words or sentences containing every letter of the alphabet at least once.\n",
        "For example : \"The quick brown fox jumps over the lazy dog\""
      ],
      "id": "JvZggor8LdwX"
    },
    {
      "cell_type": "code",
      "metadata": {
        "colab": {
          "base_uri": "https://localhost:8080/"
        },
        "id": "24GKcFKsLiZ3",
        "outputId": "749ec315-c5d8-48f2-f9c0-a8fc047aea9f"
      },
      "source": [
        "def pangram(sentence):\n",
        "  new_text = \"\".join(filter(str.isalpha, sentence)).lower()\n",
        "  return len(set(new_text))==26\n",
        "sentence=\"Pack my box with five doen liquor jugs. (32 letters\"\n",
        "pangram (sentence)"
      ],
      "id": "24GKcFKsLiZ3",
      "execution_count": null,
      "outputs": [
        {
          "output_type": "execute_result",
          "data": {
            "text/plain": [
              "False"
            ]
          },
          "metadata": {
            "tags": []
          },
          "execution_count": 131
        }
      ]
    },
    {
      "cell_type": "markdown",
      "metadata": {
        "id": "86ZgELphVxVj"
      },
      "source": [
        "Given a list of words in the singular form, return a set of those words in the plural form if they appear more than once in the list.\n",
        "Examples\n",
        "\n",
        "pluralize([\"cow\", \"pig\", \"cow\", \"cow\"]) ➞ { \"cows\", \"pig\" }\n",
        "\n",
        "pluralize([\"table\", \"table\", \"table\"]) ➞ { \"tables\" }\n",
        "\n",
        "pluralize([\"chair\", \"pencil\", \"arm\"]) ➞ { \"chair\", \"pencil\", \"arm\" }"
      ],
      "id": "86ZgELphVxVj"
    },
    {
      "cell_type": "code",
      "metadata": {
        "colab": {
          "base_uri": "https://localhost:8080/"
        },
        "id": "-lZwVIftV1Pi",
        "outputId": "ddc5fa0c-10f7-4938-af2f-398717151f82"
      },
      "source": [
        "def function(pluralize):\n",
        "     for i in pluralize:\n",
        "      if pluralize.count(i)>1:\n",
        "        new_list.append(i+\"s\")\n",
        "      else:\n",
        "        new_list.append(i)\n",
        "     return (set(new_list))\n",
        "pluralize=[\"cow\", \"pig\", \"cow\", \"cow\"]\n",
        "function(pluralize)"
      ],
      "id": "-lZwVIftV1Pi",
      "execution_count": null,
      "outputs": [
        {
          "output_type": "execute_result",
          "data": {
            "text/plain": [
              "{'cows', 'pig'}"
            ]
          },
          "metadata": {
            "tags": []
          },
          "execution_count": 154
        }
      ]
    },
    {
      "cell_type": "markdown",
      "metadata": {
        "id": "IwjRoHXvcptX"
      },
      "source": [
        "15. Write a Python program that accepts a hyphen-separated sequence of words as input and prints the words in a hyphen-separated sequence after sorting them alphabetically. \n",
        "\n",
        "Sample Items : green-red-yellow-black-white\n",
        "\n",
        "Expected Result : black-green-red-white-yellow"
      ],
      "id": "IwjRoHXvcptX"
    },
    {
      "cell_type": "code",
      "metadata": {
        "colab": {
          "base_uri": "https://localhost:8080/"
        },
        "id": "IZgMZEflc-PU",
        "outputId": "c6999747-3bd0-4f49-b26b-ef54d7db1294"
      },
      "source": [
        "sample=\"green-red-yellow-black-white\"\n",
        "\n",
        "items=[n for n in sample.split('-')]\n",
        "items.sort()\n",
        "print('-'.join(items))"
      ],
      "id": "IZgMZEflc-PU",
      "execution_count": null,
      "outputs": [
        {
          "output_type": "stream",
          "text": [
            "black-green-red-white-yellow\n"
          ],
          "name": "stdout"
        }
      ]
    },
    {
      "cell_type": "markdown",
      "metadata": {
        "id": "_uTj7qPMl5im"
      },
      "source": [
        "16.Write a Python function to create and print a list where the values are square of numbers between 1 and 30 (both included). "
      ],
      "id": "_uTj7qPMl5im"
    },
    {
      "cell_type": "code",
      "metadata": {
        "colab": {
          "base_uri": "https://localhost:8080/"
        },
        "id": "SUXhiyBMmNSm",
        "outputId": "f9df598d-4815-4300-c59e-9d920f8c8363"
      },
      "source": [
        "def square(n):\n",
        "  listem = list(range(1, n + 1))\n",
        "  return list(map(lambda x:x**2, listem))\n",
        "\n",
        "square(10)"
      ],
      "id": "SUXhiyBMmNSm",
      "execution_count": 16,
      "outputs": [
        {
          "output_type": "execute_result",
          "data": {
            "text/plain": [
              "[1, 4, 9, 16, 25, 36, 49, 64, 81, 100]"
            ]
          },
          "metadata": {
            "tags": []
          },
          "execution_count": 16
        }
      ]
    },
    {
      "cell_type": "code",
      "metadata": {
        "colab": {
          "base_uri": "https://localhost:8080/"
        },
        "id": "hxAjJLNcZt7M",
        "outputId": "16c4a6e6-c815-4dde-90bf-7abe8a2a5196"
      },
      "source": [
        "def square (n):\n",
        "  return list(map(lambda x : x ** 2, ([*range(1, n + 1)])))\n",
        "square(10)"
      ],
      "id": "hxAjJLNcZt7M",
      "execution_count": 13,
      "outputs": [
        {
          "output_type": "execute_result",
          "data": {
            "text/plain": [
              "[1, 4, 9, 16, 25, 36, 49, 64, 81, 100]"
            ]
          },
          "metadata": {
            "tags": []
          },
          "execution_count": 13
        }
      ]
    },
    {
      "cell_type": "markdown",
      "metadata": {
        "id": "j_k3ysEQoiFr"
      },
      "source": [
        "17-Write a Python program to make a chain of function decorators (bold, italic, underline etc.) in Python."
      ],
      "id": "j_k3ysEQoiFr"
    },
    {
      "cell_type": "code",
      "metadata": {
        "colab": {
          "base_uri": "https://localhost:8080/"
        },
        "id": "6IP4YCVloqbz",
        "outputId": "739df378-77e3-44d8-ad98-fdb7ce3fb411"
      },
      "source": [
        "mycode = 'print(\"hello world\")'\n",
        "\n",
        "def mutiply(x,y):\n",
        "    return x*y\n",
        "\n",
        "print('Multiply of 2 and 3 is: ',mutiply(2,3))\n",
        "exec(mycode)"
      ],
      "id": "6IP4YCVloqbz",
      "execution_count": null,
      "outputs": [
        {
          "output_type": "stream",
          "text": [
            "Multiply of 2 and 3 is:  6\n",
            "hello world\n"
          ],
          "name": "stdout"
        }
      ]
    },
    {
      "cell_type": "markdown",
      "metadata": {
        "id": "K5HgeWYw--uS"
      },
      "source": [
        "19-Write a Python program to access a function inside a function.\n",
        "\n"
      ],
      "id": "K5HgeWYw--uS"
    },
    {
      "cell_type": "code",
      "metadata": {
        "colab": {
          "base_uri": "https://localhost:8080/"
        },
        "id": "ppKgZehP_FnX",
        "outputId": "67b46ca7-7657-4401-898f-ba84344cf839"
      },
      "source": [
        "def test(a):\n",
        "  return lambda x:x**a \n",
        "z=test(2)\n",
        "print (z(6))"
      ],
      "id": "ppKgZehP_FnX",
      "execution_count": null,
      "outputs": [
        {
          "output_type": "stream",
          "text": [
            "36\n"
          ],
          "name": "stdout"
        }
      ]
    },
    {
      "cell_type": "code",
      "metadata": {
        "colab": {
          "base_uri": "https://localhost:8080/"
        },
        "id": "1VMH7rqYYjYr",
        "outputId": "cfd954f8-0c8d-42f7-fc22-550d7a5dbe96"
      },
      "source": [
        "def func(n): \n",
        "  return lambda x : x ** n\n",
        "\n",
        "kare = func(2)\n",
        "print(kare(6))"
      ],
      "id": "1VMH7rqYYjYr",
      "execution_count": 5,
      "outputs": [
        {
          "output_type": "stream",
          "text": [
            "36\n"
          ],
          "name": "stdout"
        }
      ]
    },
    {
      "cell_type": "markdown",
      "metadata": {
        "id": "Z-MqAixtC57s"
      },
      "source": [
        "20-Write a Python program to detect the number of local variables declared in a function"
      ],
      "id": "Z-MqAixtC57s"
    },
    {
      "cell_type": "code",
      "metadata": {
        "colab": {
          "base_uri": "https://localhost:8080/"
        },
        "id": "34nKtc9kDAwQ",
        "outputId": "b24f3a87-b41a-48ab-e3a3-a024229f95f8"
      },
      "source": [
        "b=\"isa\"\n",
        "c=\"musa\"\n",
        "def abc():\n",
        "    x = 1\n",
        "    y = 2\n",
        "    str1= \"w3resource\"\n",
        "    z=2\n",
        "    t=\"5\"\n",
        "    print(\"Python Exercises\")\n",
        "\n",
        "print(abc.__code__.co_nlocals) # abc() fonksiyonunun içindeki local değişken sayısını verir."
      ],
      "id": "34nKtc9kDAwQ",
      "execution_count": null,
      "outputs": [
        {
          "output_type": "stream",
          "text": [
            "5\n"
          ],
          "name": "stdout"
        }
      ]
    }
  ]
}