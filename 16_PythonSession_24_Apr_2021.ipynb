{
  "nbformat": 4,
  "nbformat_minor": 0,
  "metadata": {
    "kernelspec": {
      "display_name": "Python 3",
      "language": "python",
      "name": "python3"
    },
    "language_info": {
      "codemirror_mode": {
        "name": "ipython",
        "version": 3
      },
      "file_extension": ".py",
      "mimetype": "text/x-python",
      "name": "python",
      "nbconvert_exporter": "python",
      "pygments_lexer": "ipython3",
      "version": "3.7.3"
    },
    "colab": {
      "name": "16_PythonSession-24-Apr-2021.ipynb",
      "provenance": [],
      "include_colab_link": true
    }
  },
  "cells": [
    {
      "cell_type": "markdown",
      "metadata": {
        "id": "view-in-github",
        "colab_type": "text"
      },
      "source": [
        "<a href=\"https://colab.research.google.com/github/fatihtepe/learn_python/blob/main/16_PythonSession_24_Apr_2021.ipynb\" target=\"_parent\"><img src=\"https://colab.research.google.com/assets/colab-badge.svg\" alt=\"Open In Colab\"/></a>"
      ]
    },
    {
      "cell_type": "markdown",
      "metadata": {
        "id": "fOSORwAYjhT3"
      },
      "source": [
        "<img src=\"https://docs.google.com/uc?id=14xeXxFrVRjvOoUYWn_GuyE-v84wVzrqr\" class=\"img-fluid\" alt=\"CLRWY\" width=\"400\" height=\"200\">"
      ]
    },
    {
      "cell_type": "markdown",
      "metadata": {
        "id": "8KRUTE7mjhT4"
      },
      "source": [
        "<h1><p style=\"text-align: center; color:darkblue\">Python In-Class, <br>24 April 2021</p><h1>"
      ]
    },
    {
      "cell_type": "code",
      "metadata": {
        "colab": {
          "base_uri": "https://localhost:8080/"
        },
        "id": "IxXuMTS4jhT5",
        "outputId": "b23f6833-fabf-48a4-9f1c-e3b7acbd72b9"
      },
      "source": [
        "text = ['one','two','three','four','five']\n",
        "numbers = [1, 2, 3, 4, 5]\n",
        "city = [\"Tokyo\", \"Kiev\", \"Mekke\", \"İstanbul\", \"Washington\"]\n",
        "\n",
        "print(zip(text, numbers))\n",
        "\n",
        "print(* zip(text, numbers))\n",
        "\n",
        "print(list(zip(text, numbers, city)))\n",
        "\n",
        "print((zip(text, numbers, city)))\n",
        "\n",
        "print(*zip(text, numbers, city))"
      ],
      "execution_count": 8,
      "outputs": [
        {
          "output_type": "stream",
          "text": [
            "<zip object at 0x7f3187e54f00>\n",
            "('one', 1) ('two', 2) ('three', 3) ('four', 4) ('five', 5)\n",
            "[('one', 1, 'Tokyo'), ('two', 2, 'Kiev'), ('three', 3, 'Mekke'), ('four', 4, 'İstanbul'), ('five', 5, 'Washington')]\n",
            "<zip object at 0x7f3187e54f00>\n",
            "('one', 1, 'Tokyo') ('two', 2, 'Kiev') ('three', 3, 'Mekke') ('four', 4, 'İstanbul') ('five', 5, 'Washington')\n"
          ],
          "name": "stdout"
        }
      ]
    },
    {
      "cell_type": "code",
      "metadata": {
        "id": "bysCnAA0jhT5",
        "outputId": "c31c2c00-7c84-483c-d031-16de0c22208f"
      },
      "source": [
        "list(zip(text, numbers))"
      ],
      "execution_count": null,
      "outputs": [
        {
          "output_type": "execute_result",
          "data": {
            "text/plain": [
              "[('one', 1), ('two', 2), ('three', 3), ('four', 4), ('five', 5)]"
            ]
          },
          "metadata": {
            "tags": []
          },
          "execution_count": 4
        }
      ]
    },
    {
      "cell_type": "code",
      "metadata": {
        "id": "q_vNEXq0jhT5",
        "outputId": "192ea151-e45a-4342-9fa1-6b7acf7f8f4d"
      },
      "source": [
        "print(* zip(text, numbers))"
      ],
      "execution_count": null,
      "outputs": [
        {
          "output_type": "stream",
          "text": [
            "('one', 1) ('two', 2) ('three', 3) ('four', 4) ('five', 5)\n"
          ],
          "name": "stdout"
        }
      ]
    },
    {
      "cell_type": "code",
      "metadata": {
        "id": "8aYeCj5djhT5",
        "outputId": "63b8248b-aa02-438b-93dd-5186c7202f81"
      },
      "source": [
        "print(* zip(text, numbers, city))"
      ],
      "execution_count": null,
      "outputs": [
        {
          "output_type": "stream",
          "text": [
            "('one', 1, 'Tokyo') ('two', 2, 'Kiev') ('three', 3, 'Mekke') ('four', 4, 'İstanbul') ('five', 5, 'Washington')\n"
          ],
          "name": "stdout"
        }
      ]
    },
    {
      "cell_type": "code",
      "metadata": {
        "colab": {
          "base_uri": "https://localhost:8080/"
        },
        "id": "18tCbNCyFRh2",
        "outputId": "f3ec2c00-419d-4b8c-a7b7-1b207fb08301"
      },
      "source": [
        "print(*range(1, 5))"
      ],
      "execution_count": 11,
      "outputs": [
        {
          "output_type": "stream",
          "text": [
            "1 2 3 4\n"
          ],
          "name": "stdout"
        }
      ]
    },
    {
      "cell_type": "code",
      "metadata": {
        "id": "H78ffuWijhT6",
        "outputId": "8ccaea97-e338-4735-dc53-1f3469fc8427"
      },
      "source": [
        "evens = []\n",
        "odd = []\n",
        "\n",
        "for n in range(10) :\n",
        "    if n%2 == 0 :\n",
        "        evens.append(n)\n",
        "    else :\n",
        "        odd.append(n)\n",
        "print(evens)\n",
        "print(odd)"
      ],
      "execution_count": null,
      "outputs": [
        {
          "output_type": "stream",
          "text": [
            "[0, 2, 4, 6, 8]\n",
            "[1, 3, 5, 7, 9]\n"
          ],
          "name": "stdout"
        }
      ]
    },
    {
      "cell_type": "code",
      "metadata": {
        "id": "W29vuCCYjhT6"
      },
      "source": [
        "boş = []"
      ],
      "execution_count": null,
      "outputs": []
    },
    {
      "cell_type": "code",
      "metadata": {
        "id": "SUdsYtf7jhT6",
        "outputId": "7631c9d3-bfb9-4b21-8bb1-26b8d493a5fd"
      },
      "source": [
        "boş.append(1)\n",
        "boş"
      ],
      "execution_count": null,
      "outputs": [
        {
          "output_type": "execute_result",
          "data": {
            "text/plain": [
              "[1]"
            ]
          },
          "metadata": {
            "tags": []
          },
          "execution_count": 11
        }
      ]
    },
    {
      "cell_type": "code",
      "metadata": {
        "id": "fXDhScFtjhT6",
        "outputId": "56ada9dd-a286-441f-a4b0-eae5f118c7df"
      },
      "source": [
        "boş.append(2)\n",
        "boş"
      ],
      "execution_count": null,
      "outputs": [
        {
          "output_type": "execute_result",
          "data": {
            "text/plain": [
              "[1, 2]"
            ]
          },
          "metadata": {
            "tags": []
          },
          "execution_count": 12
        }
      ]
    },
    {
      "cell_type": "code",
      "metadata": {
        "id": "-JeebF3TjhT6",
        "outputId": "a8838fd7-684d-4e4d-f385-b8e246dd47f9"
      },
      "source": [
        "boş.append(3)\n",
        "boş"
      ],
      "execution_count": null,
      "outputs": [
        {
          "output_type": "execute_result",
          "data": {
            "text/plain": [
              "[1, 2, 3]"
            ]
          },
          "metadata": {
            "tags": []
          },
          "execution_count": 13
        }
      ]
    },
    {
      "cell_type": "code",
      "metadata": {
        "id": "Q1ygQcTjjhT6"
      },
      "source": [
        "numbers = [11, 36, 33, 66, 89, 21, 32, 16, 10]"
      ],
      "execution_count": null,
      "outputs": []
    },
    {
      "cell_type": "code",
      "metadata": {
        "id": "v3QrSDvyjhT6",
        "outputId": "badb7ac1-e091-44ed-98b6-9a0e26badd3d"
      },
      "source": [
        "evens = 0\n",
        "odds = 0\n",
        "\n",
        "for i in numbers :\n",
        "    if not i%2 :\n",
        "        evens += 1\n",
        "    else:\n",
        "        odds += 1\n",
        "print(\"The count of even numbers : \", evens)\n",
        "print(\"The count of odd numbers : \", odds)"
      ],
      "execution_count": null,
      "outputs": [
        {
          "output_type": "stream",
          "text": [
            "The count of even numbers :  5\n",
            "The count of odd numbers :  4\n"
          ],
          "name": "stdout"
        }
      ]
    },
    {
      "cell_type": "code",
      "metadata": {
        "id": "8q2miT9SjhT7",
        "outputId": "4751afc0-0e86-4d84-beb7-6ed32b08e979"
      },
      "source": [
        "if 1:\n",
        "    print(\"çalışır\")"
      ],
      "execution_count": null,
      "outputs": [
        {
          "output_type": "stream",
          "text": [
            "çalışır\n"
          ],
          "name": "stdout"
        }
      ]
    },
    {
      "cell_type": "code",
      "metadata": {
        "colab": {
          "base_uri": "https://localhost:8080/"
        },
        "id": "Gtrs0HogjhT7",
        "outputId": "598ef471-9165-4b0d-e3f4-3ca6936f32b3"
      },
      "source": [
        "if 0:\n",
        "    print(\"beni göremezsin\")\n",
        "else:\n",
        "  print('it is falsy')"
      ],
      "execution_count": 19,
      "outputs": [
        {
          "output_type": "stream",
          "text": [
            "it is falsy\n"
          ],
          "name": "stdout"
        }
      ]
    },
    {
      "cell_type": "code",
      "metadata": {
        "id": "tmxDxQZpjhT7",
        "outputId": "a92a5b38-8e8b-4194-b938-ed75e949e6dd"
      },
      "source": [
        "0%2"
      ],
      "execution_count": null,
      "outputs": [
        {
          "output_type": "execute_result",
          "data": {
            "text/plain": [
              "0"
            ]
          },
          "metadata": {
            "tags": []
          },
          "execution_count": 19
        }
      ]
    },
    {
      "cell_type": "code",
      "metadata": {
        "id": "n3I8uVUTjhT7",
        "outputId": "a8acb335-cb52-4a98-c722-d84f13e53614"
      },
      "source": [
        "11%2"
      ],
      "execution_count": null,
      "outputs": [
        {
          "output_type": "execute_result",
          "data": {
            "text/plain": [
              "1"
            ]
          },
          "metadata": {
            "tags": []
          },
          "execution_count": 21
        }
      ]
    },
    {
      "cell_type": "code",
      "metadata": {
        "id": "d8C3clamjhT7",
        "outputId": "e224bf58-bead-44e2-a3c6-b5cc6b986e0b"
      },
      "source": [
        "not 1"
      ],
      "execution_count": null,
      "outputs": [
        {
          "output_type": "execute_result",
          "data": {
            "text/plain": [
              "False"
            ]
          },
          "metadata": {
            "tags": []
          },
          "execution_count": 22
        }
      ]
    },
    {
      "cell_type": "code",
      "metadata": {
        "id": "oWnirsO6jhT7",
        "outputId": "4bd9e280-24eb-4103-aff0-2772d85c76d7"
      },
      "source": [
        "not 0"
      ],
      "execution_count": null,
      "outputs": [
        {
          "output_type": "execute_result",
          "data": {
            "text/plain": [
              "True"
            ]
          },
          "metadata": {
            "tags": []
          },
          "execution_count": 23
        }
      ]
    },
    {
      "cell_type": "code",
      "metadata": {
        "colab": {
          "base_uri": "https://localhost:8080/"
        },
        "id": "KjNjgmNkjhT7",
        "outputId": "6da864a4-a52a-4a3f-95a8-8213657e1487"
      },
      "source": [
        "for i in range(1,10) :\n",
        "    print(str(i) * i)"
      ],
      "execution_count": 23,
      "outputs": [
        {
          "output_type": "stream",
          "text": [
            "1\n",
            "22\n",
            "333\n",
            "4444\n",
            "55555\n",
            "666666\n",
            "7777777\n",
            "88888888\n",
            "999999999\n"
          ],
          "name": "stdout"
        }
      ]
    },
    {
      "cell_type": "code",
      "metadata": {
        "colab": {
          "base_uri": "https://localhost:8080/"
        },
        "id": "YSMJ2MqnMbVF",
        "outputId": "4d68f23d-f6b1-410a-9226-cb79abac4172"
      },
      "source": [
        "print('fatih' * 2)"
      ],
      "execution_count": 24,
      "outputs": [
        {
          "output_type": "stream",
          "text": [
            "fatihfatih\n"
          ],
          "name": "stdout"
        }
      ]
    },
    {
      "cell_type": "code",
      "metadata": {
        "id": "83tyhefRjhT7",
        "outputId": "e3abcb5b-8017-4d4c-f7f9-a8453c82f2bf"
      },
      "source": [
        "\"2\"*2"
      ],
      "execution_count": null,
      "outputs": [
        {
          "output_type": "execute_result",
          "data": {
            "text/plain": [
              "'22'"
            ]
          },
          "metadata": {
            "tags": []
          },
          "execution_count": 24
        }
      ]
    },
    {
      "cell_type": "code",
      "metadata": {
        "id": "I_Hagx9KjhT7",
        "outputId": "c91bf209-9027-4f52-cc00-4dc1b5875ceb"
      },
      "source": [
        "\"1\"*3"
      ],
      "execution_count": null,
      "outputs": [
        {
          "output_type": "execute_result",
          "data": {
            "text/plain": [
              "'111'"
            ]
          },
          "metadata": {
            "tags": []
          },
          "execution_count": 25
        }
      ]
    },
    {
      "cell_type": "code",
      "metadata": {
        "colab": {
          "base_uri": "https://localhost:8080/"
        },
        "id": "6Qd8F6htjhT8",
        "outputId": "9396c83b-5a07-4621-df2a-00046020bca4"
      },
      "source": [
        "toplam = 0\n",
        "\n",
        "for i in range(1, 75) :\n",
        "    toplam = toplam + i\n",
        "print(toplam)"
      ],
      "execution_count": 25,
      "outputs": [
        {
          "output_type": "stream",
          "text": [
            "2775\n"
          ],
          "name": "stdout"
        }
      ]
    },
    {
      "cell_type": "code",
      "metadata": {
        "id": "XiB6ANCBjhT8"
      },
      "source": [
        "names = [\"susan\", \"tom\", \"edward\"] \n",
        "mood = [\"happy\", \"sad\"]"
      ],
      "execution_count": null,
      "outputs": []
    },
    {
      "cell_type": "code",
      "metadata": {
        "id": "0ott18ICjhT8",
        "outputId": "68e46f4a-cf6d-43f9-e3d2-10d045453213"
      },
      "source": [
        "for i in names :\n",
        "    for ii in mood :\n",
        "        print(i + \" is \" + ii)"
      ],
      "execution_count": null,
      "outputs": [
        {
          "output_type": "stream",
          "text": [
            "susan is happy\n",
            "susan is sad\n",
            "tom is happy\n",
            "tom is sad\n",
            "edward is happy\n",
            "edward is sad\n"
          ],
          "name": "stdout"
        }
      ]
    },
    {
      "cell_type": "code",
      "metadata": {
        "id": "qHJ3spI9jhT8",
        "outputId": "92690b88-9a24-4325-c56b-81cab0a62775"
      },
      "source": [
        "for i in names :\n",
        "    for ii in mood :\n",
        "        print(i,\"is\", ii)"
      ],
      "execution_count": null,
      "outputs": [
        {
          "output_type": "stream",
          "text": [
            "susan is happy\n",
            "susan is sad\n",
            "tom is happy\n",
            "tom is sad\n",
            "edward is happy\n",
            "edward is sad\n"
          ],
          "name": "stdout"
        }
      ]
    },
    {
      "cell_type": "code",
      "metadata": {
        "id": "CvJnj8t7jhT8"
      },
      "source": [
        "my_list = [1, 2, 3, 4, 5, 6]"
      ],
      "execution_count": null,
      "outputs": []
    },
    {
      "cell_type": "code",
      "metadata": {
        "id": "vGLV0lV7jhT8"
      },
      "source": [
        "new_list = []"
      ],
      "execution_count": null,
      "outputs": []
    },
    {
      "cell_type": "code",
      "metadata": {
        "id": "3g5C9WLxjhT8",
        "outputId": "045c2063-985e-443a-c05c-5269b72c0b9a"
      },
      "source": [
        "for i in my_list :\n",
        "    if i % 2 :\n",
        "        new_list.append(i ** 2)\n",
        "new_list"
      ],
      "execution_count": null,
      "outputs": [
        {
          "output_type": "execute_result",
          "data": {
            "text/plain": [
              "[1, 9, 25]"
            ]
          },
          "metadata": {
            "tags": []
          },
          "execution_count": 34
        }
      ]
    },
    {
      "cell_type": "code",
      "metadata": {
        "id": "ZXaG3j9DjhT8"
      },
      "source": [
        "boş = []"
      ],
      "execution_count": null,
      "outputs": []
    },
    {
      "cell_type": "code",
      "metadata": {
        "id": "imec0vwQjhT8",
        "outputId": "e4cdfc82-2eae-4857-a455-84dcfe5fad8c"
      },
      "source": [
        "boş.append(my_list[0] ** 2)\n",
        "boş"
      ],
      "execution_count": null,
      "outputs": [
        {
          "output_type": "execute_result",
          "data": {
            "text/plain": [
              "[1]"
            ]
          },
          "metadata": {
            "tags": []
          },
          "execution_count": 36
        }
      ]
    },
    {
      "cell_type": "code",
      "metadata": {
        "id": "AAxgS6Q9jhT8",
        "outputId": "8a0f5841-7682-48f3-e0f2-2a6fbb4fb678"
      },
      "source": [
        "boş.append(my_list[2] ** 2)\n",
        "boş"
      ],
      "execution_count": null,
      "outputs": [
        {
          "output_type": "execute_result",
          "data": {
            "text/plain": [
              "[1, 9]"
            ]
          },
          "metadata": {
            "tags": []
          },
          "execution_count": 37
        }
      ]
    },
    {
      "cell_type": "code",
      "metadata": {
        "id": "8XtflxinjhT9",
        "outputId": "d4d91c30-30e5-4390-c293-3d8f985272e1"
      },
      "source": [
        "boş.append(my_list[4] ** 2)\n",
        "boş"
      ],
      "execution_count": null,
      "outputs": [
        {
          "output_type": "execute_result",
          "data": {
            "text/plain": [
              "[1, 9, 25]"
            ]
          },
          "metadata": {
            "tags": []
          },
          "execution_count": 38
        }
      ]
    },
    {
      "cell_type": "markdown",
      "metadata": {
        "id": "9IwRRgnijhT9"
      },
      "source": [
        "## list comprehension'ların temel yapısı :\n",
        "\n",
        "```python\n",
        "[expression for item in iterable]\n",
        "\n",
        "\n",
        "for item in iterable :\n",
        "    expression\n",
        "```"
      ]
    },
    {
      "cell_type": "code",
      "metadata": {
        "id": "pEzFM1b-jhT9",
        "outputId": "b8df28ea-5e2a-4a10-a26e-10bdea161940"
      },
      "source": [
        "listem = []\n",
        "for i in range(5):\n",
        "    listem.append(i)\n",
        "listem"
      ],
      "execution_count": null,
      "outputs": [
        {
          "output_type": "execute_result",
          "data": {
            "text/plain": [
              "[0, 1, 2, 3, 4]"
            ]
          },
          "metadata": {
            "tags": []
          },
          "execution_count": 39
        }
      ]
    },
    {
      "cell_type": "code",
      "metadata": {
        "id": "LH6GDJ7_jhT9",
        "outputId": "75798c87-e8a0-4ce0-87a3-fa3469b95f49"
      },
      "source": [
        "[i for i in range(5)]"
      ],
      "execution_count": null,
      "outputs": [
        {
          "output_type": "execute_result",
          "data": {
            "text/plain": [
              "[0, 1, 2, 3, 4]"
            ]
          },
          "metadata": {
            "tags": []
          },
          "execution_count": 40
        }
      ]
    },
    {
      "cell_type": "code",
      "metadata": {
        "id": "e_xSrZ8_jhT9",
        "outputId": "e5a116f6-d22f-4bba-afc6-f51334df3671"
      },
      "source": [
        "listem = []\n",
        "for i in range(5):\n",
        "    listem.append(i**2)\n",
        "listem"
      ],
      "execution_count": null,
      "outputs": [
        {
          "output_type": "execute_result",
          "data": {
            "text/plain": [
              "[0, 1, 4, 9, 16]"
            ]
          },
          "metadata": {
            "tags": []
          },
          "execution_count": 41
        }
      ]
    },
    {
      "cell_type": "code",
      "metadata": {
        "id": "_2DKu5ZxjhT9",
        "outputId": "12ec13fc-4d08-452f-b9e4-bcd29327caa7"
      },
      "source": [
        "[i**2 for i in range(5)]"
      ],
      "execution_count": null,
      "outputs": [
        {
          "output_type": "execute_result",
          "data": {
            "text/plain": [
              "[0, 1, 4, 9, 16]"
            ]
          },
          "metadata": {
            "tags": []
          },
          "execution_count": 42
        }
      ]
    },
    {
      "cell_type": "code",
      "metadata": {
        "id": "7qrsM_tXjhT9",
        "outputId": "609cc707-279f-470c-a461-03a21cefe515"
      },
      "source": [
        "condition = True\n",
        "\n",
        "if condition :\n",
        "    a = 1\n",
        "else :\n",
        "    a = 0\n",
        "    \n",
        "print(a)"
      ],
      "execution_count": null,
      "outputs": [
        {
          "output_type": "stream",
          "text": [
            "1\n"
          ],
          "name": "stdout"
        }
      ]
    },
    {
      "cell_type": "code",
      "metadata": {
        "id": "9_FodctujhT9",
        "outputId": "ce5e4b22-4bd7-4ec2-e3cf-4f6e380719cd"
      },
      "source": [
        "a=1 if 2 < 4 else 0\n",
        "print(a)"
      ],
      "execution_count": null,
      "outputs": [
        {
          "output_type": "stream",
          "text": [
            "1\n"
          ],
          "name": "stdout"
        }
      ]
    },
    {
      "cell_type": "code",
      "metadata": {
        "id": "uYTQDtLwjhT9",
        "outputId": "eeec941f-13d9-4291-fe5a-d31a7505f96b"
      },
      "source": [
        "print(1 if False else 0)"
      ],
      "execution_count": null,
      "outputs": [
        {
          "output_type": "stream",
          "text": [
            "0\n"
          ],
          "name": "stdout"
        }
      ]
    },
    {
      "cell_type": "markdown",
      "metadata": {
        "id": "cBX4HuNSjhT9"
      },
      "source": [
        "## ternary `if ` condition yapısı\n",
        "\n",
        "```python\n",
        "execute-body1 if condition else execute-body2\n",
        "```"
      ]
    },
    {
      "cell_type": "code",
      "metadata": {
        "id": "ikSWd2LujhT-"
      },
      "source": [
        "my_list = [1, 2, 3, 4, 5, 6]"
      ],
      "execution_count": null,
      "outputs": []
    },
    {
      "cell_type": "code",
      "metadata": {
        "id": "k9-DoXOtjhT-",
        "outputId": "244d99e2-87cb-40e9-8ec1-23362da2b4f5"
      },
      "source": [
        "[i ** 2 for i in my_list if i%2]"
      ],
      "execution_count": null,
      "outputs": [
        {
          "output_type": "execute_result",
          "data": {
            "text/plain": [
              "[1, 9, 25]"
            ]
          },
          "metadata": {
            "tags": []
          },
          "execution_count": 50
        }
      ]
    },
    {
      "cell_type": "code",
      "metadata": {
        "id": "QqGzRT_4jhT-",
        "outputId": "ac7c761b-9a02-4a1a-ed13-ab713d64164f"
      },
      "source": [
        "for i in my_list :\n",
        "    if i % 2 :\n",
        "        new_list.append(i ** 2)\n",
        "new_list"
      ],
      "execution_count": null,
      "outputs": [
        {
          "output_type": "execute_result",
          "data": {
            "text/plain": [
              "[1, 9, 25, 1, 9, 25]"
            ]
          },
          "metadata": {
            "tags": []
          },
          "execution_count": 52
        }
      ]
    },
    {
      "cell_type": "code",
      "metadata": {
        "id": "ZCI3O_0zjhT-",
        "outputId": "63154242-3d03-4b2b-aca9-53a27927481f"
      },
      "source": [
        "[i ** 2 for i in my_list if not i%2]"
      ],
      "execution_count": null,
      "outputs": [
        {
          "output_type": "execute_result",
          "data": {
            "text/plain": [
              "[4, 16, 36]"
            ]
          },
          "metadata": {
            "tags": []
          },
          "execution_count": 51
        }
      ]
    },
    {
      "cell_type": "code",
      "metadata": {
        "id": "iWAHa-BHjhT-",
        "outputId": "dd644157-fb09-4482-c72b-7a9d51dab84d"
      },
      "source": [
        "a = [i ** 2 for i in my_list if not i%2]\n",
        "a"
      ],
      "execution_count": null,
      "outputs": [
        {
          "output_type": "execute_result",
          "data": {
            "text/plain": [
              "[4, 16, 36]"
            ]
          },
          "metadata": {
            "tags": []
          },
          "execution_count": 53
        }
      ]
    },
    {
      "cell_type": "code",
      "metadata": {
        "id": "UTuv_nAZjhT-"
      },
      "source": [
        "a = (i**2 for i in my_list)"
      ],
      "execution_count": null,
      "outputs": []
    },
    {
      "cell_type": "code",
      "metadata": {
        "id": "FuMrMZLHjhT-",
        "outputId": "07b4ec97-7f69-4755-9d1d-60f498770650"
      },
      "source": [
        "a"
      ],
      "execution_count": null,
      "outputs": [
        {
          "output_type": "execute_result",
          "data": {
            "text/plain": [
              "<generator object <genexpr> at 0x000001C88216A048>"
            ]
          },
          "metadata": {
            "tags": []
          },
          "execution_count": 56
        }
      ]
    },
    {
      "cell_type": "code",
      "metadata": {
        "id": "K_3Gi6RIjhT-",
        "outputId": "5ace5096-83fd-49ea-eb65-66d5f5b7fc6a"
      },
      "source": [
        "print(*a)"
      ],
      "execution_count": null,
      "outputs": [
        {
          "output_type": "stream",
          "text": [
            "1 4 9 16 25 36\n"
          ],
          "name": "stdout"
        }
      ]
    },
    {
      "cell_type": "code",
      "metadata": {
        "id": "X0Mp9IfujhT-",
        "outputId": "65b6f388-aae9-4195-d971-d5390b7035a6"
      },
      "source": [
        "for i in a:\n",
        "    print(i)"
      ],
      "execution_count": null,
      "outputs": [
        {
          "output_type": "stream",
          "text": [
            "1\n",
            "4\n",
            "9\n",
            "16\n",
            "25\n",
            "36\n"
          ],
          "name": "stdout"
        }
      ]
    },
    {
      "cell_type": "code",
      "metadata": {
        "id": "wKwiSzvVjhT-",
        "outputId": "7a951c8f-31dc-4c57-c319-100315c633fc"
      },
      "source": [
        "a = (i**2 for i in my_list)\n",
        "\n",
        "print(next(a))"
      ],
      "execution_count": null,
      "outputs": [
        {
          "output_type": "stream",
          "text": [
            "1\n"
          ],
          "name": "stdout"
        }
      ]
    },
    {
      "cell_type": "code",
      "metadata": {
        "id": "fl2ijMcejhT-",
        "outputId": "c978b9b4-0656-41e7-ede6-b882cdfeeaae"
      },
      "source": [
        "print(next(a))"
      ],
      "execution_count": null,
      "outputs": [
        {
          "output_type": "stream",
          "text": [
            "4\n"
          ],
          "name": "stdout"
        }
      ]
    },
    {
      "cell_type": "code",
      "metadata": {
        "id": "0wawZWypjhT_",
        "outputId": "0afd8165-045a-4d4d-c5eb-79b4d8930bf8"
      },
      "source": [
        "print(next(a))"
      ],
      "execution_count": null,
      "outputs": [
        {
          "output_type": "stream",
          "text": [
            "9\n"
          ],
          "name": "stdout"
        }
      ]
    },
    {
      "cell_type": "code",
      "metadata": {
        "id": "j3vvxcb8jhT_",
        "outputId": "a84f108e-dae6-4317-83ba-f1c31b32209e"
      },
      "source": [
        "print(next(a))"
      ],
      "execution_count": null,
      "outputs": [
        {
          "output_type": "stream",
          "text": [
            "16\n"
          ],
          "name": "stdout"
        }
      ]
    },
    {
      "cell_type": "code",
      "metadata": {
        "id": "9R4Tr1a1jhT_",
        "outputId": "5efc41a7-03c4-4615-d75e-4d6a47cbadec"
      },
      "source": [
        "print(next(a))"
      ],
      "execution_count": null,
      "outputs": [
        {
          "output_type": "stream",
          "text": [
            "25\n"
          ],
          "name": "stdout"
        }
      ]
    },
    {
      "cell_type": "code",
      "metadata": {
        "id": "7Z_EOJP6jhT_",
        "outputId": "ea2a35f2-e036-49c7-d88d-91bf806fbecd"
      },
      "source": [
        "print(next(a))"
      ],
      "execution_count": null,
      "outputs": [
        {
          "output_type": "stream",
          "text": [
            "36\n"
          ],
          "name": "stdout"
        }
      ]
    },
    {
      "cell_type": "code",
      "metadata": {
        "id": "cMexKimTjhT_",
        "outputId": "24275736-4bb9-4dd4-e277-5f34aea7853f"
      },
      "source": [
        "print(next(a))"
      ],
      "execution_count": null,
      "outputs": [
        {
          "output_type": "error",
          "ename": "StopIteration",
          "evalue": "",
          "traceback": [
            "\u001b[1;31m---------------------------------------------------------------------------\u001b[0m",
            "\u001b[1;31mStopIteration\u001b[0m                             Traceback (most recent call last)",
            "\u001b[1;32m<ipython-input-69-94b12d3903f7>\u001b[0m in \u001b[0;36m<module>\u001b[1;34m\u001b[0m\n\u001b[1;32m----> 1\u001b[1;33m \u001b[0mprint\u001b[0m\u001b[1;33m(\u001b[0m\u001b[0mnext\u001b[0m\u001b[1;33m(\u001b[0m\u001b[0ma\u001b[0m\u001b[1;33m)\u001b[0m\u001b[1;33m)\u001b[0m\u001b[1;33m\u001b[0m\u001b[1;33m\u001b[0m\u001b[0m\n\u001b[0m",
            "\u001b[1;31mStopIteration\u001b[0m: "
          ]
        }
      ]
    },
    {
      "cell_type": "code",
      "metadata": {
        "id": "lTbuZ4rsjhT_",
        "outputId": "89c94605-c4fa-45a2-cc6a-2820abf46812"
      },
      "source": [
        "print(*range(5))"
      ],
      "execution_count": null,
      "outputs": [
        {
          "output_type": "stream",
          "text": [
            "0 1 2 3 4\n"
          ],
          "name": "stdout"
        }
      ]
    },
    {
      "cell_type": "code",
      "metadata": {
        "id": "3LUVbTigjhT_"
      },
      "source": [
        "benim()"
      ],
      "execution_count": null,
      "outputs": []
    }
  ]
}