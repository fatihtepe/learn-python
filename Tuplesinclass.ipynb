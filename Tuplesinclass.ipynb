{
  "nbformat": 4,
  "nbformat_minor": 0,
  "metadata": {
    "colab": {
      "name": "Tuplesinclass.ipynb",
      "provenance": [],
      "authorship_tag": "ABX9TyNk2ioPJujjgzCiwG2oQfGf",
      "include_colab_link": true
    },
    "kernelspec": {
      "name": "python3",
      "display_name": "Python 3"
    },
    "language_info": {
      "name": "python"
    }
  },
  "cells": [
    {
      "cell_type": "markdown",
      "metadata": {
        "id": "view-in-github",
        "colab_type": "text"
      },
      "source": [
        "<a href=\"https://colab.research.google.com/github/fatihtepe/python_ground/blob/main/Tuplesinclass.ipynb\" target=\"_parent\"><img src=\"https://colab.research.google.com/assets/colab-badge.svg\" alt=\"Open In Colab\"/></a>"
      ]
    },
    {
      "cell_type": "code",
      "metadata": {
        "colab": {
          "base_uri": "https://localhost:8080/"
        },
        "id": "0calA0cNivIY",
        "outputId": "37cfc82c-34b3-4a83-af5c-ff586c876679"
      },
      "source": [
        "import sys\n",
        "x = [1, 2, 3]\n",
        "y = (1, 2, 3)\n",
        "\n",
        "print(sys.getsizeof(x))\n",
        "print(sys.getsizeof(y))"
      ],
      "execution_count": null,
      "outputs": [
        {
          "output_type": "stream",
          "text": [
            "96\n",
            "80\n"
          ],
          "name": "stdout"
        }
      ]
    },
    {
      "cell_type": "code",
      "metadata": {
        "colab": {
          "base_uri": "https://localhost:8080/"
        },
        "id": "LYjbGf5Fl8wF",
        "outputId": "fe5e847a-e00b-4b68-d859-1bd60ca533dc"
      },
      "source": [
        "word = 'happy'\n",
        "print(tuple(word))"
      ],
      "execution_count": null,
      "outputs": [
        {
          "output_type": "stream",
          "text": [
            "('h', 'a', 'p', 'p', 'y')\n"
          ],
          "name": "stdout"
        }
      ]
    },
    {
      "cell_type": "code",
      "metadata": {
        "colab": {
          "base_uri": "https://localhost:8080/"
        },
        "id": "JLvVugqEmXru",
        "outputId": "e4f57544-d6e9-4359-f13b-4d09cbf326ab"
      },
      "source": [
        "benim =['a', 'b', 'c', 'd']\n",
        "ben_tuple = tuple(benim)\n",
        "print(ben_tuple)\n"
      ],
      "execution_count": null,
      "outputs": [
        {
          "output_type": "stream",
          "text": [
            "('a', 'b', 'c', 'd')\n"
          ],
          "name": "stdout"
        }
      ]
    },
    {
      "cell_type": "code",
      "metadata": {
        "colab": {
          "base_uri": "https://localhost:8080/"
        },
        "id": "22tZKTaGm1pS",
        "outputId": "b5052dbe-9e88-486a-c374-c8d057e74d31"
      },
      "source": [
        "tup = ('solar')\n",
        "print(tup, type(tup), sep='\\n\\t')"
      ],
      "execution_count": null,
      "outputs": [
        {
          "output_type": "stream",
          "text": [
            "solar\n",
            "\t<class 'str'>\n"
          ],
          "name": "stdout"
        }
      ]
    },
    {
      "cell_type": "code",
      "metadata": {
        "colab": {
          "base_uri": "https://localhost:8080/"
        },
        "id": "anIcL_SdombU",
        "outputId": "2b6ae3d3-c457-463c-e9d6-072cb5d894a6"
      },
      "source": [
        "x = 1, 2, 3\n",
        "\n",
        "type(x)"
      ],
      "execution_count": null,
      "outputs": [
        {
          "output_type": "execute_result",
          "data": {
            "text/plain": [
              "tuple"
            ]
          },
          "metadata": {
            "tags": []
          },
          "execution_count": 5
        }
      ]
    },
    {
      "cell_type": "code",
      "metadata": {
        "colab": {
          "base_uri": "https://localhost:8080/"
        },
        "id": "JHpz2FrIo6vM",
        "outputId": "13500211-c723-4225-dec1-f64f2f45bc96"
      },
      "source": [
        "aa = 'a', 'b', 'c'\n",
        "print(type(aa))"
      ],
      "execution_count": null,
      "outputs": [
        {
          "output_type": "stream",
          "text": [
            "<class 'tuple'>\n"
          ],
          "name": "stdout"
        }
      ]
    },
    {
      "cell_type": "code",
      "metadata": {
        "colab": {
          "base_uri": "https://localhost:8080/"
        },
        "id": "kX1FrOcWqCV6",
        "outputId": "dd94df8b-3d91-4ba3-b2ec-79b0e092fa2c"
      },
      "source": [
        "mountain = tuple('Alps')\n",
        "print(mountain)"
      ],
      "execution_count": null,
      "outputs": [
        {
          "output_type": "stream",
          "text": [
            "('A', 'l', 'p', 's')\n"
          ],
          "name": "stdout"
        }
      ]
    },
    {
      "cell_type": "code",
      "metadata": {
        "colab": {
          "base_uri": "https://localhost:8080/"
        },
        "id": "y7rkwb4Zw9d0",
        "outputId": "245886af-9e42-4492-c3b7-fc36b49da660"
      },
      "source": [
        "mytuple = tuple(range(1, 11))\n",
        "print(mytuple)\n",
        "mytuple.count(1)\n",
        "len(mytuple)"
      ],
      "execution_count": null,
      "outputs": [
        {
          "output_type": "stream",
          "text": [
            "(1, 2, 3, 4, 5, 6, 7, 8, 9, 10)\n"
          ],
          "name": "stdout"
        },
        {
          "output_type": "execute_result",
          "data": {
            "text/plain": [
              "10"
            ]
          },
          "metadata": {
            "tags": []
          },
          "execution_count": 16
        }
      ]
    },
    {
      "cell_type": "code",
      "metadata": {
        "colab": {
          "base_uri": "https://localhost:8080/"
        },
        "id": "WkAWjgWy0bYD",
        "outputId": "02a7c341-6944-4abe-a793-bd4b136316f5"
      },
      "source": [
        "mix_tuple =('11', 11, [2, 'two', ('six', 6)], 'fair')\n",
        "\n",
        "str_six = mix_tuple[2][1:3]\n",
        "\n",
        "print(str_six, type(str_six), sep='\\n')"
      ],
      "execution_count": null,
      "outputs": [
        {
          "output_type": "stream",
          "text": [
            "['two', ('six', 6)]\n",
            "<class 'list'>\n"
          ],
          "name": "stdout"
        }
      ]
    },
    {
      "cell_type": "code",
      "metadata": {
        "colab": {
          "base_uri": "https://localhost:8080/"
        },
        "id": "KMHnDUSz1pJ4",
        "outputId": "4abbba9b-b512-409e-bfca-54eab8e1646e"
      },
      "source": [
        "mix_tuple =('11', 11, [2, 'two', ('six', 6)], 'fair')\n",
        "\n",
        "str_six = mix_tuple[1:3]\n",
        "\n",
        "print(str_six, type(str_six), sep='\\n')"
      ],
      "execution_count": null,
      "outputs": [
        {
          "output_type": "stream",
          "text": [
            "(11, [2, 'two', ('six', 6)])\n",
            "<class 'tuple'>\n"
          ],
          "name": "stdout"
        }
      ]
    },
    {
      "cell_type": "code",
      "metadata": {
        "colab": {
          "base_uri": "https://localhost:8080/"
        },
        "id": "OLDa84xA6QgR",
        "outputId": "f62caefa-c7eb-446f-ea24-0106e02f8a6d"
      },
      "source": [
        "xtuple = ('A', 'l', 'p', 's')\n",
        "\n",
        "xlist = list(xtuple)\n",
        "\n",
        "print(xlist) \n",
        "\n",
        "xlist.append('apple')\n",
        "print(xlist)\n",
        "\n",
        "xtuple = tuple(xlist)\n",
        "print(xtuple)\n"
      ],
      "execution_count": null,
      "outputs": [
        {
          "output_type": "stream",
          "text": [
            "['A', 'l', 'p', 's']\n",
            "['A', 'l', 'p', 's', 'apple']\n",
            "('A', 'l', 'p', 's', 'apple')\n"
          ],
          "name": "stdout"
        }
      ]
    },
    {
      "cell_type": "code",
      "metadata": {
        "colab": {
          "base_uri": "https://localhost:8080/"
        },
        "id": "4LsF-t_9Fz6-",
        "outputId": "7bd55f8b-236c-4789-ea41-c8944be9ff24"
      },
      "source": [
        "mix_tuple =('11', 11, [2, 'two', ('six', 6)], 'fair')\n",
        "\n",
        "\n",
        "print(mix_tuple[2][2])\n",
        "print(mix_tuple[2][2][1])\n",
        "print(mix_tuple[-2][-1][-1])\n",
        "print(mix_tuple[-1][-1])\n",
        "print(mix_tuple)"
      ],
      "execution_count": null,
      "outputs": [
        {
          "output_type": "stream",
          "text": [
            "('six', 6)\n",
            "6\n",
            "6\n",
            "r\n",
            "('11', 11, [2, 'two', ('six', 6)], 'fair')\n"
          ],
          "name": "stdout"
        }
      ]
    }
  ]
}