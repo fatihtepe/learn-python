{
  "nbformat": 4,
  "nbformat_minor": 5,
  "metadata": {
    "kernelspec": {
      "display_name": "Python 3",
      "language": "python",
      "name": "python3"
    },
    "language_info": {
      "codemirror_mode": {
        "name": "ipython",
        "version": 3
      },
      "file_extension": ".py",
      "mimetype": "text/x-python",
      "name": "python",
      "nbconvert_exporter": "python",
      "pygments_lexer": "ipython3",
      "version": "3.7.8"
    },
    "colab": {
      "name": "19Mayıs21-packages-.ipynb",
      "provenance": [],
      "include_colab_link": true
    }
  },
  "cells": [
    {
      "cell_type": "markdown",
      "metadata": {
        "id": "view-in-github",
        "colab_type": "text"
      },
      "source": [
        "<a href=\"https://colab.research.google.com/github/fatihtepe/learn_python/blob/main/19May%C4%B1s21_packages_.ipynb\" target=\"_parent\"><img src=\"https://colab.research.google.com/assets/colab-badge.svg\" alt=\"Open In Colab\"/></a>"
      ]
    },
    {
      "cell_type": "code",
      "metadata": {
        "id": "ancient-agency",
        "outputId": "61af411a-7254-481f-9855-fafb7d5e94e3"
      },
      "source": [
        "pwd"
      ],
      "id": "ancient-agency",
      "execution_count": null,
      "outputs": [
        {
          "output_type": "execute_result",
          "data": {
            "text/plain": [
              "'C:\\\\Users\\\\hüseyin'"
            ]
          },
          "metadata": {
            "tags": []
          },
          "execution_count": 1
        }
      ]
    },
    {
      "cell_type": "code",
      "metadata": {
        "id": "dutch-cleveland"
      },
      "source": [
        "\"\"\" ilk çalıştırdığında çalışan dosyaları init dosyasını içine yazılıyor.\n",
        "\n",
        "\"\"\""
      ],
      "id": "dutch-cleveland",
      "execution_count": null,
      "outputs": []
    },
    {
      "cell_type": "code",
      "metadata": {
        "id": "monthly-hello"
      },
      "source": [
        "from upper_package import my_package1, my_package2"
      ],
      "id": "monthly-hello",
      "execution_count": null,
      "outputs": []
    },
    {
      "cell_type": "code",
      "metadata": {
        "id": "cleared-ready"
      },
      "source": [
        "from upper_package.my_package1 import my_module_1, my_module_2"
      ],
      "id": "cleared-ready",
      "execution_count": null,
      "outputs": []
    },
    {
      "cell_type": "code",
      "metadata": {
        "id": "numeric-rental",
        "outputId": "a8d30cb2-d23e-4a4e-e82b-410bacd2aef3"
      },
      "source": [
        "dir(my_package1)"
      ],
      "id": "numeric-rental",
      "execution_count": null,
      "outputs": [
        {
          "output_type": "execute_result",
          "data": {
            "text/plain": [
              "['__doc__',\n",
              " '__file__',\n",
              " '__loader__',\n",
              " '__name__',\n",
              " '__package__',\n",
              " '__path__',\n",
              " '__spec__',\n",
              " 'my_module_1',\n",
              " 'my_module_2']"
            ]
          },
          "metadata": {
            "tags": []
          },
          "execution_count": 5
        }
      ]
    },
    {
      "cell_type": "code",
      "metadata": {
        "id": "balanced-intake"
      },
      "source": [
        "from upper_package.my_package2 import my_module_3, my_module_4"
      ],
      "id": "balanced-intake",
      "execution_count": null,
      "outputs": []
    },
    {
      "cell_type": "code",
      "metadata": {
        "id": "purple-sword",
        "outputId": "18aad0da-4628-48d5-f66c-9e27e9d061ff"
      },
      "source": [
        "dir(my_package2)"
      ],
      "id": "purple-sword",
      "execution_count": null,
      "outputs": [
        {
          "output_type": "execute_result",
          "data": {
            "text/plain": [
              "['__doc__',\n",
              " '__file__',\n",
              " '__loader__',\n",
              " '__name__',\n",
              " '__package__',\n",
              " '__path__',\n",
              " '__spec__',\n",
              " 'my_module_3',\n",
              " 'my_module_4']"
            ]
          },
          "metadata": {
            "tags": []
          },
          "execution_count": 8
        }
      ]
    },
    {
      "cell_type": "code",
      "metadata": {
        "id": "headed-transmission",
        "outputId": "b1bb8cb6-ea7e-4fea-a3d0-12da7cbb5447"
      },
      "source": [
        "my_module_2.divide(10,5)\n",
        "\n",
        "# my_module_2 modülünün içindeki divide fonksiyonunu çalıştırdık"
      ],
      "id": "headed-transmission",
      "execution_count": null,
      "outputs": [
        {
          "output_type": "execute_result",
          "data": {
            "text/plain": [
              "2.0"
            ]
          },
          "metadata": {
            "tags": []
          },
          "execution_count": 9
        }
      ]
    },
    {
      "cell_type": "code",
      "metadata": {
        "id": "common-major",
        "outputId": "b1df1022-e88e-44c1-e26f-42d274c05ea4"
      },
      "source": [
        "my_module_1.addition(4, 5)"
      ],
      "id": "common-major",
      "execution_count": null,
      "outputs": [
        {
          "output_type": "execute_result",
          "data": {
            "text/plain": [
              "9"
            ]
          },
          "metadata": {
            "tags": []
          },
          "execution_count": 10
        }
      ]
    },
    {
      "cell_type": "code",
      "metadata": {
        "id": "twenty-petite",
        "outputId": "e3c4fd14-980d-4efa-d48d-0f0d4c68ffa9"
      },
      "source": [
        "my_module_3.repeater(\"clarusway\", 3)"
      ],
      "id": "twenty-petite",
      "execution_count": null,
      "outputs": [
        {
          "output_type": "execute_result",
          "data": {
            "text/plain": [
              "'claruswayclaruswayclarusway'"
            ]
          },
          "metadata": {
            "tags": []
          },
          "execution_count": 11
        }
      ]
    },
    {
      "cell_type": "code",
      "metadata": {
        "id": "sharp-checkout",
        "outputId": "d0871837-8a71-4da1-ab1f-5e2420785eca"
      },
      "source": [
        "my_module_1.__spec__"
      ],
      "id": "sharp-checkout",
      "execution_count": null,
      "outputs": [
        {
          "output_type": "execute_result",
          "data": {
            "text/plain": [
              "ModuleSpec(name='upper_package.my_package1.my_module_1', loader=<_frozen_importlib_external.SourceFileLoader object at 0x000001F8EB344088>, origin='C:\\\\Users\\\\hüseyin\\\\upper_package\\\\my_package1\\\\my_module_1.py')"
            ]
          },
          "metadata": {
            "tags": []
          },
          "execution_count": 12
        }
      ]
    },
    {
      "cell_type": "code",
      "metadata": {
        "id": "studied-chamber",
        "outputId": "a4c57e73-dc0f-4484-da16-70e05840426f"
      },
      "source": [
        "my_package1.__spec__"
      ],
      "id": "studied-chamber",
      "execution_count": null,
      "outputs": [
        {
          "output_type": "execute_result",
          "data": {
            "text/plain": [
              "ModuleSpec(name='upper_package.my_package1', loader=<_frozen_importlib_external._NamespaceLoader object at 0x000001F8EB33CA08>, submodule_search_locations=_NamespacePath(['C:\\\\Users\\\\hüseyin\\\\upper_package\\\\my_package1', 'C:\\\\Users\\\\hüseyin\\\\upper_package\\\\my_package1']))"
            ]
          },
          "metadata": {
            "tags": []
          },
          "execution_count": 13
        }
      ]
    },
    {
      "cell_type": "code",
      "metadata": {
        "id": "magnetic-massage"
      },
      "source": [
        "import upper_package\n",
        "\n",
        "# upper_package nin içinde ne var ne yok diye görmek için önce import edelim"
      ],
      "id": "magnetic-massage",
      "execution_count": null,
      "outputs": []
    },
    {
      "cell_type": "code",
      "metadata": {
        "id": "fancy-heart",
        "outputId": "9f621259-9a81-4d02-f2ff-bee6ece0a843"
      },
      "source": [
        "dir(upper_package)"
      ],
      "id": "fancy-heart",
      "execution_count": null,
      "outputs": [
        {
          "output_type": "execute_result",
          "data": {
            "text/plain": [
              "['__doc__',\n",
              " '__file__',\n",
              " '__loader__',\n",
              " '__name__',\n",
              " '__package__',\n",
              " '__path__',\n",
              " '__spec__',\n",
              " 'my_package1',\n",
              " 'my_package2']"
            ]
          },
          "metadata": {
            "tags": []
          },
          "execution_count": 15
        }
      ]
    },
    {
      "cell_type": "code",
      "metadata": {
        "id": "announced-roads"
      },
      "source": [
        "# doğrudan fonksiyon import edelim (divide ve hello fonksiyonları)\n",
        "\n",
        "from upper_package.my_package1.my_module_2 import divide, hello\n",
        "\n",
        "# içinde hangi fonksiyonlar olduğunu aynı zamanda klasör içinde modül dosyalarını txt editörde açarak da görebilirsin"
      ],
      "id": "announced-roads",
      "execution_count": null,
      "outputs": []
    },
    {
      "cell_type": "code",
      "metadata": {
        "id": "stupid-nowhere"
      },
      "source": [
        "from upper_package.my_package1.my_module_1 import addition, multi"
      ],
      "id": "stupid-nowhere",
      "execution_count": null,
      "outputs": []
    },
    {
      "cell_type": "code",
      "metadata": {
        "id": "accessible-assist",
        "outputId": "a8bf3d4b-3f9c-4948-8d03-b7bb8d18312d"
      },
      "source": [
        "hello()"
      ],
      "id": "accessible-assist",
      "execution_count": null,
      "outputs": [
        {
          "output_type": "stream",
          "text": [
            "hello\n"
          ],
          "name": "stdout"
        }
      ]
    },
    {
      "cell_type": "code",
      "metadata": {
        "id": "rural-flooring",
        "outputId": "ee8f03ab-c445-4c29-aa96-6b13f16171a2"
      },
      "source": [
        "divide(22, 11)"
      ],
      "id": "rural-flooring",
      "execution_count": null,
      "outputs": [
        {
          "output_type": "execute_result",
          "data": {
            "text/plain": [
              "2.0"
            ]
          },
          "metadata": {
            "tags": []
          },
          "execution_count": 18
        }
      ]
    },
    {
      "cell_type": "code",
      "metadata": {
        "id": "adjacent-jewel",
        "outputId": "6261c078-3998-4b49-b7b5-91d0fa8bfa70"
      },
      "source": [
        "addition(4, 5)"
      ],
      "id": "adjacent-jewel",
      "execution_count": null,
      "outputs": [
        {
          "output_type": "execute_result",
          "data": {
            "text/plain": [
              "9"
            ]
          },
          "metadata": {
            "tags": []
          },
          "execution_count": 28
        }
      ]
    },
    {
      "cell_type": "code",
      "metadata": {
        "id": "promising-blink",
        "outputId": "f9ee3605-f717-4568-c684-74f3d648f215"
      },
      "source": [
        "dir(my_module_1)"
      ],
      "id": "promising-blink",
      "execution_count": null,
      "outputs": [
        {
          "output_type": "execute_result",
          "data": {
            "text/plain": [
              "['__builtins__',\n",
              " '__cached__',\n",
              " '__doc__',\n",
              " '__file__',\n",
              " '__loader__',\n",
              " '__name__',\n",
              " '__package__',\n",
              " '__spec__',\n",
              " 'addition',\n",
              " 'multi']"
            ]
          },
          "metadata": {
            "tags": []
          },
          "execution_count": 26
        }
      ]
    },
    {
      "cell_type": "code",
      "metadata": {
        "id": "covered-transmission"
      },
      "source": [
        "import math\n",
        "\n",
        "# (python un default modulleri arasındaki) math fonksiyonunu import ettik. "
      ],
      "id": "covered-transmission",
      "execution_count": null,
      "outputs": []
    },
    {
      "cell_type": "code",
      "metadata": {
        "id": "voluntary-laptop"
      },
      "source": [
        "from math import log10"
      ],
      "id": "voluntary-laptop",
      "execution_count": null,
      "outputs": []
    },
    {
      "cell_type": "code",
      "metadata": {
        "id": "normal-nitrogen",
        "outputId": "b47a14ea-058f-455e-a5ba-550d7d5c61bb"
      },
      "source": [
        "log10(1000)"
      ],
      "id": "normal-nitrogen",
      "execution_count": null,
      "outputs": [
        {
          "output_type": "execute_result",
          "data": {
            "text/plain": [
              "3.0"
            ]
          },
          "metadata": {
            "tags": []
          },
          "execution_count": 21
        }
      ]
    },
    {
      "cell_type": "code",
      "metadata": {
        "id": "cognitive-probe",
        "outputId": "307e2eb4-de8a-441b-e72d-f81fd5f75056"
      },
      "source": [
        "print(math.__doc__)\n",
        "\n",
        "# math fonksiyonunun açıklamasını görmek için.."
      ],
      "id": "cognitive-probe",
      "execution_count": null,
      "outputs": [
        {
          "output_type": "stream",
          "text": [
            "This module provides access to the mathematical functions\n",
            "defined by the C standard.\n"
          ],
          "name": "stdout"
        }
      ]
    },
    {
      "cell_type": "code",
      "metadata": {
        "id": "mechanical-creation",
        "outputId": "e16017ac-ef2a-4d08-f122-eecc39b0bf2a"
      },
      "source": [
        "print(my_module_2.__doc__)\n",
        "\n",
        "# kendi my_module2 modülümüzün açıklamasını görüntüledik."
      ],
      "id": "mechanical-creation",
      "execution_count": null,
      "outputs": [
        {
          "output_type": "stream",
          "text": [
            "\n",
            "This is module 2. Welcome!\n",
            "\n"
          ],
          "name": "stdout"
        }
      ]
    },
    {
      "cell_type": "code",
      "metadata": {
        "id": "respective-melissa",
        "outputId": "ced23dbb-c68b-4f33-9f38-d287ba8642cf"
      },
      "source": [
        "# pip : Pip Installs Packages \n",
        "\n",
        "pip list # library'leri listeleyelim"
      ],
      "id": "respective-melissa",
      "execution_count": null,
      "outputs": [
        {
          "output_type": "stream",
          "text": [
            "Package             Version\n",
            "------------------- -------\n",
            "argon2-cffi         20.1.0\n",
            "async-generator     1.10\n",
            "attrs               20.3.0\n",
            "backcall            0.2.0\n",
            "bleach              3.3.0\n",
            "cffi                1.14.5\n",
            "colorama            0.4.4\n",
            "decorator           4.4.2\n",
            "defusedxml          0.7.1\n",
            "entrypoints         0.3\n",
            "importlib-metadata  3.7.2\n",
            "ipykernel           5.5.0\n",
            "ipython             7.21.0\n",
            "ipython-genutils    0.2.0\n",
            "ipywidgets          7.6.3\n",
            "jedi                0.18.0\n",
            "Jinja2              2.11.3\n",
            "jsonschema          3.2.0\n",
            "jupyter             1.0.0\n",
            "jupyter-client      6.1.11\n",
            "jupyter-console     6.2.0\n",
            "jupyter-core        4.7.1\n",
            "jupyterlab-pygments 0.1.2\n",
            "jupyterlab-widgets  1.0.0\n",
            "MarkupSafe          1.1.1\n",
            "mistune             0.8.4\n",
            "nbclient            0.5.3\n",
            "nbconvert           6.0.7\n",
            "nbformat            5.1.2\n",
            "nest-asyncio        1.5.1\n",
            "notebook            6.2.0\n",
            "packaging           20.9\n",
            "pandocfilters       1.4.3\n",
            "parso               0.8.1\n",
            "pickleshare         0.7.5\n",
            "pip                 20.1.1\n",
            "prometheus-client   0.9.0\n",
            "prompt-toolkit      3.0.17\n",
            "pycparser           2.20\n",
            "Pygments            2.8.1\n",
            "pyparsing           2.4.7\n",
            "pyrsistent          0.17.3\n",
            "python-dateutil     2.8.1\n",
            "pywin32             300\n",
            "pywinpty            0.5.7\n",
            "pyzmq               22.0.3\n",
            "qtconsole           5.0.2\n",
            "QtPy                1.9.0\n",
            "Send2Trash          1.5.0\n",
            "setuptools          47.1.0\n",
            "six                 1.15.0\n",
            "terminado           0.9.2\n",
            "testpath            0.4.4\n",
            "tornado             6.1\n",
            "traitlets           5.0.5\n",
            "typing-extensions   3.7.4.3\n",
            "wcwidth             0.2.5\n",
            "webencodings        0.5.1\n",
            "widgetsnbextension  3.5.1\n",
            "zipp                3.4.1\n",
            "Note: you may need to restart the kernel to use updated packages.\n"
          ],
          "name": "stdout"
        },
        {
          "output_type": "stream",
          "text": [
            "WARNING: You are using pip version 20.1.1; however, version 21.1.1 is available.\n",
            "You should consider upgrading via the 'c:\\users\\hüseyin\\appdata\\local\\programs\\python\\python37\\python.exe -m pip install --upgrade pip' command.\n"
          ],
          "name": "stderr"
        }
      ]
    },
    {
      "cell_type": "code",
      "metadata": {
        "id": "major-fourth",
        "outputId": "e7bef41d-660f-47d7-b2c6-d2db3cc1ced0"
      },
      "source": [
        "pip --version"
      ],
      "id": "major-fourth",
      "execution_count": null,
      "outputs": [
        {
          "output_type": "stream",
          "text": [
            "pip 20.1.1 from c:\\users\\hüseyin\\appdata\\local\\programs\\python\\python37\\lib\\site-packages\\pip (python 3.7)\n",
            "\n",
            "Note: you may need to restart the kernel to use updated packages.\n"
          ],
          "name": "stdout"
        }
      ]
    },
    {
      "cell_type": "code",
      "metadata": {
        "id": "respiratory-craps",
        "outputId": "d4d37dea-41b8-4736-9c89-5713e04f3736"
      },
      "source": [
        "pip install kaggle\n",
        "\n",
        "# olmayan bir package varsa bunu pip install ile indiriyoruz."
      ],
      "id": "respiratory-craps",
      "execution_count": null,
      "outputs": [
        {
          "output_type": "stream",
          "text": [
            "Collecting kaggle\n",
            "  Downloading kaggle-1.5.12.tar.gz (58 kB)\n",
            "Requirement already satisfied: six>=1.10 in c:\\users\\hüseyin\\appdata\\local\\programs\\python\\python37\\lib\\site-packages (from kaggle) (1.15.0)\n",
            "Collecting certifi\n",
            "  Downloading certifi-2020.12.5-py2.py3-none-any.whl (147 kB)\n",
            "Note: you may need to restart the kernel to use updated packages.\n"
          ],
          "name": "stdout"
        },
        {
          "output_type": "stream",
          "text": [
            "WARNING: You are using pip version 20.1.1; however, version 21.1.1 is available.\n",
            "You should consider upgrading via the 'c:\\users\\hüseyin\\appdata\\local\\programs\\python\\python37\\python.exe -m pip install --upgrade pip' command.\n"
          ],
          "name": "stderr"
        },
        {
          "output_type": "stream",
          "text": [
            "Requirement already satisfied: python-dateutil in c:\\users\\hüseyin\\appdata\\local\\programs\\python\\python37\\lib\\site-packages (from kaggle) (2.8.1)\n",
            "Collecting requests\n",
            "  Downloading requests-2.25.1-py2.py3-none-any.whl (61 kB)\n",
            "Collecting tqdm\n",
            "  Downloading tqdm-4.60.0-py2.py3-none-any.whl (75 kB)\n",
            "Collecting python-slugify\n",
            "  Downloading python_slugify-5.0.2-py2.py3-none-any.whl (6.7 kB)\n",
            "Collecting urllib3\n",
            "  Downloading urllib3-1.26.4-py2.py3-none-any.whl (153 kB)\n",
            "Collecting idna<3,>=2.5\n",
            "  Downloading idna-2.10-py2.py3-none-any.whl (58 kB)\n",
            "Collecting chardet<5,>=3.0.2\n",
            "  Downloading chardet-4.0.0-py2.py3-none-any.whl (178 kB)\n",
            "Collecting text-unidecode>=1.3\n",
            "  Downloading text_unidecode-1.3-py2.py3-none-any.whl (78 kB)\n",
            "Using legacy setup.py install for kaggle, since package 'wheel' is not installed.\n",
            "Installing collected packages: certifi, idna, urllib3, chardet, requests, tqdm, text-unidecode, python-slugify, kaggle\n",
            "    Running setup.py install for kaggle: started\n",
            "    Running setup.py install for kaggle: finished with status 'done'\n",
            "Successfully installed certifi-2020.12.5 chardet-4.0.0 idna-2.10 kaggle-1.5.12 python-slugify-5.0.2 requests-2.25.1 text-unidecode-1.3 tqdm-4.60.0 urllib3-1.26.4\n"
          ],
          "name": "stdout"
        }
      ]
    },
    {
      "cell_type": "code",
      "metadata": {
        "id": "international-essay"
      },
      "source": [
        "pip install python==3.8.1\n",
        "\n",
        "# python'un versiyonlarını da pip ile indirebiliyoruz"
      ],
      "id": "international-essay",
      "execution_count": null,
      "outputs": []
    },
    {
      "cell_type": "code",
      "metadata": {
        "id": "surprising-terror",
        "outputId": "2feceaba-b270-4532-d2d1-b6e89a8d6d39"
      },
      "source": [
        "pip show pep8\n",
        "\n",
        "# pep8 library ile ilgili bilgileri görüntüler"
      ],
      "id": "surprising-terror",
      "execution_count": null,
      "outputs": [
        {
          "output_type": "stream",
          "text": [
            "Note: you may need to restart the kernel to use updated packages.\n"
          ],
          "name": "stdout"
        },
        {
          "output_type": "stream",
          "text": [
            "WARNING: Package(s) not found: pep8\n"
          ],
          "name": "stderr"
        }
      ]
    },
    {
      "cell_type": "code",
      "metadata": {
        "id": "chief-range",
        "outputId": "c3067c44-9d8b-4ff3-83b6-b5bba4187045"
      },
      "source": [
        "# pep8'in yüklü olmadığını yukarda show deyince anladık. (görüntülemedi)\n",
        "# şimdi önce bu library'i install edelim\n",
        "\n",
        "pip install pep8"
      ],
      "id": "chief-range",
      "execution_count": null,
      "outputs": [
        {
          "output_type": "stream",
          "text": [
            "Collecting pep8\n",
            "  Downloading pep8-1.7.1-py2.py3-none-any.whl (41 kB)\n",
            "Installing collected packages: pep8\n",
            "Successfully installed pep8-1.7.1\n",
            "Note: you may need to restart the kernel to use updated packages.\n"
          ],
          "name": "stdout"
        },
        {
          "output_type": "stream",
          "text": [
            "WARNING: You are using pip version 20.1.1; however, version 21.1.1 is available.\n",
            "You should consider upgrading via the 'c:\\users\\hüseyin\\appdata\\local\\programs\\python\\python37\\python.exe -m pip install --upgrade pip' command.\n"
          ],
          "name": "stderr"
        }
      ]
    },
    {
      "cell_type": "code",
      "metadata": {
        "id": "brazilian-smell",
        "outputId": "1c0e3f2f-8b1d-4ac5-a0a1-ef4d103af179"
      },
      "source": [
        "pip show pep8\n",
        "\n",
        "# artık pep8'i görebiliyoruz"
      ],
      "id": "brazilian-smell",
      "execution_count": null,
      "outputs": [
        {
          "output_type": "stream",
          "text": [
            "Name: pep8\n",
            "Version: 1.7.1\n",
            "Summary: Python style guide checker\n",
            "Home-page: http://pep8.readthedocs.org/\n",
            "Author: Ian Lee\n",
            "Author-email: IanLee1521@gmail.com\n",
            "License: Expat license\n",
            "Location: c:\\users\\hüseyin\\appdata\\local\\programs\\python\\python37\\lib\\site-packages\n",
            "Requires: \n",
            "Required-by: \n",
            "Note: you may need to restart the kernel to use updated packages.\n"
          ],
          "name": "stdout"
        }
      ]
    },
    {
      "cell_type": "code",
      "metadata": {
        "id": "sharp-georgia",
        "outputId": "986f7fae-63e6-4a0c-bfc4-2f81f4c3659a"
      },
      "source": [
        "pip uninstall kaggle"
      ],
      "id": "sharp-georgia",
      "execution_count": null,
      "outputs": [
        {
          "output_type": "stream",
          "text": [
            "^C\n",
            "Note: you may need to restart the kernel to use updated packages.\n"
          ],
          "name": "stdout"
        }
      ]
    },
    {
      "cell_type": "code",
      "metadata": {
        "id": "physical-expansion"
      },
      "source": [
        ""
      ],
      "id": "physical-expansion",
      "execution_count": null,
      "outputs": []
    },
    {
      "cell_type": "code",
      "metadata": {
        "id": "reported-importance"
      },
      "source": [
        "Jython\n",
        "\n",
        "pyhton kodlarını java'nin anlayacağı moda çeviren tool"
      ],
      "id": "reported-importance",
      "execution_count": null,
      "outputs": []
    },
    {
      "cell_type": "code",
      "metadata": {
        "id": "unavailable-object"
      },
      "source": [
        "\"\"\" \n",
        "traceback.py --> hata kodlarını içinde barındıran modül.\n",
        "\n",
        "stackoverflow.com --> hataların ne anlama geldiğini buradan araştırabilirsin.\n",
        "\n",
        "\"\"\""
      ],
      "id": "unavailable-object",
      "execution_count": null,
      "outputs": []
    },
    {
      "cell_type": "code",
      "metadata": {
        "id": "auburn-rachel"
      },
      "source": [
        "kod çalışıyor, ama problemli satıra geldiğinde hata veriyor ise \"exception eror\"\n",
        "ama \"syntax eror\" varsa hiç bir satır çalışmaz. daha \"compile\"?? sırasında hata ortaya çıkar."
      ],
      "id": "auburn-rachel",
      "execution_count": null,
      "outputs": []
    },
    {
      "cell_type": "code",
      "metadata": {
        "id": "boring-harmony"
      },
      "source": [
        "\"\"\"\n",
        "Exception erors\n",
        "\n",
        "Value Error \n",
        "TypeError\n",
        "NameError\n",
        "\n",
        "\"\"\"\""
      ],
      "id": "boring-harmony",
      "execution_count": null,
      "outputs": []
    },
    {
      "cell_type": "code",
      "metadata": {
        "id": "approximate-publisher"
      },
      "source": [
        "\"\"\" \n",
        "Value Error\n",
        "\n",
        "eğer biz int fonksiyonunu kullanırsak bunun içine string koymamız lazım. \n",
        "ama bu string digitlerden oluşmalı. numeric olmalı.\n",
        "alpha değer girersen bu Value Error olur\n",
        "\"\"\""
      ],
      "id": "approximate-publisher",
      "execution_count": null,
      "outputs": []
    },
    {
      "cell_type": "code",
      "metadata": {
        "id": "seasonal-rocket",
        "outputId": "298c265d-6413-4f63-94ac-660f1445a352"
      },
      "source": [
        "print(int('ten'))"
      ],
      "id": "seasonal-rocket",
      "execution_count": null,
      "outputs": [
        {
          "output_type": "error",
          "ename": "ValueError",
          "evalue": "invalid literal for int() with base 10: 'ten'",
          "traceback": [
            "\u001b[1;31m---------------------------------------------------------------------------\u001b[0m",
            "\u001b[1;31mValueError\u001b[0m                                Traceback (most recent call last)",
            "\u001b[1;32m<ipython-input-36-1fe0c5042e33>\u001b[0m in \u001b[0;36m<module>\u001b[1;34m\u001b[0m\n\u001b[1;32m----> 1\u001b[1;33m \u001b[0mprint\u001b[0m\u001b[1;33m(\u001b[0m\u001b[0mint\u001b[0m\u001b[1;33m(\u001b[0m\u001b[1;34m'ten'\u001b[0m\u001b[1;33m)\u001b[0m\u001b[1;33m)\u001b[0m\u001b[1;33m\u001b[0m\u001b[1;33m\u001b[0m\u001b[0m\n\u001b[0m",
            "\u001b[1;31mValueError\u001b[0m: invalid literal for int() with base 10: 'ten'"
          ]
        }
      ]
    },
    {
      "cell_type": "code",
      "metadata": {
        "id": "considered-vector",
        "outputId": "a2f248ce-43c8-4bbc-df9f-e09a56d2bfe3"
      },
      "source": [
        "# math modülünü kullanarak value hata alınız\n",
        "\n",
        "print(math.sqrt(-25))   # math modülünü indirdiysen sadece sqrt(-25-) şeklinde de yazabilirsin"
      ],
      "id": "considered-vector",
      "execution_count": null,
      "outputs": [
        {
          "output_type": "error",
          "ename": "ValueError",
          "evalue": "math domain error",
          "traceback": [
            "\u001b[1;31m---------------------------------------------------------------------------\u001b[0m",
            "\u001b[1;31mValueError\u001b[0m                                Traceback (most recent call last)",
            "\u001b[1;32m<ipython-input-39-7659495ec28e>\u001b[0m in \u001b[0;36m<module>\u001b[1;34m\u001b[0m\n\u001b[1;32m----> 1\u001b[1;33m \u001b[0mprint\u001b[0m\u001b[1;33m(\u001b[0m\u001b[0mmath\u001b[0m\u001b[1;33m.\u001b[0m\u001b[0msqrt\u001b[0m\u001b[1;33m(\u001b[0m\u001b[1;33m-\u001b[0m\u001b[1;36m25\u001b[0m\u001b[1;33m)\u001b[0m\u001b[1;33m)\u001b[0m   \u001b[1;31m# math modülünü indirdiysen sadece sqrt(-25-) şeklinde de yazabilirsin\u001b[0m\u001b[1;33m\u001b[0m\u001b[1;33m\u001b[0m\u001b[0m\n\u001b[0m",
            "\u001b[1;31mValueError\u001b[0m: math domain error"
          ]
        }
      ]
    },
    {
      "cell_type": "code",
      "metadata": {
        "id": "environmental-insight"
      },
      "source": [
        "\"\"\"\n",
        "Name Error\n",
        "\n",
        "önden tanımlamadığın hiç birşeyi kullanamazsın. name hatası verir.\n",
        "\"\"\""
      ],
      "id": "environmental-insight",
      "execution_count": null,
      "outputs": []
    },
    {
      "cell_type": "code",
      "metadata": {
        "id": "cosmetic-female",
        "outputId": "8d2765ad-6921-435f-9925-1271cbea0ca4"
      },
      "source": [
        "print(variable)\n",
        "variable=\"don't ever give up!\"\n",
        "\n",
        "# değişkeni önden tanımlamamak name eror verdirir."
      ],
      "id": "cosmetic-female",
      "execution_count": null,
      "outputs": [
        {
          "output_type": "error",
          "ename": "NameError",
          "evalue": "name 'variable' is not defined",
          "traceback": [
            "\u001b[1;31m---------------------------------------------------------------------------\u001b[0m",
            "\u001b[1;31mNameError\u001b[0m                                 Traceback (most recent call last)",
            "\u001b[1;32m<ipython-input-40-bf1eb3e58fe8>\u001b[0m in \u001b[0;36m<module>\u001b[1;34m\u001b[0m\n\u001b[1;32m----> 1\u001b[1;33m \u001b[0mprint\u001b[0m\u001b[1;33m(\u001b[0m\u001b[0mvariable\u001b[0m\u001b[1;33m)\u001b[0m\u001b[1;33m\u001b[0m\u001b[1;33m\u001b[0m\u001b[0m\n\u001b[0m\u001b[0;32m      2\u001b[0m \u001b[0mvariable\u001b[0m\u001b[1;33m=\u001b[0m\u001b[1;34m\"don't ever give up!\"\u001b[0m\u001b[1;33m\u001b[0m\u001b[1;33m\u001b[0m\u001b[0m\n",
            "\u001b[1;31mNameError\u001b[0m: name 'variable' is not defined"
          ]
        }
      ]
    },
    {
      "cell_type": "code",
      "metadata": {
        "id": "valuable-salem",
        "outputId": "d4d617ac-e996-4611-d8ec-1cfc5f496f6b"
      },
      "source": [
        "printt()"
      ],
      "id": "valuable-salem",
      "execution_count": null,
      "outputs": [
        {
          "output_type": "error",
          "ename": "NameError",
          "evalue": "name 'printt' is not defined",
          "traceback": [
            "\u001b[1;31m---------------------------------------------------------------------------\u001b[0m",
            "\u001b[1;31mNameError\u001b[0m                                 Traceback (most recent call last)",
            "\u001b[1;32m<ipython-input-41-170c3a814236>\u001b[0m in \u001b[0;36m<module>\u001b[1;34m\u001b[0m\n\u001b[1;32m----> 1\u001b[1;33m \u001b[0mprintt\u001b[0m\u001b[1;33m(\u001b[0m\u001b[1;33m)\u001b[0m\u001b[1;33m\u001b[0m\u001b[1;33m\u001b[0m\u001b[0m\n\u001b[0m",
            "\u001b[1;31mNameError\u001b[0m: name 'printt' is not defined"
          ]
        }
      ]
    },
    {
      "cell_type": "code",
      "metadata": {
        "id": "potential-freedom",
        "outputId": "7cc7f720-a6cf-427c-97f2-35003ee8cb64"
      },
      "source": [
        "b = \"string value1\"\n",
        "c = \"sring value2\"\n",
        "\n",
        "print(b)\n",
        "print(C)\n",
        "\n",
        " # C (büyük c önceden tanımlanmadı)"
      ],
      "id": "potential-freedom",
      "execution_count": null,
      "outputs": [
        {
          "output_type": "stream",
          "text": [
            "string value1\n"
          ],
          "name": "stdout"
        },
        {
          "output_type": "error",
          "ename": "NameError",
          "evalue": "name 'C' is not defined",
          "traceback": [
            "\u001b[1;31m---------------------------------------------------------------------------\u001b[0m",
            "\u001b[1;31mNameError\u001b[0m                                 Traceback (most recent call last)",
            "\u001b[1;32m<ipython-input-42-688d076b1ae5>\u001b[0m in \u001b[0;36m<module>\u001b[1;34m\u001b[0m\n\u001b[0;32m      3\u001b[0m \u001b[1;33m\u001b[0m\u001b[0m\n\u001b[0;32m      4\u001b[0m \u001b[0mprint\u001b[0m\u001b[1;33m(\u001b[0m\u001b[0mb\u001b[0m\u001b[1;33m)\u001b[0m\u001b[1;33m\u001b[0m\u001b[1;33m\u001b[0m\u001b[0m\n\u001b[1;32m----> 5\u001b[1;33m \u001b[0mprint\u001b[0m\u001b[1;33m(\u001b[0m\u001b[0mC\u001b[0m\u001b[1;33m)\u001b[0m\u001b[1;33m\u001b[0m\u001b[1;33m\u001b[0m\u001b[0m\n\u001b[0m",
            "\u001b[1;31mNameError\u001b[0m: name 'C' is not defined"
          ]
        }
      ]
    },
    {
      "cell_type": "code",
      "metadata": {
        "id": "communist-zoning"
      },
      "source": [
        "\"\"\"\n",
        "Type Error\n",
        "verilerin tipleri ile alakalı hatadır.\n",
        "integer ile stringi toplamak (concarnate yapmak) gibi\n",
        "\"\"\""
      ],
      "id": "communist-zoning",
      "execution_count": null,
      "outputs": []
    },
    {
      "cell_type": "code",
      "metadata": {
        "id": "vietnamese-alliance",
        "outputId": "1d4a71a1-e135-4737-9fe8-a9715c9774de"
      },
      "source": [
        "for i in range('x'):\n",
        "    print(i)"
      ],
      "id": "vietnamese-alliance",
      "execution_count": null,
      "outputs": [
        {
          "output_type": "error",
          "ename": "TypeError",
          "evalue": "'str' object cannot be interpreted as an integer",
          "traceback": [
            "\u001b[1;31m---------------------------------------------------------------------------\u001b[0m",
            "\u001b[1;31mTypeError\u001b[0m                                 Traceback (most recent call last)",
            "\u001b[1;32m<ipython-input-44-6dc3a9759f2b>\u001b[0m in \u001b[0;36m<module>\u001b[1;34m\u001b[0m\n\u001b[1;32m----> 1\u001b[1;33m \u001b[1;32mfor\u001b[0m \u001b[0mi\u001b[0m \u001b[1;32min\u001b[0m \u001b[0mrange\u001b[0m\u001b[1;33m(\u001b[0m\u001b[1;34m'x'\u001b[0m\u001b[1;33m)\u001b[0m\u001b[1;33m:\u001b[0m\u001b[1;33m\u001b[0m\u001b[1;33m\u001b[0m\u001b[0m\n\u001b[0m\u001b[0;32m      2\u001b[0m     \u001b[0mprint\u001b[0m\u001b[1;33m(\u001b[0m\u001b[0mi\u001b[0m\u001b[1;33m)\u001b[0m\u001b[1;33m\u001b[0m\u001b[1;33m\u001b[0m\u001b[0m\n",
            "\u001b[1;31mTypeError\u001b[0m: 'str' object cannot be interpreted as an integer"
          ]
        }
      ]
    },
    {
      "cell_type": "code",
      "metadata": {
        "id": "direct-sculpture",
        "outputId": "8ebc3934-ee4a-4aef-8c79-29c50c28ece0"
      },
      "source": [
        "print(1 + '2')"
      ],
      "id": "direct-sculpture",
      "execution_count": null,
      "outputs": [
        {
          "output_type": "error",
          "ename": "TypeError",
          "evalue": "unsupported operand type(s) for +: 'int' and 'str'",
          "traceback": [
            "\u001b[1;31m---------------------------------------------------------------------------\u001b[0m",
            "\u001b[1;31mTypeError\u001b[0m                                 Traceback (most recent call last)",
            "\u001b[1;32m<ipython-input-43-013270d67d3d>\u001b[0m in \u001b[0;36m<module>\u001b[1;34m\u001b[0m\n\u001b[1;32m----> 1\u001b[1;33m \u001b[0mprint\u001b[0m\u001b[1;33m(\u001b[0m\u001b[1;36m1\u001b[0m \u001b[1;33m+\u001b[0m \u001b[1;34m'2'\u001b[0m\u001b[1;33m)\u001b[0m\u001b[1;33m\u001b[0m\u001b[1;33m\u001b[0m\u001b[0m\n\u001b[0m",
            "\u001b[1;31mTypeError\u001b[0m: unsupported operand type(s) for +: 'int' and 'str'"
          ]
        }
      ]
    },
    {
      "cell_type": "code",
      "metadata": {
        "id": "electrical-anaheim"
      },
      "source": [
        "# Exception Hiyerarşisi"
      ],
      "id": "electrical-anaheim",
      "execution_count": null,
      "outputs": []
    },
    {
      "cell_type": "code",
      "metadata": {
        "id": "concrete-surgery",
        "outputId": "e92b256d-18bc-42bc-c84c-d9215607d01c"
      },
      "source": [
        "print(\"hello\")\n",
        "print(4/0)\n",
        "\n",
        "\"\"\"\n",
        "kod çalıştı ama 4, 0'a bölünemediği için Exception erorlarından ZeroDivisionError verdi.\n",
        "\"\"\""
      ],
      "id": "concrete-surgery",
      "execution_count": null,
      "outputs": [
        {
          "output_type": "stream",
          "text": [
            "hello\n"
          ],
          "name": "stdout"
        },
        {
          "output_type": "error",
          "ename": "ZeroDivisionError",
          "evalue": "division by zero",
          "traceback": [
            "\u001b[1;31m---------------------------------------------------------------------------\u001b[0m",
            "\u001b[1;31mZeroDivisionError\u001b[0m                         Traceback (most recent call last)",
            "\u001b[1;32m<ipython-input-45-15256f0d2731>\u001b[0m in \u001b[0;36m<module>\u001b[1;34m\u001b[0m\n\u001b[0;32m      1\u001b[0m \u001b[0mprint\u001b[0m\u001b[1;33m(\u001b[0m\u001b[1;34m\"hello\"\u001b[0m\u001b[1;33m)\u001b[0m\u001b[1;33m\u001b[0m\u001b[1;33m\u001b[0m\u001b[0m\n\u001b[1;32m----> 2\u001b[1;33m \u001b[0mprint\u001b[0m\u001b[1;33m(\u001b[0m\u001b[1;36m4\u001b[0m\u001b[1;33m/\u001b[0m\u001b[1;36m0\u001b[0m\u001b[1;33m)\u001b[0m\u001b[1;33m\u001b[0m\u001b[1;33m\u001b[0m\u001b[0m\n\u001b[0m",
            "\u001b[1;31mZeroDivisionError\u001b[0m: division by zero"
          ]
        }
      ]
    },
    {
      "cell_type": "code",
      "metadata": {
        "id": "accompanied-lightning"
      },
      "source": [
        "\"\"\"\n",
        "try except blokları.\n",
        "\n",
        "while döngüleri ile try except bloku kankadır. bunlar sık sık beraber kullanılır.\n",
        "\"\"\""
      ],
      "id": "accompanied-lightning",
      "execution_count": null,
      "outputs": []
    },
    {
      "cell_type": "code",
      "metadata": {
        "id": "ethical-clothing"
      },
      "source": [
        "while True:\n",
        "    a = int(input(\"ilk sayı:\"))\n",
        "    b = int(input(\"ikinci sayı:\"))\n",
        "    c = a/b\n",
        "    print(c)\n",
        "    "
      ],
      "id": "ethical-clothing",
      "execution_count": null,
      "outputs": []
    },
    {
      "cell_type": "code",
      "metadata": {
        "id": "political-notice",
        "outputId": "7c4efc7a-5ad3-4394-ce34-35b7703d5f3c"
      },
      "source": [
        "while True:\n",
        "    a = int(input(\"ilk sayı:\"))\n",
        "    b = int(input(\"ikinci sayı:\"))\n",
        "    \n",
        "    try:\n",
        "        c = a / b\n",
        "        print(c)\n",
        "        break\n",
        "    except:\n",
        "        print(\"bir şeyler ters gitti.\")\n",
        "        \n",
        "        \n",
        "# önce try'ın içinde gördüğü şeyi deneyecek, çıktı alacak ve programdan çıkacak. \n",
        "# exceptionla karşılaşırsa print'teki ifadeyi yazacak.\n",
        "\n",
        "# programını durdurmadan devam etmesini sağladı!!"
      ],
      "id": "political-notice",
      "execution_count": null,
      "outputs": [
        {
          "output_type": "stream",
          "text": [
            "ilk sayı:7\n",
            "ikinci sayı:0\n",
            "bir şeyler ters gitti.\n"
          ],
          "name": "stdout"
        },
        {
          "output_type": "error",
          "ename": "KeyboardInterrupt",
          "evalue": "Interrupted by user",
          "traceback": [
            "\u001b[1;31m---------------------------------------------------------------------------\u001b[0m",
            "\u001b[1;31mKeyboardInterrupt\u001b[0m                         Traceback (most recent call last)",
            "\u001b[1;32m<ipython-input-47-714136e8fe11>\u001b[0m in \u001b[0;36m<module>\u001b[1;34m\u001b[0m\n\u001b[0;32m      1\u001b[0m \u001b[1;32mwhile\u001b[0m \u001b[1;32mTrue\u001b[0m\u001b[1;33m:\u001b[0m\u001b[1;33m\u001b[0m\u001b[1;33m\u001b[0m\u001b[0m\n\u001b[1;32m----> 2\u001b[1;33m     \u001b[0ma\u001b[0m \u001b[1;33m=\u001b[0m \u001b[0mint\u001b[0m\u001b[1;33m(\u001b[0m\u001b[0minput\u001b[0m\u001b[1;33m(\u001b[0m\u001b[1;34m\"ilk sayı:\"\u001b[0m\u001b[1;33m)\u001b[0m\u001b[1;33m)\u001b[0m\u001b[1;33m\u001b[0m\u001b[1;33m\u001b[0m\u001b[0m\n\u001b[0m\u001b[0;32m      3\u001b[0m     \u001b[0mb\u001b[0m \u001b[1;33m=\u001b[0m \u001b[0mint\u001b[0m\u001b[1;33m(\u001b[0m\u001b[0minput\u001b[0m\u001b[1;33m(\u001b[0m\u001b[1;34m\"ikinci sayı:\"\u001b[0m\u001b[1;33m)\u001b[0m\u001b[1;33m)\u001b[0m\u001b[1;33m\u001b[0m\u001b[1;33m\u001b[0m\u001b[0m\n\u001b[0;32m      4\u001b[0m \u001b[1;33m\u001b[0m\u001b[0m\n\u001b[0;32m      5\u001b[0m     \u001b[1;32mtry\u001b[0m\u001b[1;33m:\u001b[0m\u001b[1;33m\u001b[0m\u001b[1;33m\u001b[0m\u001b[0m\n",
            "\u001b[1;32mc:\\users\\hüseyin\\appdata\\local\\programs\\python\\python37\\lib\\site-packages\\ipykernel\\kernelbase.py\u001b[0m in \u001b[0;36mraw_input\u001b[1;34m(self, prompt)\u001b[0m\n\u001b[0;32m    849\u001b[0m             \u001b[0mself\u001b[0m\u001b[1;33m.\u001b[0m\u001b[0m_parent_ident\u001b[0m\u001b[1;33m,\u001b[0m\u001b[1;33m\u001b[0m\u001b[1;33m\u001b[0m\u001b[0m\n\u001b[0;32m    850\u001b[0m             \u001b[0mself\u001b[0m\u001b[1;33m.\u001b[0m\u001b[0m_parent_header\u001b[0m\u001b[1;33m,\u001b[0m\u001b[1;33m\u001b[0m\u001b[1;33m\u001b[0m\u001b[0m\n\u001b[1;32m--> 851\u001b[1;33m             \u001b[0mpassword\u001b[0m\u001b[1;33m=\u001b[0m\u001b[1;32mFalse\u001b[0m\u001b[1;33m,\u001b[0m\u001b[1;33m\u001b[0m\u001b[1;33m\u001b[0m\u001b[0m\n\u001b[0m\u001b[0;32m    852\u001b[0m         )\n\u001b[0;32m    853\u001b[0m \u001b[1;33m\u001b[0m\u001b[0m\n",
            "\u001b[1;32mc:\\users\\hüseyin\\appdata\\local\\programs\\python\\python37\\lib\\site-packages\\ipykernel\\kernelbase.py\u001b[0m in \u001b[0;36m_input_request\u001b[1;34m(self, prompt, ident, parent, password)\u001b[0m\n\u001b[0;32m    890\u001b[0m             \u001b[1;32mexcept\u001b[0m \u001b[0mKeyboardInterrupt\u001b[0m\u001b[1;33m:\u001b[0m\u001b[1;33m\u001b[0m\u001b[1;33m\u001b[0m\u001b[0m\n\u001b[0;32m    891\u001b[0m                 \u001b[1;31m# re-raise KeyboardInterrupt, to truncate traceback\u001b[0m\u001b[1;33m\u001b[0m\u001b[1;33m\u001b[0m\u001b[1;33m\u001b[0m\u001b[0m\n\u001b[1;32m--> 892\u001b[1;33m                 \u001b[1;32mraise\u001b[0m \u001b[0mKeyboardInterrupt\u001b[0m\u001b[1;33m(\u001b[0m\u001b[1;34m\"Interrupted by user\"\u001b[0m\u001b[1;33m)\u001b[0m \u001b[1;32mfrom\u001b[0m \u001b[1;32mNone\u001b[0m\u001b[1;33m\u001b[0m\u001b[1;33m\u001b[0m\u001b[0m\n\u001b[0m\u001b[0;32m    893\u001b[0m             \u001b[1;32mexcept\u001b[0m \u001b[0mException\u001b[0m \u001b[1;32mas\u001b[0m \u001b[0me\u001b[0m\u001b[1;33m:\u001b[0m\u001b[1;33m\u001b[0m\u001b[1;33m\u001b[0m\u001b[0m\n\u001b[0;32m    894\u001b[0m                 \u001b[0mself\u001b[0m\u001b[1;33m.\u001b[0m\u001b[0mlog\u001b[0m\u001b[1;33m.\u001b[0m\u001b[0mwarning\u001b[0m\u001b[1;33m(\u001b[0m\u001b[1;34m\"Invalid Message:\"\u001b[0m\u001b[1;33m,\u001b[0m \u001b[0mexc_info\u001b[0m\u001b[1;33m=\u001b[0m\u001b[1;32mTrue\u001b[0m\u001b[1;33m)\u001b[0m\u001b[1;33m\u001b[0m\u001b[1;33m\u001b[0m\u001b[0m\n",
            "\u001b[1;31mKeyboardInterrupt\u001b[0m: Interrupted by user"
          ]
        }
      ]
    },
    {
      "cell_type": "code",
      "metadata": {
        "id": "ceramic-performance",
        "outputId": "a9020c13-5794-4f50-b9fc-3dbc42b6adc8"
      },
      "source": [
        "# en basit try except blokunu yazalım.\n",
        "\n",
        "try:\n",
        "    print(\"4\" + 4)\n",
        "except:\n",
        "    print(\"muhtelemen yanlış bir şeyler yaptın\")\n",
        "\n",
        "    \n",
        "# normalde hata verip programdan çıkması lazımken sadece print yapacak.\n",
        "# ben gelmesi muhtemel hatayı biliyorsam ona özel birşeyler yazabilirim."
      ],
      "id": "ceramic-performance",
      "execution_count": null,
      "outputs": [
        {
          "output_type": "stream",
          "text": [
            "muhtelemen yanlış bir şeyler yaptın\n"
          ],
          "name": "stdout"
        }
      ]
    },
    {
      "cell_type": "code",
      "metadata": {
        "id": "cloudy-cancer"
      },
      "source": [
        "while True:\n",
        "    a = int(input(\"ilk sayı:\"))\n",
        "    b = int(input(\"ikinci sayı:\"))\n",
        "    \n",
        "    try:\n",
        "        c = a / b\n",
        "        print(c)\n",
        "        break\n",
        "    except ZeroDivisionError:\n",
        "        print(\"Sırıfa bölünememe kuralını hatırla. ikinci sayıyı lütfen sıfır girme\")\n",
        "    \n",
        "\"\"\" \n",
        "Specifik bir hataya özel except yazabilir. \n",
        "Zero division eror beklediğimiz için sadece ona özel mesaj yazdırdık.\n",
        "birden fazla except de yazabiliriz.\n",
        "\"\"\""
      ],
      "id": "cloudy-cancer",
      "execution_count": null,
      "outputs": []
    },
    {
      "cell_type": "code",
      "metadata": {
        "id": "threatened-portable"
      },
      "source": [
        "\"\"\"\n",
        "except else bloku\n",
        "\n",
        "except var ise excepti çalıştır. eğer hiç bir exception yoksa else bloğunu çalıştır.\n",
        "\"\"\""
      ],
      "id": "threatened-portable",
      "execution_count": null,
      "outputs": []
    },
    {
      "cell_type": "code",
      "metadata": {
        "id": "dying-universe"
      },
      "source": [
        "\"\"\"\n",
        "except else finally bloku\n",
        "\n",
        "try'a exception olması muhtemel satırı koyuyorsun!!!\n",
        "hata olmaz ise else ve finally bloku çalışır.\n",
        "exception yükselirse except ve finally çalışır.\n",
        "\"\"\"\n"
      ],
      "id": "dying-universe",
      "execution_count": null,
      "outputs": []
    },
    {
      "cell_type": "code",
      "metadata": {
        "id": "plastic-packaging",
        "outputId": "2443f365-0ded-4d44-b4c6-8514e951482b"
      },
      "source": [
        "try:\n",
        "    print(\"4\" + 4)\n",
        "except TypeError:\n",
        "    print(\"type hatası var. tipi kontrol etsen iyi olur.\")\n",
        "else:\n",
        "    print(\"aaaa demek ki exception yükselmemiş. mmm. süper\")\n",
        "finally:\n",
        "    print(\"eh nihayet bana sıra geldi. ben çalıştım\")"
      ],
      "id": "plastic-packaging",
      "execution_count": null,
      "outputs": [
        {
          "output_type": "stream",
          "text": [
            "type hatası var. tipi kontrol etsen iyi olur.\n",
            "eh nihayet bana sıra geldi. ben çalıştım\n"
          ],
          "name": "stdout"
        }
      ]
    },
    {
      "cell_type": "code",
      "metadata": {
        "id": "expected-durham",
        "outputId": "e346383d-5508-4adb-d2f4-026dcb50dd44"
      },
      "source": [
        "try:\n",
        "    print(\"4\" + \"4\")\n",
        "except TypeError:\n",
        "    print(\"type hatası var. tipi kontrol etsen iyi olur.\")\n",
        "else:\n",
        "    print(\"aaaa demek ki exception yükselmemiş. mmm. süper\")\n",
        "finally:\n",
        "    print(\"eh nihayet bana sıra geldi. ben çalıştım\")"
      ],
      "id": "expected-durham",
      "execution_count": null,
      "outputs": [
        {
          "output_type": "stream",
          "text": [
            "44\n",
            "aaaa demek ki exception yükselmemiş. mmm. süper\n",
            "eh nihayet bana sıra geldi. ben çalıştım\n"
          ],
          "name": "stdout"
        }
      ]
    },
    {
      "cell_type": "code",
      "metadata": {
        "id": "finished-anger",
        "outputId": "860e10a6-0d4f-4e82-958c-3d4a254c4dbd"
      },
      "source": [
        "try:\n",
        "    print(\"4\" + 4)\n",
        "except ValueError:\n",
        "    print(\"type hatası var. tipi kontrol etsen iyi olur.\")\n",
        "else:\n",
        "    print(\"aaaa demek ki exception yükselmemiş. mmm. süper\")\n",
        "finally:\n",
        "    print(\"eh nihayet bana sıra geldi. ben çalıştım\")\n",
        "\n",
        "\"\"\"\n",
        "try denedi. hatayı gördü ama except bloğunda Value error yazdığı için ama hata Type Error olduğu için\n",
        "except'i atladı. mevcut hatayı verdi.\n",
        "\"\"\""
      ],
      "id": "finished-anger",
      "execution_count": null,
      "outputs": [
        {
          "output_type": "stream",
          "text": [
            "eh nihayet bana sıra geldi. ben çalıştım\n"
          ],
          "name": "stdout"
        },
        {
          "output_type": "error",
          "ename": "TypeError",
          "evalue": "can only concatenate str (not \"int\") to str",
          "traceback": [
            "\u001b[1;31m---------------------------------------------------------------------------\u001b[0m",
            "\u001b[1;31mTypeError\u001b[0m                                 Traceback (most recent call last)",
            "\u001b[1;32m<ipython-input-51-8c1a7a9b99ed>\u001b[0m in \u001b[0;36m<module>\u001b[1;34m\u001b[0m\n\u001b[0;32m      1\u001b[0m \u001b[1;32mtry\u001b[0m\u001b[1;33m:\u001b[0m\u001b[1;33m\u001b[0m\u001b[1;33m\u001b[0m\u001b[0m\n\u001b[1;32m----> 2\u001b[1;33m     \u001b[0mprint\u001b[0m\u001b[1;33m(\u001b[0m\u001b[1;34m\"4\"\u001b[0m \u001b[1;33m+\u001b[0m \u001b[1;36m4\u001b[0m\u001b[1;33m)\u001b[0m\u001b[1;33m\u001b[0m\u001b[1;33m\u001b[0m\u001b[0m\n\u001b[0m\u001b[0;32m      3\u001b[0m \u001b[1;32mexcept\u001b[0m \u001b[0mValueError\u001b[0m\u001b[1;33m:\u001b[0m\u001b[1;33m\u001b[0m\u001b[1;33m\u001b[0m\u001b[0m\n\u001b[0;32m      4\u001b[0m     \u001b[0mprint\u001b[0m\u001b[1;33m(\u001b[0m\u001b[1;34m\"type hatası var. tipi kontrol etsen iyi olur.\"\u001b[0m\u001b[1;33m)\u001b[0m\u001b[1;33m\u001b[0m\u001b[1;33m\u001b[0m\u001b[0m\n\u001b[0;32m      5\u001b[0m \u001b[1;32melse\u001b[0m\u001b[1;33m:\u001b[0m\u001b[1;33m\u001b[0m\u001b[1;33m\u001b[0m\u001b[0m\n",
            "\u001b[1;31mTypeError\u001b[0m: can only concatenate str (not \"int\") to str"
          ]
        }
      ]
    },
    {
      "cell_type": "code",
      "metadata": {
        "id": "junior-religion"
      },
      "source": [
        "\"\"\"\n",
        "Exception as\n",
        "\n",
        "exception yükseldiğinde onun ne olduğunu bir değişkene atıyor.\n",
        "yani karşılaşacağın hatayı bir değişkene atıyor\n",
        "sonra bu hatayı print ederken bu değişkeni kullanabiliyoruz.\n",
        "\"\"\""
      ],
      "id": "junior-religion",
      "execution_count": null,
      "outputs": []
    },
    {
      "cell_type": "code",
      "metadata": {
        "id": "august-museum",
        "outputId": "2d88319d-8d34-4ca0-8e85-e82fd3aed014"
      },
      "source": [
        "try:\n",
        "    a=10\n",
        "    b=2\n",
        "    print(\"the result of division is:\", c)\n",
        "except Exception as e:\n",
        "    print(\"the error message is : \", e)"
      ],
      "id": "august-museum",
      "execution_count": null,
      "outputs": [
        {
          "output_type": "stream",
          "text": [
            "the result of division is: sring value2\n"
          ],
          "name": "stdout"
        }
      ]
    },
    {
      "cell_type": "code",
      "metadata": {
        "id": "suspected-wiring",
        "outputId": "e1dc2693-48fc-4b4a-aad3-d171aefac878"
      },
      "source": [
        "try:\n",
        "    isim = input(\"isminiz :\")\n",
        "    print(g)\n",
        "except Exception as hatam:\n",
        "    print(hatam)\n",
        "    print(type(hatam))"
      ],
      "id": "suspected-wiring",
      "execution_count": null,
      "outputs": [
        {
          "output_type": "stream",
          "text": [
            "isminiz :hüseyin\n",
            "name 'g' is not defined\n",
            "<class 'NameError'>\n"
          ],
          "name": "stdout"
        }
      ]
    },
    {
      "cell_type": "code",
      "metadata": {
        "id": "framed-instrumentation"
      },
      "source": [
        ""
      ],
      "id": "framed-instrumentation",
      "execution_count": null,
      "outputs": []
    },
    {
      "cell_type": "code",
      "metadata": {
        "id": "particular-connecticut"
      },
      "source": [
        ""
      ],
      "id": "particular-connecticut",
      "execution_count": null,
      "outputs": []
    }
  ]
}