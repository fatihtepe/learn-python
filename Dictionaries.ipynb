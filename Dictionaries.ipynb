{
  "nbformat": 4,
  "nbformat_minor": 0,
  "metadata": {
    "colab": {
      "name": "Dictionaries.ipynb",
      "provenance": [],
      "authorship_tag": "ABX9TyOy2jx557MPGI15MR+gLS64",
      "include_colab_link": true
    },
    "kernelspec": {
      "name": "python3",
      "display_name": "Python 3"
    },
    "language_info": {
      "name": "python"
    }
  },
  "cells": [
    {
      "cell_type": "markdown",
      "metadata": {
        "id": "view-in-github",
        "colab_type": "text"
      },
      "source": [
        "<a href=\"https://colab.research.google.com/github/fatihtepe/python_ground/blob/main/Dictionaries.ipynb\" target=\"_parent\"><img src=\"https://colab.research.google.com/assets/colab-badge.svg\" alt=\"Open In Colab\"/></a>"
      ]
    },
    {
      "cell_type": "code",
      "metadata": {
        "colab": {
          "base_uri": "https://localhost:8080/"
        },
        "id": "-DS94u9XqMuu",
        "outputId": "84158fdc-4ddb-483e-ee4d-97e44a45c57a"
      },
      "source": [
        "first_dict= {'google': 'search', \n",
        "             'facebook': 'social', \n",
        "             'youtube': 'podioum'\n",
        "             }\n",
        "print(type(first_dict))"
      ],
      "execution_count": null,
      "outputs": [
        {
          "output_type": "stream",
          "text": [
            "<class 'dict'>\n"
          ],
          "name": "stdout"
        }
      ]
    },
    {
      "cell_type": "code",
      "metadata": {
        "colab": {
          "base_uri": "https://localhost:8080/"
        },
        "id": "bZ9iXtHxsiEp",
        "outputId": "40dd5c08-0b09-4a37-9b26-c96ffab643a4"
      },
      "source": [
        "state_capitals = {'Ontario': 'Toronto',\n",
        "                   'Alberta': 'Edmonton',\n",
        "                   'British Columbia': 'Victoria',\n",
        "                   'Saskatchewan': 'Regina',\n",
        "                   'Newfoundland and Labrador': 'St.John\\'s',\n",
        "                   'New Brunswick': 'Frederiction',\n",
        "                   'Prince Edward Island': 'Chharlottetown',\n",
        "                   'Quebec': 'Quebec',\n",
        "                   'Manitoba': 'Winnipeg',\n",
        "                   'Nunavut': 'Iqaluit',\n",
        "                   'Northwest Territories': 'Yellowknife',\n",
        "                   'Yukon': 'Whitehorse',\n",
        "                   }\n",
        "print(state_capitals['Alberta'], '\\n') \n",
        "state_capitals['Nova Scotia'] = 'Halifax' # adding a new item\n",
        "print(state_capitals)\n",
        "print(state_capitals['Ontario'])\n",
        "print(state_capitals['Nova Scotia'])\n"
      ],
      "execution_count": null,
      "outputs": [
        {
          "output_type": "stream",
          "text": [
            "Edmonton \n",
            "\n",
            "{'Ontario': 'Toronto', 'Alberta': 'Edmonton', 'British Columbia': 'Victoria', 'Saskatchewan': 'Regina', 'Newfoundland and Labrador': \"St.John's\", 'New Brunswick': 'Frederiction', 'Prince Edward Island': 'Chharlottetown', 'Quebec': 'Quebec', 'Manitoba': 'Winnipeg', 'Nunavut': 'Iqaluit', 'Northwest Territories': 'Yellowknife', 'Yukon': 'Whitehorse', 'Nova Scotia': 'Halifax'}\n",
            "Toronto\n",
            "Halifax\n"
          ],
          "name": "stdout"
        }
      ]
    },
    {
      "cell_type": "code",
      "metadata": {
        "colab": {
          "base_uri": "https://localhost:8080/"
        },
        "id": "1HK3dKBcwrUn",
        "outputId": "8e867fcb-efca-4d3b-9b4f-68539cc9142b"
      },
      "source": [
        "import pprint\n",
        "pprint.pprint(state_capitals, width=1)\n"
      ],
      "execution_count": null,
      "outputs": [
        {
          "output_type": "stream",
          "text": [
            "{'Alberta': 'Edmonton',\n",
            " 'British Columbia': 'Victoria',\n",
            " 'Manitoba': 'Winnipeg',\n",
            " 'New Brunswick': 'Frederiction',\n",
            " 'Newfoundland and Labrador': \"St.John's\",\n",
            " 'Northwest Territories': 'Yellowknife',\n",
            " 'Nova Scotia': 'Halifax',\n",
            " 'Nunavut': 'Iqaluit',\n",
            " 'Ontario': 'Toronto',\n",
            " 'Prince Edward Island': 'Chharlottetown',\n",
            " 'Quebec': 'Quebec',\n",
            " 'Saskatchewan': 'Regina',\n",
            " 'Yukon': 'Whitehorse'}\n"
          ],
          "name": "stdout"
        }
      ]
    },
    {
      "cell_type": "code",
      "metadata": {
        "colab": {
          "base_uri": "https://localhost:8080/"
        },
        "id": "FE-o1F8kw0Nn",
        "outputId": "c407fc7e-709b-46c6-8633-b6e68162056f"
      },
      "source": [
        "print(state_capitals.items(), '\\n')\n",
        "print(state_capitals.keys(), '\\n')\n",
        "print(state_capitals.values(), '\\n')\n",
        "print('Nunavut' in state_capitals, '\\n')\n",
        "print('Michigan' not in state_capitals, '\\n')\n",
        "print('Ontario' not in state_capitals)"
      ],
      "execution_count": null,
      "outputs": [
        {
          "output_type": "stream",
          "text": [
            "dict_items([('Ontario', 'Toronto'), ('Alberta', 'Edmonton'), ('British Columbia', 'Victoria'), ('Saskatchewan', 'Regina'), ('Newfoundland and Labrador', \"St.John's\"), ('New Brunswick', 'Frederiction'), ('Prince Edward Island', 'Chharlottetown'), ('Quebec', 'Quebec'), ('Manitoba', 'Winnipeg'), ('Nunavut', 'Iqaluit'), ('Northwest Territories', 'Yellowknife'), ('Yukon', 'Whitehorse'), ('Nova Scotia', 'Halifax')]) \n",
            "\n",
            "dict_keys(['Ontario', 'Alberta', 'British Columbia', 'Saskatchewan', 'Newfoundland and Labrador', 'New Brunswick', 'Prince Edward Island', 'Quebec', 'Manitoba', 'Nunavut', 'Northwest Territories', 'Yukon', 'Nova Scotia']) \n",
            "\n",
            "dict_values(['Toronto', 'Edmonton', 'Victoria', 'Regina', \"St.John's\", 'Frederiction', 'Chharlottetown', 'Quebec', 'Winnipeg', 'Iqaluit', 'Yellowknife', 'Whitehorse', 'Halifax']) \n",
            "\n",
            "True \n",
            "\n",
            "True \n",
            "\n",
            "False\n"
          ],
          "name": "stdout"
        }
      ]
    },
    {
      "cell_type": "code",
      "metadata": {
        "colab": {
          "base_uri": "https://localhost:8080/"
        },
        "id": "BVRXEWpQx7Ku",
        "outputId": "a24417ea-3afd-4628-8795-40fd6ec0c4b1"
      },
      "source": [
        "for x in state_capitals:\n",
        "    print(repr(x),\":\",state_capitals[x])"
      ],
      "execution_count": null,
      "outputs": [
        {
          "output_type": "stream",
          "text": [
            "'Ontario' : Toronto\n",
            "'Alberta' : Edmonton\n",
            "'British Columbia' : Victoria\n",
            "'Saskatchewan' : Regina\n",
            "'Newfoundland and Labrador' : St.John's\n",
            "'New Brunswick' : Frederiction\n",
            "'Prince Edward Island' : Chharlottetown\n",
            "'Quebec' : Quebec\n",
            "'Manitoba' : Winnipeg\n",
            "'Nunavut' : Iqaluit\n",
            "'Northwest Territories' : Yellowknife\n",
            "'Yukon' : Whitehorse\n",
            "'Nova Scotia' : Halifax\n"
          ],
          "name": "stdout"
        }
      ]
    },
    {
      "cell_type": "code",
      "metadata": {
        "colab": {
          "base_uri": "https://localhost:8080/"
        },
        "id": "YRNlTfTW0Ni9",
        "outputId": "1a6f6434-573b-4878-b1f6-a12658c81eb4"
      },
      "source": [
        "my_dict = {'fruit':'banana', 'vegatable':'onion'}\n",
        "my_dict['drink'] = 'water'\n",
        "my_dict['junkfood'] = 'snickers'\n",
        "\n",
        "print(my_dict)\n",
        "import pprint\n",
        "pprint.pprint(my_dict, width=1)"
      ],
      "execution_count": null,
      "outputs": [
        {
          "output_type": "stream",
          "text": [
            "{'fruit': 'banana', 'vegatable': 'onion', 'drink': 'water', 'junkfood': 'snickers'}\n",
            "{'drink': 'water',\n",
            " 'fruit': 'banana',\n",
            " 'junkfood': 'snickers',\n",
            " 'vegatable': 'onion'}\n"
          ],
          "name": "stdout"
        }
      ]
    },
    {
      "cell_type": "code",
      "metadata": {
        "colab": {
          "base_uri": "https://localhost:8080/"
        },
        "id": "guIdMWxj5UkT",
        "outputId": "4ce71bd9-bf71-42db-cac6-a2c3eb79cf34"
      },
      "source": [
        "print(my_dict.items(), '\\n')\n",
        "print(my_dict.keys(), '\\n')\n",
        "print(my_dict.values())"
      ],
      "execution_count": null,
      "outputs": [
        {
          "output_type": "stream",
          "text": [
            "dict_items([('fruit', 'banana'), ('vegatable', 'onion'), ('drink', 'water'), ('junkfood', 'snickers')]) \n",
            "\n",
            "dict_keys(['fruit', 'vegatable', 'drink', 'junkfood']) \n",
            "\n",
            "dict_values(['banana', 'onion', 'water', 'snickers'])\n"
          ],
          "name": "stdout"
        }
      ]
    },
    {
      "cell_type": "code",
      "metadata": {
        "colab": {
          "base_uri": "https://localhost:8080/"
        },
        "id": "W0sehAIA5rMb",
        "outputId": "506b737b-0b51-4f12-e860-737de233f4fe"
      },
      "source": [
        "my_dict['furniture'] = 'sofa'\n",
        "my_dict.update({'pi': 3.14})\n",
        "print(my_dict.items(), '\\n')\n",
        "pprint.pprint(my_dict, width=1)"
      ],
      "execution_count": null,
      "outputs": [
        {
          "output_type": "stream",
          "text": [
            "dict_items([('fruit', 'banana'), ('vegatable', 'onion'), ('drink', 'water'), ('junkfood', 'snickers'), ('furniture', 'sofa'), ('pi', 3.14)]) \n",
            "\n",
            "{'drink': 'water',\n",
            " 'fruit': 'banana',\n",
            " 'furniture': 'sofa',\n",
            " 'junkfood': 'snickers',\n",
            " 'pi': 3.14,\n",
            " 'vegatable': 'onion'}\n"
          ],
          "name": "stdout"
        }
      ]
    },
    {
      "cell_type": "code",
      "metadata": {
        "colab": {
          "base_uri": "https://localhost:8080/"
        },
        "id": "MriLhEhA6Oux",
        "outputId": "4952a787-147d-4690-9ea6-d85a90347797"
      },
      "source": [
        "for x in my_dict:\n",
        "    print(repr(x),\":\",my_dict[x], '\\n')\n",
        "pprint.pprint(my_dict)"
      ],
      "execution_count": null,
      "outputs": [
        {
          "output_type": "stream",
          "text": [
            "'fruit' : banana \n",
            "\n",
            "'vegatable' : onion \n",
            "\n",
            "'drink' : water \n",
            "\n",
            "'junkfood' : snickers \n",
            "\n",
            "'furniture' : sofa \n",
            "\n",
            "'pi' : 3.14 \n",
            "\n",
            "{'drink': 'water',\n",
            " 'fruit': 'banana',\n",
            " 'furniture': 'sofa',\n",
            " 'junkfood': 'snickers',\n",
            " 'pi': 3.14,\n",
            " 'vegatable': 'onion'}\n"
          ],
          "name": "stdout"
        }
      ]
    },
    {
      "cell_type": "code",
      "metadata": {
        "colab": {
          "base_uri": "https://localhost:8080/"
        },
        "id": "GK9bmQQA6a4e",
        "outputId": "40150d65-6b1b-49a0-f788-d5857d246552"
      },
      "source": [
        "print('fruit' in my_dict)\n",
        "print('junkfood' not in my_dict)"
      ],
      "execution_count": null,
      "outputs": [
        {
          "output_type": "stream",
          "text": [
            "True\n",
            "False\n"
          ],
          "name": "stdout"
        }
      ]
    },
    {
      "cell_type": "code",
      "metadata": {
        "colab": {
          "base_uri": "https://localhost:8080/"
        },
        "id": "3cxLKlZ09F0S",
        "outputId": "89a318ef-a061-4d79-8c93-3ec9d8c43c4e"
      },
      "source": [
        "pprint.pprint(my_dict)"
      ],
      "execution_count": null,
      "outputs": [
        {
          "output_type": "stream",
          "text": [
            "{'drink': 'water',\n",
            " 'fruit': 'banana',\n",
            " 'furniture': 'sofa',\n",
            " 'junkfood': 'snickers',\n",
            " 'pi': 3.14,\n",
            " 'vegatable': 'onion'}\n"
          ],
          "name": "stdout"
        }
      ]
    },
    {
      "cell_type": "code",
      "metadata": {
        "colab": {
          "base_uri": "https://localhost:8080/"
        },
        "id": "35ZUhwHI9eMV",
        "outputId": "c4ff1741-2c2f-4c54-d113-d795407663cb"
      },
      "source": [
        "my_dict['drink'] = 'coke'\n",
        "print(my_dict.items())"
      ],
      "execution_count": null,
      "outputs": [
        {
          "output_type": "stream",
          "text": [
            "dict_items([('vegatable', 'onion'), ('drink', 'coke'), ('junkfood', 'snickers'), ('furniture', 'sofa'), ('pi', 3.14)])\n"
          ],
          "name": "stdout"
        }
      ]
    },
    {
      "cell_type": "code",
      "metadata": {
        "colab": {
          "base_uri": "https://localhost:8080/"
        },
        "id": "T3SX_M1M97sK",
        "outputId": "780f559e-55c6-443c-831d-2d6f174e3389"
      },
      "source": [
        "del my_dict['pi']\n",
        "pprint.pprint(my_dict)"
      ],
      "execution_count": null,
      "outputs": [
        {
          "output_type": "stream",
          "text": [
            "{'drink': 'coke',\n",
            " 'furniture': 'sofa',\n",
            " 'junkfood': 'snickers',\n",
            " 'vegatable': 'onion'}\n"
          ],
          "name": "stdout"
        }
      ]
    },
    {
      "cell_type": "code",
      "metadata": {
        "colab": {
          "base_uri": "https://localhost:8080/"
        },
        "id": "73w1AuKZ-ryG",
        "outputId": "d254b3be-39e7-46b5-d5c3-937a6d9c4b7a"
      },
      "source": [
        "print('pi' in my_dict, '\\n')\n",
        "print('pi' not in my_dict)"
      ],
      "execution_count": null,
      "outputs": [
        {
          "output_type": "stream",
          "text": [
            "False \n",
            "\n",
            "True\n"
          ],
          "name": "stdout"
        }
      ]
    },
    {
      "cell_type": "code",
      "metadata": {
        "colab": {
          "base_uri": "https://localhost:8080/"
        },
        "id": "kdND2sH-_K3n",
        "outputId": "462a437b-09a8-4636-81d3-6f84ffead49d"
      },
      "source": [
        "print(my_dict['drink'])"
      ],
      "execution_count": null,
      "outputs": [
        {
          "output_type": "stream",
          "text": [
            "coke\n"
          ],
          "name": "stdout"
        }
      ]
    },
    {
      "cell_type": "code",
      "metadata": {
        "colab": {
          "base_uri": "https://localhost:8080/"
        },
        "id": "2P_7EdhLHbvN",
        "outputId": "70aac6b7-0b0c-4688-80a7-d5d06563be0e"
      },
      "source": [
        "school_records={\n",
        "    \"personal_info\":\n",
        "        {\"kid\":{\"tom\": {\"class\": \"intermediate\", \"age\": 10},\n",
        "                \"sue\": {\"class\": \"elementary\", \"age\": 8}\n",
        "               },\n",
        "         \"teen\":{\"joseph\":{\"class\": \"college\", \"age\": 19},\n",
        "                 \"marry\":{\"class\": \"high school\", \"age\": 16}\n",
        "               },               \n",
        "        },\n",
        "        \n",
        "    \"grades_info\":\n",
        "        {\"kid\":{\"tom\": {\"math\": 88, \"speech\": 69},\n",
        "                \"sue\": {\"math\": 90, \"speech\": 81}\n",
        "               },\n",
        "         \"teen\":{\"joseph\":{\"coding\": 80, \"math\": 89},\n",
        "                 \"marry\":{\"coding\": 70, \"math\": 96}\n",
        "               },               \n",
        "        },        \n",
        "}\n",
        "\n",
        "print(school_records['personal_info']['teen']['marry']['age'])\n",
        "pprint.pprint(school_records['personal_info']['teen'])"
      ],
      "execution_count": null,
      "outputs": [
        {
          "output_type": "stream",
          "text": [
            "16\n",
            "{'joseph': {'age': 19, 'class': 'college'},\n",
            " 'marry': {'age': 16, 'class': 'high school'}}\n"
          ],
          "name": "stdout"
        }
      ]
    },
    {
      "cell_type": "code",
      "metadata": {
        "colab": {
          "base_uri": "https://localhost:8080/"
        },
        "id": "Wntu-5beI1TK",
        "outputId": "0fb1bc82-b7d1-4c41-cf6a-45f293a2e34f"
      },
      "source": [
        "abc_sports_teams = {\n",
        "  'Futsal':\n",
        "    {'Futsal_Women': {'Emma': {'class': 'college', 'age': 19},\n",
        "                      'Olivia': {'class': 'high school', 'age': 16},\n",
        "                      'Isabella': {'class': 'college', 'age': 20},\n",
        "                      'Mia': {'class': 'high school', 'age': 17},\n",
        "                      'Sophia': {'class': 'college', 'age': 18},\n",
        "                      },\n",
        "     'Futsal_Men': {'Robert': {'class': 'college', 'age': 20},\n",
        "                    'Martin': {'class': 'high school', 'age': 16},\n",
        "                    'James': {'class': 'college', 'age': 19},\n",
        "                    'Liam': {'class': 'high school', 'age': 15},\n",
        "                    'Lucas': {'class': 'college', 'age': 18},\n",
        "                    },\n",
        "     },\n",
        "  'Basketball':\n",
        "    {'Basketball_Women': {'Ava': {'class': 'college', 'age': 19},\n",
        "                          'Evelyn': {'class': 'high school', 'age': 16},\n",
        "                          'Hazel': {'class': 'college', 'age': 20},\n",
        "                          'Olivia': {'class': 'high school', 'age': 17},\n",
        "                          'Bella': {'class': 'college', 'age': 18},\n",
        "                          },\n",
        "     'Basketball_Men': {'Logan': {'class': 'college', 'age': 20},\n",
        "                        'Jack': {'class': 'high school', 'age': 16},\n",
        "                        'Joseph': {'class': 'college', 'age': 19},\n",
        "                        'Matthew': {'class': 'high school', 'age': 15},\n",
        "                        'David': {'class': 'college', 'age': 18},\n",
        "                        },\n",
        "     },\n",
        "     }          \n",
        "pprint.pprint(abc_sports_teams)\n"
      ],
      "execution_count": null,
      "outputs": [
        {
          "output_type": "stream",
          "text": [
            "{'Basketball': {'Basketball_Men': {'David': {'age': 18, 'class': 'college'},\n",
            "                                   'Jack': {'age': 16, 'class': 'high school'},\n",
            "                                   'Joseph': {'age': 19, 'class': 'college'},\n",
            "                                   'Logan': {'age': 20, 'class': 'college'},\n",
            "                                   'Matthew': {'age': 15,\n",
            "                                               'class': 'high school'}},\n",
            "                'Basketball_Women': {'Ava': {'age': 19, 'class': 'college'},\n",
            "                                     'Bella': {'age': 18, 'class': 'college'},\n",
            "                                     'Evelyn': {'age': 16,\n",
            "                                                'class': 'high school'},\n",
            "                                     'Hazel': {'age': 20, 'class': 'college'},\n",
            "                                     'Olivia': {'age': 17,\n",
            "                                                'class': 'high school'}}},\n",
            " 'Futsal': {'Futsal_Men': {'James': {'age': 19, 'class': 'college'},\n",
            "                           'Liam': {'age': 15, 'class': 'high school'},\n",
            "                           'Lucas': {'age': 18, 'class': 'college'},\n",
            "                           'Martin': {'age': 16, 'class': 'high school'},\n",
            "                           'Robert': {'age': 20, 'class': 'college'}},\n",
            "            'Futsal_Women': {'Emma': {'age': 19, 'class': 'college'},\n",
            "                             'Isabella': {'age': 20, 'class': 'college'},\n",
            "                             'Mia': {'age': 17, 'class': 'high school'},\n",
            "                             'Olivia': {'age': 16, 'class': 'high school'},\n",
            "                             'Sophia': {'age': 18, 'class': 'college'}}}}\n"
          ],
          "name": "stdout"
        }
      ]
    },
    {
      "cell_type": "code",
      "metadata": {
        "colab": {
          "base_uri": "https://localhost:8080/"
        },
        "id": "bSNQJlwNk-AK",
        "outputId": "9f7411ce-326f-4602-a32a-97d9e8ebeb93"
      },
      "source": [
        "import json\n",
        "\n",
        "person = '{\"name\": \"Fatih\", \"languages\": [\"English\", \"Turkish\"]}'\n",
        "person_dict = json.loads(person)\n",
        "print(person_dict)\n",
        "print(person_dict['languages'])\n",
        "print(person_dict['name'])"
      ],
      "execution_count": null,
      "outputs": [
        {
          "output_type": "stream",
          "text": [
            "{'name': 'Fatih', 'languages': ['English', 'Turkish']}\n",
            "['English', 'Turkish']\n",
            "Fatih\n"
          ],
          "name": "stdout"
        }
      ]
    },
    {
      "cell_type": "code",
      "metadata": {
        "colab": {
          "base_uri": "https://localhost:8080/"
        },
        "id": "VRi4lFO4mhPT",
        "outputId": "8c0a1cfc-e0d6-4acc-e1fd-a05ba69369f4"
      },
      "source": [
        "\n",
        "import json\n",
        "\n",
        "abc_sports_teams_json = json.dumps(abc_sports_teams)\n",
        "print(abc_sports_teams_json)"
      ],
      "execution_count": null,
      "outputs": [
        {
          "output_type": "stream",
          "text": [
            "{\"Futsal\": {\"Futsal_Women\": {\"Emma\": {\"class\": \"college\", \"age\": 19}, \"Olivia\": {\"class\": \"high school\", \"age\": 16}, \"Isabella\": {\"class\": \"college\", \"age\": 20}, \"Mia\": {\"class\": \"high school\", \"age\": 17}, \"Sophia\": {\"class\": \"college\", \"age\": 18}}, \"Futsal_Men\": {\"Robert\": {\"class\": \"college\", \"age\": 20}, \"Martin\": {\"class\": \"high school\", \"age\": 16}, \"James\": {\"class\": \"college\", \"age\": 19}, \"Liam\": {\"class\": \"high school\", \"age\": 15}, \"Lucas\": {\"class\": \"college\", \"age\": 18}}}, \"Basketball\": {\"Basketball_Women\": {\"Ava\": {\"class\": \"college\", \"age\": 19}, \"Evelyn\": {\"class\": \"high school\", \"age\": 16}, \"Hazel\": {\"class\": \"college\", \"age\": 20}, \"Olivia\": {\"class\": \"high school\", \"age\": 17}, \"Bella\": {\"class\": \"college\", \"age\": 18}}, \"Basketball_Men\": {\"Logan\": {\"class\": \"college\", \"age\": 20}, \"Jack\": {\"class\": \"high school\", \"age\": 16}, \"Joseph\": {\"class\": \"college\", \"age\": 19}, \"Matthew\": {\"class\": \"high school\", \"age\": 15}, \"David\": {\"class\": \"college\", \"age\": 18}}}}\n"
          ],
          "name": "stdout"
        }
      ]
    },
    {
      "cell_type": "code",
      "metadata": {
        "colab": {
          "base_uri": "https://localhost:8080/"
        },
        "id": "FI9fEFw7m1CT",
        "outputId": "9f2fae03-38b5-451d-f81f-eb81237a4279"
      },
      "source": [
        "abc_dict = json.loads(abc_sports_teams_json)\n",
        "print(abc_dict.items())\n",
        "print(abc_dict.keys()) \n",
        "print(abc_dict.values())\n",
        "\n"
      ],
      "execution_count": null,
      "outputs": [
        {
          "output_type": "stream",
          "text": [
            "dict_items([('Futsal', {'Futsal_Women': {'Emma': {'class': 'college', 'age': 19}, 'Olivia': {'class': 'high school', 'age': 16}, 'Isabella': {'class': 'college', 'age': 20}, 'Mia': {'class': 'high school', 'age': 17}, 'Sophia': {'class': 'college', 'age': 18}}, 'Futsal_Men': {'Robert': {'class': 'college', 'age': 20}, 'Martin': {'class': 'high school', 'age': 16}, 'James': {'class': 'college', 'age': 19}, 'Liam': {'class': 'high school', 'age': 15}, 'Lucas': {'class': 'college', 'age': 18}}}), ('Basketball', {'Basketball_Women': {'Ava': {'class': 'college', 'age': 19}, 'Evelyn': {'class': 'high school', 'age': 16}, 'Hazel': {'class': 'college', 'age': 20}, 'Olivia': {'class': 'high school', 'age': 17}, 'Bella': {'class': 'college', 'age': 18}}, 'Basketball_Men': {'Logan': {'class': 'college', 'age': 20}, 'Jack': {'class': 'high school', 'age': 16}, 'Joseph': {'class': 'college', 'age': 19}, 'Matthew': {'class': 'high school', 'age': 15}, 'David': {'class': 'college', 'age': 18}}})])\n",
            "dict_keys(['Futsal', 'Basketball'])\n",
            "dict_values([{'Futsal_Women': {'Emma': {'class': 'college', 'age': 19}, 'Olivia': {'class': 'high school', 'age': 16}, 'Isabella': {'class': 'college', 'age': 20}, 'Mia': {'class': 'high school', 'age': 17}, 'Sophia': {'class': 'college', 'age': 18}}, 'Futsal_Men': {'Robert': {'class': 'college', 'age': 20}, 'Martin': {'class': 'high school', 'age': 16}, 'James': {'class': 'college', 'age': 19}, 'Liam': {'class': 'high school', 'age': 15}, 'Lucas': {'class': 'college', 'age': 18}}}, {'Basketball_Women': {'Ava': {'class': 'college', 'age': 19}, 'Evelyn': {'class': 'high school', 'age': 16}, 'Hazel': {'class': 'college', 'age': 20}, 'Olivia': {'class': 'high school', 'age': 17}, 'Bella': {'class': 'college', 'age': 18}}, 'Basketball_Men': {'Logan': {'class': 'college', 'age': 20}, 'Jack': {'class': 'high school', 'age': 16}, 'Joseph': {'class': 'college', 'age': 19}, 'Matthew': {'class': 'high school', 'age': 15}, 'David': {'class': 'college', 'age': 18}}}])\n"
          ],
          "name": "stdout"
        }
      ]
    },
    {
      "cell_type": "code",
      "metadata": {
        "colab": {
          "base_uri": "https://localhost:8080/"
        },
        "id": "RO2-W4kDqVtW",
        "outputId": "c0ac5de4-0643-4331-d653-eef721941ded"
      },
      "source": [
        "customers = { \n",
        "'bank': \n",
        "{1: {'name': 'James', 'age': '27', 'sex': 'Male'}, \n",
        " 2: {'name': 'Nicole', 'age': '25', 'sex': 'Female'},  \n",
        " 3: {'name': 'Andy', 'age': '38', 'sex': 'Male'}, \n",
        " 4: {'name': 'Alex', 'age': '19', 'sex': 'Male'}, \n",
        " 5: {'name': 'Linda', 'age': '33', 'sex': 'Female'}, \n",
        "},\n",
        "'insurance':\n",
        "{1: {'name': 'Jashua', 'age': '33', 'sex': 'Male'}, \n",
        " 2: {'name': 'Marry', 'age': '66', 'sex': 'Female'},  \n",
        " 3: {'name': 'Adam', 'age': '56', 'sex': 'Male'}, \n",
        " 4: {'name': 'Samuel', 'age': '54', 'sex': 'Male'}, \n",
        " 5: {'name': 'Lisa', 'age': '22', 'sex': 'Female'},\n",
        "},\n",
        "}\n",
        "\n",
        "print(customers['insurance'][5]['age'])"
      ],
      "execution_count": null,
      "outputs": [
        {
          "output_type": "stream",
          "text": [
            "22\n"
          ],
          "name": "stdout"
        }
      ]
    },
    {
      "cell_type": "code",
      "metadata": {
        "colab": {
          "base_uri": "https://localhost:8080/"
        },
        "id": "nnNg5dQGt3Du",
        "outputId": "6bfc986e-fd47-41dd-953e-56dfb152e526"
      },
      "source": [
        "abc_futsal = {\n",
        "    'futsal_women': \n",
        "    {1: {'name': 'Emma', 'age': 15, 'education': 'highschool'},\n",
        "     2: {'name': 'Olivia', 'age': 18, 'education': 'college'},\n",
        "     3: {'name': 'Olivia', 'age': 18, 'education': 'college'},\n",
        "     4: {'name': 'Olivia', 'age': 18, 'education': 'college'},\n",
        "     5: {'name': 'Olivia', 'age': 18, 'education': 'college'},\n",
        "     }, \n",
        "     'futsal_men': \n",
        "    {1: {'name': 'Emma', 'age': 15, 'education': 'highschool'},\n",
        "     2: {'name': 'Olivia', 'age': 18, 'education': 'college'},\n",
        "     3: {'name': 'Olivia', 'age': 18, 'education': 'college'},\n",
        "     4: {'name': 'Olivia', 'age': 18, 'education': 'college'},\n",
        "     5: {'name': 'Olivia', 'age': 18, 'education': 'college'},\n",
        "     },\n",
        "     } \n",
        "\n",
        "\n",
        "print(abc_futsal) \n",
        "print(abc_futsal.keys())    "
      ],
      "execution_count": null,
      "outputs": [
        {
          "output_type": "stream",
          "text": [
            "{'futsal_women': {1: {'name': 'Emma', 'age': 15, 'education': 'highschool'}, 2: {'name': 'Olivia', 'age': 18, 'education': 'college'}, 3: {'name': 'Olivia', 'age': 18, 'education': 'college'}, 4: {'name': 'Olivia', 'age': 18, 'education': 'college'}, 5: {'name': 'Olivia', 'age': 18, 'education': 'college'}}, 'futsal_men': {1: {'name': 'Emma', 'age': 15, 'education': 'highschool'}, 2: {'name': 'Olivia', 'age': 18, 'education': 'college'}, 3: {'name': 'Olivia', 'age': 18, 'education': 'college'}, 4: {'name': 'Olivia', 'age': 18, 'education': 'college'}, 5: {'name': 'Olivia', 'age': 18, 'education': 'college'}}}\n",
            "dict_keys(['futsal_women', 'futsal_men'])\n"
          ],
          "name": "stdout"
        }
      ]
    },
    {
      "cell_type": "code",
      "metadata": {
        "colab": {
          "base_uri": "https://localhost:8080/"
        },
        "id": "-Y1li8Oh1Pje",
        "outputId": "9039956d-7ef0-4cec-b927-a5c5b788ec5f"
      },
      "source": [
        "abc_uni = {'futsal': {\n",
        "    'futsal_women': \n",
        "    {1: {'name': 'Emma', 'age': 15, 'education': 'highschool'},\n",
        "     2: {'name': 'Olivia', 'age': 18, 'education': 'college'},\n",
        "     3: {'name': 'Olivia', 'age': 18, 'education': 'college'},\n",
        "     4: {'name': 'Olivia', 'age': 18, 'education': 'college'},\n",
        "     5: {'name': 'Olivia', 'age': 18, 'education': 'college'},\n",
        "     }, \n",
        "     'futsal_men': \n",
        "    {1: {'name': 'Emma', 'age': 15, 'education': 'highschool'},\n",
        "     2: {'name': 'Olivia', 'age': 18, 'education': 'college'},\n",
        "     3: {'name': 'Olivia', 'age': 18, 'education': 'college'},\n",
        "     4: {'name': 'Olivia', 'age': 18, 'education': 'college'},\n",
        "     5: {'name': 'Olivia', 'age': 18, 'education': 'college'},\n",
        "     },\n",
        "     },\n",
        "} \n",
        "\n",
        "print(abc_uni) \n",
        "print(abc_uni.keys())    "
      ],
      "execution_count": null,
      "outputs": [
        {
          "output_type": "stream",
          "text": [
            "{'futsal': {'futsal_women': {1: {'name': 'Emma', 'age': 15, 'education': 'highschool'}, 2: {'name': 'Olivia', 'age': 18, 'education': 'college'}, 3: {'name': 'Olivia', 'age': 18, 'education': 'college'}, 4: {'name': 'Olivia', 'age': 18, 'education': 'college'}, 5: {'name': 'Olivia', 'age': 18, 'education': 'college'}}, 'futsal_men': {1: {'name': 'Emma', 'age': 15, 'education': 'highschool'}, 2: {'name': 'Olivia', 'age': 18, 'education': 'college'}, 3: {'name': 'Olivia', 'age': 18, 'education': 'college'}, 4: {'name': 'Olivia', 'age': 18, 'education': 'college'}, 5: {'name': 'Olivia', 'age': 18, 'education': 'college'}}}}\n",
            "dict_keys(['futsal'])\n"
          ],
          "name": "stdout"
        }
      ]
    },
    {
      "cell_type": "code",
      "metadata": {
        "colab": {
          "base_uri": "https://localhost:8080/"
        },
        "id": "u9zBy6nH3xVC",
        "outputId": "a5532a65-a08d-4ec6-89b7-94fecc350ff9"
      },
      "source": [
        "abc_uni = {'futsal': {\n",
        "    'futsal_women': \n",
        "    {1: {'name': 'Emma', 'age': 15, 'education': 'highschool'},\n",
        "     2: {'name': 'Olivia', 'age': 18, 'education': 'college'},\n",
        "     3: {'name': 'Isabella', 'age': 20, 'education': 'college'},\n",
        "     4: {'name': 'Mia', 'age': 18, 'education': 'college'},\n",
        "     5: {'name': 'Sophia', 'age': 19, 'education': 'college'},\n",
        "     }, \n",
        "     'futsal_men': \n",
        "    {1: {'name': 'Robert', 'age': 15, 'education': 'highschool'},\n",
        "     2: {'name': 'Martin', 'age': 18, 'education': 'college'},\n",
        "     3: {'name': 'James', 'age': 22, 'education': 'college'},\n",
        "     4: {'name': 'Liam', 'age': 20, 'education': 'college'},\n",
        "     5: {'name': 'Lucas', 'age': 18, 'education': 'college'},\n",
        "     },\n",
        "     }, \n",
        "     'basketball': {\n",
        "    'basketball_women': \n",
        "    {1: {'name': 'Ava', 'age': 15, 'education': 'highschool'},\n",
        "     2: {'name': 'Evelyn', 'age': 18, 'education': 'college'},\n",
        "     3: {'name': 'Hazel', 'age': 18, 'education': 'college'},\n",
        "     4: {'name': 'Olivia', 'age': 18, 'education': 'college'},\n",
        "     5: {'name': 'Bella', 'age': 18, 'education': 'college'},\n",
        "     }, \n",
        "     'basketball_men': \n",
        "    {1: {'name': 'Logan', 'age': 15, 'education': 'highschool'},\n",
        "     2: {'name': 'Jack', 'age': 18, 'education': 'college'},\n",
        "     3: {'name': 'Joseph', 'age': 18, 'education': 'college'},\n",
        "     4: {'name': 'Matthew', 'age': 18, 'education': 'college'},\n",
        "     5: {'name': 'David', 'age': 18, 'education': 'college'},\n",
        "     },\n",
        "     }, \n",
        "     'swimming': {\n",
        "    'swimming_women': \n",
        "    {1: {'name': 'Scarlett', 'age': 15, 'education': 'highschool'},\n",
        "     2: {'name': 'Mia', 'age': 18, 'education': 'college'},\n",
        "     3: {'name': 'Emma', 'age': 20, 'education': 'college'},\n",
        "     4: {'name': 'Ellie', 'age': 19, 'education': 'college'},\n",
        "     5: {'name': 'Anne', 'age': 18, 'education': 'college'},\n",
        "     }, \n",
        "     'swimming_men': \n",
        "    {1: {'name': 'Robert', 'age': 15, 'education': 'highschool'},\n",
        "     2: {'name': 'Carter', 'age': 18, 'education': 'college'},\n",
        "     3: {'name': 'Joseph', 'age': 18, 'education': 'college'},\n",
        "     4: {'name': 'Martin', 'age': 19, 'education': 'college'},\n",
        "     5: {'name': 'Isaac', 'age': 18, 'education': 'college'},\n",
        "     },\n",
        "     },\n",
        "     } \n",
        "    \n",
        "print(abc_uni) \n",
        "print(abc_uni.keys())  \n",
        "\n",
        "print(abc_uni['swimming']['swimming_men'][4]['name'])"
      ],
      "execution_count": null,
      "outputs": [
        {
          "output_type": "stream",
          "text": [
            "{'futsal': {'futsal_women': {1: {'name': 'Emma', 'age': 15, 'education': 'highschool'}, 2: {'name': 'Olivia', 'age': 18, 'education': 'college'}, 3: {'name': 'Isabella', 'age': 20, 'education': 'college'}, 4: {'name': 'Mia', 'age': 18, 'education': 'college'}, 5: {'name': 'Sophia', 'age': 19, 'education': 'college'}}, 'futsal_men': {1: {'name': 'Robert', 'age': 15, 'education': 'highschool'}, 2: {'name': 'Martin', 'age': 18, 'education': 'college'}, 3: {'name': 'James', 'age': 22, 'education': 'college'}, 4: {'name': 'Liam', 'age': 20, 'education': 'college'}, 5: {'name': 'Lucas', 'age': 18, 'education': 'college'}}}, 'basketball': {'basketball_women': {1: {'name': 'Ava', 'age': 15, 'education': 'highschool'}, 2: {'name': 'Evelyn', 'age': 18, 'education': 'college'}, 3: {'name': 'Hazel', 'age': 18, 'education': 'college'}, 4: {'name': 'Olivia', 'age': 18, 'education': 'college'}, 5: {'name': 'Bella', 'age': 18, 'education': 'college'}}, 'basketball_men': {1: {'name': 'Logan', 'age': 15, 'education': 'highschool'}, 2: {'name': 'Jack', 'age': 18, 'education': 'college'}, 3: {'name': 'Joseph', 'age': 18, 'education': 'college'}, 4: {'name': 'Matthew', 'age': 18, 'education': 'college'}, 5: {'name': 'David', 'age': 18, 'education': 'college'}}}, 'swimming': {'swimming_women': {1: {'name': 'Scarlett', 'age': 15, 'education': 'highschool'}, 2: {'name': 'Mia', 'age': 18, 'education': 'college'}, 3: {'name': 'Emma', 'age': 20, 'education': 'college'}, 4: {'name': 'Ellie', 'age': 19, 'education': 'college'}, 5: {'name': 'Anne', 'age': 18, 'education': 'college'}}, 'swimming_men': {1: {'name': 'Robert', 'age': 15, 'education': 'highschool'}, 2: {'name': 'Carter', 'age': 18, 'education': 'college'}, 3: {'name': 'Joseph', 'age': 18, 'education': 'college'}, 4: {'name': 'Martin', 'age': 19, 'education': 'college'}, 5: {'name': 'Isaac', 'age': 18, 'education': 'college'}}}}\n",
            "dict_keys(['futsal', 'basketball', 'swimming'])\n",
            "Martin\n"
          ],
          "name": "stdout"
        }
      ]
    },
    {
      "cell_type": "code",
      "metadata": {
        "id": "DnzDK3coaEQo",
        "outputId": "2755d9c1-cc18-45bb-f5bc-b4326bb9f05d",
        "colab": {
          "base_uri": "https://localhost:8080/"
        }
      },
      "source": [
        "customer = {\n",
        "    'name': 'John Smith',\n",
        "    'age': 30,\n",
        "    'is_verifed': True\n",
        "}\n",
        "customer['name'] = 'Jack Smith'  # update a value\n",
        "customer['birthdate'] = 'Jan 1 1980'  # add new key&value\n",
        "print(customer['birthdate'])  "
      ],
      "execution_count": 8,
      "outputs": [
        {
          "output_type": "stream",
          "text": [
            "Jan 1 1980\n"
          ],
          "name": "stdout"
        }
      ]
    },
    {
      "cell_type": "code",
      "metadata": {
        "id": "3DSKMUuZcOep",
        "outputId": "03664f3e-45f3-4758-fdc5-7efdfd5a21b2",
        "colab": {
          "base_uri": "https://localhost:8080/"
        }
      },
      "source": [
        "phone = input('Phone: ')\n",
        "digits_mapping = {\n",
        "    '1' : 'One',\n",
        "    '2' : 'Two',\n",
        "    '3' : 'Three',\n",
        "    '4' : 'Four', \n",
        "    '5' : 'Five',\n",
        "    '6' : 'Six', \n",
        "    '7' : 'Seven',\n",
        "    '8' : 'Eight',\n",
        "    '9' : 'Nine',\n",
        "    '0' : 'Zero'\n",
        "}\n",
        "output = ''\n",
        "for ch in phone:\n",
        "    output += digits_mapping.get(ch, '!') + ' '\n",
        "print(output)\n"
      ],
      "execution_count": 10,
      "outputs": [
        {
          "output_type": "stream",
          "text": [
            "Phone: +15195032095\n",
            "! One Five One Nine Five Zero Three Two Zero Nine Five \n"
          ],
          "name": "stdout"
        }
      ]
    },
    {
      "cell_type": "code",
      "metadata": {
        "id": "rOwt8_rAe6a0",
        "outputId": "9e3d2226-3925-45c4-9889-a09c87199bcd",
        "colab": {
          "base_uri": "https://localhost:8080/"
        }
      },
      "source": [
        "message = input('>')\n",
        "words = message.split(' ')\n",
        "\n",
        "emojis = {\n",
        "    ':)': '😀',\n",
        "    ':(': '😔'\n",
        "}\n",
        "output = ''\n",
        "for word in words:\n",
        "  output += emojis.get(word, word) + ' '\n",
        "print(output)"
      ],
      "execution_count": 26,
      "outputs": [
        {
          "output_type": "stream",
          "text": [
            ">I am happy :)\n",
            "I am happy 😀 \n"
          ],
          "name": "stdout"
        }
      ]
    }
  ]
}