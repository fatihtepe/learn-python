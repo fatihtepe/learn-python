{
  "nbformat": 4,
  "nbformat_minor": 0,
  "metadata": {
    "colab": {
      "name": "Dictionaries.ipynb",
      "provenance": [],
      "authorship_tag": "ABX9TyNJ34Ag+Uaw9IcjrkQ7D425",
      "include_colab_link": true
    },
    "kernelspec": {
      "name": "python3",
      "display_name": "Python 3"
    },
    "language_info": {
      "name": "python"
    }
  },
  "cells": [
    {
      "cell_type": "markdown",
      "metadata": {
        "id": "view-in-github",
        "colab_type": "text"
      },
      "source": [
        "<a href=\"https://colab.research.google.com/github/fatihtepe/python_ground/blob/main/Dictionaries.ipynb\" target=\"_parent\"><img src=\"https://colab.research.google.com/assets/colab-badge.svg\" alt=\"Open In Colab\"/></a>"
      ]
    },
    {
      "cell_type": "code",
      "metadata": {
        "colab": {
          "base_uri": "https://localhost:8080/"
        },
        "id": "-DS94u9XqMuu",
        "outputId": "84158fdc-4ddb-483e-ee4d-97e44a45c57a"
      },
      "source": [
        "first_dict= {'google': 'search', \n",
        "             'facebook': 'social', \n",
        "             'youtube': 'podioum'\n",
        "             }\n",
        "print(type(first_dict))"
      ],
      "execution_count": null,
      "outputs": [
        {
          "output_type": "stream",
          "text": [
            "<class 'dict'>\n"
          ],
          "name": "stdout"
        }
      ]
    },
    {
      "cell_type": "code",
      "metadata": {
        "colab": {
          "base_uri": "https://localhost:8080/"
        },
        "id": "bZ9iXtHxsiEp",
        "outputId": "40dd5c08-0b09-4a37-9b26-c96ffab643a4"
      },
      "source": [
        "state_capitals = {'Ontario': 'Toronto',\n",
        "                   'Alberta': 'Edmonton',\n",
        "                   'British Columbia': 'Victoria',\n",
        "                   'Saskatchewan': 'Regina',\n",
        "                   'Newfoundland and Labrador': 'St.John\\'s',\n",
        "                   'New Brunswick': 'Frederiction',\n",
        "                   'Prince Edward Island': 'Chharlottetown',\n",
        "                   'Quebec': 'Quebec',\n",
        "                   'Manitoba': 'Winnipeg',\n",
        "                   'Nunavut': 'Iqaluit',\n",
        "                   'Northwest Territories': 'Yellowknife',\n",
        "                   'Yukon': 'Whitehorse',\n",
        "                   }\n",
        "print(state_capitals['Alberta'], '\\n') \n",
        "state_capitals['Nova Scotia'] = 'Halifax' # adding a new item\n",
        "print(state_capitals)\n",
        "print(state_capitals['Ontario'])\n",
        "print(state_capitals['Nova Scotia'])\n"
      ],
      "execution_count": null,
      "outputs": [
        {
          "output_type": "stream",
          "text": [
            "Edmonton \n",
            "\n",
            "{'Ontario': 'Toronto', 'Alberta': 'Edmonton', 'British Columbia': 'Victoria', 'Saskatchewan': 'Regina', 'Newfoundland and Labrador': \"St.John's\", 'New Brunswick': 'Frederiction', 'Prince Edward Island': 'Chharlottetown', 'Quebec': 'Quebec', 'Manitoba': 'Winnipeg', 'Nunavut': 'Iqaluit', 'Northwest Territories': 'Yellowknife', 'Yukon': 'Whitehorse', 'Nova Scotia': 'Halifax'}\n",
            "Toronto\n",
            "Halifax\n"
          ],
          "name": "stdout"
        }
      ]
    },
    {
      "cell_type": "code",
      "metadata": {
        "colab": {
          "base_uri": "https://localhost:8080/"
        },
        "id": "1HK3dKBcwrUn",
        "outputId": "8e867fcb-efca-4d3b-9b4f-68539cc9142b"
      },
      "source": [
        "import pprint\n",
        "pprint.pprint(state_capitals, width=1)\n"
      ],
      "execution_count": null,
      "outputs": [
        {
          "output_type": "stream",
          "text": [
            "{'Alberta': 'Edmonton',\n",
            " 'British Columbia': 'Victoria',\n",
            " 'Manitoba': 'Winnipeg',\n",
            " 'New Brunswick': 'Frederiction',\n",
            " 'Newfoundland and Labrador': \"St.John's\",\n",
            " 'Northwest Territories': 'Yellowknife',\n",
            " 'Nova Scotia': 'Halifax',\n",
            " 'Nunavut': 'Iqaluit',\n",
            " 'Ontario': 'Toronto',\n",
            " 'Prince Edward Island': 'Chharlottetown',\n",
            " 'Quebec': 'Quebec',\n",
            " 'Saskatchewan': 'Regina',\n",
            " 'Yukon': 'Whitehorse'}\n"
          ],
          "name": "stdout"
        }
      ]
    },
    {
      "cell_type": "code",
      "metadata": {
        "colab": {
          "base_uri": "https://localhost:8080/"
        },
        "id": "FE-o1F8kw0Nn",
        "outputId": "c407fc7e-709b-46c6-8633-b6e68162056f"
      },
      "source": [
        "print(state_capitals.items(), '\\n')\n",
        "print(state_capitals.keys(), '\\n')\n",
        "print(state_capitals.values(), '\\n')\n",
        "print('Nunavut' in state_capitals, '\\n')\n",
        "print('Michigan' not in state_capitals, '\\n')\n",
        "print('Ontario' not in state_capitals)"
      ],
      "execution_count": null,
      "outputs": [
        {
          "output_type": "stream",
          "text": [
            "dict_items([('Ontario', 'Toronto'), ('Alberta', 'Edmonton'), ('British Columbia', 'Victoria'), ('Saskatchewan', 'Regina'), ('Newfoundland and Labrador', \"St.John's\"), ('New Brunswick', 'Frederiction'), ('Prince Edward Island', 'Chharlottetown'), ('Quebec', 'Quebec'), ('Manitoba', 'Winnipeg'), ('Nunavut', 'Iqaluit'), ('Northwest Territories', 'Yellowknife'), ('Yukon', 'Whitehorse'), ('Nova Scotia', 'Halifax')]) \n",
            "\n",
            "dict_keys(['Ontario', 'Alberta', 'British Columbia', 'Saskatchewan', 'Newfoundland and Labrador', 'New Brunswick', 'Prince Edward Island', 'Quebec', 'Manitoba', 'Nunavut', 'Northwest Territories', 'Yukon', 'Nova Scotia']) \n",
            "\n",
            "dict_values(['Toronto', 'Edmonton', 'Victoria', 'Regina', \"St.John's\", 'Frederiction', 'Chharlottetown', 'Quebec', 'Winnipeg', 'Iqaluit', 'Yellowknife', 'Whitehorse', 'Halifax']) \n",
            "\n",
            "True \n",
            "\n",
            "True \n",
            "\n",
            "False\n"
          ],
          "name": "stdout"
        }
      ]
    },
    {
      "cell_type": "code",
      "metadata": {
        "colab": {
          "base_uri": "https://localhost:8080/"
        },
        "id": "BVRXEWpQx7Ku",
        "outputId": "a24417ea-3afd-4628-8795-40fd6ec0c4b1"
      },
      "source": [
        "for x in state_capitals:\n",
        "    print(repr(x),\":\",state_capitals[x])"
      ],
      "execution_count": null,
      "outputs": [
        {
          "output_type": "stream",
          "text": [
            "'Ontario' : Toronto\n",
            "'Alberta' : Edmonton\n",
            "'British Columbia' : Victoria\n",
            "'Saskatchewan' : Regina\n",
            "'Newfoundland and Labrador' : St.John's\n",
            "'New Brunswick' : Frederiction\n",
            "'Prince Edward Island' : Chharlottetown\n",
            "'Quebec' : Quebec\n",
            "'Manitoba' : Winnipeg\n",
            "'Nunavut' : Iqaluit\n",
            "'Northwest Territories' : Yellowknife\n",
            "'Yukon' : Whitehorse\n",
            "'Nova Scotia' : Halifax\n"
          ],
          "name": "stdout"
        }
      ]
    },
    {
      "cell_type": "code",
      "metadata": {
        "colab": {
          "base_uri": "https://localhost:8080/"
        },
        "id": "YRNlTfTW0Ni9",
        "outputId": "1a6f6434-573b-4878-b1f6-a12658c81eb4"
      },
      "source": [
        "my_dict = {'fruit':'banana', 'vegatable':'onion'}\n",
        "my_dict['drink'] = 'water'\n",
        "my_dict['junkfood'] = 'snickers'\n",
        "\n",
        "print(my_dict)\n",
        "import pprint\n",
        "pprint.pprint(my_dict, width=1)"
      ],
      "execution_count": null,
      "outputs": [
        {
          "output_type": "stream",
          "text": [
            "{'fruit': 'banana', 'vegatable': 'onion', 'drink': 'water', 'junkfood': 'snickers'}\n",
            "{'drink': 'water',\n",
            " 'fruit': 'banana',\n",
            " 'junkfood': 'snickers',\n",
            " 'vegatable': 'onion'}\n"
          ],
          "name": "stdout"
        }
      ]
    },
    {
      "cell_type": "code",
      "metadata": {
        "colab": {
          "base_uri": "https://localhost:8080/"
        },
        "id": "guIdMWxj5UkT",
        "outputId": "4ce71bd9-bf71-42db-cac6-a2c3eb79cf34"
      },
      "source": [
        "print(my_dict.items(), '\\n')\n",
        "print(my_dict.keys(), '\\n')\n",
        "print(my_dict.values())"
      ],
      "execution_count": null,
      "outputs": [
        {
          "output_type": "stream",
          "text": [
            "dict_items([('fruit', 'banana'), ('vegatable', 'onion'), ('drink', 'water'), ('junkfood', 'snickers')]) \n",
            "\n",
            "dict_keys(['fruit', 'vegatable', 'drink', 'junkfood']) \n",
            "\n",
            "dict_values(['banana', 'onion', 'water', 'snickers'])\n"
          ],
          "name": "stdout"
        }
      ]
    },
    {
      "cell_type": "code",
      "metadata": {
        "colab": {
          "base_uri": "https://localhost:8080/"
        },
        "id": "W0sehAIA5rMb",
        "outputId": "506b737b-0b51-4f12-e860-737de233f4fe"
      },
      "source": [
        "my_dict['furniture'] = 'sofa'\n",
        "my_dict.update({'pi': 3.14})\n",
        "print(my_dict.items(), '\\n')\n",
        "pprint.pprint(my_dict, width=1)"
      ],
      "execution_count": null,
      "outputs": [
        {
          "output_type": "stream",
          "text": [
            "dict_items([('fruit', 'banana'), ('vegatable', 'onion'), ('drink', 'water'), ('junkfood', 'snickers'), ('furniture', 'sofa'), ('pi', 3.14)]) \n",
            "\n",
            "{'drink': 'water',\n",
            " 'fruit': 'banana',\n",
            " 'furniture': 'sofa',\n",
            " 'junkfood': 'snickers',\n",
            " 'pi': 3.14,\n",
            " 'vegatable': 'onion'}\n"
          ],
          "name": "stdout"
        }
      ]
    },
    {
      "cell_type": "code",
      "metadata": {
        "colab": {
          "base_uri": "https://localhost:8080/"
        },
        "id": "MriLhEhA6Oux",
        "outputId": "4952a787-147d-4690-9ea6-d85a90347797"
      },
      "source": [
        "for x in my_dict:\n",
        "    print(repr(x),\":\",my_dict[x], '\\n')\n",
        "pprint.pprint(my_dict)"
      ],
      "execution_count": null,
      "outputs": [
        {
          "output_type": "stream",
          "text": [
            "'fruit' : banana \n",
            "\n",
            "'vegatable' : onion \n",
            "\n",
            "'drink' : water \n",
            "\n",
            "'junkfood' : snickers \n",
            "\n",
            "'furniture' : sofa \n",
            "\n",
            "'pi' : 3.14 \n",
            "\n",
            "{'drink': 'water',\n",
            " 'fruit': 'banana',\n",
            " 'furniture': 'sofa',\n",
            " 'junkfood': 'snickers',\n",
            " 'pi': 3.14,\n",
            " 'vegatable': 'onion'}\n"
          ],
          "name": "stdout"
        }
      ]
    },
    {
      "cell_type": "code",
      "metadata": {
        "colab": {
          "base_uri": "https://localhost:8080/"
        },
        "id": "GK9bmQQA6a4e",
        "outputId": "40150d65-6b1b-49a0-f788-d5857d246552"
      },
      "source": [
        "print('fruit' in my_dict)\n",
        "print('junkfood' not in my_dict)"
      ],
      "execution_count": null,
      "outputs": [
        {
          "output_type": "stream",
          "text": [
            "True\n",
            "False\n"
          ],
          "name": "stdout"
        }
      ]
    },
    {
      "cell_type": "code",
      "metadata": {
        "colab": {
          "base_uri": "https://localhost:8080/"
        },
        "id": "3cxLKlZ09F0S",
        "outputId": "89a318ef-a061-4d79-8c93-3ec9d8c43c4e"
      },
      "source": [
        "pprint.pprint(my_dict)"
      ],
      "execution_count": null,
      "outputs": [
        {
          "output_type": "stream",
          "text": [
            "{'drink': 'water',\n",
            " 'fruit': 'banana',\n",
            " 'furniture': 'sofa',\n",
            " 'junkfood': 'snickers',\n",
            " 'pi': 3.14,\n",
            " 'vegatable': 'onion'}\n"
          ],
          "name": "stdout"
        }
      ]
    },
    {
      "cell_type": "code",
      "metadata": {
        "colab": {
          "base_uri": "https://localhost:8080/"
        },
        "id": "35ZUhwHI9eMV",
        "outputId": "c4ff1741-2c2f-4c54-d113-d795407663cb"
      },
      "source": [
        "my_dict['drink'] = 'coke'\n",
        "print(my_dict.items())"
      ],
      "execution_count": null,
      "outputs": [
        {
          "output_type": "stream",
          "text": [
            "dict_items([('vegatable', 'onion'), ('drink', 'coke'), ('junkfood', 'snickers'), ('furniture', 'sofa'), ('pi', 3.14)])\n"
          ],
          "name": "stdout"
        }
      ]
    },
    {
      "cell_type": "code",
      "metadata": {
        "colab": {
          "base_uri": "https://localhost:8080/"
        },
        "id": "T3SX_M1M97sK",
        "outputId": "780f559e-55c6-443c-831d-2d6f174e3389"
      },
      "source": [
        "del my_dict['pi']\n",
        "pprint.pprint(my_dict)"
      ],
      "execution_count": null,
      "outputs": [
        {
          "output_type": "stream",
          "text": [
            "{'drink': 'coke',\n",
            " 'furniture': 'sofa',\n",
            " 'junkfood': 'snickers',\n",
            " 'vegatable': 'onion'}\n"
          ],
          "name": "stdout"
        }
      ]
    },
    {
      "cell_type": "code",
      "metadata": {
        "colab": {
          "base_uri": "https://localhost:8080/"
        },
        "id": "73w1AuKZ-ryG",
        "outputId": "d254b3be-39e7-46b5-d5c3-937a6d9c4b7a"
      },
      "source": [
        "print('pi' in my_dict, '\\n')\n",
        "print('pi' not in my_dict)"
      ],
      "execution_count": null,
      "outputs": [
        {
          "output_type": "stream",
          "text": [
            "False \n",
            "\n",
            "True\n"
          ],
          "name": "stdout"
        }
      ]
    },
    {
      "cell_type": "code",
      "metadata": {
        "colab": {
          "base_uri": "https://localhost:8080/"
        },
        "id": "kdND2sH-_K3n",
        "outputId": "462a437b-09a8-4636-81d3-6f84ffead49d"
      },
      "source": [
        "print(my_dict['drink'])"
      ],
      "execution_count": null,
      "outputs": [
        {
          "output_type": "stream",
          "text": [
            "coke\n"
          ],
          "name": "stdout"
        }
      ]
    },
    {
      "cell_type": "code",
      "metadata": {
        "colab": {
          "base_uri": "https://localhost:8080/"
        },
        "id": "2P_7EdhLHbvN",
        "outputId": "70aac6b7-0b0c-4688-80a7-d5d06563be0e"
      },
      "source": [
        "school_records={\n",
        "    \"personal_info\":\n",
        "        {\"kid\":{\"tom\": {\"class\": \"intermediate\", \"age\": 10},\n",
        "                \"sue\": {\"class\": \"elementary\", \"age\": 8}\n",
        "               },\n",
        "         \"teen\":{\"joseph\":{\"class\": \"college\", \"age\": 19},\n",
        "                 \"marry\":{\"class\": \"high school\", \"age\": 16}\n",
        "               },               \n",
        "        },\n",
        "        \n",
        "    \"grades_info\":\n",
        "        {\"kid\":{\"tom\": {\"math\": 88, \"speech\": 69},\n",
        "                \"sue\": {\"math\": 90, \"speech\": 81}\n",
        "               },\n",
        "         \"teen\":{\"joseph\":{\"coding\": 80, \"math\": 89},\n",
        "                 \"marry\":{\"coding\": 70, \"math\": 96}\n",
        "               },               \n",
        "        },        \n",
        "}\n",
        "\n",
        "print(school_records['personal_info']['teen']['marry']['age'])\n",
        "pprint.pprint(school_records['personal_info']['teen'])"
      ],
      "execution_count": null,
      "outputs": [
        {
          "output_type": "stream",
          "text": [
            "16\n",
            "{'joseph': {'age': 19, 'class': 'college'},\n",
            " 'marry': {'age': 16, 'class': 'high school'}}\n"
          ],
          "name": "stdout"
        }
      ]
    },
    {
      "cell_type": "code",
      "metadata": {
        "colab": {
          "base_uri": "https://localhost:8080/"
        },
        "id": "Wntu-5beI1TK",
        "outputId": "0fb1bc82-b7d1-4c41-cf6a-45f293a2e34f"
      },
      "source": [
        "abc_sports_teams = {\n",
        "  'Futsal':\n",
        "    {'Futsal_Women': {'Emma': {'class': 'college', 'age': 19},\n",
        "                      'Olivia': {'class': 'high school', 'age': 16},\n",
        "                      'Isabella': {'class': 'college', 'age': 20},\n",
        "                      'Mia': {'class': 'high school', 'age': 17},\n",
        "                      'Sophia': {'class': 'college', 'age': 18},\n",
        "                      },\n",
        "     'Futsal_Men': {'Robert': {'class': 'college', 'age': 20},\n",
        "                    'Martin': {'class': 'high school', 'age': 16},\n",
        "                    'James': {'class': 'college', 'age': 19},\n",
        "                    'Liam': {'class': 'high school', 'age': 15},\n",
        "                    'Lucas': {'class': 'college', 'age': 18},\n",
        "                    },\n",
        "     },\n",
        "  'Basketball':\n",
        "    {'Basketball_Women': {'Ava': {'class': 'college', 'age': 19},\n",
        "                          'Evelyn': {'class': 'high school', 'age': 16},\n",
        "                          'Hazel': {'class': 'college', 'age': 20},\n",
        "                          'Olivia': {'class': 'high school', 'age': 17},\n",
        "                          'Bella': {'class': 'college', 'age': 18},\n",
        "                          },\n",
        "     'Basketball_Men': {'Logan': {'class': 'college', 'age': 20},\n",
        "                        'Jack': {'class': 'high school', 'age': 16},\n",
        "                        'Joseph': {'class': 'college', 'age': 19},\n",
        "                        'Matthew': {'class': 'high school', 'age': 15},\n",
        "                        'David': {'class': 'college', 'age': 18},\n",
        "                        },\n",
        "     },\n",
        "     }          \n",
        "pprint.pprint(abc_sports_teams)\n"
      ],
      "execution_count": null,
      "outputs": [
        {
          "output_type": "stream",
          "text": [
            "{'Basketball': {'Basketball_Men': {'David': {'age': 18, 'class': 'college'},\n",
            "                                   'Jack': {'age': 16, 'class': 'high school'},\n",
            "                                   'Joseph': {'age': 19, 'class': 'college'},\n",
            "                                   'Logan': {'age': 20, 'class': 'college'},\n",
            "                                   'Matthew': {'age': 15,\n",
            "                                               'class': 'high school'}},\n",
            "                'Basketball_Women': {'Ava': {'age': 19, 'class': 'college'},\n",
            "                                     'Bella': {'age': 18, 'class': 'college'},\n",
            "                                     'Evelyn': {'age': 16,\n",
            "                                                'class': 'high school'},\n",
            "                                     'Hazel': {'age': 20, 'class': 'college'},\n",
            "                                     'Olivia': {'age': 17,\n",
            "                                                'class': 'high school'}}},\n",
            " 'Futsal': {'Futsal_Men': {'James': {'age': 19, 'class': 'college'},\n",
            "                           'Liam': {'age': 15, 'class': 'high school'},\n",
            "                           'Lucas': {'age': 18, 'class': 'college'},\n",
            "                           'Martin': {'age': 16, 'class': 'high school'},\n",
            "                           'Robert': {'age': 20, 'class': 'college'}},\n",
            "            'Futsal_Women': {'Emma': {'age': 19, 'class': 'college'},\n",
            "                             'Isabella': {'age': 20, 'class': 'college'},\n",
            "                             'Mia': {'age': 17, 'class': 'high school'},\n",
            "                             'Olivia': {'age': 16, 'class': 'high school'},\n",
            "                             'Sophia': {'age': 18, 'class': 'college'}}}}\n"
          ],
          "name": "stdout"
        }
      ]
    },
    {
      "cell_type": "code",
      "metadata": {
        "colab": {
          "base_uri": "https://localhost:8080/"
        },
        "id": "bSNQJlwNk-AK",
        "outputId": "9f7411ce-326f-4602-a32a-97d9e8ebeb93"
      },
      "source": [
        "import json\n",
        "\n",
        "person = '{\"name\": \"Fatih\", \"languages\": [\"English\", \"Turkish\"]}'\n",
        "person_dict = json.loads(person)\n",
        "print(person_dict)\n",
        "print(person_dict['languages'])\n",
        "print(person_dict['name'])"
      ],
      "execution_count": null,
      "outputs": [
        {
          "output_type": "stream",
          "text": [
            "{'name': 'Fatih', 'languages': ['English', 'Turkish']}\n",
            "['English', 'Turkish']\n",
            "Fatih\n"
          ],
          "name": "stdout"
        }
      ]
    },
    {
      "cell_type": "code",
      "metadata": {
        "colab": {
          "base_uri": "https://localhost:8080/"
        },
        "id": "VRi4lFO4mhPT",
        "outputId": "8c0a1cfc-e0d6-4acc-e1fd-a05ba69369f4"
      },
      "source": [
        "\n",
        "import json\n",
        "\n",
        "abc_sports_teams_json = json.dumps(abc_sports_teams)\n",
        "print(abc_sports_teams_json)"
      ],
      "execution_count": null,
      "outputs": [
        {
          "output_type": "stream",
          "text": [
            "{\"Futsal\": {\"Futsal_Women\": {\"Emma\": {\"class\": \"college\", \"age\": 19}, \"Olivia\": {\"class\": \"high school\", \"age\": 16}, \"Isabella\": {\"class\": \"college\", \"age\": 20}, \"Mia\": {\"class\": \"high school\", \"age\": 17}, \"Sophia\": {\"class\": \"college\", \"age\": 18}}, \"Futsal_Men\": {\"Robert\": {\"class\": \"college\", \"age\": 20}, \"Martin\": {\"class\": \"high school\", \"age\": 16}, \"James\": {\"class\": \"college\", \"age\": 19}, \"Liam\": {\"class\": \"high school\", \"age\": 15}, \"Lucas\": {\"class\": \"college\", \"age\": 18}}}, \"Basketball\": {\"Basketball_Women\": {\"Ava\": {\"class\": \"college\", \"age\": 19}, \"Evelyn\": {\"class\": \"high school\", \"age\": 16}, \"Hazel\": {\"class\": \"college\", \"age\": 20}, \"Olivia\": {\"class\": \"high school\", \"age\": 17}, \"Bella\": {\"class\": \"college\", \"age\": 18}}, \"Basketball_Men\": {\"Logan\": {\"class\": \"college\", \"age\": 20}, \"Jack\": {\"class\": \"high school\", \"age\": 16}, \"Joseph\": {\"class\": \"college\", \"age\": 19}, \"Matthew\": {\"class\": \"high school\", \"age\": 15}, \"David\": {\"class\": \"college\", \"age\": 18}}}}\n"
          ],
          "name": "stdout"
        }
      ]
    },
    {
      "cell_type": "code",
      "metadata": {
        "colab": {
          "base_uri": "https://localhost:8080/"
        },
        "id": "FI9fEFw7m1CT",
        "outputId": "9f2fae03-38b5-451d-f81f-eb81237a4279"
      },
      "source": [
        "abc_dict = json.loads(abc_sports_teams_json)\n",
        "print(abc_dict.items())\n",
        "print(abc_dict.keys()) \n",
        "print(abc_dict.values())\n",
        "\n"
      ],
      "execution_count": null,
      "outputs": [
        {
          "output_type": "stream",
          "text": [
            "dict_items([('Futsal', {'Futsal_Women': {'Emma': {'class': 'college', 'age': 19}, 'Olivia': {'class': 'high school', 'age': 16}, 'Isabella': {'class': 'college', 'age': 20}, 'Mia': {'class': 'high school', 'age': 17}, 'Sophia': {'class': 'college', 'age': 18}}, 'Futsal_Men': {'Robert': {'class': 'college', 'age': 20}, 'Martin': {'class': 'high school', 'age': 16}, 'James': {'class': 'college', 'age': 19}, 'Liam': {'class': 'high school', 'age': 15}, 'Lucas': {'class': 'college', 'age': 18}}}), ('Basketball', {'Basketball_Women': {'Ava': {'class': 'college', 'age': 19}, 'Evelyn': {'class': 'high school', 'age': 16}, 'Hazel': {'class': 'college', 'age': 20}, 'Olivia': {'class': 'high school', 'age': 17}, 'Bella': {'class': 'college', 'age': 18}}, 'Basketball_Men': {'Logan': {'class': 'college', 'age': 20}, 'Jack': {'class': 'high school', 'age': 16}, 'Joseph': {'class': 'college', 'age': 19}, 'Matthew': {'class': 'high school', 'age': 15}, 'David': {'class': 'college', 'age': 18}}})])\n",
            "dict_keys(['Futsal', 'Basketball'])\n",
            "dict_values([{'Futsal_Women': {'Emma': {'class': 'college', 'age': 19}, 'Olivia': {'class': 'high school', 'age': 16}, 'Isabella': {'class': 'college', 'age': 20}, 'Mia': {'class': 'high school', 'age': 17}, 'Sophia': {'class': 'college', 'age': 18}}, 'Futsal_Men': {'Robert': {'class': 'college', 'age': 20}, 'Martin': {'class': 'high school', 'age': 16}, 'James': {'class': 'college', 'age': 19}, 'Liam': {'class': 'high school', 'age': 15}, 'Lucas': {'class': 'college', 'age': 18}}}, {'Basketball_Women': {'Ava': {'class': 'college', 'age': 19}, 'Evelyn': {'class': 'high school', 'age': 16}, 'Hazel': {'class': 'college', 'age': 20}, 'Olivia': {'class': 'high school', 'age': 17}, 'Bella': {'class': 'college', 'age': 18}}, 'Basketball_Men': {'Logan': {'class': 'college', 'age': 20}, 'Jack': {'class': 'high school', 'age': 16}, 'Joseph': {'class': 'college', 'age': 19}, 'Matthew': {'class': 'high school', 'age': 15}, 'David': {'class': 'college', 'age': 18}}}])\n"
          ],
          "name": "stdout"
        }
      ]
    },
    {
      "cell_type": "code",
      "metadata": {
        "colab": {
          "base_uri": "https://localhost:8080/"
        },
        "id": "RO2-W4kDqVtW",
        "outputId": "c0ac5de4-0643-4331-d653-eef721941ded"
      },
      "source": [
        "customers = { \n",
        "'bank': \n",
        "{1: {'name': 'James', 'age': '27', 'sex': 'Male'}, \n",
        " 2: {'name': 'Nicole', 'age': '25', 'sex': 'Female'},  \n",
        " 3: {'name': 'Andy', 'age': '38', 'sex': 'Male'}, \n",
        " 4: {'name': 'Alex', 'age': '19', 'sex': 'Male'}, \n",
        " 5: {'name': 'Linda', 'age': '33', 'sex': 'Female'}, \n",
        "},\n",
        "'insurance':\n",
        "{1: {'name': 'Jashua', 'age': '33', 'sex': 'Male'}, \n",
        " 2: {'name': 'Marry', 'age': '66', 'sex': 'Female'},  \n",
        " 3: {'name': 'Adam', 'age': '56', 'sex': 'Male'}, \n",
        " 4: {'name': 'Samuel', 'age': '54', 'sex': 'Male'}, \n",
        " 5: {'name': 'Lisa', 'age': '22', 'sex': 'Female'},\n",
        "},\n",
        "}\n",
        "\n",
        "print(customers['insurance'][5]['age'])"
      ],
      "execution_count": null,
      "outputs": [
        {
          "output_type": "stream",
          "text": [
            "22\n"
          ],
          "name": "stdout"
        }
      ]
    },
    {
      "cell_type": "code",
      "metadata": {
        "colab": {
          "base_uri": "https://localhost:8080/"
        },
        "id": "nnNg5dQGt3Du",
        "outputId": "6bfc986e-fd47-41dd-953e-56dfb152e526"
      },
      "source": [
        "abc_futsal = {\n",
        "    'futsal_women': \n",
        "    {1: {'name': 'Emma', 'age': 15, 'education': 'highschool'},\n",
        "     2: {'name': 'Olivia', 'age': 18, 'education': 'college'},\n",
        "     3: {'name': 'Olivia', 'age': 18, 'education': 'college'},\n",
        "     4: {'name': 'Olivia', 'age': 18, 'education': 'college'},\n",
        "     5: {'name': 'Olivia', 'age': 18, 'education': 'college'},\n",
        "     }, \n",
        "     'futsal_men': \n",
        "    {1: {'name': 'Emma', 'age': 15, 'education': 'highschool'},\n",
        "     2: {'name': 'Olivia', 'age': 18, 'education': 'college'},\n",
        "     3: {'name': 'Olivia', 'age': 18, 'education': 'college'},\n",
        "     4: {'name': 'Olivia', 'age': 18, 'education': 'college'},\n",
        "     5: {'name': 'Olivia', 'age': 18, 'education': 'college'},\n",
        "     },\n",
        "     } \n",
        "\n",
        "\n",
        "print(abc_futsal) \n",
        "print(abc_futsal.keys())    "
      ],
      "execution_count": null,
      "outputs": [
        {
          "output_type": "stream",
          "text": [
            "{'futsal_women': {1: {'name': 'Emma', 'age': 15, 'education': 'highschool'}, 2: {'name': 'Olivia', 'age': 18, 'education': 'college'}, 3: {'name': 'Olivia', 'age': 18, 'education': 'college'}, 4: {'name': 'Olivia', 'age': 18, 'education': 'college'}, 5: {'name': 'Olivia', 'age': 18, 'education': 'college'}}, 'futsal_men': {1: {'name': 'Emma', 'age': 15, 'education': 'highschool'}, 2: {'name': 'Olivia', 'age': 18, 'education': 'college'}, 3: {'name': 'Olivia', 'age': 18, 'education': 'college'}, 4: {'name': 'Olivia', 'age': 18, 'education': 'college'}, 5: {'name': 'Olivia', 'age': 18, 'education': 'college'}}}\n",
            "dict_keys(['futsal_women', 'futsal_men'])\n"
          ],
          "name": "stdout"
        }
      ]
    },
    {
      "cell_type": "code",
      "metadata": {
        "colab": {
          "base_uri": "https://localhost:8080/"
        },
        "id": "-Y1li8Oh1Pje",
        "outputId": "9039956d-7ef0-4cec-b927-a5c5b788ec5f"
      },
      "source": [
        "abc_uni = {'futsal': {\n",
        "    'futsal_women': \n",
        "    {1: {'name': 'Emma', 'age': 15, 'education': 'highschool'},\n",
        "     2: {'name': 'Olivia', 'age': 18, 'education': 'college'},\n",
        "     3: {'name': 'Olivia', 'age': 18, 'education': 'college'},\n",
        "     4: {'name': 'Olivia', 'age': 18, 'education': 'college'},\n",
        "     5: {'name': 'Olivia', 'age': 18, 'education': 'college'},\n",
        "     }, \n",
        "     'futsal_men': \n",
        "    {1: {'name': 'Emma', 'age': 15, 'education': 'highschool'},\n",
        "     2: {'name': 'Olivia', 'age': 18, 'education': 'college'},\n",
        "     3: {'name': 'Olivia', 'age': 18, 'education': 'college'},\n",
        "     4: {'name': 'Olivia', 'age': 18, 'education': 'college'},\n",
        "     5: {'name': 'Olivia', 'age': 18, 'education': 'college'},\n",
        "     },\n",
        "     },\n",
        "} \n",
        "\n",
        "print(abc_uni) \n",
        "print(abc_uni.keys())    "
      ],
      "execution_count": null,
      "outputs": [
        {
          "output_type": "stream",
          "text": [
            "{'futsal': {'futsal_women': {1: {'name': 'Emma', 'age': 15, 'education': 'highschool'}, 2: {'name': 'Olivia', 'age': 18, 'education': 'college'}, 3: {'name': 'Olivia', 'age': 18, 'education': 'college'}, 4: {'name': 'Olivia', 'age': 18, 'education': 'college'}, 5: {'name': 'Olivia', 'age': 18, 'education': 'college'}}, 'futsal_men': {1: {'name': 'Emma', 'age': 15, 'education': 'highschool'}, 2: {'name': 'Olivia', 'age': 18, 'education': 'college'}, 3: {'name': 'Olivia', 'age': 18, 'education': 'college'}, 4: {'name': 'Olivia', 'age': 18, 'education': 'college'}, 5: {'name': 'Olivia', 'age': 18, 'education': 'college'}}}}\n",
            "dict_keys(['futsal'])\n"
          ],
          "name": "stdout"
        }
      ]
    },
    {
      "cell_type": "code",
      "metadata": {
        "colab": {
          "base_uri": "https://localhost:8080/"
        },
        "id": "u9zBy6nH3xVC",
        "outputId": "a5532a65-a08d-4ec6-89b7-94fecc350ff9"
      },
      "source": [
        "abc_uni = {'futsal': {\n",
        "    'futsal_women': \n",
        "    {1: {'name': 'Emma', 'age': 15, 'education': 'highschool'},\n",
        "     2: {'name': 'Olivia', 'age': 18, 'education': 'college'},\n",
        "     3: {'name': 'Isabella', 'age': 20, 'education': 'college'},\n",
        "     4: {'name': 'Mia', 'age': 18, 'education': 'college'},\n",
        "     5: {'name': 'Sophia', 'age': 19, 'education': 'college'},\n",
        "     }, \n",
        "     'futsal_men': \n",
        "    {1: {'name': 'Robert', 'age': 15, 'education': 'highschool'},\n",
        "     2: {'name': 'Martin', 'age': 18, 'education': 'college'},\n",
        "     3: {'name': 'James', 'age': 22, 'education': 'college'},\n",
        "     4: {'name': 'Liam', 'age': 20, 'education': 'college'},\n",
        "     5: {'name': 'Lucas', 'age': 18, 'education': 'college'},\n",
        "     },\n",
        "     }, \n",
        "     'basketball': {\n",
        "    'basketball_women': \n",
        "    {1: {'name': 'Ava', 'age': 15, 'education': 'highschool'},\n",
        "     2: {'name': 'Evelyn', 'age': 18, 'education': 'college'},\n",
        "     3: {'name': 'Hazel', 'age': 18, 'education': 'college'},\n",
        "     4: {'name': 'Olivia', 'age': 18, 'education': 'college'},\n",
        "     5: {'name': 'Bella', 'age': 18, 'education': 'college'},\n",
        "     }, \n",
        "     'basketball_men': \n",
        "    {1: {'name': 'Logan', 'age': 15, 'education': 'highschool'},\n",
        "     2: {'name': 'Jack', 'age': 18, 'education': 'college'},\n",
        "     3: {'name': 'Joseph', 'age': 18, 'education': 'college'},\n",
        "     4: {'name': 'Matthew', 'age': 18, 'education': 'college'},\n",
        "     5: {'name': 'David', 'age': 18, 'education': 'college'},\n",
        "     },\n",
        "     }, \n",
        "     'swimming': {\n",
        "    'swimming_women': \n",
        "    {1: {'name': 'Scarlett', 'age': 15, 'education': 'highschool'},\n",
        "     2: {'name': 'Mia', 'age': 18, 'education': 'college'},\n",
        "     3: {'name': 'Emma', 'age': 20, 'education': 'college'},\n",
        "     4: {'name': 'Ellie', 'age': 19, 'education': 'college'},\n",
        "     5: {'name': 'Anne', 'age': 18, 'education': 'college'},\n",
        "     }, \n",
        "     'swimming_men': \n",
        "    {1: {'name': 'Robert', 'age': 15, 'education': 'highschool'},\n",
        "     2: {'name': 'Carter', 'age': 18, 'education': 'college'},\n",
        "     3: {'name': 'Joseph', 'age': 18, 'education': 'college'},\n",
        "     4: {'name': 'Martin', 'age': 19, 'education': 'college'},\n",
        "     5: {'name': 'Isaac', 'age': 18, 'education': 'college'},\n",
        "     },\n",
        "     },\n",
        "     } \n",
        "    \n",
        "print(abc_uni) \n",
        "print(abc_uni.keys())  \n",
        "\n",
        "print(abc_uni['swimming']['swimming_men'][4]['name'])"
      ],
      "execution_count": null,
      "outputs": [
        {
          "output_type": "stream",
          "text": [
            "{'futsal': {'futsal_women': {1: {'name': 'Emma', 'age': 15, 'education': 'highschool'}, 2: {'name': 'Olivia', 'age': 18, 'education': 'college'}, 3: {'name': 'Isabella', 'age': 20, 'education': 'college'}, 4: {'name': 'Mia', 'age': 18, 'education': 'college'}, 5: {'name': 'Sophia', 'age': 19, 'education': 'college'}}, 'futsal_men': {1: {'name': 'Robert', 'age': 15, 'education': 'highschool'}, 2: {'name': 'Martin', 'age': 18, 'education': 'college'}, 3: {'name': 'James', 'age': 22, 'education': 'college'}, 4: {'name': 'Liam', 'age': 20, 'education': 'college'}, 5: {'name': 'Lucas', 'age': 18, 'education': 'college'}}}, 'basketball': {'basketball_women': {1: {'name': 'Ava', 'age': 15, 'education': 'highschool'}, 2: {'name': 'Evelyn', 'age': 18, 'education': 'college'}, 3: {'name': 'Hazel', 'age': 18, 'education': 'college'}, 4: {'name': 'Olivia', 'age': 18, 'education': 'college'}, 5: {'name': 'Bella', 'age': 18, 'education': 'college'}}, 'basketball_men': {1: {'name': 'Logan', 'age': 15, 'education': 'highschool'}, 2: {'name': 'Jack', 'age': 18, 'education': 'college'}, 3: {'name': 'Joseph', 'age': 18, 'education': 'college'}, 4: {'name': 'Matthew', 'age': 18, 'education': 'college'}, 5: {'name': 'David', 'age': 18, 'education': 'college'}}}, 'swimming': {'swimming_women': {1: {'name': 'Scarlett', 'age': 15, 'education': 'highschool'}, 2: {'name': 'Mia', 'age': 18, 'education': 'college'}, 3: {'name': 'Emma', 'age': 20, 'education': 'college'}, 4: {'name': 'Ellie', 'age': 19, 'education': 'college'}, 5: {'name': 'Anne', 'age': 18, 'education': 'college'}}, 'swimming_men': {1: {'name': 'Robert', 'age': 15, 'education': 'highschool'}, 2: {'name': 'Carter', 'age': 18, 'education': 'college'}, 3: {'name': 'Joseph', 'age': 18, 'education': 'college'}, 4: {'name': 'Martin', 'age': 19, 'education': 'college'}, 5: {'name': 'Isaac', 'age': 18, 'education': 'college'}}}}\n",
            "dict_keys(['futsal', 'basketball', 'swimming'])\n",
            "Martin\n"
          ],
          "name": "stdout"
        }
      ]
    },
    {
      "cell_type": "code",
      "metadata": {
        "id": "DnzDK3coaEQo",
        "colab": {
          "base_uri": "https://localhost:8080/"
        },
        "outputId": "2755d9c1-cc18-45bb-f5bc-b4326bb9f05d"
      },
      "source": [
        "customer = {\n",
        "    'name': 'John Smith',\n",
        "    'age': 30,\n",
        "    'is_verifed': True\n",
        "}\n",
        "customer['name'] = 'Jack Smith'  # update a value\n",
        "customer['birthdate'] = 'Jan 1 1980'  # add new key&value\n",
        "print(customer['birthdate'])  "
      ],
      "execution_count": null,
      "outputs": [
        {
          "output_type": "stream",
          "text": [
            "Jan 1 1980\n"
          ],
          "name": "stdout"
        }
      ]
    },
    {
      "cell_type": "code",
      "metadata": {
        "id": "3DSKMUuZcOep",
        "colab": {
          "base_uri": "https://localhost:8080/"
        },
        "outputId": "ef1cc2df-aabc-4dca-e041-f220e2fbf667"
      },
      "source": [
        "phone = input('Phone: ')\n",
        "digits_mapping = {\n",
        "    '1' : 'One',\n",
        "    '2' : 'Two',\n",
        "    '3' : 'Three',\n",
        "    '4' : 'Four', \n",
        "    '5' : 'Five',\n",
        "    '6' : 'Six', \n",
        "    '7' : 'Seven',\n",
        "    '8' : 'Eight',\n",
        "    '9' : 'Nine',\n",
        "    '0' : 'Zero'\n",
        "}\n",
        "output = ''\n",
        "for i in phone:\n",
        "    output += digits_mapping.get(i, '!') + ' '\n",
        "print(output)\n"
      ],
      "execution_count": null,
      "outputs": [
        {
          "output_type": "stream",
          "text": [
            "Phone: 5195032095\n",
            "Five One Nine Five Zero Three Two Zero Nine Five \n"
          ],
          "name": "stdout"
        }
      ]
    },
    {
      "cell_type": "code",
      "metadata": {
        "id": "rOwt8_rAe6a0",
        "colab": {
          "base_uri": "https://localhost:8080/"
        },
        "outputId": "9e3d2226-3925-45c4-9889-a09c87199bcd"
      },
      "source": [
        "message = input('>')\n",
        "words = message.split(' ')\n",
        "\n",
        "emojis = {\n",
        "    ':)': '😀',\n",
        "    ':(': '😔'\n",
        "}\n",
        "output = ''\n",
        "for word in words:\n",
        "  output += emojis.get(word, word) + ' '\n",
        "print(output)"
      ],
      "execution_count": null,
      "outputs": [
        {
          "output_type": "stream",
          "text": [
            ">I am happy :)\n",
            "I am happy 😀 \n"
          ],
          "name": "stdout"
        }
      ]
    },
    {
      "cell_type": "code",
      "metadata": {
        "id": "-IMBkz8AQjO1",
        "colab": {
          "base_uri": "https://localhost:8080/"
        },
        "outputId": "8604e4f4-41b7-4661-da69-cd16f2bca864"
      },
      "source": [
        "my_dict = {'key1': 'value1',\n",
        "           'key2': 'value2',\n",
        "           'key3': 'value3'\n",
        "            }\n",
        "print(my_dict['key1'])\n",
        "\n",
        "my_dict['key4'] = 'value3'\n",
        "\n",
        "print(my_dict)\n",
        "import pprint\n",
        "pprint.pprint(my_dict, width=1)\n",
        "\n",
        "print(my_dict.keys())"
      ],
      "execution_count": null,
      "outputs": [
        {
          "output_type": "stream",
          "text": [
            "value1\n",
            "{'key1': 'value1', 'key2': 'value2', 'key3': 'value3', 'key4': 'value3'}\n",
            "{'key1': 'value1',\n",
            " 'key2': 'value2',\n",
            " 'key3': 'value3',\n",
            " 'key4': 'value3'}\n",
            "dict_keys(['key1', 'key2', 'key3', 'key4'])\n"
          ],
          "name": "stdout"
        }
      ]
    },
    {
      "cell_type": "code",
      "metadata": {
        "id": "kzjh-0qlUk5i"
      },
      "source": [
        "print(state_capitals.items(), '\\n')\n",
        "print(state_capitals.keys(), '\\n')\n",
        "print(state_capitals.values(), '\\n')\n",
        "print('Nunavut' in state_capitals, '\\n')\n",
        "print('Michigan' not in state_capitals, '\\n')\n",
        "print('Ontario' not in state_capitals)"
      ],
      "execution_count": null,
      "outputs": []
    },
    {
      "cell_type": "code",
      "metadata": {
        "id": "53UfLU3SUtIx",
        "colab": {
          "base_uri": "https://localhost:8080/"
        },
        "outputId": "0451dce2-812a-4f57-fd01-ab80fa3543b2"
      },
      "source": [
        "my_dict = {'key1': 'value1',\n",
        "           'key2': 'value2',\n",
        "           'key3': 'value3'\n",
        "            }\n",
        "\n",
        "print(my_dict.items())\n",
        "print(my_dict.values())\n",
        "print(my_dict.keys())"
      ],
      "execution_count": null,
      "outputs": [
        {
          "output_type": "stream",
          "text": [
            "dict_items([('key1', 'value1'), ('key2', 'value2'), ('key3', 'value3')])\n",
            "dict_values(['value1', 'value2', 'value3'])\n",
            "dict_keys(['key1', 'key2', 'key3'])\n"
          ],
          "name": "stdout"
        }
      ]
    },
    {
      "cell_type": "code",
      "metadata": {
        "colab": {
          "base_uri": "https://localhost:8080/"
        },
        "id": "aowK8KM5jO-o",
        "outputId": "294b0b1b-db23-4aea-a7b5-c6ea65c85623"
      },
      "source": [
        "dict_by_dict = dict(animal='dog', planet='neptun', number=40, pi=3.14,\\\n",
        "                    is_good=True)\n",
        "print(dict_by_dict, '\\n')\n",
        "print(dict_by_dict.items(), '\\n')\n",
        "print(dict_by_dict.keys(), '\\n')\n",
        "print(dict_by_dict.values())\n",
        "\n"
      ],
      "execution_count": null,
      "outputs": [
        {
          "output_type": "stream",
          "text": [
            "{'animal': 'dog', 'planet': 'neptun', 'number': 40, 'pi': 3.14, 'is_good': True} \n",
            "\n",
            "dict_items([('animal', 'dog'), ('planet', 'neptun'), ('number', 40), ('pi', 3.14), ('is_good', True)]) \n",
            "\n",
            "dict_keys(['animal', 'planet', 'number', 'pi', 'is_good']) \n",
            "\n",
            "dict_values(['dog', 'neptun', 40, 3.14, True])\n"
          ],
          "name": "stdout"
        }
      ]
    },
    {
      "cell_type": "code",
      "metadata": {
        "id": "SL5M5hBImlAK",
        "colab": {
          "base_uri": "https://localhost:8080/"
        },
        "outputId": "968308ca-39f9-4a58-a9b2-369bbf181ba6"
      },
      "source": [
        "mixdictionary = dict(animal='dog', planet='neptun', number=40, pi=3.14,\\\n",
        "                    is_good=True)\n",
        "\n",
        "\n",
        "mixdictionary['vegetable'] = 'spinach' # adding a new item\n",
        "mixdictionary.update({'dairy': 'cheese'})\n",
        "\n",
        "del mixdictionary['number']\n",
        "\n",
        "print(mixdictionary)\n",
        "print(mixdictionary['animal'])\n",
        "print(mixdictionary['planet'])\n"
      ],
      "execution_count": null,
      "outputs": [
        {
          "output_type": "stream",
          "text": [
            "{'animal': 'dog', 'planet': 'neptun', 'pi': 3.14, 'is_good': True, 'vegetable': 'spinach', 'dairy': 'cheese'}\n",
            "dog\n",
            "neptun\n"
          ],
          "name": "stdout"
        }
      ]
    },
    {
      "cell_type": "code",
      "metadata": {
        "id": "xnWB6lvMqWue",
        "colab": {
          "base_uri": "https://localhost:8080/"
        },
        "outputId": "30737131-5e03-4d5d-9575-0395b64b4502"
      },
      "source": [
        "my_dict= {\n",
        "    'animal': 'dog', \n",
        "    'planet': 'neptun', \n",
        "    'pi': 3.14, \n",
        "    'is_good': True,\n",
        "    'vegetable': 'spinach',\n",
        "    'dairy': 'cheese'\n",
        "    }\n",
        "\n",
        "print('animal' in my_dict)\n",
        "print('number'not in my_dict, '\\n')\n",
        "print('cars'in my_dict, '\\n')\n",
        "\n",
        "print(my_dict['vegetable'])"
      ],
      "execution_count": null,
      "outputs": [
        {
          "output_type": "stream",
          "text": [
            "True\n",
            "True \n",
            "\n",
            "False \n",
            "\n",
            "spinach\n"
          ],
          "name": "stdout"
        }
      ]
    },
    {
      "cell_type": "code",
      "metadata": {
        "id": "VKzqWhF3qn59",
        "colab": {
          "base_uri": "https://localhost:8080/"
        },
        "outputId": "1f85bccb-0dff-4295-ce71-fa1309e41f1c"
      },
      "source": [
        "json_data = {\n",
        "     \"firstName\": \"John\",\n",
        "     \"lastName\": \"Smith\",\n",
        "     \"address\": {\n",
        "         \"streetAddress\": \"21 2nd Street\",\n",
        "         \"city\": \"New York\",\n",
        "         \"state\": \"NY\",\n",
        "         \"postalCode\": 10021\n",
        "     },\n",
        "     \"phoneNumbers\": [\n",
        "         \"212 555-1234\",\n",
        "         \"646 555-4567\"\n",
        "     ]\n",
        " }\n",
        "print(json_data)\n",
        "print(json_data['firstName'])\n",
        "print(json_data['phoneNumbers'])"
      ],
      "execution_count": null,
      "outputs": [
        {
          "output_type": "stream",
          "text": [
            "{'firstName': 'John', 'lastName': 'Smith', 'address': {'streetAddress': '21 2nd Street', 'city': 'New York', 'state': 'NY', 'postalCode': 10021}, 'phoneNumbers': ['212 555-1234', '646 555-4567']}\n",
            "John\n",
            "['212 555-1234', '646 555-4567']\n"
          ],
          "name": "stdout"
        }
      ]
    },
    {
      "cell_type": "code",
      "metadata": {
        "id": "C1jHq5qYVobi",
        "colab": {
          "base_uri": "https://localhost:8080/"
        },
        "outputId": "0a66510c-22a8-467b-8336-c4e9ea077069"
      },
      "source": [
        "import json\n",
        "person = '{\"name\": \"Bob\", \"languages\": [\"English\", \"French\"]}'\n",
        "person_dict = json.loads(person)\n",
        "print(person_dict)"
      ],
      "execution_count": null,
      "outputs": [
        {
          "output_type": "stream",
          "text": [
            "{'name': 'Bob', 'languages': ['English', 'French']}\n"
          ],
          "name": "stdout"
        }
      ]
    },
    {
      "cell_type": "code",
      "metadata": {
        "id": "CuPFsZ4zWkYO",
        "colab": {
          "base_uri": "https://localhost:8080/"
        },
        "outputId": "e66a09f6-91f6-4ab1-e7c0-7c4953f6c990"
      },
      "source": [
        "listem = ['elma', 'armut', 'portakal', 'orda kal']\n",
        "\n",
        "print(sorted(listem))\n",
        "print(sorted(listem, reverse=True))\n",
        "print(listem)"
      ],
      "execution_count": null,
      "outputs": [
        {
          "output_type": "stream",
          "text": [
            "['armut', 'elma', 'orda kal', 'portakal']\n",
            "['portakal', 'orda kal', 'elma', 'armut']\n",
            "['elma', 'armut', 'portakal', 'orda kal']\n"
          ],
          "name": "stdout"
        }
      ]
    },
    {
      "cell_type": "code",
      "metadata": {
        "id": "RWLiFhhpX8Hg",
        "colab": {
          "base_uri": "https://localhost:8080/"
        },
        "outputId": "c72f82ff-55c6-48af-d9f7-b3d865dcf61e"
      },
      "source": [
        "# Python program to demonstrate\n",
        "# sorted()\n",
        "  \n",
        "  \n",
        "# List \n",
        "x = ['q', 'w', 'r', 'e', 't', 'y'] \n",
        "print(sorted(x)) \n",
        "    \n",
        "# Tuple \n",
        "x = ('q', 'w', 'e', 'r', 't', 'y') \n",
        "print(sorted(x))\n",
        "  \n",
        "# String-sorted based on ASCII translations \n",
        "x = \"python\"\n",
        "print(sorted(x)) \n",
        "print(x)\n",
        "    \n",
        "# Dictionary \n",
        "x = {'q':1, 'w':2, 'e':3, 'r':4, 't':5, 'y':6} \n",
        "print(sorted(x)) \n",
        "    \n",
        "# Set \n",
        "x = {'q', 'w', 'e', 'r', 't', 'y'} \n",
        "print(sorted(x))"
      ],
      "execution_count": null,
      "outputs": [
        {
          "output_type": "stream",
          "text": [
            "['e', 'q', 'r', 't', 'w', 'y']\n",
            "['e', 'q', 'r', 't', 'w', 'y']\n",
            "['h', 'n', 'o', 'p', 't', 'y']\n",
            "python\n",
            "['e', 'q', 'r', 't', 'w', 'y']\n",
            "['e', 'q', 'r', 't', 'w', 'y']\n"
          ],
          "name": "stdout"
        }
      ]
    },
    {
      "cell_type": "code",
      "metadata": {
        "id": "Rw8B5Lb0a8bw",
        "colab": {
          "base_uri": "https://localhost:8080/"
        },
        "outputId": "983f0295-a743-4204-a5c5-fbc3a93f6fef"
      },
      "source": [
        "# Python program to demonstrate\n",
        "# sorted()\n",
        "  \n",
        "  \n",
        "mylist = ['aaaa', 'bbb', 'cc', 'd']\n",
        "  \n",
        "# sorted without key parameter\n",
        "print(sorted(mylist))\n",
        "\n",
        "  \n",
        "# sorted with key parameter\n",
        "print(sorted(mylist, key = len))"
      ],
      "execution_count": null,
      "outputs": [
        {
          "output_type": "stream",
          "text": [
            "['aaaa', 'bbb', 'cc', 'd']\n",
            "['d', 'cc', 'bbb', 'aaaa']\n"
          ],
          "name": "stdout"
        }
      ]
    },
    {
      "cell_type": "code",
      "metadata": {
        "id": "R-l7UiG1oQ7Z",
        "colab": {
          "base_uri": "https://localhost:8080/"
        },
        "outputId": "219acd19-bca7-4fcb-bfa6-01c326733f3f"
      },
      "source": [
        "    \n",
        "# List of Floating point numbers \n",
        "decimalnumber = [2.01, 2.00, 3.67, 3.28, 1.68] \n",
        "    \n",
        "# Sorting list of Floating point numbers \n",
        "decimalnumber.sort() \n",
        "\n",
        "print(decimalnumber)"
      ],
      "execution_count": null,
      "outputs": [
        {
          "output_type": "stream",
          "text": [
            "[1.68, 2.0, 2.01, 3.28, 3.67]\n"
          ],
          "name": "stdout"
        }
      ]
    },
    {
      "cell_type": "code",
      "metadata": {
        "id": "DQFK3nZVoeI4",
        "colab": {
          "base_uri": "https://localhost:8080/"
        },
        "outputId": "7e9223cd-5367-4dec-8a52-63fafbf31dc7"
      },
      "source": [
        "decimalnumber = [2.01, 2.00, 3.67, 3.28, 1.68] \n",
        "\n",
        "decimalnumber.sort(reverse = True)\n",
        "\n",
        "print(decimalnumber)"
      ],
      "execution_count": null,
      "outputs": [
        {
          "output_type": "stream",
          "text": [
            "[3.67, 3.28, 2.01, 2.0, 1.68]\n"
          ],
          "name": "stdout"
        }
      ]
    },
    {
      "cell_type": "code",
      "metadata": {
        "id": "BAm55d9FhGpF",
        "colab": {
          "base_uri": "https://localhost:8080/"
        },
        "outputId": "0ae0af11-0033-423c-c603-972da07c8c6d"
      },
      "source": [
        "sum(range(20)) \n"
      ],
      "execution_count": null,
      "outputs": [
        {
          "output_type": "execute_result",
          "data": {
            "text/plain": [
              "190"
            ]
          },
          "metadata": {
            "tags": []
          },
          "execution_count": 80
        }
      ]
    },
    {
      "cell_type": "code",
      "metadata": {
        "id": "yINMjk0YhmRm",
        "colab": {
          "base_uri": "https://localhost:8080/"
        },
        "outputId": "419b7f34-26e6-494a-9373-359727a5677e"
      },
      "source": [
        "sum(range(20), 10)"
      ],
      "execution_count": null,
      "outputs": [
        {
          "output_type": "execute_result",
          "data": {
            "text/plain": [
              "200"
            ]
          },
          "metadata": {
            "tags": []
          },
          "execution_count": 81
        }
      ]
    },
    {
      "cell_type": "code",
      "metadata": {
        "id": "4j8V7fFsiJaZ",
        "colab": {
          "base_uri": "https://localhost:8080/"
        },
        "outputId": "c57979f9-1470-453c-89fb-1275d4fdcc57"
      },
      "source": [
        "from collections import Counter\n",
        "numbers = [1, 3, 7, 4, 3, 0, 3, 6, 3]\n",
        "c = (Counter(numbers))\n",
        "c.most_common(1)\n",
        "print(f'the most fruquent number is {c.most_common(1)[0][0]} and it was\\\n",
        " {c.most_common(1)[0][1]} times repeated')"
      ],
      "execution_count": null,
      "outputs": [
        {
          "output_type": "stream",
          "text": [
            "the most fruquent number is 3 and it was 4 times repeated\n"
          ],
          "name": "stdout"
        }
      ]
    },
    {
      "cell_type": "code",
      "metadata": {
        "id": "f7ZissCi2iwT",
        "colab": {
          "base_uri": "https://localhost:8080/"
        },
        "outputId": "21b25da4-6d1d-40cf-a37c-f9793a97d3af"
      },
      "source": [
        "first_dict = {1 : 'one', 'two': 2, False : [1, 2, 3], \\\n",
        "              1.5 : ('one', 'two'), (1, 2): 'clrswy'}\n",
        "print(first_dict)"
      ],
      "execution_count": null,
      "outputs": [
        {
          "output_type": "stream",
          "text": [
            "{1: 'one', 'two': 2, False: [1, 2, 3], 1.5: ('one', 'two'), (1, 2): 'clrswy'}\n"
          ],
          "name": "stdout"
        }
      ]
    },
    {
      "cell_type": "code",
      "metadata": {
        "id": "hFQMPk1N4jEM",
        "colab": {
          "base_uri": "https://localhost:8080/"
        },
        "outputId": "5d9b0b26-302e-4b99-aee9-a58a8b55e3f7"
      },
      "source": [
        "xx = dict(bir = 'one', iki = 'two')\n",
        "xx"
      ],
      "execution_count": null,
      "outputs": [
        {
          "output_type": "execute_result",
          "data": {
            "text/plain": [
              "{'bir': 'one', 'iki': 'two'}"
            ]
          },
          "metadata": {
            "tags": []
          },
          "execution_count": 5
        }
      ]
    },
    {
      "cell_type": "code",
      "metadata": {
        "id": "YWVGFiPh5cZV"
      },
      "source": [
        "state_capitals = {'Arkansas': 'Little Rock',\n",
        "'Colorado': 'Denver',\n",
        "'California': 'Sacramento',\n",
        "'Georgia': 'Atlanta'}\n",
        "print(state_capitals['Colorado']) # accessing method"
      ],
      "execution_count": null,
      "outputs": []
    },
    {
      "cell_type": "code",
      "metadata": {
        "id": "KjdTmaMg5zhP",
        "colab": {
          "base_uri": "https://localhost:8080/"
        },
        "outputId": "031c0dd3-8e84-48b8-cc3a-ecda272a4b95"
      },
      "source": [
        "sehir = 'istanbul'\n",
        "sehir2 = 'ankara'\n",
        "\n",
        "sehirler = {1 : sehir, 2 : sehir2}\n",
        "sehirler"
      ],
      "execution_count": null,
      "outputs": [
        {
          "output_type": "execute_result",
          "data": {
            "text/plain": [
              "{1: 'istanbul', 2: 'ankara'}"
            ]
          },
          "metadata": {
            "tags": []
          },
          "execution_count": 9
        }
      ]
    },
    {
      "cell_type": "code",
      "metadata": {
        "id": "oFjXMczX7Qzm",
        "colab": {
          "base_uri": "https://localhost:8080/"
        },
        "outputId": "329ff122-6662-4464-e0e6-e7286c4dbe75"
      },
      "source": [
        "family = {'name1': 'Frank',\n",
        "          'name2': 'Emilie',\n",
        "          'name3': 'Nathan`'   \n",
        "}\n",
        "family['name4'] = 'Tom' \n",
        "print(family)"
      ],
      "execution_count": null,
      "outputs": [
        {
          "output_type": "stream",
          "text": [
            "{'name1': 'Frank', 'name2': 'Emilie', 'name3': 'Nathan`', 'name4': 'Tom'}\n"
          ],
          "name": "stdout"
        }
      ]
    },
    {
      "cell_type": "code",
      "metadata": {
        "id": "sR3awH_PDPN6",
        "colab": {
          "base_uri": "https://localhost:8080/"
        },
        "outputId": "c4b54a54-6ab2-4f2b-e9d4-7742680e27fa"
      },
      "source": [
        "print(list(family.items()))\n",
        "print(list(family.keys()))\n",
        "print(list(family.values()))"
      ],
      "execution_count": null,
      "outputs": [
        {
          "output_type": "stream",
          "text": [
            "[('name1', 'Frank'), ('name2', 'Emilie'), ('name3', 'Nathan')]\n",
            "['name1', 'name2', 'name3']\n",
            "['Frank', 'Emilie', 'Nathan']\n"
          ],
          "name": "stdout"
        }
      ]
    },
    {
      "cell_type": "code",
      "metadata": {
        "id": "mOZz7gw8BUiG",
        "colab": {
          "base_uri": "https://localhost:8080/"
        },
        "outputId": "066bf7ed-f3f4-4ae3-be73-776e8a4fe4dd"
      },
      "source": [
        "family = dict(name1 = 'Frank', name2= 'Emilie', name3 = 'Nathan')\n",
        "family"
      ],
      "execution_count": null,
      "outputs": [
        {
          "output_type": "execute_result",
          "data": {
            "text/plain": [
              "{'name1': 'Frank', 'name2': 'Emilie', 'name3': 'Nathan'}"
            ]
          },
          "metadata": {
            "tags": []
          },
          "execution_count": 16
        }
      ]
    },
    {
      "cell_type": "code",
      "metadata": {
        "id": "L9PsxsbTC9MQ",
        "colab": {
          "base_uri": "https://localhost:8080/"
        },
        "outputId": "698722a0-e036-4448-c8a0-78f3def0f033"
      },
      "source": [
        "dict_by_dict = dict(animal='dog', planet='neptun', number=40, pi=3.14, is_good=True)\n",
        "print(dict_by_dict)"
      ],
      "execution_count": null,
      "outputs": [
        {
          "output_type": "stream",
          "text": [
            "{'animal': 'dog', 'planet': 'neptun', 'number': 40, 'pi': 3.14, 'is_good': True}\n"
          ],
          "name": "stdout"
        }
      ]
    },
    {
      "cell_type": "code",
      "metadata": {
        "id": "N7TNa9zUFRmo",
        "colab": {
          "base_uri": "https://localhost:8080/"
        },
        "outputId": "9c9558fc-f729-4da1-bb12-d103677deedd"
      },
      "source": [
        "dict_by_dict.update({'name1': 'Frank', 'name2': 'Emilie', 'name3': 'Nathan'})\n",
        "\n",
        "print(dict_by_dict)"
      ],
      "execution_count": null,
      "outputs": [
        {
          "output_type": "stream",
          "text": [
            "{'animal': 'dog', 'planet': 'neptun', 'number': 40, 'pi': 3.14, 'is_good': True, 'name1': 'Frank', 'name2': 'Emilie', 'name3': 'Nathan'}\n"
          ],
          "name": "stdout"
        }
      ]
    },
    {
      "cell_type": "code",
      "metadata": {
        "id": "LKmYs9jaF-EM",
        "colab": {
          "base_uri": "https://localhost:8080/"
        },
        "outputId": "3a58cd4e-7b4d-4753-eb6f-76ab8811908b"
      },
      "source": [
        "family.update({'name5': 'Alex'})\n",
        "print(family)"
      ],
      "execution_count": null,
      "outputs": [
        {
          "output_type": "stream",
          "text": [
            "{'name1': 'Frank', 'name2': 'Emilie', 'name3': 'Nathan', 'name5': 'Alex'}\n"
          ],
          "name": "stdout"
        }
      ]
    },
    {
      "cell_type": "code",
      "metadata": {
        "id": "3JXyCDOaGczD",
        "colab": {
          "base_uri": "https://localhost:8080/",
          "height": 200
        },
        "outputId": "8cc8c23c-51fe-4701-81dc-41d1074475e2"
      },
      "source": [
        "del family['name1'], family['name5']\n",
        "\n",
        "print(family)"
      ],
      "execution_count": null,
      "outputs": [
        {
          "output_type": "error",
          "ename": "KeyError",
          "evalue": "ignored",
          "traceback": [
            "\u001b[0;31m---------------------------------------------------------------------------\u001b[0m",
            "\u001b[0;31mKeyError\u001b[0m                                  Traceback (most recent call last)",
            "\u001b[0;32m<ipython-input-35-03feee60fad4>\u001b[0m in \u001b[0;36m<module>\u001b[0;34m()\u001b[0m\n\u001b[0;32m----> 1\u001b[0;31m \u001b[0;32mdel\u001b[0m \u001b[0mfamily\u001b[0m\u001b[0;34m[\u001b[0m\u001b[0;34m'name1'\u001b[0m\u001b[0;34m]\u001b[0m\u001b[0;34m,\u001b[0m \u001b[0mfamily\u001b[0m\u001b[0;34m[\u001b[0m\u001b[0;34m'name5'\u001b[0m\u001b[0;34m]\u001b[0m\u001b[0;34m\u001b[0m\u001b[0;34m\u001b[0m\u001b[0m\n\u001b[0m\u001b[1;32m      2\u001b[0m \u001b[0;34m\u001b[0m\u001b[0m\n\u001b[1;32m      3\u001b[0m \u001b[0mprint\u001b[0m\u001b[0;34m(\u001b[0m\u001b[0mfamily\u001b[0m\u001b[0;34m)\u001b[0m\u001b[0;34m\u001b[0m\u001b[0;34m\u001b[0m\u001b[0m\n",
            "\u001b[0;31mKeyError\u001b[0m: 'name1'"
          ]
        }
      ]
    },
    {
      "cell_type": "code",
      "metadata": {
        "id": "u8rPYRcBIiKg",
        "colab": {
          "base_uri": "https://localhost:8080/"
        },
        "outputId": "761d39ee-5d4b-44e1-d924-5ed8c4e4c036"
      },
      "source": [
        "family = {'name1': 'Frank', 'name2': 'Emilie', 'name3': 'Nathan'}\n",
        "\n",
        "'name1' in family\n",
        "\n",
        "'name5' in family"
      ],
      "execution_count": null,
      "outputs": [
        {
          "output_type": "execute_result",
          "data": {
            "text/plain": [
              "False"
            ]
          },
          "metadata": {
            "tags": []
          },
          "execution_count": 38
        }
      ]
    },
    {
      "cell_type": "code",
      "metadata": {
        "id": "aN6lgUKNJQOB",
        "colab": {
          "base_uri": "https://localhost:8080/"
        },
        "outputId": "6eab2278-c6f0-45a7-9212-6289e2d76edd"
      },
      "source": [
        "'Frank' in family.values()"
      ],
      "execution_count": null,
      "outputs": [
        {
          "output_type": "execute_result",
          "data": {
            "text/plain": [
              "True"
            ]
          },
          "metadata": {
            "tags": []
          },
          "execution_count": 40
        }
      ]
    },
    {
      "cell_type": "code",
      "metadata": {
        "id": "cTmQ33OTPZ34",
        "colab": {
          "base_uri": "https://localhost:8080/"
        },
        "outputId": "630d8ba9-9c10-479a-f88a-c7bec902d4e8"
      },
      "source": [
        "school_records={\n",
        "    \"personal_info\":\n",
        "        {\"kid\":{\"tom\": {\"class\": \"intermediate\", \"age\": 10},\n",
        "                \"sue\": {\"class\": \"elementary\", \"age\": 8}\n",
        "               },\n",
        "         \"teen\":{\"joseph\":{\"class\": \"college\", \"age\": 19},\n",
        "                 \"marry\":{\"class\": \"high school\", \"age\": 16}\n",
        "               },               \n",
        "        },\n",
        "        \n",
        "    \"grades_info\":\n",
        "        {\"kid\":{\"tom\": {\"math\": 88, \"speech\": 69},\n",
        "                \"sue\": {\"math\": 90, \"speech\": 81}\n",
        "               },\n",
        "         \"teen\":{\"joseph\":{\"coding\": 80, \"math\": 89},\n",
        "                 \"marry\":{\"coding\": 70, \"math\": 96}\n",
        "               },               \n",
        "        },        \n",
        "}\n",
        "\n",
        "school_records['personal_info']"
      ],
      "execution_count": null,
      "outputs": [
        {
          "output_type": "execute_result",
          "data": {
            "text/plain": [
              "{'kid': {'sue': {'age': 8, 'class': 'elementary'},\n",
              "  'tom': {'age': 10, 'class': 'intermediate'}},\n",
              " 'teen': {'joseph': {'age': 19, 'class': 'college'},\n",
              "  'marry': {'age': 16, 'class': 'high school'}}}"
            ]
          },
          "metadata": {
            "tags": []
          },
          "execution_count": 41
        }
      ]
    },
    {
      "cell_type": "code",
      "metadata": {
        "id": "cy21X6GfPb6V",
        "colab": {
          "base_uri": "https://localhost:8080/"
        },
        "outputId": "746da3ea-2cd7-4a08-f687-b18056d923df"
      },
      "source": [
        "school_records['personal_info']['teen']"
      ],
      "execution_count": null,
      "outputs": [
        {
          "output_type": "execute_result",
          "data": {
            "text/plain": [
              "{'joseph': {'age': 19, 'class': 'college'},\n",
              " 'marry': {'age': 16, 'class': 'high school'}}"
            ]
          },
          "metadata": {
            "tags": []
          },
          "execution_count": 42
        }
      ]
    },
    {
      "cell_type": "code",
      "metadata": {
        "id": "1jJSgSQ5P5U1",
        "colab": {
          "base_uri": "https://localhost:8080/"
        },
        "outputId": "dac7aaf7-1f51-49d1-f350-82c5205c8cae"
      },
      "source": [
        "school_records['personal_info']['teen']['marry']"
      ],
      "execution_count": null,
      "outputs": [
        {
          "output_type": "execute_result",
          "data": {
            "text/plain": [
              "{'age': 16, 'class': 'high school'}"
            ]
          },
          "metadata": {
            "tags": []
          },
          "execution_count": 44
        }
      ]
    },
    {
      "cell_type": "code",
      "metadata": {
        "id": "pTMrEw-pQCnE",
        "colab": {
          "base_uri": "https://localhost:8080/"
        },
        "outputId": "140e6e1a-d4cb-4bba-b85a-c6d4a30fb2b1"
      },
      "source": [
        "school_records['personal_info']['teen']['marry']['age']"
      ],
      "execution_count": null,
      "outputs": [
        {
          "output_type": "execute_result",
          "data": {
            "text/plain": [
              "16"
            ]
          },
          "metadata": {
            "tags": []
          },
          "execution_count": 46
        }
      ]
    },
    {
      "cell_type": "code",
      "metadata": {
        "id": "XzqcdDeeQczs",
        "colab": {
          "base_uri": "https://localhost:8080/"
        },
        "outputId": "2f3209c0-c7dd-420f-e81d-f87ae1ee5fab"
      },
      "source": [
        "school_records['grades_info']['teen']['joseph']\n"
      ],
      "execution_count": null,
      "outputs": [
        {
          "output_type": "execute_result",
          "data": {
            "text/plain": [
              "{'coding': 80, 'math': 89}"
            ]
          },
          "metadata": {
            "tags": []
          },
          "execution_count": 56
        }
      ]
    },
    {
      "cell_type": "code",
      "metadata": {
        "id": "l2jobkqpRdig",
        "colab": {
          "base_uri": "https://localhost:8080/"
        },
        "outputId": "ebe8576b-31b9-4bf9-edbe-acf0d1bbdd79"
      },
      "source": [
        "school_records['grades_info']['teen']['joseph'].items()"
      ],
      "execution_count": null,
      "outputs": [
        {
          "output_type": "execute_result",
          "data": {
            "text/plain": [
              "dict_items([('coding', 80), ('math', 89)])"
            ]
          },
          "metadata": {
            "tags": []
          },
          "execution_count": 57
        }
      ]
    },
    {
      "cell_type": "code",
      "metadata": {
        "id": "_C2SwY54Rs_c",
        "colab": {
          "base_uri": "https://localhost:8080/"
        },
        "outputId": "b1ff32b0-b9ed-4373-8c3e-6e42ace5b699"
      },
      "source": [
        "list(school_records['grades_info']['teen']['joseph'].items())"
      ],
      "execution_count": null,
      "outputs": [
        {
          "output_type": "execute_result",
          "data": {
            "text/plain": [
              "[('coding', 80), ('math', 89)]"
            ]
          },
          "metadata": {
            "tags": []
          },
          "execution_count": 58
        }
      ]
    },
    {
      "cell_type": "code",
      "metadata": {
        "id": "Ljtt_6KtR-He",
        "colab": {
          "base_uri": "https://localhost:8080/"
        },
        "outputId": "faa53f86-315d-46b0-d954-8b5f3e2d70c6"
      },
      "source": [
        "friends = {'friends1': {'first':'Sue', 'last': 'Bold'},\n",
        "           'friends2': {'first': 'Steve', 'last': 'Smith'},\n",
        "           'friends3': {'first':'Sergio', 'last': 'Tatoo'}\n",
        "    \n",
        "}\n",
        "friends"
      ],
      "execution_count": null,
      "outputs": [
        {
          "output_type": "execute_result",
          "data": {
            "text/plain": [
              "{'friends1': {'first': 'Sue', 'last': 'Bold'},\n",
              " 'friends2': {'first': 'Steve', 'last': 'Smith'},\n",
              " 'friends3': {'first': 'Sergio', 'last': 'Tatoo'}}"
            ]
          },
          "metadata": {
            "tags": []
          },
          "execution_count": 61
        }
      ]
    },
    {
      "cell_type": "code",
      "metadata": {
        "id": "rZDboC3eTTNf",
        "colab": {
          "base_uri": "https://localhost:8080/",
          "height": 131
        },
        "outputId": "58a3b2fa-7a25-4caa-86c7-2181750372a5"
      },
      "source": [
        "favorite = {\n",
        "    'friends1': {\n",
        "            'first':'Sue', 'last': 'Bold'},\n",
        "           'friends2': {'first': 'Steve', 'last': 'Smith'},\n",
        "           'friends3': {'first':'Sergio', 'last': 'Tatoo'}\n",
        "            }, \n",
        "          'family1': {\n",
        "              'first':'Sue', 'last': 'Bold'},\n",
        "           'family2': {'first': 'Steve', 'last': 'Smith'},\n",
        "           'family3': {'first':'Sergio', 'last': 'Tatoo'}\n",
        "         },\n",
        "        }\n",
        "    }\n",
        "favorite"
      ],
      "execution_count": 6,
      "outputs": [
        {
          "output_type": "error",
          "ename": "IndentationError",
          "evalue": "ignored",
          "traceback": [
            "\u001b[0;36m  File \u001b[0;32m\"<ipython-input-6-a8672752bcc3>\"\u001b[0;36m, line \u001b[0;32m7\u001b[0m\n\u001b[0;31m    'family1': {\u001b[0m\n\u001b[0m    ^\u001b[0m\n\u001b[0;31mIndentationError\u001b[0m\u001b[0;31m:\u001b[0m unexpected indent\n"
          ]
        }
      ]
    },
    {
      "cell_type": "code",
      "metadata": {
        "id": "EQTRUTUmWJu4"
      },
      "source": [
        ""
      ],
      "execution_count": null,
      "outputs": []
    }
  ]
}