{
  "nbformat": 4,
  "nbformat_minor": 5,
  "metadata": {
    "kernelspec": {
      "display_name": "Python 3",
      "language": "python",
      "name": "python3"
    },
    "language_info": {
      "codemirror_mode": {
        "name": "ipython",
        "version": 3
      },
      "file_extension": ".py",
      "mimetype": "text/x-python",
      "name": "python",
      "nbconvert_exporter": "python",
      "pygments_lexer": "ipython3",
      "version": "3.7.8"
    },
    "colab": {
      "name": "05_8_InClass-19Mayıs21-packages-.ipynb",
      "provenance": [],
      "include_colab_link": true
    }
  },
  "cells": [
    {
      "cell_type": "markdown",
      "metadata": {
        "id": "view-in-github",
        "colab_type": "text"
      },
      "source": [
        "<a href=\"https://colab.research.google.com/github/fatihtepe/learn_python/blob/main/05_8_InClass_19May%C4%B1s21_packages_.ipynb\" target=\"_parent\"><img src=\"https://colab.research.google.com/assets/colab-badge.svg\" alt=\"Open In Colab\"/></a>"
      ]
    },
    {
      "cell_type": "code",
      "metadata": {
        "id": "naked-producer",
        "outputId": "59736581-57d0-490b-85f2-0c2708acde08"
      },
      "source": [
        "pwd"
      ],
      "id": "naked-producer",
      "execution_count": null,
      "outputs": [
        {
          "output_type": "execute_result",
          "data": {
            "text/plain": [
              "'C:\\\\Users\\\\hüseyin'"
            ]
          },
          "metadata": {
            "tags": []
          },
          "execution_count": 1
        }
      ]
    },
    {
      "cell_type": "code",
      "metadata": {
        "id": "seven-manner"
      },
      "source": [
        "\"\"\" ilk çalıştırdığında çalışan dosyaları init dosyasını içine yazılıyor.\n",
        "\n",
        "\"\"\""
      ],
      "id": "seven-manner",
      "execution_count": null,
      "outputs": []
    },
    {
      "cell_type": "code",
      "metadata": {
        "id": "administrative-airline"
      },
      "source": [
        "from upper_package import my_package1, my_package2"
      ],
      "id": "administrative-airline",
      "execution_count": null,
      "outputs": []
    },
    {
      "cell_type": "code",
      "metadata": {
        "id": "psychological-bridal"
      },
      "source": [
        "from upper_package.my_package1 import my_module_1, my_module_2"
      ],
      "id": "psychological-bridal",
      "execution_count": null,
      "outputs": []
    },
    {
      "cell_type": "code",
      "metadata": {
        "id": "known-diary",
        "outputId": "0dce340f-7f8c-4c7a-c643-4f3b4ff92133"
      },
      "source": [
        "dir(my_package1)"
      ],
      "id": "known-diary",
      "execution_count": null,
      "outputs": [
        {
          "output_type": "execute_result",
          "data": {
            "text/plain": [
              "['__doc__',\n",
              " '__file__',\n",
              " '__loader__',\n",
              " '__name__',\n",
              " '__package__',\n",
              " '__path__',\n",
              " '__spec__',\n",
              " 'my_module_1',\n",
              " 'my_module_2']"
            ]
          },
          "metadata": {
            "tags": []
          },
          "execution_count": 5
        }
      ]
    },
    {
      "cell_type": "code",
      "metadata": {
        "id": "divided-ceremony"
      },
      "source": [
        "from upper_package.my_package2 import my_module_3, my_module_4"
      ],
      "id": "divided-ceremony",
      "execution_count": null,
      "outputs": []
    },
    {
      "cell_type": "code",
      "metadata": {
        "id": "hearing-organ",
        "outputId": "05d2e966-d593-4780-8a0e-94f12b5ec569"
      },
      "source": [
        "dir(my_package2)"
      ],
      "id": "hearing-organ",
      "execution_count": null,
      "outputs": [
        {
          "output_type": "execute_result",
          "data": {
            "text/plain": [
              "['__doc__',\n",
              " '__file__',\n",
              " '__loader__',\n",
              " '__name__',\n",
              " '__package__',\n",
              " '__path__',\n",
              " '__spec__',\n",
              " 'my_module_3',\n",
              " 'my_module_4']"
            ]
          },
          "metadata": {
            "tags": []
          },
          "execution_count": 8
        }
      ]
    },
    {
      "cell_type": "code",
      "metadata": {
        "id": "federal-thompson",
        "outputId": "9bb61fd3-d739-4128-f6e6-a58cd12d6268"
      },
      "source": [
        "my_module_2.divide(10,5)\n",
        "\n",
        "# my_module_2 modülünün içindeki divide fonksiyonunu çalıştırdık"
      ],
      "id": "federal-thompson",
      "execution_count": null,
      "outputs": [
        {
          "output_type": "execute_result",
          "data": {
            "text/plain": [
              "2.0"
            ]
          },
          "metadata": {
            "tags": []
          },
          "execution_count": 9
        }
      ]
    },
    {
      "cell_type": "code",
      "metadata": {
        "id": "recorded-frame",
        "outputId": "bd0dcc6c-69a9-4a8a-e8b8-04309bbcc14a"
      },
      "source": [
        "my_module_1.addition(4, 5)"
      ],
      "id": "recorded-frame",
      "execution_count": null,
      "outputs": [
        {
          "output_type": "execute_result",
          "data": {
            "text/plain": [
              "9"
            ]
          },
          "metadata": {
            "tags": []
          },
          "execution_count": 10
        }
      ]
    },
    {
      "cell_type": "code",
      "metadata": {
        "id": "infinite-handbook",
        "outputId": "de0e97cf-5797-46b2-90cd-f51c7d6f5aef"
      },
      "source": [
        "my_module_3.repeater(\"clarusway\", 3)"
      ],
      "id": "infinite-handbook",
      "execution_count": null,
      "outputs": [
        {
          "output_type": "execute_result",
          "data": {
            "text/plain": [
              "'claruswayclaruswayclarusway'"
            ]
          },
          "metadata": {
            "tags": []
          },
          "execution_count": 11
        }
      ]
    },
    {
      "cell_type": "code",
      "metadata": {
        "id": "atlantic-glossary",
        "outputId": "f18b402b-dac8-4a80-fe27-d03eca002958"
      },
      "source": [
        "my_module_1.__spec__"
      ],
      "id": "atlantic-glossary",
      "execution_count": null,
      "outputs": [
        {
          "output_type": "execute_result",
          "data": {
            "text/plain": [
              "ModuleSpec(name='upper_package.my_package1.my_module_1', loader=<_frozen_importlib_external.SourceFileLoader object at 0x000001F8EB344088>, origin='C:\\\\Users\\\\hüseyin\\\\upper_package\\\\my_package1\\\\my_module_1.py')"
            ]
          },
          "metadata": {
            "tags": []
          },
          "execution_count": 12
        }
      ]
    },
    {
      "cell_type": "code",
      "metadata": {
        "id": "returning-worth",
        "outputId": "00ca894d-8445-401b-8a16-9da63b937877"
      },
      "source": [
        "my_package1.__spec__"
      ],
      "id": "returning-worth",
      "execution_count": null,
      "outputs": [
        {
          "output_type": "execute_result",
          "data": {
            "text/plain": [
              "ModuleSpec(name='upper_package.my_package1', loader=<_frozen_importlib_external._NamespaceLoader object at 0x000001F8EB33CA08>, submodule_search_locations=_NamespacePath(['C:\\\\Users\\\\hüseyin\\\\upper_package\\\\my_package1', 'C:\\\\Users\\\\hüseyin\\\\upper_package\\\\my_package1']))"
            ]
          },
          "metadata": {
            "tags": []
          },
          "execution_count": 13
        }
      ]
    },
    {
      "cell_type": "code",
      "metadata": {
        "id": "integrated-discussion"
      },
      "source": [
        "import upper_package\n",
        "\n",
        "# upper_package nin içinde ne var ne yok diye görmek için önce import edelim"
      ],
      "id": "integrated-discussion",
      "execution_count": null,
      "outputs": []
    },
    {
      "cell_type": "code",
      "metadata": {
        "id": "comprehensive-enclosure",
        "outputId": "64e8c4f4-418e-475e-ad43-727914ab6349"
      },
      "source": [
        "dir(upper_package)"
      ],
      "id": "comprehensive-enclosure",
      "execution_count": null,
      "outputs": [
        {
          "output_type": "execute_result",
          "data": {
            "text/plain": [
              "['__doc__',\n",
              " '__file__',\n",
              " '__loader__',\n",
              " '__name__',\n",
              " '__package__',\n",
              " '__path__',\n",
              " '__spec__',\n",
              " 'my_package1',\n",
              " 'my_package2']"
            ]
          },
          "metadata": {
            "tags": []
          },
          "execution_count": 15
        }
      ]
    },
    {
      "cell_type": "code",
      "metadata": {
        "id": "simplified-comment"
      },
      "source": [
        "# doğrudan fonksiyon import edelim (divide ve hello fonksiyonları)\n",
        "\n",
        "from upper_package.my_package1.my_module_2 import divide, hello\n",
        "\n",
        "# içinde hangi fonksiyonlar olduğunu aynı zamanda klasör içinde modül dosyalarını txt editörde açarak da görebilirsin"
      ],
      "id": "simplified-comment",
      "execution_count": null,
      "outputs": []
    },
    {
      "cell_type": "code",
      "metadata": {
        "id": "collaborative-owner"
      },
      "source": [
        "from upper_package.my_package1.my_module_1 import addition, multi"
      ],
      "id": "collaborative-owner",
      "execution_count": null,
      "outputs": []
    },
    {
      "cell_type": "code",
      "metadata": {
        "id": "cross-incentive",
        "outputId": "24bda983-67f7-4422-bfc0-479f77542fb4"
      },
      "source": [
        "hello()"
      ],
      "id": "cross-incentive",
      "execution_count": null,
      "outputs": [
        {
          "output_type": "stream",
          "text": [
            "hello\n"
          ],
          "name": "stdout"
        }
      ]
    },
    {
      "cell_type": "code",
      "metadata": {
        "id": "northern-reform",
        "outputId": "412af1ba-0174-454e-bb4b-39965b93a0bf"
      },
      "source": [
        "divide(22, 11)"
      ],
      "id": "northern-reform",
      "execution_count": null,
      "outputs": [
        {
          "output_type": "execute_result",
          "data": {
            "text/plain": [
              "2.0"
            ]
          },
          "metadata": {
            "tags": []
          },
          "execution_count": 18
        }
      ]
    },
    {
      "cell_type": "code",
      "metadata": {
        "id": "clinical-china",
        "outputId": "babcddd3-1378-4841-f6a2-0d30ae452d37"
      },
      "source": [
        "addition(4, 5)"
      ],
      "id": "clinical-china",
      "execution_count": null,
      "outputs": [
        {
          "output_type": "execute_result",
          "data": {
            "text/plain": [
              "9"
            ]
          },
          "metadata": {
            "tags": []
          },
          "execution_count": 28
        }
      ]
    },
    {
      "cell_type": "code",
      "metadata": {
        "id": "exclusive-helicopter",
        "outputId": "72bedf5c-d0d0-4e6c-f225-4e39e26c7d8a"
      },
      "source": [
        "dir(my_module_1)"
      ],
      "id": "exclusive-helicopter",
      "execution_count": null,
      "outputs": [
        {
          "output_type": "execute_result",
          "data": {
            "text/plain": [
              "['__builtins__',\n",
              " '__cached__',\n",
              " '__doc__',\n",
              " '__file__',\n",
              " '__loader__',\n",
              " '__name__',\n",
              " '__package__',\n",
              " '__spec__',\n",
              " 'addition',\n",
              " 'multi']"
            ]
          },
          "metadata": {
            "tags": []
          },
          "execution_count": 26
        }
      ]
    },
    {
      "cell_type": "code",
      "metadata": {
        "id": "altered-landscape"
      },
      "source": [
        "import math\n",
        "\n",
        "# (python un default modulleri arasındaki) math fonksiyonunu import ettik. "
      ],
      "id": "altered-landscape",
      "execution_count": null,
      "outputs": []
    },
    {
      "cell_type": "code",
      "metadata": {
        "id": "ceramic-nevada"
      },
      "source": [
        "from math import log10"
      ],
      "id": "ceramic-nevada",
      "execution_count": null,
      "outputs": []
    },
    {
      "cell_type": "code",
      "metadata": {
        "id": "verbal-donor",
        "outputId": "2c9daf70-f8f7-4526-a301-dcba6d37900d"
      },
      "source": [
        "log10(1000)"
      ],
      "id": "verbal-donor",
      "execution_count": null,
      "outputs": [
        {
          "output_type": "execute_result",
          "data": {
            "text/plain": [
              "3.0"
            ]
          },
          "metadata": {
            "tags": []
          },
          "execution_count": 21
        }
      ]
    },
    {
      "cell_type": "code",
      "metadata": {
        "id": "conceptual-premiere",
        "outputId": "96f9c80b-f1ac-400c-f16b-9fb7f378a36b"
      },
      "source": [
        "print(math.__doc__)\n",
        "\n",
        "# math fonksiyonunun açıklamasını görmek için.."
      ],
      "id": "conceptual-premiere",
      "execution_count": null,
      "outputs": [
        {
          "output_type": "stream",
          "text": [
            "This module provides access to the mathematical functions\n",
            "defined by the C standard.\n"
          ],
          "name": "stdout"
        }
      ]
    },
    {
      "cell_type": "code",
      "metadata": {
        "id": "rolled-article",
        "outputId": "d089d627-2239-4811-a5ff-e84a6d5ab03d"
      },
      "source": [
        "print(my_module_2.__doc__)\n",
        "\n",
        "# kendi my_module2 modülümüzün açıklamasını görüntüledik."
      ],
      "id": "rolled-article",
      "execution_count": null,
      "outputs": [
        {
          "output_type": "stream",
          "text": [
            "\n",
            "This is module 2. Welcome!\n",
            "\n"
          ],
          "name": "stdout"
        }
      ]
    },
    {
      "cell_type": "code",
      "metadata": {
        "id": "laughing-sending"
      },
      "source": [
        ""
      ],
      "id": "laughing-sending",
      "execution_count": null,
      "outputs": []
    },
    {
      "cell_type": "code",
      "metadata": {
        "id": "legendary-century"
      },
      "source": [
        ""
      ],
      "id": "legendary-century",
      "execution_count": null,
      "outputs": []
    },
    {
      "cell_type": "code",
      "metadata": {
        "id": "divine-berkeley"
      },
      "source": [
        ""
      ],
      "id": "divine-berkeley",
      "execution_count": null,
      "outputs": []
    },
    {
      "cell_type": "code",
      "metadata": {
        "id": "worthy-detection"
      },
      "source": [
        ""
      ],
      "id": "worthy-detection",
      "execution_count": null,
      "outputs": []
    },
    {
      "cell_type": "code",
      "metadata": {
        "id": "bridal-hopkins"
      },
      "source": [
        ""
      ],
      "id": "bridal-hopkins",
      "execution_count": null,
      "outputs": []
    },
    {
      "cell_type": "code",
      "metadata": {
        "id": "indian-camera"
      },
      "source": [
        ""
      ],
      "id": "indian-camera",
      "execution_count": null,
      "outputs": []
    },
    {
      "cell_type": "code",
      "metadata": {
        "id": "aboriginal-ferry"
      },
      "source": [
        ""
      ],
      "id": "aboriginal-ferry",
      "execution_count": null,
      "outputs": []
    }
  ]
}