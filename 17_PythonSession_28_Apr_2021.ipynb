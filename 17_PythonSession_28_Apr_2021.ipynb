{
  "nbformat": 4,
  "nbformat_minor": 0,
  "metadata": {
    "kernelspec": {
      "display_name": "Python 3",
      "language": "python",
      "name": "python3"
    },
    "language_info": {
      "codemirror_mode": {
        "name": "ipython",
        "version": 3
      },
      "file_extension": ".py",
      "mimetype": "text/x-python",
      "name": "python",
      "nbconvert_exporter": "python",
      "pygments_lexer": "ipython3",
      "version": "3.7.3"
    },
    "colab": {
      "name": "17_PythonSession-28-Apr-2021.ipynb",
      "provenance": [],
      "include_colab_link": true
    }
  },
  "cells": [
    {
      "cell_type": "markdown",
      "metadata": {
        "id": "view-in-github",
        "colab_type": "text"
      },
      "source": [
        "<a href=\"https://colab.research.google.com/github/fatihtepe/learn_python/blob/main/17_PythonSession_28_Apr_2021.ipynb\" target=\"_parent\"><img src=\"https://colab.research.google.com/assets/colab-badge.svg\" alt=\"Open In Colab\"/></a>"
      ]
    },
    {
      "cell_type": "markdown",
      "metadata": {
        "id": "aPtdaYw5vBEl"
      },
      "source": [
        "<img src=\"https://docs.google.com/uc?id=14xeXxFrVRjvOoUYWn_GuyE-v84wVzrqr\" class=\"img-fluid\" alt=\"CLRWY\" width=\"400\" height=\"200\">"
      ]
    },
    {
      "cell_type": "markdown",
      "metadata": {
        "id": "jY8sF297vBEp"
      },
      "source": [
        "<h1><p style=\"text-align: center; color:darkblue\">Python In-Class, <br>28 April 2021</p><h1>"
      ]
    },
    {
      "cell_type": "code",
      "metadata": {
        "id": "2Oybtkg6vBEp",
        "outputId": "55399d06-d55f-4f7b-dc6c-69858374583e"
      },
      "source": [
        "all([\"\", \"dolu\", 1])"
      ],
      "execution_count": null,
      "outputs": [
        {
          "output_type": "execute_result",
          "data": {
            "text/plain": [
              "False"
            ]
          },
          "metadata": {
            "tags": []
          },
          "execution_count": 1
        }
      ]
    },
    {
      "cell_type": "code",
      "metadata": {
        "id": "2drYmw5GvBEq",
        "outputId": "d0b1c987-c449-46f5-bea4-2236d74e28bc"
      },
      "source": [
        "all([])"
      ],
      "execution_count": null,
      "outputs": [
        {
          "output_type": "execute_result",
          "data": {
            "text/plain": [
              "True"
            ]
          },
          "metadata": {
            "tags": []
          },
          "execution_count": 7
        }
      ]
    },
    {
      "cell_type": "code",
      "metadata": {
        "id": "aF07qWcgvBEq",
        "outputId": "1fe026af-f165-477c-bbbc-01ac645aa402"
      },
      "source": [
        "all(())"
      ],
      "execution_count": null,
      "outputs": [
        {
          "output_type": "execute_result",
          "data": {
            "text/plain": [
              "True"
            ]
          },
          "metadata": {
            "tags": []
          },
          "execution_count": 4
        }
      ]
    },
    {
      "cell_type": "code",
      "metadata": {
        "id": "rdHcOwzGvBEq",
        "outputId": "ffb8368b-9fbe-45da-df01-4b91db7d10f0"
      },
      "source": [
        "all({})"
      ],
      "execution_count": null,
      "outputs": [
        {
          "output_type": "execute_result",
          "data": {
            "text/plain": [
              "True"
            ]
          },
          "metadata": {
            "tags": []
          },
          "execution_count": 5
        }
      ]
    },
    {
      "cell_type": "code",
      "metadata": {
        "id": "AaDeenh2vBEq",
        "outputId": "5bb4ac6f-3d28-4af1-f70f-e9eed63bd344"
      },
      "source": [
        "all([\"\"])"
      ],
      "execution_count": null,
      "outputs": [
        {
          "output_type": "execute_result",
          "data": {
            "text/plain": [
              "False"
            ]
          },
          "metadata": {
            "tags": []
          },
          "execution_count": 8
        }
      ]
    },
    {
      "cell_type": "code",
      "metadata": {
        "id": "66VqPl70vBEq",
        "outputId": "c7739e7d-4bf0-475c-99d7-4b28a59adf8c"
      },
      "source": [
        "all([[]])"
      ],
      "execution_count": null,
      "outputs": [
        {
          "output_type": "execute_result",
          "data": {
            "text/plain": [
              "False"
            ]
          },
          "metadata": {
            "tags": []
          },
          "execution_count": 9
        }
      ]
    },
    {
      "cell_type": "code",
      "metadata": {
        "id": "qceM3z4jvBEr"
      },
      "source": [
        "listem = [None, \"0\", \"istanbul\", ()]"
      ],
      "execution_count": null,
      "outputs": []
    },
    {
      "cell_type": "code",
      "metadata": {
        "id": "wGELoMZnvBEr"
      },
      "source": [
        "filtered = filter(None, listem)"
      ],
      "execution_count": null,
      "outputs": []
    },
    {
      "cell_type": "code",
      "metadata": {
        "id": "g_-vjJ4uvBEr",
        "outputId": "750d9045-2a85-4239-a3fc-9e77ec7c5e7f"
      },
      "source": [
        "filtered"
      ],
      "execution_count": null,
      "outputs": [
        {
          "output_type": "execute_result",
          "data": {
            "text/plain": [
              "<filter at 0x1ba1c455588>"
            ]
          },
          "metadata": {
            "tags": []
          },
          "execution_count": 12
        }
      ]
    },
    {
      "cell_type": "code",
      "metadata": {
        "id": "5CleaWLevBEr",
        "outputId": "d6c35001-25ad-4e28-a9ef-e27840f7c275"
      },
      "source": [
        "print(* filtered)"
      ],
      "execution_count": null,
      "outputs": [
        {
          "output_type": "stream",
          "text": [
            "0 istanbul\n"
          ],
          "name": "stdout"
        }
      ]
    },
    {
      "cell_type": "code",
      "metadata": {
        "id": "tJVYk2OavBEr"
      },
      "source": [
        "filtered = filter(None, listem)"
      ],
      "execution_count": null,
      "outputs": []
    },
    {
      "cell_type": "code",
      "metadata": {
        "id": "8HrQx6nKvBEr",
        "outputId": "e8f5c0ce-42b9-4fcb-8ad5-16d2fe27687d"
      },
      "source": [
        "for i in filtered :\n",
        "    print(i)"
      ],
      "execution_count": null,
      "outputs": [
        {
          "output_type": "stream",
          "text": [
            "0\n",
            "istanbul\n"
          ],
          "name": "stdout"
        }
      ]
    },
    {
      "cell_type": "code",
      "metadata": {
        "id": "VRJsRfxcvBEr"
      },
      "source": [
        "enum = enumerate(listem)"
      ],
      "execution_count": null,
      "outputs": []
    },
    {
      "cell_type": "code",
      "metadata": {
        "id": "3-KuvX3BvBEr",
        "outputId": "93579c9e-7034-4f6e-916d-8259308487a4"
      },
      "source": [
        "type(enum)"
      ],
      "execution_count": null,
      "outputs": [
        {
          "output_type": "execute_result",
          "data": {
            "text/plain": [
              "enumerate"
            ]
          },
          "metadata": {
            "tags": []
          },
          "execution_count": 19
        }
      ]
    },
    {
      "cell_type": "code",
      "metadata": {
        "id": "7EthoHzJvBEr",
        "outputId": "08403dee-e668-4413-cc59-993d588ab7bf"
      },
      "source": [
        "enum"
      ],
      "execution_count": null,
      "outputs": [
        {
          "output_type": "execute_result",
          "data": {
            "text/plain": [
              "<enumerate at 0x1ba1e0a9168>"
            ]
          },
          "metadata": {
            "tags": []
          },
          "execution_count": 20
        }
      ]
    },
    {
      "cell_type": "code",
      "metadata": {
        "id": "5RoT0sZgvBEs",
        "outputId": "2dd438b0-46a0-4ff5-9f98-302ecb683728"
      },
      "source": [
        "print(* enum)"
      ],
      "execution_count": null,
      "outputs": [
        {
          "output_type": "stream",
          "text": [
            "(0, None) (1, '0') (2, 'istanbul') (3, ())\n"
          ],
          "name": "stdout"
        }
      ]
    },
    {
      "cell_type": "code",
      "metadata": {
        "id": "gkfKC18UvBEs",
        "outputId": "084a3cbf-5acb-47ce-982f-796a2098ad8d"
      },
      "source": [
        "min(\"ahmet\")"
      ],
      "execution_count": null,
      "outputs": [
        {
          "output_type": "execute_result",
          "data": {
            "text/plain": [
              "'a'"
            ]
          },
          "metadata": {
            "tags": []
          },
          "execution_count": 22
        }
      ]
    },
    {
      "cell_type": "code",
      "metadata": {
        "id": "sVeKtVGdvBEs",
        "outputId": "6fd58bc0-f7de-4a23-91f7-de92d161aa71"
      },
      "source": [
        "max(\"ahmet\")"
      ],
      "execution_count": null,
      "outputs": [
        {
          "output_type": "execute_result",
          "data": {
            "text/plain": [
              "'t'"
            ]
          },
          "metadata": {
            "tags": []
          },
          "execution_count": 23
        }
      ]
    },
    {
      "cell_type": "code",
      "metadata": {
        "id": "wfGtppDzvBEs",
        "outputId": "f92563be-be47-4981-c5ab-4bea6dcf6a30"
      },
      "source": [
        "ord(\"a\")"
      ],
      "execution_count": null,
      "outputs": [
        {
          "output_type": "execute_result",
          "data": {
            "text/plain": [
              "97"
            ]
          },
          "metadata": {
            "tags": []
          },
          "execution_count": 24
        }
      ]
    },
    {
      "cell_type": "code",
      "metadata": {
        "id": "0QTJMfI9vBEs",
        "outputId": "10132ddc-8381-4087-e19a-d9a79957efde"
      },
      "source": [
        "ord(\"t\")"
      ],
      "execution_count": null,
      "outputs": [
        {
          "output_type": "execute_result",
          "data": {
            "text/plain": [
              "116"
            ]
          },
          "metadata": {
            "tags": []
          },
          "execution_count": 25
        }
      ]
    },
    {
      "cell_type": "code",
      "metadata": {
        "id": "fnYmg9mHvBEs",
        "outputId": "b0cc126b-0499-4b6b-fd21-18c42441756e"
      },
      "source": [
        "sum([1,2,3,4,5])"
      ],
      "execution_count": null,
      "outputs": [
        {
          "output_type": "execute_result",
          "data": {
            "text/plain": [
              "15"
            ]
          },
          "metadata": {
            "tags": []
          },
          "execution_count": 27
        }
      ]
    },
    {
      "cell_type": "code",
      "metadata": {
        "id": "oY9-PPy7vBEs",
        "outputId": "85486768-eea4-40a6-89e6-d0c61212f10a"
      },
      "source": [
        "sum(1,2,3,4,5)"
      ],
      "execution_count": null,
      "outputs": [
        {
          "output_type": "error",
          "ename": "TypeError",
          "evalue": "sum expected at most 2 arguments, got 5",
          "traceback": [
            "\u001b[1;31m---------------------------------------------------------------------------\u001b[0m",
            "\u001b[1;31mTypeError\u001b[0m                                 Traceback (most recent call last)",
            "\u001b[1;32m<ipython-input-28-3f6d0bc3c9eb>\u001b[0m in \u001b[0;36m<module>\u001b[1;34m\u001b[0m\n\u001b[1;32m----> 1\u001b[1;33m \u001b[0msum\u001b[0m\u001b[1;33m(\u001b[0m\u001b[1;36m1\u001b[0m\u001b[1;33m,\u001b[0m\u001b[1;36m2\u001b[0m\u001b[1;33m,\u001b[0m\u001b[1;36m3\u001b[0m\u001b[1;33m,\u001b[0m\u001b[1;36m4\u001b[0m\u001b[1;33m,\u001b[0m\u001b[1;36m5\u001b[0m\u001b[1;33m)\u001b[0m\u001b[1;33m\u001b[0m\u001b[1;33m\u001b[0m\u001b[0m\n\u001b[0m",
            "\u001b[1;31mTypeError\u001b[0m: sum expected at most 2 arguments, got 5"
          ]
        }
      ]
    },
    {
      "cell_type": "code",
      "metadata": {
        "id": "II35o9tbvBEs"
      },
      "source": [
        "def multiply(a, b) :\n",
        "    print(a * b)"
      ],
      "execution_count": null,
      "outputs": []
    },
    {
      "cell_type": "code",
      "metadata": {
        "id": "evEB60MxvBEs",
        "outputId": "4dd55cc5-b365-427d-8f15-daaea9c6a98e"
      },
      "source": [
        "multiply(\"amazing \", 3)"
      ],
      "execution_count": null,
      "outputs": [
        {
          "output_type": "stream",
          "text": [
            "amazing amazing amazing \n"
          ],
          "name": "stdout"
        }
      ]
    },
    {
      "cell_type": "code",
      "metadata": {
        "id": "baWVqd6bvBEs",
        "outputId": "bacb814c-4c47-4487-938b-9ec45012b720"
      },
      "source": [
        "print(\"amazing \" * 3)"
      ],
      "execution_count": null,
      "outputs": [
        {
          "output_type": "stream",
          "text": [
            "amazing amazing amazing \n"
          ],
          "name": "stdout"
        }
      ]
    },
    {
      "cell_type": "code",
      "metadata": {
        "id": "pm9uSVKFvBEs"
      },
      "source": [
        "def mevlana() :\n",
        "    print(\"\"\"Duydum ki bizi bırakmaya azmediyorsun, etme.\n",
        "Başka bir yar, başka bir dosta meylediyorsun, etme.\n",
        "Sen yadeller dünyasında ne arıyorsun yabancı?\n",
        "Hangi hasta gönüllüyü kastediyorsun, etme.\n",
        "Çalma bizi, bizden bizi, gitme o ellere doğru.\n",
        "Çalınmış başkalarına nazar ediyorsun, etme.\n",
        "Ey ay, felek harab olmuş, altüst olmuş senin için...\n",
        "Bizi öyle harab, öyle altüst ediyorsun, etme.\n",
        "Ey, makamı var ve yokun üzerinde olan kişi,\n",
        "Sen varlık sahasını öyle terk ediyorsun, etme.\n",
        "Sen yüz çevirecek olsan, ay kapkara olur gamdan.\"\"\")"
      ],
      "execution_count": null,
      "outputs": []
    },
    {
      "cell_type": "code",
      "metadata": {
        "id": "KAxrc9r2vBEt",
        "outputId": "ea4950ce-aa6c-4c0e-86ec-a46269a882df"
      },
      "source": [
        "mevlana()"
      ],
      "execution_count": null,
      "outputs": [
        {
          "output_type": "stream",
          "text": [
            "Duydum ki bizi bırakmaya azmediyorsun, etme.\n",
            "Başka bir yar, başka bir dosta meylediyorsun, etme.\n",
            "Sen yadeller dünyasında ne arıyorsun yabancı?\n",
            "Hangi hasta gönüllüyü kastediyorsun, etme.\n",
            "Çalma bizi, bizden bizi, gitme o ellere doğru.\n",
            "Çalınmış başkalarına nazar ediyorsun, etme.\n",
            "Ey ay, felek harab olmuş, altüst olmuş senin için...\n",
            "Bizi öyle harab, öyle altüst ediyorsun, etme.\n",
            "Ey, makamı var ve yokun üzerinde olan kişi,\n",
            "Sen varlık sahasını öyle terk ediyorsun, etme.\n",
            "Sen yüz çevirecek olsan, ay kapkara olur gamdan.\n"
          ],
          "name": "stdout"
        }
      ]
    },
    {
      "cell_type": "code",
      "metadata": {
        "id": "m9Wh3Qu9vBEt"
      },
      "source": [
        "def add(a, b) :\n",
        "    print(a + b)"
      ],
      "execution_count": null,
      "outputs": []
    },
    {
      "cell_type": "code",
      "metadata": {
        "id": "Yz4G6hyGvBEt",
        "outputId": "50bbfddd-f423-416b-b468-7fc63541976f"
      },
      "source": [
        "add(-3, 5)"
      ],
      "execution_count": null,
      "outputs": [
        {
          "output_type": "stream",
          "text": [
            "2\n"
          ],
          "name": "stdout"
        }
      ]
    },
    {
      "cell_type": "code",
      "metadata": {
        "id": "ooS8sGmCvBEt"
      },
      "source": [
        "def calculator(x, y, opr) :\n",
        "    if opr == \"+\" :\n",
        "        print(x + y)\n",
        "    elif opr == \"-\" :\n",
        "        print(x - y)\n",
        "    elif opr == \"*\" :\n",
        "        print(x * y)\n",
        "    elif opr == \"/\" :\n",
        "        print(x / y)\n",
        "    else:\n",
        "        print(\"Enter a valid operator!\")"
      ],
      "execution_count": null,
      "outputs": []
    },
    {
      "cell_type": "code",
      "metadata": {
        "id": "x9XEdUDivBEt"
      },
      "source": [
        ""
      ],
      "execution_count": null,
      "outputs": []
    },
    {
      "cell_type": "code",
      "metadata": {
        "id": "NicXJwulvBEt",
        "outputId": "e581fcf8-3412-42f0-ea34-41719c43bac5"
      },
      "source": [
        "calculator(12, 3, \"!\")"
      ],
      "execution_count": null,
      "outputs": [
        {
          "output_type": "stream",
          "text": [
            "Enter a valid operator!\n"
          ],
          "name": "stdout"
        }
      ]
    },
    {
      "cell_type": "code",
      "metadata": {
        "id": "aKjRrLdEvBEt",
        "outputId": "28a0496e-f782-4e43-a218-407b54915eea"
      },
      "source": [
        "calculator(12, 3, \"/\")"
      ],
      "execution_count": null,
      "outputs": [
        {
          "output_type": "stream",
          "text": [
            "4.0\n"
          ],
          "name": "stdout"
        }
      ]
    },
    {
      "cell_type": "code",
      "metadata": {
        "id": "H1PzRmD0vBEt"
      },
      "source": [
        "def mul(x, y) :\n",
        "    return x+y"
      ],
      "execution_count": null,
      "outputs": []
    },
    {
      "cell_type": "code",
      "metadata": {
        "id": "Nkfn-GrIvBEt",
        "outputId": "7631e16f-ee48-4934-ddb7-6f550b8b74ff"
      },
      "source": [
        "aa = mul(2, 5)\n",
        "print(aa)"
      ],
      "execution_count": null,
      "outputs": [
        {
          "output_type": "stream",
          "text": [
            "7\n"
          ],
          "name": "stdout"
        }
      ]
    },
    {
      "cell_type": "code",
      "metadata": {
        "id": "MTHxap1MvBEt",
        "outputId": "424ec1ef-f4c4-4776-89b7-fcfdab009d53"
      },
      "source": [
        "print(mul(3,6))"
      ],
      "execution_count": null,
      "outputs": [
        {
          "output_type": "stream",
          "text": [
            "9\n"
          ],
          "name": "stdout"
        }
      ]
    },
    {
      "cell_type": "code",
      "metadata": {
        "id": "qKuS4BLUvBEu"
      },
      "source": [
        "a = 5"
      ],
      "execution_count": null,
      "outputs": []
    },
    {
      "cell_type": "code",
      "metadata": {
        "scrolled": true,
        "id": "67WvQHUSvBEu",
        "outputId": "2c92ce3b-16ca-46f9-bdf8-3db0ee9d578c"
      },
      "source": [
        "a"
      ],
      "execution_count": null,
      "outputs": [
        {
          "output_type": "execute_result",
          "data": {
            "text/plain": [
              "5"
            ]
          },
          "metadata": {
            "tags": []
          },
          "execution_count": 43
        }
      ]
    },
    {
      "cell_type": "code",
      "metadata": {
        "id": "4tZnBBBgvBEu",
        "outputId": "4bd34f13-844d-4288-c50b-77ba8c39068d"
      },
      "source": [
        "print(a)"
      ],
      "execution_count": null,
      "outputs": [
        {
          "output_type": "stream",
          "text": [
            "5\n"
          ],
          "name": "stdout"
        }
      ]
    },
    {
      "cell_type": "code",
      "metadata": {
        "id": "xLcapvwJvBEu",
        "outputId": "86b5dd01-8ae7-4fff-f447-0be0d36e91c3"
      },
      "source": [
        "mul(3,6)"
      ],
      "execution_count": null,
      "outputs": [
        {
          "output_type": "execute_result",
          "data": {
            "text/plain": [
              "9"
            ]
          },
          "metadata": {
            "tags": []
          },
          "execution_count": 45
        }
      ]
    },
    {
      "cell_type": "code",
      "metadata": {
        "id": "oQ-2IM2uvBEu",
        "outputId": "539116da-c23b-42fc-df92-8f5296c5088c"
      },
      "source": [
        "print(type(print(\"hello\")))"
      ],
      "execution_count": null,
      "outputs": [
        {
          "output_type": "stream",
          "text": [
            "hello\n",
            "<class 'NoneType'>\n"
          ],
          "name": "stdout"
        }
      ]
    },
    {
      "cell_type": "code",
      "metadata": {
        "id": "zMsqlrgzvBEu",
        "outputId": "e0eae409-6f60-474c-c34f-7603e5d8e2f3"
      },
      "source": [
        "print(type(10*5))"
      ],
      "execution_count": null,
      "outputs": [
        {
          "output_type": "stream",
          "text": [
            "<class 'int'>\n"
          ],
          "name": "stdout"
        }
      ]
    },
    {
      "cell_type": "code",
      "metadata": {
        "id": "ITlbb6r3vBEu"
      },
      "source": [
        "def string() :\n",
        "    return \"ahmet\""
      ],
      "execution_count": null,
      "outputs": []
    },
    {
      "cell_type": "code",
      "metadata": {
        "id": "SRfkf3YNvBEu",
        "outputId": "62b66fce-8029-4576-ef2c-4dd99f9e3c86"
      },
      "source": [
        "print(string())"
      ],
      "execution_count": null,
      "outputs": [
        {
          "output_type": "stream",
          "text": [
            "ahmet\n"
          ],
          "name": "stdout"
        }
      ]
    },
    {
      "cell_type": "code",
      "metadata": {
        "id": "399F93ydvBEu",
        "outputId": "d70c6203-b696-4e41-9ee7-a07a8560885a"
      },
      "source": [
        "type(string())"
      ],
      "execution_count": null,
      "outputs": [
        {
          "output_type": "execute_result",
          "data": {
            "text/plain": [
              "str"
            ]
          },
          "metadata": {
            "tags": []
          },
          "execution_count": 50
        }
      ]
    },
    {
      "cell_type": "code",
      "metadata": {
        "id": "O6FosdNovBEu"
      },
      "source": [
        "def integer() :\n",
        "    return 15"
      ],
      "execution_count": null,
      "outputs": []
    },
    {
      "cell_type": "code",
      "metadata": {
        "id": "WkBise4_vBEv",
        "outputId": "63747c59-2ef6-4e8e-8cc3-83afa1524e14"
      },
      "source": [
        "print(integer())"
      ],
      "execution_count": null,
      "outputs": [
        {
          "output_type": "stream",
          "text": [
            "15\n"
          ],
          "name": "stdout"
        }
      ]
    },
    {
      "cell_type": "code",
      "metadata": {
        "id": "z9N7bt-5vBEv",
        "outputId": "f2af78b0-3151-434a-b613-fd7bb39e0142"
      },
      "source": [
        "type(integer())"
      ],
      "execution_count": null,
      "outputs": [
        {
          "output_type": "execute_result",
          "data": {
            "text/plain": [
              "int"
            ]
          },
          "metadata": {
            "tags": []
          },
          "execution_count": 53
        }
      ]
    },
    {
      "cell_type": "code",
      "metadata": {
        "id": "FuWaKabJvBEv"
      },
      "source": [
        "def boolean() :\n",
        "    return True"
      ],
      "execution_count": null,
      "outputs": []
    },
    {
      "cell_type": "code",
      "metadata": {
        "id": "5c0ILuwAvBEv",
        "outputId": "f0e4d5b0-2e84-4ab7-e3ef-c3aaa46fb2d2"
      },
      "source": [
        "type(boolean())"
      ],
      "execution_count": null,
      "outputs": [
        {
          "output_type": "execute_result",
          "data": {
            "text/plain": [
              "bool"
            ]
          },
          "metadata": {
            "tags": []
          },
          "execution_count": 55
        }
      ]
    },
    {
      "cell_type": "code",
      "metadata": {
        "id": "_FCUmLvPvBEv",
        "outputId": "0940a165-dcac-442f-c52d-4002b7b91496"
      },
      "source": [
        "print(boolean())"
      ],
      "execution_count": null,
      "outputs": [
        {
          "output_type": "stream",
          "text": [
            "True\n"
          ],
          "name": "stdout"
        }
      ]
    },
    {
      "cell_type": "code",
      "metadata": {
        "id": "N92Elc4ovBEv",
        "outputId": "5461c62a-13fc-4ea9-8414-07368d73f460"
      },
      "source": [
        "if boolean():\n",
        "    print(\"ben çalıştım\")\n",
        "else :\n",
        "    print(\"beni rahatsız etmeyesen.\")"
      ],
      "execution_count": null,
      "outputs": [
        {
          "output_type": "stream",
          "text": [
            "ben çalıştım\n"
          ],
          "name": "stdout"
        }
      ]
    },
    {
      "cell_type": "code",
      "metadata": {
        "id": "cMEXYomLvBEv"
      },
      "source": [
        "def listem() :\n",
        "    return [1,2,3,4,5]"
      ],
      "execution_count": null,
      "outputs": []
    },
    {
      "cell_type": "code",
      "metadata": {
        "id": "1PAZSdDLvBEv",
        "outputId": "e5f0de12-6502-4bb2-a696-f5fb93e0dfdb"
      },
      "source": [
        "print(listem())"
      ],
      "execution_count": null,
      "outputs": [
        {
          "output_type": "stream",
          "text": [
            "[1, 2, 3, 4, 5]\n"
          ],
          "name": "stdout"
        }
      ]
    },
    {
      "cell_type": "code",
      "metadata": {
        "id": "5QKtON85vBEv",
        "outputId": "44bca754-a4f9-43c8-af19-430a72fc8b12"
      },
      "source": [
        "for i in listem() :\n",
        "    print(i)"
      ],
      "execution_count": null,
      "outputs": [
        {
          "output_type": "stream",
          "text": [
            "1\n",
            "2\n",
            "3\n",
            "4\n",
            "5\n"
          ],
          "name": "stdout"
        }
      ]
    },
    {
      "cell_type": "code",
      "metadata": {
        "id": "WEmMHqCXvBEv",
        "outputId": "0187c5d6-90f7-4087-fda3-71e81aadb960"
      },
      "source": [
        "tuple(listem())"
      ],
      "execution_count": null,
      "outputs": [
        {
          "output_type": "execute_result",
          "data": {
            "text/plain": [
              "(1, 2, 3, 4, 5)"
            ]
          },
          "metadata": {
            "tags": []
          },
          "execution_count": 62
        }
      ]
    },
    {
      "cell_type": "code",
      "metadata": {
        "id": "lt1bxn7uvBEv",
        "outputId": "1f5a3617-89e8-4ead-9f90-91b980df1de1"
      },
      "source": [
        "tuple([1,2,3,4,5])"
      ],
      "execution_count": null,
      "outputs": [
        {
          "output_type": "execute_result",
          "data": {
            "text/plain": [
              "(1, 2, 3, 4, 5)"
            ]
          },
          "metadata": {
            "tags": []
          },
          "execution_count": 63
        }
      ]
    },
    {
      "cell_type": "markdown",
      "metadata": {
        "id": "KOfQk_skvBEw"
      },
      "source": [
        "### Armstrong Number"
      ]
    },
    {
      "cell_type": "code",
      "metadata": {
        "id": "ImPWD1AfvBEw",
        "outputId": "ee89e789-56ee-4a55-ecfa-49306b971bbf"
      },
      "source": [
        "while True :\n",
        "    number = input(\"enter a positive number.\")\n",
        "    digits = len(number)\n",
        "    summ = 0\n",
        "    if not number.isdigit() :\n",
        "        print(number, \"is invalid entry. enter numberic value!\")\n",
        "    elif int(number) >= 0 :\n",
        "        for i in range(digits) :\n",
        "            summ = summ + int(number[i]) ** digits\n",
        "        if summ == int(number) :\n",
        "            print(number, \"is an Armstrong Number.\")\n",
        "            break\n",
        "        else :\n",
        "            print(number, \"is not an Armstrong Number.\")\n",
        "            break"
      ],
      "execution_count": null,
      "outputs": [
        {
          "output_type": "stream",
          "text": [
            "enter a positive number.0\n",
            "0 is an Armstrong Number.\n"
          ],
          "name": "stdout"
        }
      ]
    },
    {
      "cell_type": "markdown",
      "metadata": {
        "id": "R5MZCydgvBEw"
      },
      "source": [
        "### Prime Number"
      ]
    },
    {
      "cell_type": "code",
      "metadata": {
        "id": "LF1Rvf_5vBEw",
        "outputId": "cc8124b6-92ae-42e3-e08f-59eda117ae3a"
      },
      "source": [
        "n = int(input(\"Enter a number to check if it is a prime number.\"))\n",
        "count = 0\n",
        "for i in range(1, n+1) :\n",
        "    if n % i == 0 :\n",
        "        count += 1\n",
        "if (n == 0) or (n == 1) or (count >=3) :\n",
        "    print(n, \"is not a prime number.\")\n",
        "else:\n",
        "    print(n, \"is a prime number\")"
      ],
      "execution_count": null,
      "outputs": [
        {
          "output_type": "stream",
          "text": [
            "Enter a number to check if it is a prime number.4\n",
            "4 is not a prime number.\n"
          ],
          "name": "stdout"
        }
      ]
    },
    {
      "cell_type": "code",
      "metadata": {
        "id": "uj9wA0IwvBEw",
        "outputId": "576504e7-32e2-44a3-bc5a-1ff9ceca5c3d"
      },
      "source": [
        "if not 0 :\n",
        "    print(\"heeeey ben buradayım\")"
      ],
      "execution_count": null,
      "outputs": [
        {
          "output_type": "stream",
          "text": [
            "heeeey ben buradayım\n"
          ],
          "name": "stdout"
        }
      ]
    },
    {
      "cell_type": "code",
      "metadata": {
        "id": "BliQaPgvvBEw"
      },
      "source": [
        ""
      ],
      "execution_count": null,
      "outputs": []
    },
    {
      "cell_type": "code",
      "metadata": {
        "id": "IbpJadebvBEw"
      },
      "source": [
        ""
      ],
      "execution_count": null,
      "outputs": []
    }
  ]
}