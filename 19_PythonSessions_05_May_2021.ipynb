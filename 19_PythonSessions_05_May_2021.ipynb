{
  "nbformat": 4,
  "nbformat_minor": 0,
  "metadata": {
    "kernelspec": {
      "display_name": "Python 3",
      "language": "python",
      "name": "python3"
    },
    "language_info": {
      "codemirror_mode": {
        "name": "ipython",
        "version": 3
      },
      "file_extension": ".py",
      "mimetype": "text/x-python",
      "name": "python",
      "nbconvert_exporter": "python",
      "pygments_lexer": "ipython3",
      "version": "3.8.5"
    },
    "colab": {
      "name": "19_PythonSessions-05-May-2021.ipynb",
      "provenance": [],
      "include_colab_link": true
    }
  },
  "cells": [
    {
      "cell_type": "markdown",
      "metadata": {
        "id": "view-in-github",
        "colab_type": "text"
      },
      "source": [
        "<a href=\"https://colab.research.google.com/github/fatihtepe/learn_python/blob/main/19_PythonSessions_05_May_2021.ipynb\" target=\"_parent\"><img src=\"https://colab.research.google.com/assets/colab-badge.svg\" alt=\"Open In Colab\"/></a>"
      ]
    },
    {
      "cell_type": "code",
      "metadata": {
        "id": "yeYKJeP0eC5j",
        "outputId": "dfeef1e7-cdbb-4fa3-e029-5f794d00c0be"
      },
      "source": [
        "def brothers(bro1, bro2, bro3):\n",
        "    print('Here are the names of brothers :')\n",
        "    print(bro1, bro2, bro3, sep='\\n')\n",
        "family = ['tom', 'sue', 'tim']\n",
        "brothers(*family)"
      ],
      "execution_count": null,
      "outputs": [
        {
          "output_type": "stream",
          "text": [
            "Here are the names of brothers :\n",
            "tom\n",
            "sue\n",
            "tim\n"
          ],
          "name": "stdout"
        }
      ]
    },
    {
      "cell_type": "code",
      "metadata": {
        "id": "HEwPHIdWeC5q",
        "outputId": "dec6e90b-80ff-443a-dc5e-7c898186d95f"
      },
      "source": [
        "brothers(family, family, family)"
      ],
      "execution_count": null,
      "outputs": [
        {
          "output_type": "stream",
          "text": [
            "Here are the names of brothers :\n",
            "['tom', 'sue', 'tim']\n",
            "['tom', 'sue', 'tim']\n",
            "['tom', 'sue', 'tim']\n"
          ],
          "name": "stdout"
        }
      ]
    },
    {
      "cell_type": "code",
      "metadata": {
        "id": "qIFiMWfSeC5r"
      },
      "source": [
        "genius = (\"Bill\", \"Rossum\", \"Guido van\", \"Gates\")"
      ],
      "execution_count": null,
      "outputs": []
    },
    {
      "cell_type": "code",
      "metadata": {
        "id": "9wJbQVqjeC5r"
      },
      "source": [
        "# For me, Bill Gates and Guido van Rossum are geniuses."
      ],
      "execution_count": null,
      "outputs": []
    },
    {
      "cell_type": "code",
      "metadata": {
        "id": "TwYF8ayEeC5s"
      },
      "source": [
        "def merger(par1, par2, par3, par4) :\n",
        "    print(f\"For me, {par1} {par4} and {par3} {par2} are geniuses.\")"
      ],
      "execution_count": null,
      "outputs": []
    },
    {
      "cell_type": "code",
      "metadata": {
        "id": "NP_z_pCfeC5s",
        "outputId": "403f4c9e-1a09-4b7f-8662-3893604cf49b"
      },
      "source": [
        "merger(*genius)"
      ],
      "execution_count": null,
      "outputs": [
        {
          "output_type": "stream",
          "text": [
            "For me, Bill Gates and Guido van Rossum are geniuses.\n"
          ],
          "name": "stdout"
        }
      ]
    },
    {
      "cell_type": "code",
      "metadata": {
        "id": "unaZ0sekeC5s"
      },
      "source": [
        "def önceki(**parametre) :\n",
        "    for x, y in parametre.items() :\n",
        "        print(x, y)"
      ],
      "execution_count": null,
      "outputs": []
    },
    {
      "cell_type": "code",
      "metadata": {
        "id": "tN9qdRTCeC5s",
        "outputId": "4e2c4460-7675-4d0d-98cc-b6a46f4c33ea"
      },
      "source": [
        "önceki(a = \"ahmet\", b = \"mehmet\", c = \"selamet\")"
      ],
      "execution_count": null,
      "outputs": [
        {
          "output_type": "stream",
          "text": [
            "a ahmet\n",
            "b mehmet\n",
            "c selamet\n"
          ],
          "name": "stdout"
        }
      ]
    },
    {
      "cell_type": "code",
      "metadata": {
        "id": "UpujYvpZeC5t",
        "outputId": "1709bd4d-7ab9-4ed3-8ead-30f2f3205f8e"
      },
      "source": [
        "def gene(x='Solomon', y='David'):  # defined by kwargs (default values assigned to x and y)\n",
        "    print(x, \"belongs to Generation X\")\n",
        "    print(y, \"belongs to Generation Y\")\n",
        "dict_gene = {\"y\" : \"Marry\", 'x' : \"Fred\"}\n",
        "gene(**dict_gene)"
      ],
      "execution_count": null,
      "outputs": [
        {
          "output_type": "stream",
          "text": [
            "Fred belongs to Generation X\n",
            "Marry belongs to Generation Y\n"
          ],
          "name": "stdout"
        }
      ]
    },
    {
      "cell_type": "code",
      "metadata": {
        "id": "dpJilhqXeC5t",
        "outputId": "876deef2-e0b9-4335-bf5d-6c5a07e1b4a5"
      },
      "source": [
        "gene()"
      ],
      "execution_count": null,
      "outputs": [
        {
          "output_type": "stream",
          "text": [
            "Solomon belongs to Generation X\n",
            "David belongs to Generation Y\n"
          ],
          "name": "stdout"
        }
      ]
    },
    {
      "cell_type": "markdown",
      "metadata": {
        "id": "6EyoGu6feC5t"
      },
      "source": [
        "<img src=\"https://i.pinimg.com/originals/e6/87/61/e687614048a36165dd49b6fb18a12b5d.png\" height = \"100\" width =\"200\" alt = \"izdivac\">"
      ]
    },
    {
      "cell_type": "code",
      "metadata": {
        "id": "NY-7UVnxeC5t"
      },
      "source": [
        "#[(\"mary\", \"rye\"), (\"bella\", \"fred\"), (\"linda\", \"roland\")]"
      ],
      "execution_count": null,
      "outputs": []
    },
    {
      "cell_type": "code",
      "metadata": {
        "id": "xv4KvifGeC5u"
      },
      "source": [
        "dict_couple = {\"bride\" : [\"mary\", \"bella\", \"linda\"],\n",
        "               \"groom\" : [\"rye\", \"fred\", \"roland\"]}"
      ],
      "execution_count": null,
      "outputs": []
    },
    {
      "cell_type": "code",
      "metadata": {
        "id": "kQPxKC43eC5u"
      },
      "source": [
        "def couples(bride, groom) :\n",
        "    couple_list = []\n",
        "    for x in zip(bride, groom) :\n",
        "        couple_list.append(x)\n",
        "    return couple_list"
      ],
      "execution_count": null,
      "outputs": []
    },
    {
      "cell_type": "code",
      "metadata": {
        "id": "ljKKYW-NeC5u",
        "outputId": "495965ff-8fad-4c4c-e728-47df81511455"
      },
      "source": [
        "couples(**dict_couple)"
      ],
      "execution_count": null,
      "outputs": [
        {
          "output_type": "execute_result",
          "data": {
            "text/plain": [
              "[('mary', 'rye'), ('bella', 'fred'), ('linda', 'roland')]"
            ]
          },
          "metadata": {
            "tags": []
          },
          "execution_count": 15
        }
      ]
    },
    {
      "cell_type": "code",
      "metadata": {
        "id": "I02D0mrQeC5u"
      },
      "source": [
        "def couples(bride, groom) :\n",
        "    return [x for x in zip(bride, groom)]"
      ],
      "execution_count": null,
      "outputs": []
    },
    {
      "cell_type": "code",
      "metadata": {
        "id": "jjcCBXb5eC5u",
        "outputId": "86037146-bed6-4f4f-949a-61db1749ee4f"
      },
      "source": [
        "couples(**dict_couple)"
      ],
      "execution_count": null,
      "outputs": [
        {
          "output_type": "execute_result",
          "data": {
            "text/plain": [
              "[('mary', 'rye'), ('bella', 'fred'), ('linda', 'roland')]"
            ]
          },
          "metadata": {
            "tags": []
          },
          "execution_count": 17
        }
      ]
    },
    {
      "cell_type": "code",
      "metadata": {
        "id": "A2ph7QA7eC5v"
      },
      "source": [
        "def meaner(ahmed, joseph, linda) :\n",
        "    average = (ahmed + joseph + linda) / 3\n",
        "    print(\"The average of their ages is :\", average)"
      ],
      "execution_count": null,
      "outputs": []
    },
    {
      "cell_type": "code",
      "metadata": {
        "id": "GxLnSAoLeC5v"
      },
      "source": [
        "friends = {\"ahmed\" : 44, \"joseph\" : 39, \"linda\" : 55}"
      ],
      "execution_count": null,
      "outputs": []
    },
    {
      "cell_type": "code",
      "metadata": {
        "id": "zqrRCS20eC5v",
        "outputId": "19dc8492-2f3b-49e5-ad39-ccb3f9ddcfd7"
      },
      "source": [
        "friends[\"ahmed\"]"
      ],
      "execution_count": null,
      "outputs": [
        {
          "output_type": "execute_result",
          "data": {
            "text/plain": [
              "44"
            ]
          },
          "metadata": {
            "tags": []
          },
          "execution_count": 19
        }
      ]
    },
    {
      "cell_type": "code",
      "metadata": {
        "id": "72kUnLv_eC5v",
        "outputId": "5415d290-7193-4c0d-a575-ecb875788dbd"
      },
      "source": [
        "meaner(**friends)"
      ],
      "execution_count": null,
      "outputs": [
        {
          "output_type": "stream",
          "text": [
            "The average of their ages is : 46.0\n"
          ],
          "name": "stdout"
        }
      ]
    },
    {
      "cell_type": "code",
      "metadata": {
        "id": "NGg-MySEeC5v",
        "outputId": "ff23bc28-1f72-4b08-83ad-2e2430f9c321"
      },
      "source": [
        "meaner(44, 39, 55)"
      ],
      "execution_count": null,
      "outputs": [
        {
          "output_type": "stream",
          "text": [
            "The average of their ages is : 46.0\n"
          ],
          "name": "stdout"
        }
      ]
    },
    {
      "cell_type": "code",
      "metadata": {
        "id": "-BNiJGu2eC5w"
      },
      "source": [
        "# \"()\" --> True"
      ],
      "execution_count": null,
      "outputs": []
    },
    {
      "cell_type": "markdown",
      "metadata": {
        "id": "8E__oS-5eC5w"
      },
      "source": [
        "```\n",
        "Input        Output\n",
        "--------:    ------:\n",
        "\"()\"         True\n",
        "\"()[]{}\"     True\n",
        "\"(]\"         False\n",
        "\"([)]\"       False\n",
        "\"{[]}\"       True\n",
        "\"\"           True\n",
        "```"
      ]
    },
    {
      "cell_type": "code",
      "metadata": {
        "id": "ZReqtqUUeC5w"
      },
      "source": [
        "x = \"([)]([)]\""
      ],
      "execution_count": null,
      "outputs": []
    },
    {
      "cell_type": "code",
      "metadata": {
        "id": "S-GSsS3oeC5w"
      },
      "source": [
        "def isValid(s):\n",
        "    while \"()\" in s or \"{}\" in s or \"[]\" in s:\n",
        "        s = s.replace(\"()\", \"\").replace(\"[]\", \"\").replace(\"{}\", \"\")\n",
        "    return s == \"\""
      ],
      "execution_count": null,
      "outputs": []
    },
    {
      "cell_type": "code",
      "metadata": {
        "id": "mwcZJoU2eC5w",
        "outputId": "34325bbd-ccca-4ed4-8e3f-3b2c4af08e94"
      },
      "source": [
        "isValid(x)"
      ],
      "execution_count": null,
      "outputs": [
        {
          "output_type": "execute_result",
          "data": {
            "text/plain": [
              "False"
            ]
          },
          "metadata": {
            "tags": []
          },
          "execution_count": 25
        }
      ]
    },
    {
      "cell_type": "code",
      "metadata": {
        "id": "9iRknCgReC5w"
      },
      "source": [
        "x = \"{()[{}]}\""
      ],
      "execution_count": null,
      "outputs": []
    },
    {
      "cell_type": "code",
      "metadata": {
        "id": "Dge1RZj7eC5x",
        "outputId": "2a350eab-3721-4f91-c90f-6dfdbdbc1158"
      },
      "source": [
        "isValid(x)"
      ],
      "execution_count": null,
      "outputs": [
        {
          "output_type": "execute_result",
          "data": {
            "text/plain": [
              "True"
            ]
          },
          "metadata": {
            "tags": []
          },
          "execution_count": 27
        }
      ]
    },
    {
      "cell_type": "code",
      "metadata": {
        "id": "Q6BGkrBmeC5x",
        "outputId": "c85cde8d-aa2b-4a59-e34c-a53b2b607f25"
      },
      "source": [
        "(lambda x : \"odd\" if x%2 else \"even\")(3)"
      ],
      "execution_count": null,
      "outputs": [
        {
          "output_type": "execute_result",
          "data": {
            "text/plain": [
              "'odd'"
            ]
          },
          "metadata": {
            "tags": []
          },
          "execution_count": 28
        }
      ]
    },
    {
      "cell_type": "code",
      "metadata": {
        "id": "dDOn0pWLeC5x",
        "outputId": "dcfa3430-9473-42a2-b3e9-e469dcda77dd"
      },
      "source": [
        "(lambda x : \"odd\" if x%2 else \"even\")(10)"
      ],
      "execution_count": null,
      "outputs": [
        {
          "output_type": "execute_result",
          "data": {
            "text/plain": [
              "'even'"
            ]
          },
          "metadata": {
            "tags": []
          },
          "execution_count": 29
        }
      ]
    },
    {
      "cell_type": "code",
      "metadata": {
        "id": "pd1BqjzgeC5x",
        "outputId": "e428ec24-035a-4c8b-d2af-0bcbda6fe2d4"
      },
      "source": [
        "print((lambda x : \"odd\" if x%2 else \"even\")(10))"
      ],
      "execution_count": null,
      "outputs": [
        {
          "output_type": "stream",
          "text": [
            "even\n"
          ],
          "name": "stdout"
        }
      ]
    },
    {
      "cell_type": "code",
      "metadata": {
        "id": "lsmHUI-4eC5x"
      },
      "source": [
        "average = (lambda a, b : a**2 + b**2)(3, 5)"
      ],
      "execution_count": null,
      "outputs": []
    },
    {
      "cell_type": "code",
      "metadata": {
        "id": "SqE9K8NMeC5x",
        "outputId": "81961f89-c075-4ff0-a04f-b63814b0ba62"
      },
      "source": [
        "print(average)"
      ],
      "execution_count": null,
      "outputs": [
        {
          "output_type": "stream",
          "text": [
            "34\n"
          ],
          "name": "stdout"
        }
      ]
    },
    {
      "cell_type": "code",
      "metadata": {
        "id": "88wf1TjveC5y"
      },
      "source": [
        "iterable = \"clarusway\"\n",
        "reverser = (lambda x : x[::-1])(iterable)"
      ],
      "execution_count": null,
      "outputs": []
    },
    {
      "cell_type": "code",
      "metadata": {
        "id": "PfBVv7ayeC5y",
        "outputId": "47ccefca-9b8d-415f-b4c6-61b2eb011d1c"
      },
      "source": [
        "print(reverser)"
      ],
      "execution_count": null,
      "outputs": [
        {
          "output_type": "stream",
          "text": [
            "yawsuralc\n"
          ],
          "name": "stdout"
        }
      ]
    },
    {
      "cell_type": "code",
      "metadata": {
        "id": "qFkDGtRIeC5y",
        "outputId": "7d5ed291-4080-4968-f5b3-6fb13960958e"
      },
      "source": [
        "iterable[::-1]"
      ],
      "execution_count": null,
      "outputs": [
        {
          "output_type": "execute_result",
          "data": {
            "text/plain": [
              "'yawsuralc'"
            ]
          },
          "metadata": {
            "tags": []
          },
          "execution_count": 35
        }
      ]
    },
    {
      "cell_type": "code",
      "metadata": {
        "id": "1uisAU2ceC5y",
        "outputId": "79dd0b32-aefb-4585-e13e-8809f37d8229"
      },
      "source": [
        "for i in [1,2,3,4,5,6] :\n",
        "    print(i, \":\", (lambda x : \"odd\" if x%2 != 0 else \"even\")(i))"
      ],
      "execution_count": null,
      "outputs": [
        {
          "output_type": "stream",
          "text": [
            "1 : odd\n",
            "2 : even\n",
            "3 : odd\n",
            "4 : even\n",
            "5 : odd\n",
            "6 : even\n"
          ],
          "name": "stdout"
        }
      ]
    },
    {
      "cell_type": "code",
      "metadata": {
        "id": "z2Vwyyh5eC5y"
      },
      "source": [
        "abuzittinefendininsopası = lambda a, b : a**2 + b**2"
      ],
      "execution_count": null,
      "outputs": []
    },
    {
      "cell_type": "code",
      "metadata": {
        "id": "q-4MiuqYeC5y",
        "outputId": "9800121b-1643-43ff-ffee-d0ccd3e36c6a"
      },
      "source": [
        "abuzittinefendininsopası(3,5)"
      ],
      "execution_count": null,
      "outputs": [
        {
          "output_type": "execute_result",
          "data": {
            "text/plain": [
              "34"
            ]
          },
          "metadata": {
            "tags": []
          },
          "execution_count": 41
        }
      ]
    },
    {
      "cell_type": "code",
      "metadata": {
        "id": "VBn2RQCheC5z"
      },
      "source": [
        "iterable = [1,2,3,4,5]"
      ],
      "execution_count": null,
      "outputs": []
    },
    {
      "cell_type": "code",
      "metadata": {
        "id": "_IWm3PfheC5z"
      },
      "source": [
        "result = map(lambda x : x **2, iterable)"
      ],
      "execution_count": null,
      "outputs": []
    },
    {
      "cell_type": "code",
      "metadata": {
        "id": "mts8gzi-eC5z",
        "outputId": "50854829-a99b-4a65-e03d-6ddf739c09e8"
      },
      "source": [
        "print(result)"
      ],
      "execution_count": null,
      "outputs": [
        {
          "output_type": "stream",
          "text": [
            "<map object at 0x7fab79b47ee0>\n"
          ],
          "name": "stdout"
        }
      ]
    },
    {
      "cell_type": "code",
      "metadata": {
        "id": "itXtsZ46eC5z",
        "outputId": "8a43b70a-1b10-4972-f238-0d0e082ab34f"
      },
      "source": [
        "print(*result)"
      ],
      "execution_count": null,
      "outputs": [
        {
          "output_type": "stream",
          "text": [
            "1 4 9 16 25\n"
          ],
          "name": "stdout"
        }
      ]
    },
    {
      "cell_type": "code",
      "metadata": {
        "id": "7YYn-FqveC5z"
      },
      "source": [
        "for i in result :\n",
        "    print(i)"
      ],
      "execution_count": null,
      "outputs": []
    },
    {
      "cell_type": "code",
      "metadata": {
        "id": "LryYfkFeeC5z"
      },
      "source": [
        "def karesinial(x) :\n",
        "    return x ** 2"
      ],
      "execution_count": null,
      "outputs": []
    },
    {
      "cell_type": "code",
      "metadata": {
        "id": "t1TzBlJkeC5z"
      },
      "source": [
        "result = map(karesinial, iterable)"
      ],
      "execution_count": null,
      "outputs": []
    },
    {
      "cell_type": "code",
      "metadata": {
        "id": "owPNx5OTeC5z",
        "outputId": "250d7cef-efb6-45cc-beb7-33e68ebc6dff"
      },
      "source": [
        "print(*result)"
      ],
      "execution_count": null,
      "outputs": [
        {
          "output_type": "stream",
          "text": [
            "1 4 9 16 25\n"
          ],
          "name": "stdout"
        }
      ]
    },
    {
      "cell_type": "code",
      "metadata": {
        "id": "czJau6ZMeC50"
      },
      "source": [
        "iterable_2 = [\"ahmet\", \"mehmet ve kuzeni\", \"cemilin bacısı\"]"
      ],
      "execution_count": null,
      "outputs": []
    },
    {
      "cell_type": "code",
      "metadata": {
        "id": "sY0zgs_heC50"
      },
      "source": [
        "result_2 = map(len, iterable_2)"
      ],
      "execution_count": null,
      "outputs": []
    },
    {
      "cell_type": "code",
      "metadata": {
        "id": "YeK4Q_ZqeC50",
        "outputId": "75d64304-4333-4dcf-8e25-d50789e0aab5"
      },
      "source": [
        "print(*result_2)"
      ],
      "execution_count": null,
      "outputs": [
        {
          "output_type": "stream",
          "text": [
            "5 16 14\n"
          ],
          "name": "stdout"
        }
      ]
    },
    {
      "cell_type": "code",
      "metadata": {
        "id": "eG-tO_I5eC50"
      },
      "source": [
        "letter1 = [\"a\", \"b\", \"c\"]\n",
        "letter2 = [\"x\", \"y\", \"z\"]"
      ],
      "execution_count": null,
      "outputs": []
    },
    {
      "cell_type": "code",
      "metadata": {
        "id": "iqg-J-DUeC50"
      },
      "source": [
        "yapıştır = map(zip, letter1,letter2)"
      ],
      "execution_count": null,
      "outputs": []
    },
    {
      "cell_type": "code",
      "metadata": {
        "id": "JbjV9XAFeC50",
        "outputId": "927d9066-ab77-4cd1-8f6c-f3fbbb11cc9c"
      },
      "source": [
        "for i in yapıştır:\n",
        "    for j in i:\n",
        "        print(j)"
      ],
      "execution_count": null,
      "outputs": [
        {
          "output_type": "stream",
          "text": [
            "('a', 'x')\n",
            "('b', 'y')\n",
            "('c', 'z')\n"
          ],
          "name": "stdout"
        }
      ]
    },
    {
      "cell_type": "code",
      "metadata": {
        "id": "FRdKABzheC50"
      },
      "source": [
        ""
      ],
      "execution_count": null,
      "outputs": []
    },
    {
      "cell_type": "code",
      "metadata": {
        "id": "X0DLDCaSeC50"
      },
      "source": [
        ""
      ],
      "execution_count": null,
      "outputs": []
    },
    {
      "cell_type": "code",
      "metadata": {
        "id": "FV8sLIk_eC51"
      },
      "source": [
        ""
      ],
      "execution_count": null,
      "outputs": []
    }
  ]
}