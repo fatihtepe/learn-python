{
  "nbformat": 4,
  "nbformat_minor": 0,
  "metadata": {
    "colab": {
      "name": "sort_sorted_split",
      "provenance": [],
      "authorship_tag": "ABX9TyNVSRZXFUnlD3lllJegOXa6",
      "include_colab_link": true
    },
    "kernelspec": {
      "name": "python3",
      "display_name": "Python 3"
    },
    "language_info": {
      "name": "python"
    }
  },
  "cells": [
    {
      "cell_type": "markdown",
      "metadata": {
        "id": "view-in-github",
        "colab_type": "text"
      },
      "source": [
        "<a href=\"https://colab.research.google.com/github/fatihtepe/python_ground/blob/main/sort_sorted_split.ipynb\" target=\"_parent\"><img src=\"https://colab.research.google.com/assets/colab-badge.svg\" alt=\"Open In Colab\"/></a>"
      ]
    },
    {
      "cell_type": "code",
      "metadata": {
        "colab": {
          "base_uri": "https://localhost:8080/"
        },
        "id": "UsA0Nz2NTeCV",
        "outputId": "3d0f0793-9ad2-4d95-f5e3-49ce4ca1169f"
      },
      "source": [
        "harfler = 'a b c d e f g h i j'.split()\n",
        "print(harfler)"
      ],
      "execution_count": null,
      "outputs": [
        {
          "output_type": "stream",
          "text": [
            "['a', 'b', 'c', 'd', 'e', 'f', 'g', 'h', 'i', 'j']\n"
          ],
          "name": "stdout"
        }
      ]
    },
    {
      "cell_type": "code",
      "metadata": {
        "colab": {
          "base_uri": "https://localhost:8080/"
        },
        "id": "zq9jOgO6YrPR",
        "outputId": "ac9003d4-7514-407b-c208-d7d000445ffc"
      },
      "source": [
        "harfler[7:3:-1]"
      ],
      "execution_count": null,
      "outputs": [
        {
          "output_type": "execute_result",
          "data": {
            "text/plain": [
              "['h', 'g', 'f', 'e']"
            ]
          },
          "metadata": {
            "tags": []
          },
          "execution_count": 6
        }
      ]
    },
    {
      "cell_type": "code",
      "metadata": {
        "colab": {
          "base_uri": "https://localhost:8080/"
        },
        "id": "rUNX9fyOY1dZ",
        "outputId": "61bedb3f-2893-4381-f48c-1422f586dd69"
      },
      "source": [
        "harfler[2:6:-1]"
      ],
      "execution_count": null,
      "outputs": [
        {
          "output_type": "execute_result",
          "data": {
            "text/plain": [
              "[]"
            ]
          },
          "metadata": {
            "tags": []
          },
          "execution_count": 7
        }
      ]
    },
    {
      "cell_type": "code",
      "metadata": {
        "colab": {
          "base_uri": "https://localhost:8080/"
        },
        "id": "zBu1rtUxZ-1I",
        "outputId": "b5e1343d-10a1-431d-e8bf-47f9789ad444"
      },
      "source": [
        "'a-b-c-d'.split('-')"
      ],
      "execution_count": null,
      "outputs": [
        {
          "output_type": "execute_result",
          "data": {
            "text/plain": [
              "['a', 'b', 'c', 'd']"
            ]
          },
          "metadata": {
            "tags": []
          },
          "execution_count": 8
        }
      ]
    },
    {
      "cell_type": "code",
      "metadata": {
        "colab": {
          "base_uri": "https://localhost:8080/"
        },
        "id": "jjO_zbZDaHga",
        "outputId": "3ad035d9-c427-4eda-b9a3-55f7eb65dcc8"
      },
      "source": [
        "sorted(['ahmet', 'mehmet', 'ceylan', 'seyhan'])"
      ],
      "execution_count": null,
      "outputs": [
        {
          "output_type": "execute_result",
          "data": {
            "text/plain": [
              "['ahmet', 'ceylan', 'mehmet', 'seyhan']"
            ]
          },
          "metadata": {
            "tags": []
          },
          "execution_count": 11
        }
      ]
    },
    {
      "cell_type": "code",
      "metadata": {
        "colab": {
          "base_uri": "https://localhost:8080/"
        },
        "id": "P5G7O92udNTu",
        "outputId": "56df748c-3782-4220-9f80-79f085ff9b49"
      },
      "source": [
        "isimler = ['ahmet', 'ceyldfdfan', 'mehmdfdet', 'seyhdfan']\n",
        "\n",
        "print(sorted(isimler, reverse=False))"
      ],
      "execution_count": null,
      "outputs": [
        {
          "output_type": "stream",
          "text": [
            "['ahmet', 'ceyldfdfan', 'mehmdfdet', 'seyhdfan']\n"
          ],
          "name": "stdout"
        }
      ]
    },
    {
      "cell_type": "code",
      "metadata": {
        "colab": {
          "base_uri": "https://localhost:8080/"
        },
        "id": "_qL2sffcdbXE",
        "outputId": "9f902b8a-0334-4242-dd88-b3239eb829e3"
      },
      "source": [
        "sehirler= ['tokyo', 'addis ababa', 'rome', 'rio']\n",
        "\n",
        "print(sorted(sehirler, key=len))"
      ],
      "execution_count": null,
      "outputs": [
        {
          "output_type": "stream",
          "text": [
            "['rio', 'rome', 'tokyo', 'addis ababa']\n"
          ],
          "name": "stdout"
        }
      ]
    },
    {
      "cell_type": "code",
      "metadata": {
        "colab": {
          "base_uri": "https://localhost:8080/"
        },
        "id": "V62kVW18g8Y1",
        "outputId": "5dd66040-9aa9-4e9d-c815-4c911f899080"
      },
      "source": [
        "sehirler= ['tokyo', 'addis ababa', 'rome', 'rio']\n",
        "\n",
        "sorted(sehirler, key = len, reverse =True)"
      ],
      "execution_count": null,
      "outputs": [
        {
          "output_type": "execute_result",
          "data": {
            "text/plain": [
              "['addis ababa', 'tokyo', 'rome', 'rio']"
            ]
          },
          "metadata": {
            "tags": []
          },
          "execution_count": 42
        }
      ]
    },
    {
      "cell_type": "code",
      "metadata": {
        "colab": {
          "base_uri": "https://localhost:8080/"
        },
        "id": "60RaXwiViJ3l",
        "outputId": "e2ee60ae-c6c5-467b-e6a2-6adba9b43f17"
      },
      "source": [
        "sehirler.sort(key = len, reverse= True)\n",
        "print(sehirler)"
      ],
      "execution_count": null,
      "outputs": [
        {
          "output_type": "stream",
          "text": [
            "['addis ababa', 'tokyo', 'rome', 'rio']\n"
          ],
          "name": "stdout"
        }
      ]
    }
  ]
}