{
  "nbformat": 4,
  "nbformat_minor": 0,
  "metadata": {
    "colab": {
      "name": "playingaround.ipynb",
      "provenance": [],
      "authorship_tag": "ABX9TyO26L8m4hzOii+FjAXBQErT",
      "include_colab_link": true
    },
    "kernelspec": {
      "name": "python3",
      "display_name": "Python 3"
    },
    "language_info": {
      "name": "python"
    }
  },
  "cells": [
    {
      "cell_type": "markdown",
      "metadata": {
        "id": "view-in-github",
        "colab_type": "text"
      },
      "source": [
        "<a href=\"https://colab.research.google.com/github/fatihtepe/learn_python/blob/main/playingaround.ipynb\" target=\"_parent\"><img src=\"https://colab.research.google.com/assets/colab-badge.svg\" alt=\"Open In Colab\"/></a>"
      ]
    },
    {
      "cell_type": "code",
      "metadata": {
        "colab": {
          "base_uri": "https://localhost:8080/"
        },
        "id": "nfC-CugQ6Zev",
        "outputId": "bb7ec462-f55c-49f7-c65c-fec2dea67bc5"
      },
      "source": [
        "string_1 = 'I quit smoking'\n",
        "new_list = list(string_1)\n",
        "print(new_list)\n",
        "\n",
        "new_list2 = [string_1]\n",
        "print(new_list2)"
      ],
      "execution_count": 3,
      "outputs": [
        {
          "output_type": "stream",
          "text": [
            "['I', ' ', 'q', 'u', 'i', 't', ' ', 's', 'm', 'o', 'k', 'i', 'n', 'g']\n",
            "['string_1']\n"
          ],
          "name": "stdout"
        }
      ]
    },
    {
      "cell_type": "code",
      "metadata": {
        "colab": {
          "base_uri": "https://localhost:8080/"
        },
        "id": "koeZ0qUZDj6P",
        "outputId": "d9333690-a2a6-498f-a3a2-c43b9aaee502"
      },
      "source": [
        "text = 'In God wee Trust'\n",
        "text1 = ((text[:9]+text[10:]).title())\n",
        "print(text1)\n",
        "print('God' in text)\n",
        "print('Trust'not in text)"
      ],
      "execution_count": 10,
      "outputs": [
        {
          "output_type": "stream",
          "text": [
            "In God We Trust\n",
            "True\n",
            "False\n"
          ],
          "name": "stdout"
        }
      ]
    },
    {
      "cell_type": "code",
      "metadata": {
        "colab": {
          "base_uri": "https://localhost:8080/"
        },
        "id": "HsHGpAMLEq__",
        "outputId": "e2085c2a-c3d4-47b8-a6ea-a122336d4dcd"
      },
      "source": [
        "number = int(input('Please enter a number: '))\n",
        "\n",
        "if number > 0:\n",
        "    print(f'number {number} is positive')\n",
        "elif number == 0:\n",
        "    print(f'number is equal to {number}')\n",
        "else:\n",
        "    print(f'number {number} is negative')\n",
        "\n"
      ],
      "execution_count": 22,
      "outputs": [
        {
          "output_type": "stream",
          "text": [
            "Please enter a number: 5\n",
            "number 5 is positive\n"
          ],
          "name": "stdout"
        }
      ]
    },
    {
      "cell_type": "code",
      "metadata": {
        "colab": {
          "base_uri": "https://localhost:8080/"
        },
        "id": "4_YVXyFqG9ru",
        "outputId": "4a63ebcb-ee9e-42bc-a34c-3b51442c4453"
      },
      "source": [
        "numberlar = [1, 3, 4, 5, 7, -1, -20]\n",
        "numberlar.sort()\n",
        "print(numberlar)"
      ],
      "execution_count": 24,
      "outputs": [
        {
          "output_type": "stream",
          "text": [
            "[-20, -1, 1, 3, 4, 5, 7]\n"
          ],
          "name": "stdout"
        }
      ]
    },
    {
      "cell_type": "code",
      "metadata": {
        "colab": {
          "base_uri": "https://localhost:8080/"
        },
        "id": "378tX4sCHWoi",
        "outputId": "b1ee429e-3f6c-44f2-93ba-ed491e3c5cb0"
      },
      "source": [
        "numberlar = [1, 3, 4, 5, 7, -1, -20]\n",
        "print(numberlar[-2])"
      ],
      "execution_count": 25,
      "outputs": [
        {
          "output_type": "stream",
          "text": [
            "-1\n"
          ],
          "name": "stdout"
        }
      ]
    },
    {
      "cell_type": "code",
      "metadata": {
        "colab": {
          "base_uri": "https://localhost:8080/"
        },
        "id": "Na76EiXMHfMz",
        "outputId": "46193150-3e7d-4107-ffc4-ec14ca491c79"
      },
      "source": [
        "numberlar = [1, 3, 4, 5, 7, -1, -20]\n",
        "numberlar.reverse()\n",
        "print(numberlar)"
      ],
      "execution_count": 27,
      "outputs": [
        {
          "output_type": "stream",
          "text": [
            "[-20, -1, 7, 5, 4, 3, 1]\n"
          ],
          "name": "stdout"
        }
      ]
    },
    {
      "cell_type": "code",
      "metadata": {
        "colab": {
          "base_uri": "https://localhost:8080/"
        },
        "id": "QLU46YmbHmo7",
        "outputId": "9b9562e0-bfde-4e29-9820-e0715695a726"
      },
      "source": [
        "numberlar = [1, 3, 4, 5, 7, -1, -20]\n",
        "print(numberlar[1::2])"
      ],
      "execution_count": 36,
      "outputs": [
        {
          "output_type": "stream",
          "text": [
            "[3, 5, -1]\n"
          ],
          "name": "stdout"
        }
      ]
    },
    {
      "cell_type": "code",
      "metadata": {
        "colab": {
          "base_uri": "https://localhost:8080/"
        },
        "id": "sW-u7TvpIIzz",
        "outputId": "5d22647c-f25c-481b-e33a-aa1af0919b01"
      },
      "source": [
        "numberlar = [1, 3, 4, 5, 7, -1, -20]\n",
        "numberlar.append(80)\n",
        "print(numberlar)"
      ],
      "execution_count": 37,
      "outputs": [
        {
          "output_type": "stream",
          "text": [
            "[1, 3, 4, 5, 7, -1, -20, 80]\n"
          ],
          "name": "stdout"
        }
      ]
    },
    {
      "cell_type": "code",
      "metadata": {
        "colab": {
          "base_uri": "https://localhost:8080/"
        },
        "id": "HPvZweK6Mc92",
        "outputId": "a25661f0-df83-49c3-b6ea-0d03b856d3fa"
      },
      "source": [
        "num = [1, 3, 4, 5, 7, -1, -20, 80]\n",
        "num.clear()\n",
        "print(num)"
      ],
      "execution_count": 38,
      "outputs": [
        {
          "output_type": "stream",
          "text": [
            "[]\n"
          ],
          "name": "stdout"
        }
      ]
    },
    {
      "cell_type": "code",
      "metadata": {
        "colab": {
          "base_uri": "https://localhost:8080/"
        },
        "id": "JqloK9ZVMqGN",
        "outputId": "7d799505-509b-4423-dc2d-5f4bea756f93"
      },
      "source": [
        "num = [1, 3, 4, 5, 7, -1, -20, 80]\n",
        "print(5 not in num)"
      ],
      "execution_count": 39,
      "outputs": [
        {
          "output_type": "stream",
          "text": [
            "False\n"
          ],
          "name": "stdout"
        }
      ]
    },
    {
      "cell_type": "code",
      "metadata": {
        "colab": {
          "base_uri": "https://localhost:8080/"
        },
        "id": "vbEg4KxvMv_R",
        "outputId": "db725de6-1b5d-472c-9774-96dda67bfefa"
      },
      "source": [
        "num = [1, 3, 4, 5, 7, -1, -20, 80]\n",
        "num.remove(5)\n",
        "print(num)"
      ],
      "execution_count": 40,
      "outputs": [
        {
          "output_type": "stream",
          "text": [
            "[1, 3, 4, 7, -1, -20, 80]\n"
          ],
          "name": "stdout"
        }
      ]
    },
    {
      "cell_type": "code",
      "metadata": {
        "colab": {
          "base_uri": "https://localhost:8080/"
        },
        "id": "OW5JX0ZhZtBz",
        "outputId": "4c79510c-e278-463d-bd01-f40d1d0ec7e3"
      },
      "source": [
        "num = [1, 3, 4, 5, 7, -1, -20, 80]\n",
        "num.pop()\n",
        "print(num)"
      ],
      "execution_count": 41,
      "outputs": [
        {
          "output_type": "stream",
          "text": [
            "[1, 3, 4, 5, 7, -1, -20]\n"
          ],
          "name": "stdout"
        }
      ]
    },
    {
      "cell_type": "code",
      "metadata": {
        "colab": {
          "base_uri": "https://localhost:8080/"
        },
        "id": "Sg8MybniZ3ES",
        "outputId": "03ab5ead-89f4-4907-816f-544df90a3d1c"
      },
      "source": [
        "num = [1, 3, 4, 5, 7, -1, -20, 80]\n",
        "del num[5]\n",
        "print(num)"
      ],
      "execution_count": 42,
      "outputs": [
        {
          "output_type": "stream",
          "text": [
            "[1, 3, 4, 5, 7, -20, 80]\n"
          ],
          "name": "stdout"
        }
      ]
    },
    {
      "cell_type": "code",
      "metadata": {
        "colab": {
          "base_uri": "https://localhost:8080/"
        },
        "id": "xnyIWnMgaFhc",
        "outputId": "b6900aaa-5610-4593-f886-40947e9d7bdc"
      },
      "source": [
        "num = [1, 3, 4, 5, 7, -1, -20, 80]\n",
        "del num[3:6]\n",
        "print(num)"
      ],
      "execution_count": 43,
      "outputs": [
        {
          "output_type": "stream",
          "text": [
            "[1, 3, 4, -20, 80]\n"
          ],
          "name": "stdout"
        }
      ]
    },
    {
      "cell_type": "code",
      "metadata": {
        "colab": {
          "base_uri": "https://localhost:8080/"
        },
        "id": "js5yZgEGavNQ",
        "outputId": "17866bc0-e5f9-414b-f882-edc0f25533c8"
      },
      "source": [
        "setler = {1, 3, 4, 5, 7, -1, -20, 80}\n",
        "setHarf = {'F', 'a', 't', 'i', 'h', ' ', 't', 'e', 'p', 'e'}\n",
        "union = setler | setHarf\n",
        "print(union)\n",
        "\n",
        "print(setHarf)"
      ],
      "execution_count": 46,
      "outputs": [
        {
          "output_type": "stream",
          "text": [
            "{1, 3, 4, 5, 7, 'h', -20, 80, 't', 'i', 'F', 'a', ' ', 'p', 'e', -1}\n",
            "{' ', 't', 'i', 'F', 'a', 'p', 'e', 'h'}\n"
          ],
          "name": "stdout"
        }
      ]
    },
    {
      "cell_type": "code",
      "metadata": {
        "colab": {
          "base_uri": "https://localhost:8080/"
        },
        "id": "GQxqkfnpb0wb",
        "outputId": "bb2a1e2d-4ca5-437a-fd34-3a60330bff19"
      },
      "source": [
        "setler = {1, 3, 'e', 4, 5, 'f', 7, -1, -20, 80}\n",
        "setHarf = {'F', 'a', 't', 'i', 'h', ' ', 't', 'e', 'p', 5, 'e'}\n",
        "intersection = setler & setHarf\n",
        "print(intersection)\n"
      ],
      "execution_count": 53,
      "outputs": [
        {
          "output_type": "stream",
          "text": [
            "{'e', 5}\n"
          ],
          "name": "stdout"
        }
      ]
    },
    {
      "cell_type": "code",
      "metadata": {
        "colab": {
          "base_uri": "https://localhost:8080/"
        },
        "id": "eBWB3VyccYiL",
        "outputId": "8ec062b2-8dfb-40d8-af21-22e76a0a5ad4"
      },
      "source": [
        "setler = {1, 3, 'e', 4, 5, 'f', 7, -1, -20, 80}\n",
        "setHarf = {'F', 'a', 't', 'i', 'h', ' ', 't', 'e', 'p', 5, 'e'}\n",
        "difference = setler - setHarf\n",
        "print(difference)\n",
        "difference = setHarf - setler\n",
        "print(difference)\n"
      ],
      "execution_count": 55,
      "outputs": [
        {
          "output_type": "stream",
          "text": [
            "{1, 3, 4, 7, -20, 80, 'f', -1}\n",
            "{' ', 't', 'i', 'F', 'a', 'p', 'h'}\n"
          ],
          "name": "stdout"
        }
      ]
    },
    {
      "cell_type": "code",
      "metadata": {
        "colab": {
          "base_uri": "https://localhost:8080/"
        },
        "id": "qjEjMus1evXs",
        "outputId": "0977b696-89a9-45ea-a7e5-108ffbf12138"
      },
      "source": [
        "person = {\n",
        "    'name': 'Fatih',\n",
        "    'age': 45,\n",
        "    'adress': 'Ontario'\n",
        "}\n",
        "\n",
        "print(person)\n",
        "print(person['name'])\n",
        "print(person['age'])\n",
        "print(person['adress'])\n",
        "print(person.keys())\n",
        "print(person.values())\n",
        "print(person.items())\n",
        "\n",
        "for key in person:\n",
        "    print(key)"
      ],
      "execution_count": 63,
      "outputs": [
        {
          "output_type": "stream",
          "text": [
            "{'name': 'Fatih', 'age': 45, 'adress': 'Ontario'}\n",
            "Fatih\n",
            "45\n",
            "Ontario\n",
            "dict_keys(['name', 'age', 'adress'])\n",
            "dict_values(['Fatih', 45, 'Ontario'])\n",
            "dict_items([('name', 'Fatih'), ('age', 45), ('adress', 'Ontario')])\n",
            "name\n",
            "age\n",
            "adress\n"
          ],
          "name": "stdout"
        }
      ]
    },
    {
      "cell_type": "code",
      "metadata": {
        "colab": {
          "base_uri": "https://localhost:8080/"
        },
        "id": "tsgQcTGkf3D5",
        "outputId": "6504830e-93b4-477d-f066-e698a1be21d6"
      },
      "source": [
        "person = {\n",
        "    'name': 'Fatih',\n",
        "    'age': 45,\n",
        "    'adress': 'Ontario'\n",
        "}\n",
        "\n",
        "for key in person:\n",
        "    print(f'{key}: {person[key]}')"
      ],
      "execution_count": 65,
      "outputs": [
        {
          "output_type": "stream",
          "text": [
            "name: Fatih\n",
            "age: 45\n",
            "adress: Ontario\n"
          ],
          "name": "stdout"
        }
      ]
    },
    {
      "cell_type": "code",
      "metadata": {
        "colab": {
          "base_uri": "https://localhost:8080/"
        },
        "id": "OqE60Ni2sdTK",
        "outputId": "86d9651f-5c07-47c8-8cad-99beb02b5e8e"
      },
      "source": [
        "result = 0\n",
        "numbers = list(range(1, 11))\n",
        "for number in numbers:\n",
        "    result += number\n",
        "print(result)"
      ],
      "execution_count": 66,
      "outputs": [
        {
          "output_type": "stream",
          "text": [
            "55\n"
          ],
          "name": "stdout"
        }
      ]
    },
    {
      "cell_type": "code",
      "metadata": {
        "id": "V1KXi9lmtUFc"
      },
      "source": [
        ""
      ],
      "execution_count": null,
      "outputs": []
    }
  ]
}