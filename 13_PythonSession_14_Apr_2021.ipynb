{
  "nbformat": 4,
  "nbformat_minor": 0,
  "metadata": {
    "kernelspec": {
      "display_name": "Python 3",
      "language": "python",
      "name": "python3"
    },
    "language_info": {
      "codemirror_mode": {
        "name": "ipython",
        "version": 3
      },
      "file_extension": ".py",
      "mimetype": "text/x-python",
      "name": "python",
      "nbconvert_exporter": "python",
      "pygments_lexer": "ipython3",
      "version": "3.7.3"
    },
    "colab": {
      "name": "13_PythonSession-14-Apr-2021.ipynb",
      "provenance": [],
      "include_colab_link": true
    }
  },
  "cells": [
    {
      "cell_type": "markdown",
      "metadata": {
        "id": "view-in-github",
        "colab_type": "text"
      },
      "source": [
        "<a href=\"https://colab.research.google.com/github/fatihtepe/learn_python/blob/main/13_PythonSession_14_Apr_2021.ipynb\" target=\"_parent\"><img src=\"https://colab.research.google.com/assets/colab-badge.svg\" alt=\"Open In Colab\"/></a>"
      ]
    },
    {
      "cell_type": "code",
      "metadata": {
        "id": "3hTkNu_YPK6Z"
      },
      "source": [
        ""
      ],
      "execution_count": null,
      "outputs": []
    },
    {
      "cell_type": "markdown",
      "metadata": {
        "id": "kaWrlxe5PIM-"
      },
      "source": [
        "<h1><p style=\"text-align: center; color:darkblue\">Python In-Class, <br>14 April 2021</p><h1>"
      ]
    },
    {
      "cell_type": "code",
      "metadata": {
        "id": "WMi-xsTgPIM-"
      },
      "source": [
        "bos = set()"
      ],
      "execution_count": null,
      "outputs": []
    },
    {
      "cell_type": "code",
      "metadata": {
        "id": "17BptoIdPIM_"
      },
      "source": [
        "bos."
      ],
      "execution_count": null,
      "outputs": []
    },
    {
      "cell_type": "code",
      "metadata": {
        "id": "cYFSnfIvPIM_",
        "outputId": "b291a651-ce1f-4721-b1cc-a65edf213d0b"
      },
      "source": [
        "set(\"04/14/2021\")"
      ],
      "execution_count": null,
      "outputs": [
        {
          "output_type": "execute_result",
          "data": {
            "text/plain": [
              "{'/', '0', '1', '2', '4'}"
            ]
          },
          "metadata": {
            "tags": []
          },
          "execution_count": 2
        }
      ]
    },
    {
      "cell_type": "code",
      "metadata": {
        "id": "_IUxZOTePIM_",
        "outputId": "7d96bac2-0b4c-4f64-b0a4-bc35c7e174a5"
      },
      "source": [
        "list(\"04/14/2021\")"
      ],
      "execution_count": null,
      "outputs": [
        {
          "output_type": "execute_result",
          "data": {
            "text/plain": [
              "['0', '4', '/', '1', '4', '/', '2', '0', '2', '1']"
            ]
          },
          "metadata": {
            "tags": []
          },
          "execution_count": 7
        }
      ]
    },
    {
      "cell_type": "code",
      "metadata": {
        "id": "gKhuGxq-PINA"
      },
      "source": [
        "degisken = {\"04/14/2021\"}"
      ],
      "execution_count": null,
      "outputs": []
    },
    {
      "cell_type": "code",
      "metadata": {
        "id": "pt7Xub7aPINA",
        "outputId": "bf7df580-8cc3-4240-e8ad-0822ba092b3b"
      },
      "source": [
        "degisken"
      ],
      "execution_count": null,
      "outputs": [
        {
          "output_type": "execute_result",
          "data": {
            "text/plain": [
              "{'04/14/2021'}"
            ]
          },
          "metadata": {
            "tags": []
          },
          "execution_count": 5
        }
      ]
    },
    {
      "cell_type": "code",
      "metadata": {
        "id": "e1gTTJ9DPINA",
        "outputId": "5044686e-cc34-4538-b6e5-c1ff9a691696"
      },
      "source": [
        "type(degisken)"
      ],
      "execution_count": null,
      "outputs": [
        {
          "output_type": "execute_result",
          "data": {
            "text/plain": [
              "set"
            ]
          },
          "metadata": {
            "tags": []
          },
          "execution_count": 6
        }
      ]
    },
    {
      "cell_type": "code",
      "metadata": {
        "id": "oXjBTM70PINA"
      },
      "source": [
        "given_list = [1, 2, 3, 3, 3, 3, 4, 4, 5, 5]"
      ],
      "execution_count": null,
      "outputs": []
    },
    {
      "cell_type": "code",
      "metadata": {
        "id": "QY-Vrrk0PINB",
        "outputId": "33d9b0a3-3572-4099-acef-a19547268948"
      },
      "source": [
        "set(given_list)"
      ],
      "execution_count": null,
      "outputs": [
        {
          "output_type": "execute_result",
          "data": {
            "text/plain": [
              "{1, 2, 3, 4, 5}"
            ]
          },
          "metadata": {
            "tags": []
          },
          "execution_count": 9
        }
      ]
    },
    {
      "cell_type": "code",
      "metadata": {
        "id": "4TAPwfD9PINB",
        "outputId": "a0e2d568-3d95-4a37-e26e-91c081f9fe17"
      },
      "source": [
        "{given_list}"
      ],
      "execution_count": null,
      "outputs": [
        {
          "output_type": "error",
          "ename": "TypeError",
          "evalue": "unhashable type: 'list'",
          "traceback": [
            "\u001b[1;31m---------------------------------------------------------------------------\u001b[0m",
            "\u001b[1;31mTypeError\u001b[0m                                 Traceback (most recent call last)",
            "\u001b[1;32m<ipython-input-10-2d5df8db4262>\u001b[0m in \u001b[0;36m<module>\u001b[1;34m\u001b[0m\n\u001b[1;32m----> 1\u001b[1;33m \u001b[1;33m{\u001b[0m\u001b[0mgiven_list\u001b[0m\u001b[1;33m}\u001b[0m\u001b[1;33m\u001b[0m\u001b[1;33m\u001b[0m\u001b[0m\n\u001b[0m",
            "\u001b[1;31mTypeError\u001b[0m: unhashable type: 'list'"
          ]
        }
      ]
    },
    {
      "cell_type": "code",
      "metadata": {
        "id": "xM7zIXHHPINB"
      },
      "source": [
        "print(\"hello\")"
      ],
      "execution_count": null,
      "outputs": []
    },
    {
      "cell_type": "code",
      "metadata": {
        "id": "WqG_7xc5PINB"
      },
      "source": [
        "if condition:\n",
        "    body\n",
        "    body2\n",
        "body3"
      ],
      "execution_count": null,
      "outputs": []
    },
    {
      "cell_type": "code",
      "metadata": {
        "id": "8Ces2qXpPINB",
        "outputId": "fd6c314f-df0f-4117-a2e2-29da01aaff1b"
      },
      "source": [
        "if True:\n",
        "    print(\"it is true\")"
      ],
      "execution_count": null,
      "outputs": [
        {
          "output_type": "stream",
          "text": [
            "it is true\n"
          ],
          "name": "stdout"
        }
      ]
    },
    {
      "cell_type": "code",
      "metadata": {
        "id": "fBERBqXqPINC"
      },
      "source": [
        "if False:\n",
        "    print(\"it is true\")"
      ],
      "execution_count": null,
      "outputs": []
    },
    {
      "cell_type": "code",
      "metadata": {
        "id": "_rq5X_j-PINC",
        "outputId": "a8213eff-c113-4a5e-83df-69fa2e8aa7e6"
      },
      "source": [
        "if 1:\n",
        "    print(\"ben\")"
      ],
      "execution_count": null,
      "outputs": [
        {
          "output_type": "stream",
          "text": [
            "ben\n"
          ],
          "name": "stdout"
        }
      ]
    },
    {
      "cell_type": "code",
      "metadata": {
        "id": "Jr7eoxTtPINC",
        "outputId": "b13fa76b-b0a6-41eb-ba6c-5f6500418ad6"
      },
      "source": [
        "\"bir\" > 1"
      ],
      "execution_count": null,
      "outputs": [
        {
          "output_type": "error",
          "ename": "TypeError",
          "evalue": "'>' not supported between instances of 'str' and 'int'",
          "traceback": [
            "\u001b[1;31m---------------------------------------------------------------------------\u001b[0m",
            "\u001b[1;31mTypeError\u001b[0m                                 Traceback (most recent call last)",
            "\u001b[1;32m<ipython-input-14-270002ef30f0>\u001b[0m in \u001b[0;36m<module>\u001b[1;34m\u001b[0m\n\u001b[1;32m----> 1\u001b[1;33m \u001b[1;34m\"bir\"\u001b[0m \u001b[1;33m>\u001b[0m \u001b[1;36m1\u001b[0m\u001b[1;33m\u001b[0m\u001b[1;33m\u001b[0m\u001b[0m\n\u001b[0m",
            "\u001b[1;31mTypeError\u001b[0m: '>' not supported between instances of 'str' and 'int'"
          ]
        }
      ]
    },
    {
      "cell_type": "code",
      "metadata": {
        "id": "IRkDC9muPINC",
        "outputId": "ffac9cae-c9ae-4642-f699-adf11c64bc01"
      },
      "source": [
        "\"ahmet\" == \"ahmet\""
      ],
      "execution_count": null,
      "outputs": [
        {
          "output_type": "execute_result",
          "data": {
            "text/plain": [
              "True"
            ]
          },
          "metadata": {
            "tags": []
          },
          "execution_count": 15
        }
      ]
    },
    {
      "cell_type": "code",
      "metadata": {
        "id": "sY8IFpO9PINC",
        "outputId": "460f3164-02e6-4cec-81a6-6d70c996cc9e"
      },
      "source": [
        "\"mehmet\" <= \"mehmet\""
      ],
      "execution_count": null,
      "outputs": [
        {
          "output_type": "execute_result",
          "data": {
            "text/plain": [
              "True"
            ]
          },
          "metadata": {
            "tags": []
          },
          "execution_count": 17
        }
      ]
    },
    {
      "cell_type": "code",
      "metadata": {
        "id": "x2n-ShMIPINC"
      },
      "source": [
        "minced = True\n",
        "bread = True\n",
        "\n",
        "#greens\n",
        "lettuce = True\n",
        "pepper = False\n",
        "\n",
        "store = True"
      ],
      "execution_count": null,
      "outputs": []
    },
    {
      "cell_type": "code",
      "metadata": {
        "id": "N2VHrXhjPIND"
      },
      "source": [
        "hamburger = (minced and store and bread) and (lettuce or pepper)"
      ],
      "execution_count": null,
      "outputs": []
    },
    {
      "cell_type": "code",
      "metadata": {
        "id": "Vurr1OBMPIND",
        "outputId": "42e7d0f4-4d00-4a1d-b937-9bb33745c8f3"
      },
      "source": [
        "hamburger"
      ],
      "execution_count": null,
      "outputs": [
        {
          "output_type": "execute_result",
          "data": {
            "text/plain": [
              "True"
            ]
          },
          "metadata": {
            "tags": []
          },
          "execution_count": 24
        }
      ]
    },
    {
      "cell_type": "code",
      "metadata": {
        "id": "ntt1IFh8PIND",
        "outputId": "7d4a46fa-1932-459d-fafc-5d5b5bf7f258"
      },
      "source": [
        "if hamburger :\n",
        "    print(\"Bon Apetite\")"
      ],
      "execution_count": null,
      "outputs": [
        {
          "output_type": "stream",
          "text": [
            "Bon Apetite\n"
          ],
          "name": "stdout"
        }
      ]
    },
    {
      "cell_type": "code",
      "metadata": {
        "id": "SePSRy3kPIND"
      },
      "source": [
        "a = set(\"TWELVE PLUS ONE\")\n",
        "b = set(\"ELEVEN PLUS TWO\")"
      ],
      "execution_count": null,
      "outputs": []
    },
    {
      "cell_type": "code",
      "metadata": {
        "id": "HUJsbF6OPIND",
        "outputId": "59a333b1-cd72-4c68-cdb7-3cbc5a4e308c"
      },
      "source": [
        "a == b"
      ],
      "execution_count": null,
      "outputs": [
        {
          "output_type": "execute_result",
          "data": {
            "text/plain": [
              "True"
            ]
          },
          "metadata": {
            "tags": []
          },
          "execution_count": 27
        }
      ]
    },
    {
      "cell_type": "code",
      "metadata": {
        "id": "KudEi2FkPIND",
        "outputId": "fb0de860-8bc9-4802-b2e1-5370d09e1946"
      },
      "source": [
        "print(a == b)"
      ],
      "execution_count": null,
      "outputs": [
        {
          "output_type": "stream",
          "text": [
            "True\n"
          ],
          "name": "stdout"
        }
      ]
    },
    {
      "cell_type": "code",
      "metadata": {
        "id": "wNZlqxasPINE",
        "outputId": "e45d0e90-ffc9-4626-9436-46cec0f52b1c"
      },
      "source": [
        "convert = input(\"Enter Yes or No : \").title().strip() == \"Yes\"\n",
        "print(\"You entered :\", convert)"
      ],
      "execution_count": null,
      "outputs": [
        {
          "output_type": "stream",
          "text": [
            "Enter Yes or No : yes\n",
            "You entered : True\n"
          ],
          "name": "stdout"
        }
      ]
    },
    {
      "cell_type": "code",
      "metadata": {
        "id": "9VD9H-NhPINE",
        "outputId": "d90ccff5-3f43-4539-a7f7-301f68767e9d"
      },
      "source": [
        "print(\"You entered :\", input(\"Enter Yes or No : \").title().strip() == \"Yes\")"
      ],
      "execution_count": null,
      "outputs": [
        {
          "output_type": "stream",
          "text": [
            "Enter Yes or No : no\n",
            "You entered : False\n"
          ],
          "name": "stdout"
        }
      ]
    },
    {
      "cell_type": "code",
      "metadata": {
        "id": "CrAM5fzjPINE",
        "outputId": "f2a18928-45fc-4b32-f06d-12c986ea1236"
      },
      "source": [
        ""
      ],
      "execution_count": null,
      "outputs": [
        {
          "output_type": "stream",
          "text": [
            "enter a number : 11\n"
          ],
          "name": "stdout"
        }
      ]
    },
    {
      "cell_type": "code",
      "metadata": {
        "id": "bgH7_CdCPINE",
        "outputId": "fce7150a-7bfb-4b9b-e1cb-d560713877be"
      },
      "source": [
        "number = int(input(\"enter a number : \"))\n",
        "if number % 2 == 0 :\n",
        "    print(\"{} is Even\".format(number))\n",
        "else :\n",
        "    print(\"{} is Odd\".format(number))"
      ],
      "execution_count": null,
      "outputs": [
        {
          "output_type": "stream",
          "text": [
            "enter a number : 22\n",
            "22 is Even\n"
          ],
          "name": "stdout"
        }
      ]
    },
    {
      "cell_type": "code",
      "metadata": {
        "id": "ysMQTQXXPINE",
        "outputId": "fed1671f-c432-4fb0-e79f-c667f6771ae3"
      },
      "source": [
        "number = float(input(\"Enter a number :\"))\n",
        "\n",
        "if number > 0 :\n",
        "    print(\"Positive number.\")\n",
        "else:\n",
        "    print(\"Negative number.\")"
      ],
      "execution_count": null,
      "outputs": [
        {
          "output_type": "stream",
          "text": [
            "Enter a number :-11\n",
            "Negative number.\n"
          ],
          "name": "stdout"
        }
      ]
    },
    {
      "cell_type": "code",
      "metadata": {
        "id": "kV9w3kITPINE",
        "outputId": "be4b52d7-72a4-4162-cbb7-befaea1a2c70"
      },
      "source": [
        "num1 = float(input(\"Enter first number :\"))\n",
        "num2 = float(input(\"Enter second number :\"))\n",
        "\n",
        "if num1 > num2 :\n",
        "    larger = num1\n",
        "else :\n",
        "    larger = num2\n",
        "    \n",
        "print(\"The larger number is :\", larger)"
      ],
      "execution_count": null,
      "outputs": [
        {
          "output_type": "stream",
          "text": [
            "Enter first number :3\n",
            "Enter second number :6\n",
            "The larger number is : 6.0\n"
          ],
          "name": "stdout"
        }
      ]
    },
    {
      "cell_type": "code",
      "metadata": {
        "id": "MrYt0TbrPINF",
        "outputId": "41dbee57-751d-4f57-87c7-3e8501cd1a14"
      },
      "source": [
        "num1 = float(input(\"Enter first number :\"))\n",
        "num2 = float(input(\"Enter second number :\"))\n",
        "\n",
        "if num1 > num2 :\n",
        "    print(\"the larger number is\", num1)\n",
        "else:\n",
        "    print(\"the larger number is\", num2)"
      ],
      "execution_count": null,
      "outputs": [
        {
          "output_type": "stream",
          "text": [
            "Enter first number :3\n",
            "Enter second number :5\n",
            "the larger number is 5.0\n"
          ],
          "name": "stdout"
        }
      ]
    },
    {
      "cell_type": "code",
      "metadata": {
        "id": "_KzsDse8PINF"
      },
      "source": [
        "bool_value = True"
      ],
      "execution_count": null,
      "outputs": []
    },
    {
      "cell_type": "code",
      "metadata": {
        "id": "XE6G7y5WPINF",
        "outputId": "8f4efc70-2374-45ce-acc6-2dfe650bb120"
      },
      "source": [
        "if bool_value :\n",
        "    print(\"Yes\")\n",
        "else:\n",
        "    print(\"No\")"
      ],
      "execution_count": null,
      "outputs": [
        {
          "output_type": "stream",
          "text": [
            "Yes\n"
          ],
          "name": "stdout"
        }
      ]
    },
    {
      "cell_type": "code",
      "metadata": {
        "id": "v7QsKhEKPINF"
      },
      "source": [
        ""
      ],
      "execution_count": null,
      "outputs": []
    },
    {
      "cell_type": "code",
      "metadata": {
        "id": "pm525L6kPINF"
      },
      "source": [
        ""
      ],
      "execution_count": null,
      "outputs": []
    }
  ]
}