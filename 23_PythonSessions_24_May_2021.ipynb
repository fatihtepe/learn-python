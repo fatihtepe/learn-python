{
  "nbformat": 4,
  "nbformat_minor": 0,
  "metadata": {
    "kernelspec": {
      "display_name": "Python 3",
      "language": "python",
      "name": "python3"
    },
    "language_info": {
      "codemirror_mode": {
        "name": "ipython",
        "version": 3
      },
      "file_extension": ".py",
      "mimetype": "text/x-python",
      "name": "python",
      "nbconvert_exporter": "python",
      "pygments_lexer": "ipython3",
      "version": "3.7.3"
    },
    "colab": {
      "name": "23_PythonSessions-24-May-2021.ipynb",
      "provenance": [],
      "include_colab_link": true
    }
  },
  "cells": [
    {
      "cell_type": "markdown",
      "metadata": {
        "id": "view-in-github",
        "colab_type": "text"
      },
      "source": [
        "<a href=\"https://colab.research.google.com/github/fatihtepe/learn_python/blob/main/23_PythonSessions_24_May_2021.ipynb\" target=\"_parent\"><img src=\"https://colab.research.google.com/assets/colab-badge.svg\" alt=\"Open In Colab\"/></a>"
      ]
    },
    {
      "cell_type": "markdown",
      "metadata": {
        "id": "CDGgHbMm-YM8"
      },
      "source": [
        "<img src=\"https://docs.google.com/uc?id=14xeXxFrVRjvOoUYWn_GuyE-v84wVzrqr\" class=\"img-fluid\" alt=\"CLRWY\" width=\"400\" height=\"200\">"
      ]
    },
    {
      "cell_type": "markdown",
      "metadata": {
        "id": "vg9pfHkq-YM8"
      },
      "source": [
        "<h1><p style=\"text-align: center; color:darkblue\">Python In-Class, <br>24 May 2021</p><h1>"
      ]
    },
    {
      "cell_type": "code",
      "metadata": {
        "id": "LQfDLgzK-YM8"
      },
      "source": [
        "fruits = ['Banana', 'Orange', 'Apple', 'Strawberry', 'Cherry']"
      ],
      "execution_count": null,
      "outputs": []
    },
    {
      "cell_type": "code",
      "metadata": {
        "id": "3dR8HiFa-YM9",
        "outputId": "3a2862f3-b157-4f58-9ad2-ea7d9af0c885"
      },
      "source": [
        "with open(\"fruits_24.txt\", \"w\", encoding=\"utf-8\") as ff :\n",
        "    for meyve in fruits :\n",
        "        ff.write(meyve + \"\\n\")\n",
        "\n",
        "with open(\"fruits_24.txt\", \"r\", encoding=\"utf-8\") as ff :\n",
        "    print(ff.read())"
      ],
      "execution_count": null,
      "outputs": [
        {
          "output_type": "stream",
          "text": [
            "Banana\n",
            "Orange\n",
            "Apple\n",
            "Strawberry\n",
            "Cherry\n",
            "\n"
          ],
          "name": "stdout"
        }
      ]
    },
    {
      "cell_type": "code",
      "metadata": {
        "id": "B4OzRTum-YM9"
      },
      "source": [
        "flowers = ['Jasmine', 'Rose', 'Lily', 'Daisy', 'Tulip']"
      ],
      "execution_count": null,
      "outputs": []
    },
    {
      "cell_type": "code",
      "metadata": {
        "id": "gpQbrKGV-YM9",
        "outputId": "66994309-6761-4c46-e1d3-7a9ff131c857"
      },
      "source": [
        "with open(\"flowers_24.txt\", \"w\", encoding=\"utf-8\") as ff :\n",
        "    for meyve in fruits :\n",
        "        ff.write(meyve + \"\\n\\n\")\n",
        "\n",
        "with open(\"flowers_24.txt\", \"r\", encoding=\"utf-8\") as ff :\n",
        "    print(ff.read())"
      ],
      "execution_count": null,
      "outputs": [
        {
          "output_type": "stream",
          "text": [
            "Banana\n",
            "\n",
            "Orange\n",
            "\n",
            "Apple\n",
            "\n",
            "Strawberry\n",
            "\n",
            "Cherry\n",
            "\n",
            "\n"
          ],
          "name": "stdout"
        }
      ]
    },
    {
      "cell_type": "code",
      "metadata": {
        "id": "gqlbeIJw-YM9"
      },
      "source": [
        "flowers = ['Jasmine\\n', 'Rose\\n', 'Lily\\n', 'Daisy\\n', 'Tulip']"
      ],
      "execution_count": null,
      "outputs": []
    },
    {
      "cell_type": "code",
      "metadata": {
        "id": "cgJb6dFT-YM-",
        "outputId": "d8eb21ff-a278-4132-e7b5-d96c7dd3d3bc"
      },
      "source": [
        "with open(\"flowers_24.txt\", \"w\", encoding=\"utf-8\") as ff :\n",
        "    ff.writelines(flowers)\n",
        "\n",
        "with open(\"flowers_24.txt\", \"r\", encoding=\"utf-8\") as ff :\n",
        "    print(ff.read())"
      ],
      "execution_count": null,
      "outputs": [
        {
          "output_type": "stream",
          "text": [
            "Jasmine\n",
            "Rose\n",
            "Lily\n",
            "Daisy\n",
            "Tulip\n"
          ],
          "name": "stdout"
        }
      ]
    },
    {
      "cell_type": "code",
      "metadata": {
        "id": "tp2Ymd_h-YM-",
        "outputId": "5ca22a5a-2012-4ec3-844f-d8bd041be552"
      },
      "source": [
        "with open(\"fruits_24.txt\", \"a\", encoding=\"utf-8\") as ff :\n",
        "    ff.write(\"Melon\")\n",
        "\n",
        "with open(\"fruits_24.txt\", \"r\", encoding=\"utf-8\") as ff :\n",
        "    print(ff.read())"
      ],
      "execution_count": null,
      "outputs": [
        {
          "output_type": "stream",
          "text": [
            "Banana\n",
            "Orange\n",
            "Apple\n",
            "Strawberry\n",
            "Cherry\n",
            "melon\n"
          ],
          "name": "stdout"
        }
      ]
    },
    {
      "cell_type": "code",
      "metadata": {
        "id": "vNPL-7ci-YM-",
        "outputId": "7cbe79a3-e7f1-4c36-a52f-247cf573438f"
      },
      "source": [
        "with open(\"fruits_24.txt\", \"r\", encoding=\"utf-8\") as ff :\n",
        "    meyveler = ff.read()\n",
        "    meyveler = meyveler.replace(\"melon\", \"Melon\")\n",
        "    \n",
        "with open(\"fruits_24.txt\", \"w\", encoding=\"utf-8\") as ff :\n",
        "    ff.write(meyveler)    \n",
        "\n",
        "with open(\"fruits_24.txt\", \"r\", encoding=\"utf-8\") as ff :\n",
        "    meyveler = ff.read()\n",
        "print(meyveler)"
      ],
      "execution_count": null,
      "outputs": [
        {
          "output_type": "stream",
          "text": [
            "Banana\n",
            "Orange\n",
            "Apple\n",
            "Strawberry\n",
            "Cherry\n",
            "Melon\n"
          ],
          "name": "stdout"
        }
      ]
    },
    {
      "cell_type": "code",
      "metadata": {
        "id": "0lAE0OdE-YM-",
        "outputId": "4dec864f-dcfb-4ef6-8b31-7da8a39baf72"
      },
      "source": [
        "pwd"
      ],
      "execution_count": null,
      "outputs": [
        {
          "output_type": "execute_result",
          "data": {
            "text/plain": [
              "'C:\\\\Users\\\\YD\\\\pythonic\\\\PythonSessions\\\\Cohort-008-PythonSessions'"
            ]
          },
          "metadata": {
            "tags": []
          },
          "execution_count": 14
        }
      ]
    },
    {
      "cell_type": "code",
      "metadata": {
        "id": "Mh__1TKd-YM-",
        "outputId": "8efbd564-a321-49de-fc7e-04cfc32da06f"
      },
      "source": [
        "with open(\"istiklal.txt\", \"r\", encoding=\"utf-8\") as ff :\n",
        "    print(ff.read())"
      ],
      "execution_count": null,
      "outputs": [
        {
          "output_type": "stream",
          "text": [
            "Korkma, sönmez bu şafaklarda yüzen al sancak;\n",
            "Sönmeden yurdumun üstünde tüten en son ocak.\n",
            "O benim milletimin yıldızıdır, parlayacak;\n",
            "O benimdir, o benim milletimindir ancak.\n",
            "Çatma, kurban olayım, çehreni ey nazlı hilal!\n",
            "Kahraman ırkıma bir gül! Ne bu şiddet, bu celal?\n",
            "Sana olmaz dökülen kanlarımız sonra helal...\n",
            "Hakkıdır, hakk'a tapan, milletimin istiklal!\n",
            "Ben ezelden beridir hür yaşadım, hür yaşarım.\n",
            "Hangi çılgın bana zincir vuracakmış? Şaşarım!\n",
            "Kükremiş sel gibiyim, bendimi çiğner, aşarım.\n",
            "Yırtarım dağları, enginlere sığmam, taşarım.\n",
            "Garbın afakını sarmışsa çelik zırhlı duvar,\n",
            "Benim iman dolu göğsüm gibi serhaddim var.\n",
            "Ulusun, korkma! Nasıl böyle bir imanı boğar,\n",
            "'Medeniyet!' dediğin tek dişi kalmış canavar?\n",
            "Arkadaş! Yurduma alçakları uğratma, sakın.\n",
            "Siper et gövdeni, dursun bu hayasızca akın.\n",
            "Doğacaktır sana va'dettigi günler hakk'ın...\n",
            "Kim bilir, belki yarın, belki yarından da yakın.\n",
            "Bastığın yerleri 'toprak!' diyerek geçme, tanı:\n",
            "Düşün altında binlerce kefensiz yatanı.\n",
            "Sen şehit oğlusun, incitme, yazıktır, atanı:\n",
            "Verme, dünyaları alsan da, bu cennet vatanı.\n",
            "Kim bu cennet vatanın uğruna olmaz ki feda?\n",
            "Şuheda fışkıracak toprağı sıksan, şuheda!\n",
            "Canı, cananı, bütün varımı alsın da hüda,\n",
            "Etmesin tek vatanımdan beni dünyada cüda.\n",
            "Ruhumun senden, ilahi, şudur ancak emeli:\n",
            "Değmesin mabedimin göğsüne namahrem eli.\n",
            "Bu ezanlar-ki şahadetleri dinin temeli,\n",
            "Ebedi yurdumun üstünde benim inlemeli.\n"
          ],
          "name": "stdout"
        }
      ]
    },
    {
      "cell_type": "code",
      "metadata": {
        "id": "h3qDInyO-YM_"
      },
      "source": [
        "with open(\"istiklal.txt\", \"r\", encoding=\"utf-8\") as ff :\n",
        "    lines = ff.readlines()"
      ],
      "execution_count": null,
      "outputs": []
    },
    {
      "cell_type": "code",
      "metadata": {
        "id": "wNJYWLJh-YM_",
        "outputId": "f5e7b2ad-2e93-4bd2-e72a-a0d3137aa388"
      },
      "source": [
        "lines"
      ],
      "execution_count": null,
      "outputs": [
        {
          "output_type": "execute_result",
          "data": {
            "text/plain": [
              "['Korkma, sönmez bu şafaklarda yüzen al sancak;\\n',\n",
              " 'Sönmeden yurdumun üstünde tüten en son ocak.\\n',\n",
              " 'O benim milletimin yıldızıdır, parlayacak;\\n',\n",
              " 'O benimdir, o benim milletimindir ancak.\\n',\n",
              " 'Çatma, kurban olayım, çehreni ey nazlı hilal!\\n',\n",
              " 'Kahraman ırkıma bir gül! Ne bu şiddet, bu celal?\\n',\n",
              " 'Sana olmaz dökülen kanlarımız sonra helal...\\n',\n",
              " \"Hakkıdır, hakk'a tapan, milletimin istiklal!\\n\",\n",
              " 'Ben ezelden beridir hür yaşadım, hür yaşarım.\\n',\n",
              " 'Hangi çılgın bana zincir vuracakmış? Şaşarım!\\n',\n",
              " 'Kükremiş sel gibiyim, bendimi çiğner, aşarım.\\n',\n",
              " 'Yırtarım dağları, enginlere sığmam, taşarım.\\n',\n",
              " 'Garbın afakını sarmışsa çelik zırhlı duvar,\\n',\n",
              " 'Benim iman dolu göğsüm gibi serhaddim var.\\n',\n",
              " 'Ulusun, korkma! Nasıl böyle bir imanı boğar,\\n',\n",
              " \"'Medeniyet!' dediğin tek dişi kalmış canavar?\\n\",\n",
              " 'Arkadaş! Yurduma alçakları uğratma, sakın.\\n',\n",
              " 'Siper et gövdeni, dursun bu hayasızca akın.\\n',\n",
              " \"Doğacaktır sana va'dettigi günler hakk'ın...\\n\",\n",
              " 'Kim bilir, belki yarın, belki yarından da yakın.\\n',\n",
              " \"Bastığın yerleri 'toprak!' diyerek geçme, tanı:\\n\",\n",
              " 'Düşün altında binlerce kefensiz yatanı.\\n',\n",
              " 'Sen şehit oğlusun, incitme, yazıktır, atanı:\\n',\n",
              " 'Verme, dünyaları alsan da, bu cennet vatanı.\\n',\n",
              " 'Kim bu cennet vatanın uğruna olmaz ki feda?\\n',\n",
              " 'Şuheda fışkıracak toprağı sıksan, şuheda!\\n',\n",
              " 'Canı, cananı, bütün varımı alsın da hüda,\\n',\n",
              " 'Etmesin tek vatanımdan beni dünyada cüda.\\n',\n",
              " 'Ruhumun senden, ilahi, şudur ancak emeli:\\n',\n",
              " 'Değmesin mabedimin göğsüne namahrem eli.\\n',\n",
              " 'Bu ezanlar-ki şahadetleri dinin temeli,\\n',\n",
              " 'Ebedi yurdumun üstünde benim inlemeli.']"
            ]
          },
          "metadata": {
            "tags": []
          },
          "execution_count": 17
        }
      ]
    },
    {
      "cell_type": "code",
      "metadata": {
        "id": "l9Sos9N5-YM_",
        "outputId": "698592e3-bdbc-4c23-9302-7e4219ec82b6"
      },
      "source": [
        "counter = 0\n",
        "with open(\"istiklal.txt\", \"w\", encoding=\"utf-8\") as f:\n",
        "    \n",
        "    for i in lines :\n",
        "        counter += 1\n",
        "        if counter % 4 == 0 :\n",
        "            f.write(i + \"\\n\")\n",
        "        else :\n",
        "            f.write(i)\n",
        "            \n",
        "with open(\"istiklal.txt\", \"r\", encoding = \"utf-8\") as f:\n",
        "    print(f.read())"
      ],
      "execution_count": null,
      "outputs": [
        {
          "output_type": "stream",
          "text": [
            "Korkma, sönmez bu şafaklarda yüzen al sancak;\n",
            "Sönmeden yurdumun üstünde tüten en son ocak.\n",
            "O benim milletimin yıldızıdır, parlayacak;\n",
            "O benimdir, o benim milletimindir ancak.\n",
            "\n",
            "Çatma, kurban olayım, çehreni ey nazlı hilal!\n",
            "Kahraman ırkıma bir gül! Ne bu şiddet, bu celal?\n",
            "Sana olmaz dökülen kanlarımız sonra helal...\n",
            "Hakkıdır, hakk'a tapan, milletimin istiklal!\n",
            "\n",
            "Ben ezelden beridir hür yaşadım, hür yaşarım.\n",
            "Hangi çılgın bana zincir vuracakmış? Şaşarım!\n",
            "Kükremiş sel gibiyim, bendimi çiğner, aşarım.\n",
            "Yırtarım dağları, enginlere sığmam, taşarım.\n",
            "\n",
            "Garbın afakını sarmışsa çelik zırhlı duvar,\n",
            "Benim iman dolu göğsüm gibi serhaddim var.\n",
            "Ulusun, korkma! Nasıl böyle bir imanı boğar,\n",
            "'Medeniyet!' dediğin tek dişi kalmış canavar?\n",
            "\n",
            "Arkadaş! Yurduma alçakları uğratma, sakın.\n",
            "Siper et gövdeni, dursun bu hayasızca akın.\n",
            "Doğacaktır sana va'dettigi günler hakk'ın...\n",
            "Kim bilir, belki yarın, belki yarından da yakın.\n",
            "\n",
            "Bastığın yerleri 'toprak!' diyerek geçme, tanı:\n",
            "Düşün altında binlerce kefensiz yatanı.\n",
            "Sen şehit oğlusun, incitme, yazıktır, atanı:\n",
            "Verme, dünyaları alsan da, bu cennet vatanı.\n",
            "\n",
            "Kim bu cennet vatanın uğruna olmaz ki feda?\n",
            "Şuheda fışkıracak toprağı sıksan, şuheda!\n",
            "Canı, cananı, bütün varımı alsın da hüda,\n",
            "Etmesin tek vatanımdan beni dünyada cüda.\n",
            "\n",
            "Ruhumun senden, ilahi, şudur ancak emeli:\n",
            "Değmesin mabedimin göğsüne namahrem eli.\n",
            "Bu ezanlar-ki şahadetleri dinin temeli,\n",
            "Ebedi yurdumun üstünde benim inlemeli.\n",
            "\n"
          ],
          "name": "stdout"
        }
      ]
    },
    {
      "cell_type": "code",
      "metadata": {
        "id": "NtSqnSk7-YM_",
        "outputId": "4f62336b-9743-4db0-b654-a6dd74933162"
      },
      "source": [
        "with open(\"istiklal.txt\", \"r\", encoding = \"utf-8\") as f:\n",
        "    new_lines = f. readlines()\n",
        "new_lines"
      ],
      "execution_count": null,
      "outputs": [
        {
          "output_type": "execute_result",
          "data": {
            "text/plain": [
              "['Korkma, sönmez bu şafaklarda yüzen al sancak;\\n',\n",
              " 'Sönmeden yurdumun üstünde tüten en son ocak.\\n',\n",
              " 'O benim milletimin yıldızıdır, parlayacak;\\n',\n",
              " 'O benimdir, o benim milletimindir ancak.\\n',\n",
              " '\\n',\n",
              " 'Çatma, kurban olayım, çehreni ey nazlı hilal!\\n',\n",
              " 'Kahraman ırkıma bir gül! Ne bu şiddet, bu celal?\\n',\n",
              " 'Sana olmaz dökülen kanlarımız sonra helal...\\n',\n",
              " \"Hakkıdır, hakk'a tapan, milletimin istiklal!\\n\",\n",
              " '\\n',\n",
              " 'Ben ezelden beridir hür yaşadım, hür yaşarım.\\n',\n",
              " 'Hangi çılgın bana zincir vuracakmış? Şaşarım!\\n',\n",
              " 'Kükremiş sel gibiyim, bendimi çiğner, aşarım.\\n',\n",
              " 'Yırtarım dağları, enginlere sığmam, taşarım.\\n',\n",
              " '\\n',\n",
              " 'Garbın afakını sarmışsa çelik zırhlı duvar,\\n',\n",
              " 'Benim iman dolu göğsüm gibi serhaddim var.\\n',\n",
              " 'Ulusun, korkma! Nasıl böyle bir imanı boğar,\\n',\n",
              " \"'Medeniyet!' dediğin tek dişi kalmış canavar?\\n\",\n",
              " '\\n',\n",
              " 'Arkadaş! Yurduma alçakları uğratma, sakın.\\n',\n",
              " 'Siper et gövdeni, dursun bu hayasızca akın.\\n',\n",
              " \"Doğacaktır sana va'dettigi günler hakk'ın...\\n\",\n",
              " 'Kim bilir, belki yarın, belki yarından da yakın.\\n',\n",
              " '\\n',\n",
              " \"Bastığın yerleri 'toprak!' diyerek geçme, tanı:\\n\",\n",
              " 'Düşün altında binlerce kefensiz yatanı.\\n',\n",
              " 'Sen şehit oğlusun, incitme, yazıktır, atanı:\\n',\n",
              " 'Verme, dünyaları alsan da, bu cennet vatanı.\\n',\n",
              " '\\n',\n",
              " 'Kim bu cennet vatanın uğruna olmaz ki feda?\\n',\n",
              " 'Şuheda fışkıracak toprağı sıksan, şuheda!\\n',\n",
              " 'Canı, cananı, bütün varımı alsın da hüda,\\n',\n",
              " 'Etmesin tek vatanımdan beni dünyada cüda.\\n',\n",
              " '\\n',\n",
              " 'Ruhumun senden, ilahi, şudur ancak emeli:\\n',\n",
              " 'Değmesin mabedimin göğsüne namahrem eli.\\n',\n",
              " 'Bu ezanlar-ki şahadetleri dinin temeli,\\n',\n",
              " 'Ebedi yurdumun üstünde benim inlemeli.\\n']"
            ]
          },
          "metadata": {
            "tags": []
          },
          "execution_count": 19
        }
      ]
    },
    {
      "cell_type": "code",
      "metadata": {
        "id": "Uc3dLiNY-YM_",
        "outputId": "4ce036c8-a9f2-4333-dfba-3643f4b74224"
      },
      "source": [
        "with open(\"istiklal.txt\", \"a\", encoding=\"utf-8\") as f:\n",
        "    f.write(\"\\n\")\n",
        "    \n",
        "    for i in new_lines :\n",
        "        if i == \"\\n\" :\n",
        "            i.replace(\"\\n\", \"\")  #pass\n",
        "        else :\n",
        "            f.write(i)\n",
        "with open(\"istiklal.txt\", \"r\", encoding = \"utf-8\") as f:\n",
        "    print(f.read()) "
      ],
      "execution_count": null,
      "outputs": [
        {
          "output_type": "stream",
          "text": [
            "Korkma, sönmez bu şafaklarda yüzen al sancak;\n",
            "Sönmeden yurdumun üstünde tüten en son ocak.\n",
            "O benim milletimin yıldızıdır, parlayacak;\n",
            "O benimdir, o benim milletimindir ancak.\n",
            "\n",
            "Çatma, kurban olayım, çehreni ey nazlı hilal!\n",
            "Kahraman ırkıma bir gül! Ne bu şiddet, bu celal?\n",
            "Sana olmaz dökülen kanlarımız sonra helal...\n",
            "Hakkıdır, hakk'a tapan, milletimin istiklal!\n",
            "\n",
            "Ben ezelden beridir hür yaşadım, hür yaşarım.\n",
            "Hangi çılgın bana zincir vuracakmış? Şaşarım!\n",
            "Kükremiş sel gibiyim, bendimi çiğner, aşarım.\n",
            "Yırtarım dağları, enginlere sığmam, taşarım.\n",
            "\n",
            "Garbın afakını sarmışsa çelik zırhlı duvar,\n",
            "Benim iman dolu göğsüm gibi serhaddim var.\n",
            "Ulusun, korkma! Nasıl böyle bir imanı boğar,\n",
            "'Medeniyet!' dediğin tek dişi kalmış canavar?\n",
            "\n",
            "Arkadaş! Yurduma alçakları uğratma, sakın.\n",
            "Siper et gövdeni, dursun bu hayasızca akın.\n",
            "Doğacaktır sana va'dettigi günler hakk'ın...\n",
            "Kim bilir, belki yarın, belki yarından da yakın.\n",
            "\n",
            "Bastığın yerleri 'toprak!' diyerek geçme, tanı:\n",
            "Düşün altında binlerce kefensiz yatanı.\n",
            "Sen şehit oğlusun, incitme, yazıktır, atanı:\n",
            "Verme, dünyaları alsan da, bu cennet vatanı.\n",
            "\n",
            "Kim bu cennet vatanın uğruna olmaz ki feda?\n",
            "Şuheda fışkıracak toprağı sıksan, şuheda!\n",
            "Canı, cananı, bütün varımı alsın da hüda,\n",
            "Etmesin tek vatanımdan beni dünyada cüda.\n",
            "\n",
            "Ruhumun senden, ilahi, şudur ancak emeli:\n",
            "Değmesin mabedimin göğsüne namahrem eli.\n",
            "Bu ezanlar-ki şahadetleri dinin temeli,\n",
            "Ebedi yurdumun üstünde benim inlemeli.\n",
            "\n",
            "Korkma, sönmez bu şafaklarda yüzen al sancak;\n",
            "Sönmeden yurdumun üstünde tüten en son ocak.\n",
            "O benim milletimin yıldızıdır, parlayacak;\n",
            "O benimdir, o benim milletimindir ancak.\n",
            "Çatma, kurban olayım, çehreni ey nazlı hilal!\n",
            "Kahraman ırkıma bir gül! Ne bu şiddet, bu celal?\n",
            "Sana olmaz dökülen kanlarımız sonra helal...\n",
            "Hakkıdır, hakk'a tapan, milletimin istiklal!\n",
            "Ben ezelden beridir hür yaşadım, hür yaşarım.\n",
            "Hangi çılgın bana zincir vuracakmış? Şaşarım!\n",
            "Kükremiş sel gibiyim, bendimi çiğner, aşarım.\n",
            "Yırtarım dağları, enginlere sığmam, taşarım.\n",
            "Garbın afakını sarmışsa çelik zırhlı duvar,\n",
            "Benim iman dolu göğsüm gibi serhaddim var.\n",
            "Ulusun, korkma! Nasıl böyle bir imanı boğar,\n",
            "'Medeniyet!' dediğin tek dişi kalmış canavar?\n",
            "Arkadaş! Yurduma alçakları uğratma, sakın.\n",
            "Siper et gövdeni, dursun bu hayasızca akın.\n",
            "Doğacaktır sana va'dettigi günler hakk'ın...\n",
            "Kim bilir, belki yarın, belki yarından da yakın.\n",
            "Bastığın yerleri 'toprak!' diyerek geçme, tanı:\n",
            "Düşün altında binlerce kefensiz yatanı.\n",
            "Sen şehit oğlusun, incitme, yazıktır, atanı:\n",
            "Verme, dünyaları alsan da, bu cennet vatanı.\n",
            "Kim bu cennet vatanın uğruna olmaz ki feda?\n",
            "Şuheda fışkıracak toprağı sıksan, şuheda!\n",
            "Canı, cananı, bütün varımı alsın da hüda,\n",
            "Etmesin tek vatanımdan beni dünyada cüda.\n",
            "Ruhumun senden, ilahi, şudur ancak emeli:\n",
            "Değmesin mabedimin göğsüne namahrem eli.\n",
            "Bu ezanlar-ki şahadetleri dinin temeli,\n",
            "Ebedi yurdumun üstünde benim inlemeli.\n",
            "\n"
          ],
          "name": "stdout"
        }
      ]
    },
    {
      "cell_type": "markdown",
      "metadata": {
        "id": "o8P0zwUP-YM_"
      },
      "source": [
        "<img src=\"data:image/jpeg;base64,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\" class=\"img-fluid\" alt=\"CLRWY\" width=\"400\" height=\"200\">"
      ]
    },
    {
      "cell_type": "markdown",
      "metadata": {
        "id": "7DmaukzR-YND"
      },
      "source": [
        "# Let's get our hands dirty!.."
      ]
    },
    {
      "cell_type": "code",
      "metadata": {
        "id": "arfzIX-s-YNE",
        "outputId": "a87c9ab1-116c-4171-e46b-f33f9d43193e"
      },
      "source": [
        "word = {1 : \"1\", 2 : \"2\"}\n",
        "\n",
        "keys = word.keys()\n",
        "keys"
      ],
      "execution_count": null,
      "outputs": [
        {
          "output_type": "execute_result",
          "data": {
            "text/plain": [
              "dict_keys([1, 2])"
            ]
          },
          "metadata": {
            "tags": []
          },
          "execution_count": 21
        }
      ]
    },
    {
      "cell_type": "code",
      "metadata": {
        "id": "HLQGN-XN-YNE"
      },
      "source": [
        "word_1 = {}"
      ],
      "execution_count": null,
      "outputs": []
    },
    {
      "cell_type": "code",
      "metadata": {
        "id": "ZQ3gxAgd-YNE",
        "outputId": "e00fb5ab-6236-4d7f-b004-58be48d71cdd"
      },
      "source": [
        "word_1[3] = 1\n",
        "word_1"
      ],
      "execution_count": null,
      "outputs": [
        {
          "output_type": "execute_result",
          "data": {
            "text/plain": [
              "{3: 1}"
            ]
          },
          "metadata": {
            "tags": []
          },
          "execution_count": 23
        }
      ]
    },
    {
      "cell_type": "code",
      "metadata": {
        "id": "brwtblP0-YNE",
        "outputId": "1bc58212-a600-4f0d-ad01-edc332552b18"
      },
      "source": [
        "word_1[1] = 1\n",
        "word_1"
      ],
      "execution_count": null,
      "outputs": [
        {
          "output_type": "execute_result",
          "data": {
            "text/plain": [
              "{3: 1, 1: 1}"
            ]
          },
          "metadata": {
            "tags": []
          },
          "execution_count": 24
        }
      ]
    },
    {
      "cell_type": "code",
      "metadata": {
        "id": "w2segLaO-YNE",
        "outputId": "d1aa75c0-d7dd-4232-90d5-086ed732d4bc"
      },
      "source": [
        "word_1[3] += 1  # word_1[3] = word_1[3] + 1\n",
        "word_1[3]"
      ],
      "execution_count": null,
      "outputs": [
        {
          "output_type": "execute_result",
          "data": {
            "text/plain": [
              "2"
            ]
          },
          "metadata": {
            "tags": []
          },
          "execution_count": 25
        }
      ]
    },
    {
      "cell_type": "code",
      "metadata": {
        "id": "5iAAmFUY-YNE",
        "outputId": "83f9c5d1-bf6e-4a38-a16a-799e6a6bfc85"
      },
      "source": [
        "word_1"
      ],
      "execution_count": null,
      "outputs": [
        {
          "output_type": "execute_result",
          "data": {
            "text/plain": [
              "{3: 2, 1: 1}"
            ]
          },
          "metadata": {
            "tags": []
          },
          "execution_count": 26
        }
      ]
    },
    {
      "cell_type": "code",
      "metadata": {
        "id": "GDFZCu-b-YNE",
        "outputId": "23f6eff2-5c6c-4c58-f49e-45beb3934dd9"
      },
      "source": [
        "word_1[3] += 1  # word_1[3] = word_1[3] + 1\n",
        "word_1"
      ],
      "execution_count": null,
      "outputs": [
        {
          "output_type": "execute_result",
          "data": {
            "text/plain": [
              "{3: 3, 1: 1}"
            ]
          },
          "metadata": {
            "tags": []
          },
          "execution_count": 27
        }
      ]
    },
    {
      "cell_type": "code",
      "metadata": {
        "id": "c3CeJLEe-YNF",
        "outputId": "f43842ca-4cf5-4705-d16b-990a05063459"
      },
      "source": [
        "string = \"bir berber, bir'e berber.\"\n",
        "\n",
        "word_dict = {}\n",
        "\n",
        "for n in string :\n",
        "    keys = word_dict.keys()\n",
        "    if n in keys :\n",
        "        word_dict[n] += 1\n",
        "    else :\n",
        "        word_dict[n] = 1\n",
        "        \n",
        "print(word_dict)"
      ],
      "execution_count": null,
      "outputs": [
        {
          "output_type": "stream",
          "text": [
            "{'b': 6, 'i': 2, 'r': 6, ' ': 3, 'e': 5, ',': 1, \"'\": 1, '.': 1}\n"
          ],
          "name": "stdout"
        }
      ]
    },
    {
      "cell_type": "code",
      "metadata": {
        "id": "Mp99IfBW-YNF"
      },
      "source": [
        "veri = [\"a\", \"b\", True, (False, 1), {\"1\" : 2}, [1,2], {\"2\" : \"two\"}, {2, \"3\"}, \"c\", 23, 0]"
      ],
      "execution_count": null,
      "outputs": []
    },
    {
      "cell_type": "code",
      "metadata": {
        "id": "f61UDIlp-YNF"
      },
      "source": [
        "{\"int\" : 5, \"str\" : 4, \"bool\" : 2, \"list\" : 2, \"tuple\" : 1, \"dict\" : 2, \"set\" : 3}"
      ],
      "execution_count": null,
      "outputs": []
    },
    {
      "cell_type": "code",
      "metadata": {
        "id": "TdhfsiyE-YNF"
      },
      "source": [
        "tipler = [\"int\", \"str\", \"bool\", \"list\", \"tuple\", \"dict\", \"set\"]"
      ],
      "execution_count": null,
      "outputs": []
    },
    {
      "cell_type": "code",
      "metadata": {
        "id": "xkm0ty0U-YNF",
        "outputId": "962df264-c93f-4eff-a2a5-132789978eca"
      },
      "source": [
        "{}.fromkeys(tipler, 0)"
      ],
      "execution_count": null,
      "outputs": [
        {
          "output_type": "execute_result",
          "data": {
            "text/plain": [
              "{'int': 0, 'str': 0, 'bool': 0, 'list': 0, 'tuple': 0, 'dict': 0, 'set': 0}"
            ]
          },
          "metadata": {
            "tags": []
          },
          "execution_count": 31
        }
      ]
    },
    {
      "cell_type": "code",
      "metadata": {
        "id": "qm6FUkp4-YNF"
      },
      "source": [
        "toplam = {}.fromkeys(tipler, 0)"
      ],
      "execution_count": null,
      "outputs": []
    },
    {
      "cell_type": "code",
      "metadata": {
        "id": "9eqShs8L-YNF"
      },
      "source": [
        "for i in range(len(veri)) :\n",
        "    if type(veri[i]) == int: toplam[\"int\"] += 1\n",
        "    elif type(veri[i]) == str: toplam[\"str\"] += 1\n",
        "    elif type(veri[i]) == bool: toplam[\"bool\"] += 1\n",
        "    elif type(veri[i]) == list: toplam[\"list\"] += 1\n",
        "    elif type(veri[i]) == tuple: toplam[\"tuple\"] += 1\n",
        "    elif type(veri[i]) == dict: toplam[\"dict\"] += 1\n",
        "    elif type(veri[i]) == set: toplam[\"set\"] += 1"
      ],
      "execution_count": null,
      "outputs": []
    },
    {
      "cell_type": "code",
      "metadata": {
        "id": "3H0JcOBH-YNF",
        "outputId": "b7ff8283-f6c0-40ac-bc28-36f9570840bc"
      },
      "source": [
        "toplam"
      ],
      "execution_count": null,
      "outputs": [
        {
          "output_type": "execute_result",
          "data": {
            "text/plain": [
              "{'int': 2, 'str': 3, 'bool': 1, 'list': 1, 'tuple': 1, 'dict': 2, 'set': 1}"
            ]
          },
          "metadata": {
            "tags": []
          },
          "execution_count": 38
        }
      ]
    },
    {
      "cell_type": "code",
      "metadata": {
        "id": "oWRFVYtD-YNF",
        "outputId": "a303d8db-2d69-4e33-9ffb-d3df59b6d74d"
      },
      "source": [
        "len(veri)"
      ],
      "execution_count": null,
      "outputs": [
        {
          "output_type": "execute_result",
          "data": {
            "text/plain": [
              "11"
            ]
          },
          "metadata": {
            "tags": []
          },
          "execution_count": 33
        }
      ]
    },
    {
      "cell_type": "code",
      "metadata": {
        "id": "rACPiHmA-YNF"
      },
      "source": [
        "for i in range(len(veri)) :\n",
        "    if type(veri[i]) == type(1): toplam[\"int\"] += 1\n",
        "    elif type(veri[i]) == type(\"string\"): toplam[\"str\"] += 1\n",
        "    elif type(veri[i]) == type(False): toplam[\"bool\"] += 1\n",
        "    elif type(veri[i]) == type([]): toplam[\"list\"] += 1\n",
        "    elif type(veri[i]) == type(()): toplam[\"tuple\"] += 1\n",
        "    elif type(veri[i]) == type({}): toplam[\"dict\"] += 1\n",
        "    elif type(veri[i]) == type({7}): toplam[\"set\"] += 1"
      ],
      "execution_count": null,
      "outputs": []
    },
    {
      "cell_type": "code",
      "metadata": {
        "id": "KxXYgoGN-YNF",
        "outputId": "c4760df0-1090-4799-abb2-273be52af48a"
      },
      "source": [
        "pwd"
      ],
      "execution_count": null,
      "outputs": [
        {
          "output_type": "execute_result",
          "data": {
            "text/plain": [
              "'C:\\\\Users\\\\YD\\\\pythonic\\\\PythonSessions\\\\Cohort-008-PythonSessions'"
            ]
          },
          "metadata": {
            "tags": []
          },
          "execution_count": 39
        }
      ]
    },
    {
      "cell_type": "code",
      "metadata": {
        "id": "70Bpyb-O-YNF"
      },
      "source": [
        "import os"
      ],
      "execution_count": null,
      "outputs": []
    },
    {
      "cell_type": "code",
      "metadata": {
        "id": "QkpsidyD-YNG",
        "outputId": "abae665d-0872-48e2-a3d9-dfece93c2b9d"
      },
      "source": [
        "os.listdir(\"C:\\\\Users\\\\YD\\\\pythonic\\\\\")"
      ],
      "execution_count": null,
      "outputs": [
        {
          "output_type": "execute_result",
          "data": {
            "text/plain": [
              "['.ipynb_checkpoints',\n",
              " '0.0.7',\n",
              " '01-Introduction to Pandas.ipynb',\n",
              " '03-Session - 2 Part - 2 (Numpy Operations).ipynb',\n",
              " '07-Operations.ipynb',\n",
              " '07July2020-Python.Session-12.ipynb',\n",
              " '11July2020-Python.Session-14.ipynb',\n",
              " '14July2020-Python.Session-16(Teacher).ipynb',\n",
              " '14July2020-Python.Session-16.ipynb',\n",
              " '16July2020-Python.Session-17(Teacher).ipynb',\n",
              " '16July2020-Python.Session-17.ipynb',\n",
              " '18July2020-Python.Session-18.ipynb',\n",
              " '19July2020-Python.Session-19(Teacher).ipynb',\n",
              " '19July2020-Python.Session-19.ipynb',\n",
              " '21July2020-Python.Session-20(Teacher).ipynb',\n",
              " '21July2020-Python.Session-20.ipynb',\n",
              " '22June2020-Python-Lab-Session-1 (Student).ipynb',\n",
              " '22June2020-Python-Lab-Session-1 (Teacher).ipynb',\n",
              " '23July2020-Python.Session-21(Teacher).ipynb',\n",
              " '23July2020-Python.Session-21.ipynb',\n",
              " '25July2020-Python.Session-22(Teacher).ipynb',\n",
              " '25July2020-Python.Session-22.ipynb',\n",
              " '26July2020-Python.Session-23(Teacher).ipynb',\n",
              " '26July2020-Python.Session-23.ipynb',\n",
              " '27Mart2020-(Python)Türkçe-Lab-Session.ipynb',\n",
              " '28July2020-Python.Session-25(Teacher).ipynb',\n",
              " '28July2020-Python.Session-25.ipynb',\n",
              " 'azure-aws',\n",
              " 'benim.py',\n",
              " 'Churn_Project',\n",
              " 'Common Project-20200722T114129Z-001.zip',\n",
              " 'DAProjectSamples',\n",
              " 'DataVisualizationSamples.ipynb',\n",
              " 'DAwPythonSessions',\n",
              " 'DAwPythonSessions.rar',\n",
              " 'DeepLearning',\n",
              " 'dummy.txt',\n",
              " 'FindReplaceMultipleFiles',\n",
              " 'fishes.txt',\n",
              " 'flowers.txt',\n",
              " 'ForestProject',\n",
              " 'fruits.csv',\n",
              " 'fruits.txt',\n",
              " 'fruits_dash.csv',\n",
              " 'Git.ipynb',\n",
              " 'Hands-On-1 (Python)(Student).ipynb',\n",
              " 'Hands-On-1 (Python)(Teacher).ipynb',\n",
              " 'Hands-On-2 (Python)(Student).ipynb',\n",
              " 'Hands-On-2 (Python)(Teacher).ipynb',\n",
              " 'Hands-On-3 (Python)(Student).ipynb',\n",
              " 'Hands-On-3 (Python)(Teacher).ipynb',\n",
              " 'hata.txt',\n",
              " 'hata1.txt',\n",
              " 'hurriyet_emlak',\n",
              " 'insan_siiri.txt',\n",
              " 'istiklal.txt',\n",
              " 'keremcik',\n",
              " 'LabSession-27-Mar-2020.ipynb',\n",
              " 'Lectures_Python.ipynb',\n",
              " 'List Comprehension_teacher.ipynb',\n",
              " 'List_Comprehension.ipynb',\n",
              " 'MobileProjectSample',\n",
              " 'NER_CONLL_JSON.ipynb',\n",
              " 'NER_Tr_CONLL.ipynb',\n",
              " 'NLP_Works',\n",
              " 'OOP_Sessions',\n",
              " 'PoliceStopsProject',\n",
              " 'Python Türkçe Hazırlık Karışık-2.ipynb',\n",
              " 'Python Türkçe Hazırlık Karışık.ipynb',\n",
              " 'PythonSessions',\n",
              " 'PythonTurkceDersi-2(KonuAnlatımı).ipynb',\n",
              " 'PythonTürkçeHazirlikKarisik-3.ipynb',\n",
              " 'PythonTürkçeHazirlikKarisik-4.ipynb',\n",
              " 'PythonTürkçeHazirlikKarisik-6.ipynb',\n",
              " 'PythonTürkçeKonuAnlatımı-11-05-2020(Konu Anlatımı).ipynb',\n",
              " 'PythonTürkçeKonuAnlatımı-20-04-2020(Konu Anlatımı).ipynb',\n",
              " 'PythonTürkçeKonuAnlatımı-20-04-2020.ipynb',\n",
              " 'PythonTürkçeKonuAnlatımı-24-04-2020(Konu Anlatımı).ipynb',\n",
              " 'QuickTutorialVideos',\n",
              " 'requirements.txt',\n",
              " 'requirements1.txt',\n",
              " 'rumi.txt',\n",
              " 'rumi_copy.txt',\n",
              " 'Scout_Project',\n",
              " 'SeveralProjects',\n",
              " 'test.csv',\n",
              " 'traffic_conll.txt',\n",
              " 'TürkçePythonLabSession-2(Hazırlık).ipynb',\n",
              " 'Untitled1.ipynb',\n",
              " 'Untitled2.ipynb',\n",
              " 'upper_package',\n",
              " 'veri_manipulasyonu.ipynb',\n",
              " 'veri_on_isleme.ipynb',\n",
              " 'Workshop1.ipynb',\n",
              " 'wrong_format.txt',\n",
              " 'yaz.txt']"
            ]
          },
          "metadata": {
            "tags": []
          },
          "execution_count": 42
        }
      ]
    },
    {
      "cell_type": "code",
      "metadata": {
        "id": "turIMpwi-YNG",
        "outputId": "d4d83938-cd8a-4c55-92b1-4b7186b42336"
      },
      "source": [
        "os.listdir()"
      ],
      "execution_count": null,
      "outputs": [
        {
          "output_type": "execute_result",
          "data": {
            "text/plain": [
              "['.ipynb_checkpoints',\n",
              " '03_PythonSession-10-Mar-2021.ipynb',\n",
              " '04_PythonSession-13-Mar-2021.ipynb',\n",
              " '05_PythonSession-17-Mar-2021.ipynb',\n",
              " '06_PythonSession-20-Mar-2021.ipynb',\n",
              " '10_PythonSession-03-Apr-2021.ipynb',\n",
              " '11_PythonSession-07-Apr-2021.ipynb',\n",
              " '12_PythonSession-10-Apr-2021.ipynb',\n",
              " '13_PythonSession-14-Apr-2021.ipynb',\n",
              " '14_PythonSession-17-Apr-2021.ipynb',\n",
              " '15_PythonSession-21-Apr-2021.ipynb',\n",
              " '16_PythonSession-24-Apr-2021.ipynb',\n",
              " '17_PythonSession-28-Apr-2021.ipynb',\n",
              " '18_PythonSession-01-May-2021.ipynb',\n",
              " '20_PythonSessions-08-May-2021.ipynb',\n",
              " '21_PythonSessions-19-May-2021.ipynb',\n",
              " '22_PythonSessions-22-May-2021.ipynb',\n",
              " '23_PythonSessions-24-May-2021.ipynb',\n",
              " 'benim_ilk_dosyam.txt',\n",
              " 'flowers_24.txt',\n",
              " 'fruits.txt',\n",
              " 'fruits_24.txt',\n",
              " 'istiklal.txt',\n",
              " 'ITF-008_Hands-On-1-Python(Student)-24.03.2021.ipynb',\n",
              " 'ITF-008_Hands-On-1-Python(Teacher)-24.03.2021.ipynb',\n",
              " 'ITF-008_Hands-On-2-Python(Student)-31.03.2021.ipynb',\n",
              " 'WorkShops']"
            ]
          },
          "metadata": {
            "tags": []
          },
          "execution_count": 45
        }
      ]
    },
    {
      "cell_type": "code",
      "metadata": {
        "id": "sS9gLQnl-YNG"
      },
      "source": [
        "import glob"
      ],
      "execution_count": null,
      "outputs": []
    },
    {
      "cell_type": "code",
      "metadata": {
        "id": "Yb3Y-z3J-YNG",
        "outputId": "3afc4428-e5e2-432a-8fd9-f9ee7acc471c"
      },
      "source": [
        "for file in glob.glob(\"*.txt\") :\n",
        "    print(file)"
      ],
      "execution_count": null,
      "outputs": [
        {
          "output_type": "stream",
          "text": [
            "benim_ilk_dosyam.txt\n",
            "flowers_24.txt\n",
            "fruits.txt\n",
            "fruits_24.txt\n",
            "istiklal.txt\n"
          ],
          "name": "stdout"
        }
      ]
    },
    {
      "cell_type": "code",
      "metadata": {
        "id": "k1PuZZk9-YNG"
      },
      "source": [
        "import shutil"
      ],
      "execution_count": null,
      "outputs": []
    },
    {
      "cell_type": "code",
      "metadata": {
        "id": "NhrnyeE9-YNG",
        "outputId": "1da889df-9b39-417a-d606-4db4da705bbe"
      },
      "source": [
        "shutil.copy(\"fruits_24.txt\", \"../fruits_24_copy.txt\")"
      ],
      "execution_count": null,
      "outputs": [
        {
          "output_type": "execute_result",
          "data": {
            "text/plain": [
              "'../fruits_24_copy.txt'"
            ]
          },
          "metadata": {
            "tags": []
          },
          "execution_count": 47
        }
      ]
    },
    {
      "cell_type": "code",
      "metadata": {
        "id": "NLC-pG2C-YNG"
      },
      "source": [
        "def my_factorial(n) :\n",
        "    if n == 0 : return 1\n",
        "    \n",
        "    else :\n",
        "        return n * my_factorial(n-1)"
      ],
      "execution_count": null,
      "outputs": []
    },
    {
      "cell_type": "code",
      "metadata": {
        "id": "G9XcMZHh-YNG",
        "outputId": "99177480-18f6-4b3b-904f-665157f6c0af"
      },
      "source": [
        "my_factorial(3)"
      ],
      "execution_count": null,
      "outputs": [
        {
          "output_type": "execute_result",
          "data": {
            "text/plain": [
              "6"
            ]
          },
          "metadata": {
            "tags": []
          },
          "execution_count": 49
        }
      ]
    },
    {
      "cell_type": "code",
      "metadata": {
        "id": "9csPPlLR-YNG"
      },
      "source": [
        ""
      ],
      "execution_count": null,
      "outputs": []
    },
    {
      "cell_type": "code",
      "metadata": {
        "id": "35t_Monk-YNG"
      },
      "source": [
        ""
      ],
      "execution_count": null,
      "outputs": []
    }
  ]
}