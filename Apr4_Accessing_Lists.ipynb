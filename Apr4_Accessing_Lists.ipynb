{
  "nbformat": 4,
  "nbformat_minor": 0,
  "metadata": {
    "colab": {
      "name": "Apr4_Accessing_Lists.ipynb",
      "provenance": [],
      "authorship_tag": "ABX9TyOyOUbW3cQYY4PK9MHKElhV",
      "include_colab_link": true
    },
    "kernelspec": {
      "name": "python3",
      "display_name": "Python 3"
    },
    "language_info": {
      "name": "python"
    }
  },
  "cells": [
    {
      "cell_type": "markdown",
      "metadata": {
        "id": "view-in-github",
        "colab_type": "text"
      },
      "source": [
        "<a href=\"https://colab.research.google.com/github/fatihtepe/python_ground/blob/main/Apr4_Accessing_Lists.ipynb\" target=\"_parent\"><img src=\"https://colab.research.google.com/assets/colab-badge.svg\" alt=\"Open In Colab\"/></a>"
      ]
    },
    {
      "cell_type": "code",
      "metadata": {
        "colab": {
          "base_uri": "https://localhost:8080/"
        },
        "id": "mEbCEPfvrN2V",
        "outputId": "d85f8485-8333-482c-d11f-48ccaf23d364"
      },
      "source": [
        "new = ['h', 'a', 1, ['p'], True]\n",
        "new[4]\n",
        "print(new[4])"
      ],
      "execution_count": 4,
      "outputs": [
        {
          "output_type": "stream",
          "text": [
            "True\n"
          ],
          "name": "stdout"
        }
      ]
    },
    {
      "cell_type": "code",
      "metadata": {
        "colab": {
          "base_uri": "https://localhost:8080/"
        },
        "id": "bHWFu-3JuA-s",
        "outputId": "ab86bc5d-475e-4585-eeb7-364fb80c206c"
      },
      "source": [
        "cities = [['New York', 'London', 'Istanbul', 'Seoul', 'Sydney']]\n",
        "\n",
        "print(len(cities))\n",
        "print(cities[0][1])\n",
        "print(cities[0][3][1])\n",
        "print(cities[::-1])\n",
        "print(cities[0][::-1])\n",
        "print(len([['New York', 'London', 'Istanbul', 'Seoul', 'Sydney']][0]))"
      ],
      "execution_count": 14,
      "outputs": [
        {
          "output_type": "stream",
          "text": [
            "1\n",
            "London\n",
            "e\n",
            "[['New York', 'London', 'Istanbul', 'Seoul', 'Sydney']]\n",
            "['Sydney', 'Seoul', 'Istanbul', 'London', 'New York']\n",
            "5\n"
          ],
          "name": "stdout"
        }
      ]
    },
    {
      "cell_type": "code",
      "metadata": {
        "colab": {
          "base_uri": "https://localhost:8080/",
          "height": 167
        },
        "id": "gf5ao7ERwykS",
        "outputId": "19204e47-7757-4227-bd1a-7a07edaa769d"
      },
      "source": [
        "print(cities[1])"
      ],
      "execution_count": 9,
      "outputs": [
        {
          "output_type": "error",
          "ename": "IndexError",
          "evalue": "ignored",
          "traceback": [
            "\u001b[0;31m---------------------------------------------------------------------------\u001b[0m",
            "\u001b[0;31mIndexError\u001b[0m                                Traceback (most recent call last)",
            "\u001b[0;32m<ipython-input-9-74b37140f4a5>\u001b[0m in \u001b[0;36m<module>\u001b[0;34m()\u001b[0m\n\u001b[0;32m----> 1\u001b[0;31m \u001b[0mprint\u001b[0m\u001b[0;34m(\u001b[0m\u001b[0mcities\u001b[0m\u001b[0;34m[\u001b[0m\u001b[0;36m1\u001b[0m\u001b[0;34m]\u001b[0m\u001b[0;34m)\u001b[0m\u001b[0;34m\u001b[0m\u001b[0;34m\u001b[0m\u001b[0m\n\u001b[0m",
            "\u001b[0;31mIndexError\u001b[0m: list index out of range"
          ]
        }
      ]
    },
    {
      "cell_type": "code",
      "metadata": {
        "colab": {
          "base_uri": "https://localhost:8080/"
        },
        "id": "NDapHKTO3xjn",
        "outputId": "8acb3a00-3e30-4afe-e0ae-b835886decd8"
      },
      "source": [
        "even_numbers = [2, 4 ,6, 8, 10, 12, 14]\n",
        "\n",
        "print(even_numbers[2:5])\n"
      ],
      "execution_count": 18,
      "outputs": [
        {
          "output_type": "stream",
          "text": [
            "[6, 8, 10]\n"
          ],
          "name": "stdout"
        }
      ]
    },
    {
      "cell_type": "code",
      "metadata": {
        "colab": {
          "base_uri": "https://localhost:8080/"
        },
        "id": "G4PNBv_G4h0f",
        "outputId": "dc8e00d3-2c42-4aa3-a7ec-ca4bb975918a"
      },
      "source": [
        "listem = list(range(1, 11, 2))\n",
        "\n",
        "print(listem)"
      ],
      "execution_count": 34,
      "outputs": [
        {
          "output_type": "stream",
          "text": [
            "[1, 3, 5, 7, 9]\n"
          ],
          "name": "stdout"
        }
      ]
    },
    {
      "cell_type": "code",
      "metadata": {
        "colab": {
          "base_uri": "https://localhost:8080/"
        },
        "id": "Whffgoqu6f8k",
        "outputId": "871cfa2b-b78a-45eb-b842-ac5f5a27ebef"
      },
      "source": [
        "listem = list(range(1,11))\n",
        "print(listem)\n",
        "\n",
        "print(listem[0::2])\n"
      ],
      "execution_count": 37,
      "outputs": [
        {
          "output_type": "stream",
          "text": [
            "[1, 2, 3, 4, 5, 6, 7, 8, 9, 10]\n",
            "[1, 3, 5, 7, 9]\n"
          ],
          "name": "stdout"
        }
      ]
    },
    {
      "cell_type": "code",
      "metadata": {
        "colab": {
          "base_uri": "https://localhost:8080/"
        },
        "id": "fWoSrX8F7j1j",
        "outputId": "4bed3ce7-053c-47ab-a34b-84ccde2fdc85"
      },
      "source": [
        "animals = ['elephant', 'bear', 'fox', 'wolf', 'rabbit', 'deer', 'giraffe']\n",
        "print(animals)\n",
        "print(animals[:])\n",
        "print(animals[:3])\n",
        "print(animals[3:])\n",
        "print(animals[::2])\n",
        "print(animals[::-1])\n",
        "print(animals[-1]) \n"
      ],
      "execution_count": 53,
      "outputs": [
        {
          "output_type": "stream",
          "text": [
            "['elephant', 'bear', 'fox', 'wolf', 'rabbit', 'deer', 'giraffe']\n",
            "['elephant', 'bear', 'fox', 'wolf', 'rabbit', 'deer', 'giraffe']\n",
            "['elephant', 'bear', 'fox']\n",
            "['wolf', 'rabbit', 'deer', 'giraffe']\n",
            "['elephant', 'fox', 'rabbit', 'giraffe']\n",
            "['giraffe', 'deer', 'rabbit', 'wolf', 'fox', 'bear', 'elephant']\n",
            "giraffe\n"
          ],
          "name": "stdout"
        }
      ]
    },
    {
      "cell_type": "code",
      "metadata": {
        "colab": {
          "base_uri": "https://localhost:8080/"
        },
        "id": "aZVO2DqQ9VyJ",
        "outputId": "a7b3b992-47e3-4711-e963-20346d0fccc0"
      },
      "source": [
        "mix_list = [1, [1, 'one', 2, 'two', 3, 'three'], 4]\n",
        "\n",
        "print(mix_list[1][1::2])\n",
        "print(mix_list[1][1:6:2])"
      ],
      "execution_count": 57,
      "outputs": [
        {
          "output_type": "stream",
          "text": [
            "['one', 'two', 'three']\n",
            "['one', 'two', 'three']\n"
          ],
          "name": "stdout"
        }
      ]
    },
    {
      "cell_type": "code",
      "metadata": {
        "colab": {
          "base_uri": "https://localhost:8080/"
        },
        "id": "uTd326ca_4He",
        "outputId": "46af42dc-536d-4ff8-f1cc-aac31170f47d"
      },
      "source": [
        "sayi = [1, 2, 3, 4, 5, 6, 7, 8]\n",
        "\n",
        "print(sayi[1:5][1:3][::][:1][0])\n"
      ],
      "execution_count": 64,
      "outputs": [
        {
          "output_type": "stream",
          "text": [
            "3\n"
          ],
          "name": "stdout"
        }
      ]
    },
    {
      "cell_type": "code",
      "metadata": {
        "colab": {
          "base_uri": "https://localhost:8080/"
        },
        "id": "YuNpCa-zI9DW",
        "outputId": "e8820951-4775-41ee-a35f-4abed2f1a155"
      },
      "source": [
        "sehir = 'Istanbul'\n",
        "sehirlist= list(sehir)\n",
        "print(sehirlist)\n",
        "\n",
        "sehirlist = ['I', 's', 't', 'a', 'n', 'b', 'u', 'l']\n",
        "\n",
        "print(sehirlist[7])\n",
        "print(sehirlist[-1])\n",
        "print(sehirlist[2:-3])\n",
        "print(sehirlist[-6:6])\n"
      ],
      "execution_count": 71,
      "outputs": [
        {
          "output_type": "stream",
          "text": [
            "['I', 's', 't', 'a', 'n', 'b', 'u', 'l']\n",
            "l\n",
            "l\n",
            "['t', 'a', 'n']\n",
            "['t', 'a', 'n', 'b']\n",
            "['t', 'a', 'n']\n"
          ],
          "name": "stdout"
        }
      ]
    },
    {
      "cell_type": "code",
      "metadata": {
        "colab": {
          "base_uri": "https://localhost:8080/"
        },
        "id": "G7IaYK0oK946",
        "outputId": "b11643af-a11e-4801-bf40-a178acc2c0d7"
      },
      "source": [
        "son = sehirlist[2:-3]\n",
        "print(son)\n"
      ],
      "execution_count": 73,
      "outputs": [
        {
          "output_type": "stream",
          "text": [
            "['t', 'a', 'n']\n"
          ],
          "name": "stdout"
        }
      ]
    }
  ]
}