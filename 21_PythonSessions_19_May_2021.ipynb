{
  "nbformat": 4,
  "nbformat_minor": 0,
  "metadata": {
    "kernelspec": {
      "display_name": "Python 3",
      "language": "python",
      "name": "python3"
    },
    "language_info": {
      "codemirror_mode": {
        "name": "ipython",
        "version": 3
      },
      "file_extension": ".py",
      "mimetype": "text/x-python",
      "name": "python",
      "nbconvert_exporter": "python",
      "pygments_lexer": "ipython3",
      "version": "3.7.3"
    },
    "colab": {
      "name": "21_PythonSessions-19-May-2021.ipynb",
      "provenance": [],
      "include_colab_link": true
    }
  },
  "cells": [
    {
      "cell_type": "markdown",
      "metadata": {
        "id": "view-in-github",
        "colab_type": "text"
      },
      "source": [
        "<a href=\"https://colab.research.google.com/github/fatihtepe/learn_python/blob/main/21_PythonSessions_19_May_2021.ipynb\" target=\"_parent\"><img src=\"https://colab.research.google.com/assets/colab-badge.svg\" alt=\"Open In Colab\"/></a>"
      ]
    },
    {
      "cell_type": "markdown",
      "metadata": {
        "id": "kg_BnadbOSMh"
      },
      "source": [
        "<img src=\"https://docs.google.com/uc?id=14xeXxFrVRjvOoUYWn_GuyE-v84wVzrqr\" class=\"img-fluid\" alt=\"CLRWY\" width=\"400\" height=\"200\">"
      ]
    },
    {
      "cell_type": "markdown",
      "metadata": {
        "id": "9wUCxTAKOSMi"
      },
      "source": [
        "<h1><p style=\"text-align: center; color:darkblue\">Python In-Class, <br>19 May 2021</p><h1>"
      ]
    },
    {
      "cell_type": "code",
      "metadata": {
        "id": "yyiYRR8POSMi",
        "outputId": "05785e50-aaef-403a-cb0e-66f644054a00"
      },
      "source": [
        "pwd"
      ],
      "execution_count": null,
      "outputs": [
        {
          "output_type": "execute_result",
          "data": {
            "text/plain": [
              "'C:\\\\Users\\\\YD\\\\pythonic\\\\QuickTutorialVideos\\\\Tutorial-4'"
            ]
          },
          "metadata": {
            "tags": []
          },
          "execution_count": 1
        }
      ]
    },
    {
      "cell_type": "code",
      "metadata": {
        "id": "9ixHp7fxOSMi"
      },
      "source": [
        "from upper_package import my_package1, my_package2"
      ],
      "execution_count": null,
      "outputs": []
    },
    {
      "cell_type": "code",
      "metadata": {
        "id": "MBQXrWtHOSMj"
      },
      "source": [
        "from upper_package.my_package1 import my_module_1, my_module_2"
      ],
      "execution_count": null,
      "outputs": []
    },
    {
      "cell_type": "code",
      "metadata": {
        "id": "3H2aOagHOSMj",
        "outputId": "67a920f3-84ae-4bae-bdc8-d76376ecb34c"
      },
      "source": [
        "dir(my_package1)"
      ],
      "execution_count": null,
      "outputs": [
        {
          "output_type": "execute_result",
          "data": {
            "text/plain": [
              "['__builtins__',\n",
              " '__cached__',\n",
              " '__doc__',\n",
              " '__file__',\n",
              " '__loader__',\n",
              " '__name__',\n",
              " '__package__',\n",
              " '__path__',\n",
              " '__spec__',\n",
              " 'my_module_1',\n",
              " 'my_module_2']"
            ]
          },
          "metadata": {
            "tags": []
          },
          "execution_count": 4
        }
      ]
    },
    {
      "cell_type": "code",
      "metadata": {
        "id": "Bd9RmghqOSMj"
      },
      "source": [
        "from upper_package.my_package2 import my_module_3, my_module_4"
      ],
      "execution_count": null,
      "outputs": []
    },
    {
      "cell_type": "code",
      "metadata": {
        "id": "rD48W3lVOSMj",
        "outputId": "cad1bc54-0787-4ce9-c34b-9ac1fd31fbfa"
      },
      "source": [
        "dir(my_package2)"
      ],
      "execution_count": null,
      "outputs": [
        {
          "output_type": "execute_result",
          "data": {
            "text/plain": [
              "['__builtins__',\n",
              " '__cached__',\n",
              " '__doc__',\n",
              " '__file__',\n",
              " '__loader__',\n",
              " '__name__',\n",
              " '__package__',\n",
              " '__path__',\n",
              " '__spec__',\n",
              " 'my_module_3',\n",
              " 'my_module_4']"
            ]
          },
          "metadata": {
            "tags": []
          },
          "execution_count": 6
        }
      ]
    },
    {
      "cell_type": "code",
      "metadata": {
        "id": "o0IVETVuOSMj",
        "outputId": "e80fbff8-771c-4db4-c23b-927a060aff92"
      },
      "source": [
        "my_module_2.divide(10, 5)"
      ],
      "execution_count": null,
      "outputs": [
        {
          "output_type": "execute_result",
          "data": {
            "text/plain": [
              "2.0"
            ]
          },
          "metadata": {
            "tags": []
          },
          "execution_count": 7
        }
      ]
    },
    {
      "cell_type": "code",
      "metadata": {
        "id": "DTVwcRL6OSMj",
        "outputId": "a572151b-8c42-4706-e541-86d39a9511c6"
      },
      "source": [
        "my_module_1.addition(4,5)"
      ],
      "execution_count": null,
      "outputs": [
        {
          "output_type": "execute_result",
          "data": {
            "text/plain": [
              "9"
            ]
          },
          "metadata": {
            "tags": []
          },
          "execution_count": 8
        }
      ]
    },
    {
      "cell_type": "code",
      "metadata": {
        "id": "krIQPudEOSMj",
        "outputId": "aa8c3dbc-7e57-4b34-e930-4c48cb11c773"
      },
      "source": [
        "my_module_3.repeater(\"clarusway \", 3)"
      ],
      "execution_count": null,
      "outputs": [
        {
          "output_type": "execute_result",
          "data": {
            "text/plain": [
              "'clarusway clarusway clarusway '"
            ]
          },
          "metadata": {
            "tags": []
          },
          "execution_count": 9
        }
      ]
    },
    {
      "cell_type": "code",
      "metadata": {
        "id": "elIE-gnzOSMk",
        "outputId": "83f22102-2f15-4f9f-8ac9-fab24e6161d2"
      },
      "source": [
        "my_module_4.sqroot(25)"
      ],
      "execution_count": null,
      "outputs": [
        {
          "output_type": "execute_result",
          "data": {
            "text/plain": [
              "5.0"
            ]
          },
          "metadata": {
            "tags": []
          },
          "execution_count": 10
        }
      ]
    },
    {
      "cell_type": "code",
      "metadata": {
        "id": "9f9_ckYCOSMk",
        "outputId": "55e5a302-2e8f-4f5b-f7b0-1a6d0b5a5ed9"
      },
      "source": [
        "my_package1.__spec__"
      ],
      "execution_count": null,
      "outputs": [
        {
          "output_type": "execute_result",
          "data": {
            "text/plain": [
              "ModuleSpec(name='upper_package.my_package1', loader=<_frozen_importlib_external.SourceFileLoader object at 0x0000021658C4B438>, origin='C:\\\\Users\\\\YD\\\\pythonic\\\\QuickTutorialVideos\\\\Tutorial-4\\\\upper_package\\\\my_package1\\\\__init__.py', submodule_search_locations=['C:\\\\Users\\\\YD\\\\pythonic\\\\QuickTutorialVideos\\\\Tutorial-4\\\\upper_package\\\\my_package1'])"
            ]
          },
          "metadata": {
            "tags": []
          },
          "execution_count": 11
        }
      ]
    },
    {
      "cell_type": "code",
      "metadata": {
        "id": "6cSCDB8lOSMk"
      },
      "source": [
        "import upper_package"
      ],
      "execution_count": null,
      "outputs": []
    },
    {
      "cell_type": "code",
      "metadata": {
        "id": "D_qKrfJsOSMk",
        "outputId": "5f519aaa-8090-4f42-cade-ac3ad1c9a514"
      },
      "source": [
        "dir(upper_package)"
      ],
      "execution_count": null,
      "outputs": [
        {
          "output_type": "execute_result",
          "data": {
            "text/plain": [
              "['__builtins__',\n",
              " '__cached__',\n",
              " '__doc__',\n",
              " '__file__',\n",
              " '__loader__',\n",
              " '__name__',\n",
              " '__package__',\n",
              " '__path__',\n",
              " '__spec__',\n",
              " 'my_package1',\n",
              " 'my_package2']"
            ]
          },
          "metadata": {
            "tags": []
          },
          "execution_count": 14
        }
      ]
    },
    {
      "cell_type": "code",
      "metadata": {
        "id": "YZW3FTagOSMk"
      },
      "source": [
        "from upper_package.my_package1.my_module_2 import divide, hello"
      ],
      "execution_count": null,
      "outputs": []
    },
    {
      "cell_type": "code",
      "metadata": {
        "id": "CIuSUvcHOSMk",
        "outputId": "fedcca5d-b199-4aad-9ae9-2dd631a4df3a"
      },
      "source": [
        "hello()"
      ],
      "execution_count": null,
      "outputs": [
        {
          "output_type": "stream",
          "text": [
            "hello\n"
          ],
          "name": "stdout"
        }
      ]
    },
    {
      "cell_type": "code",
      "metadata": {
        "id": "JHW472lnOSMk",
        "outputId": "6087e845-a966-468d-8e31-4710a7d8412d"
      },
      "source": [
        "divide(22, 11)"
      ],
      "execution_count": null,
      "outputs": [
        {
          "output_type": "execute_result",
          "data": {
            "text/plain": [
              "2.0"
            ]
          },
          "metadata": {
            "tags": []
          },
          "execution_count": 17
        }
      ]
    },
    {
      "cell_type": "code",
      "metadata": {
        "id": "rVQx3uQ3OSMl"
      },
      "source": [
        "import math"
      ],
      "execution_count": null,
      "outputs": []
    },
    {
      "cell_type": "code",
      "metadata": {
        "id": "nrBY8W4zOSMl"
      },
      "source": [
        "from math import log10"
      ],
      "execution_count": null,
      "outputs": []
    },
    {
      "cell_type": "code",
      "metadata": {
        "id": "jIzVk1HwOSMl",
        "outputId": "982cd186-9b6f-4d04-8aa2-4f5eadfb2764"
      },
      "source": [
        "log10(1000)"
      ],
      "execution_count": null,
      "outputs": [
        {
          "output_type": "execute_result",
          "data": {
            "text/plain": [
              "3.0"
            ]
          },
          "metadata": {
            "tags": []
          },
          "execution_count": 20
        }
      ]
    },
    {
      "cell_type": "code",
      "metadata": {
        "id": "5qua5c2TOSMl",
        "outputId": "92355dc1-9b0b-4869-848d-f7da52f8e1a2"
      },
      "source": [
        "print(math.__doc__)"
      ],
      "execution_count": null,
      "outputs": [
        {
          "output_type": "stream",
          "text": [
            "This module is always available.  It provides access to the\n",
            "mathematical functions defined by the C standard.\n"
          ],
          "name": "stdout"
        }
      ]
    },
    {
      "cell_type": "code",
      "metadata": {
        "id": "SwC-0KP2OSMl",
        "outputId": "567b090b-0c7a-4049-85ac-5f8414d4f864"
      },
      "source": [
        "print(my_module_2.__doc__)"
      ],
      "execution_count": null,
      "outputs": [
        {
          "output_type": "stream",
          "text": [
            "\n",
            "This is module 2. Welcome!\n",
            "\n"
          ],
          "name": "stdout"
        }
      ]
    },
    {
      "cell_type": "code",
      "metadata": {
        "id": "hLWw-83rOSMl",
        "outputId": "0c6d51b5-1204-4863-f548-2e1d6e01c988"
      },
      "source": [
        "!pip list"
      ],
      "execution_count": null,
      "outputs": [
        {
          "output_type": "stream",
          "text": [
            "Package                            Version            \n",
            "---------------------------------- -------------------\n",
            "absl-py                            0.9.0              \n",
            "adal                               1.2.6              \n",
            "alabaster                          0.7.12             \n",
            "altair                             4.1.0              \n",
            "anaconda-client                    1.7.2              \n",
            "anaconda-navigator                 1.9.12             \n",
            "anaconda-project                   0.8.3              \n",
            "argh                               0.26.2             \n",
            "asn1crypto                         1.3.0              \n",
            "astor                              0.8.1              \n",
            "astroid                            2.4.0              \n",
            "astropy                            4.0.1.post1        \n",
            "atomicwrites                       1.4.0              \n",
            "attrs                              19.3.0             \n",
            "autopep8                           1.4.4              \n",
            "azure-common                       1.1.26             \n",
            "azure-graphrbac                    0.61.1             \n",
            "azure-mgmt-authorization           0.61.0             \n",
            "azure-mgmt-containerregistry       2.8.0              \n",
            "azure-mgmt-keyvault                2.2.0              \n",
            "azure-mgmt-resource                12.0.0             \n",
            "azure-mgmt-storage                 11.2.0             \n",
            "azureml-core                       1.21.0.post2       \n",
            "Babel                              2.8.0              \n",
            "backcall                           0.1.0              \n",
            "backports.functools-lru-cache      1.6.1              \n",
            "backports.shutil-get-terminal-size 1.0.0              \n",
            "backports.tempfile                 1.0                \n",
            "backports.weakref                  1.0.post1          \n",
            "base58                             2.0.1              \n",
            "bcrypt                             3.1.7              \n",
            "beautifulsoup4                     4.9.0              \n",
            "bitarray                           1.2.1              \n",
            "bkcharts                           0.2                \n",
            "bleach                             3.1.4              \n",
            "blinker                            1.4                \n",
            "blis                               0.4.1              \n",
            "bokeh                              2.0.2              \n",
            "boto                               2.49.0             \n",
            "boto3                              1.17.17            \n",
            "botocore                           1.20.17            \n",
            "Bottleneck                         1.3.2              \n",
            "cachetools                         4.1.0              \n",
            "catalogue                          1.0.0              \n",
            "certifi                            2020.4.5.1         \n",
            "cffi                               1.14.0             \n",
            "chardet                            3.0.4              \n",
            "click                              7.1.2              \n",
            "cloudpickle                        1.4.1              \n",
            "clyent                             1.2.2              \n",
            "colorama                           0.4.3              \n",
            "comtypes                           1.1.7              \n",
            "conda                              4.8.3              \n",
            "conda-build                        3.18.8             \n",
            "conda-package-handling             1.7.0              \n",
            "conda-verify                       3.4.2              \n",
            "contextlib2                        0.6.0.post1        \n",
            "cryptography                       2.9.2              \n",
            "Note: you may need to restart the kernel to use updated packages.cycler                             0.10.0             \n",
            "cymem                              2.0.3              \n",
            "Cython                             0.29.17            \n",
            "cytoolz                            0.10.1             \n",
            "dask                               2.16.0             \n",
            "decorator                          4.4.2              \n",
            "defusedxml                         0.6.0              \n",
            "diff-match-patch                   20181111           \n",
            "distributed                        2.16.0             \n",
            "docker                             4.4.1              \n",
            "docutils                           0.15.2             \n",
            "en-core-web-sm                     2.3.1              \n",
            "entrypoints                        0.3                \n",
            "enum-compat                        0.0.3              \n",
            "et-xmlfile                         1.0.1              \n",
            "Faker                              6.5.2              \n",
            "fastcache                          1.1.0              \n",
            "filelock                           3.0.12             \n",
            "flake8                             3.7.9              \n",
            "Flask                              1.1.2              \n",
            "fsspec                             0.7.1              \n",
            "future                             0.18.2             \n",
            "gast                               0.2.2              \n",
            "gevent                             1.4.0              \n",
            "gitdb                              4.0.5              \n",
            "GitPython                          3.1.12             \n",
            "glob2                              0.7                \n",
            "google-auth                        1.14.1             \n",
            "google-auth-oauthlib               0.4.1              \n",
            "google-pasta                       0.2.0              \n",
            "greenlet                           0.4.15             \n",
            "grpcio                             1.28.1             \n",
            "h5py                               2.10.0             \n",
            "HeapDict                           1.0.1              \n",
            "html5lib                           1.0.1              \n",
            "hypothesis                         5.11.0             \n",
            "idna                               2.9                \n",
            "imageio                            2.8.0              \n",
            "imagesize                          1.2.0              \n",
            "importlib-metadata                 1.5.0              \n",
            "intervaltree                       3.0.2              \n",
            "ipykernel                          5.1.4              \n",
            "ipython                            7.13.0             \n",
            "ipython-genutils                   0.2.0              \n",
            "ipywidgets                         7.5.1              \n",
            "isodate                            0.6.0              \n",
            "isort                              4.3.21             \n",
            "itsdangerous                       1.1.0              \n",
            "jdcal                              1.4.1              \n",
            "\n",
            "jedi                               0.15.2             \n",
            "jeepney                            0.6.0              \n",
            "Jinja2                             2.11.2             \n",
            "jmespath                           0.10.0             \n",
            "joblib                             0.14.1             \n",
            "json5                              0.9.4              \n",
            "jsonpickle                         1.5.1              \n",
            "jsonschema                         3.2.0              \n",
            "jupyter                            1.0.0              \n",
            "jupyter-client                     6.1.3              \n",
            "jupyter-console                    6.1.0              \n",
            "jupyter-core                       4.6.3              \n",
            "jupyter-http-over-ws               0.0.8              \n",
            "jupyterlab                         1.2.6              \n",
            "jupyterlab-server                  1.1.1              \n",
            "Keras                              2.3.1              \n",
            "Keras-Applications                 1.0.8              \n",
            "Keras-Preprocessing                1.1.0              \n",
            "keyring                            21.1.1             \n",
            "kiwisolver                         1.2.0              \n",
            "lazy-object-proxy                  1.4.3              \n",
            "libarchive-c                       2.9                \n",
            "lightgbm                           2.3.1              \n",
            "llvmlite                           0.32.1             \n",
            "locket                             0.2.0              \n",
            "lxml                               4.5.0              \n",
            "Markdown                           3.2.1              \n",
            "MarkupSafe                         1.1.1              \n",
            "matplotlib                         3.1.3              \n",
            "mccabe                             0.6.1              \n",
            "menuinst                           1.4.16             \n",
            "missingno                          0.4.2              \n",
            "mistune                            0.8.4              \n",
            "mkl-fft                            1.0.15             \n",
            "mkl-random                         1.1.0              \n",
            "mkl-service                        2.3.0              \n",
            "mock                               4.0.2              \n",
            "more-itertools                     8.2.0              \n",
            "mpmath                             1.1.0              \n",
            "msgpack                            1.0.0              \n",
            "msrest                             0.6.21             \n",
            "msrestazure                        0.6.4              \n",
            "multipledispatch                   0.6.0              \n",
            "murmurhash                         1.0.2              \n",
            "mysql-connector-python             8.0.21             \n",
            "navigator-updater                  0.2.1              \n",
            "nbconvert                          5.6.1              \n",
            "nbformat                           5.0.6              \n",
            "ndg-httpsclient                    0.5.1              \n",
            "networkx                           2.4                \n",
            "nltk                               3.4.5              \n",
            "nose                               1.3.7              \n",
            "notebook                           6.0.3              \n",
            "numba                              0.49.1             \n",
            "numexpr                            2.7.1              \n",
            "numpy                              1.18.1             \n",
            "numpydoc                           0.9.2              \n",
            "oauthlib                           3.1.0              \n",
            "olefile                            0.46               \n",
            "openpyxl                           3.0.3              \n",
            "opt-einsum                         3.2.1              \n",
            "packaging                          20.3               \n",
            "pandas                             1.0.3              \n",
            "pandocfilters                      1.4.2              \n",
            "paramiko                           2.7.1              \n",
            "parso                              0.5.2              \n",
            "partd                              1.1.0              \n",
            "path                               13.1.0             \n",
            "pathlib2                           2.3.5              \n",
            "pathspec                           0.8.1              \n",
            "pathtools                          0.1.2              \n",
            "patsy                              0.5.1              \n",
            "pep8                               1.7.1              \n",
            "pexpect                            4.8.0              \n",
            "pickleshare                        0.7.5              \n",
            "Pillow                             7.1.2              \n",
            "pip                                20.0.2             \n",
            "pkginfo                            1.5.0.1            \n",
            "plac                               1.1.3              \n",
            "pluggy                             0.13.1             \n",
            "ply                                3.11               \n",
            "preshed                            3.0.2              \n",
            "prometheus-client                  0.7.1              \n",
            "prompt-toolkit                     3.0.4              \n",
            "protobuf                           3.11.3             \n",
            "protobuf3-to-dict                  0.1.5              \n",
            "psutil                             5.7.0              \n",
            "py                                 1.8.1              \n",
            "py4j                               0.10.7             \n",
            "pyasn1                             0.4.8              \n",
            "pyasn1-modules                     0.2.8              \n",
            "pycodestyle                        2.5.0              \n",
            "pycosat                            0.6.3              \n",
            "pycparser                          2.20               \n",
            "pycrypto                           2.6.1              \n",
            "pycurl                             7.43.0.5           \n",
            "pydeck                             0.4.0b2            \n",
            "pydocstyle                         4.0.1              \n",
            "pyflakes                           2.1.1              \n",
            "Pygments                           2.6.1              \n",
            "PyJWT                              1.7.1              \n",
            "pylint                             2.5.0              \n",
            "PyNaCl                             1.3.0              \n",
            "pyodbc                             4.0.0-unsupported  \n",
            "pyOpenSSL                          19.1.0             \n",
            "pyparsing                          2.4.7              \n",
            "pyreadline                         2.1                \n",
            "pyrsistent                         0.16.0             \n",
            "PySocks                            1.7.1              \n",
            "pyspark                            2.4.4              \n",
            "pytest                             5.4.2              \n",
            "pytest-arraydiff                   0.3                \n",
            "pytest-astropy                     0.8.0              \n",
            "pytest-astropy-header              0.1.2              \n",
            "pytest-doctestplus                 0.5.0              \n",
            "pytest-openfiles                   0.5.0              \n",
            "pytest-remotedata                  0.3.2              \n",
            "python-dateutil                    2.8.1              \n",
            "python-jsonrpc-server              0.3.4              \n",
            "python-language-server             0.31.10            \n",
            "pytz                               2020.1             \n",
            "PyWavelets                         1.1.1              \n",
            "pywin32                            227                \n",
            "pywin32-ctypes                     0.2.0              \n",
            "pywinpty                           0.5.7              \n",
            "PyYAML                             5.3.1              \n",
            "pyzmq                              18.1.1             \n",
            "QDarkStyle                         2.8.1              \n",
            "QtAwesome                          0.7.0              \n",
            "qtconsole                          4.7.4              \n",
            "QtPy                               1.9.0              \n",
            "requests                           2.23.0             \n",
            "requests-oauthlib                  1.3.0              \n",
            "rope                               0.17.0             \n",
            "rsa                                4.0                \n",
            "Rtree                              0.9.4              \n",
            "ruamel-yaml                        0.15.87            \n",
            "ruamel.yaml                        0.16.12            \n",
            "ruamel.yaml.clib                   0.2.2              \n",
            "s3transfer                         0.3.3              \n",
            "sagemaker                          2.26.0             \n",
            "sagemaker-experiments              0.1.28             \n",
            "scikit-image                       0.16.2             \n",
            "scikit-learn                       0.22.1             \n",
            "scipy                              1.4.1              \n",
            "seaborn                            0.10.1             \n",
            "SecretStorage                      3.3.0              \n",
            "Send2Trash                         1.5.0              \n",
            "setuptools                         46.2.0.post20200511\n",
            "simplegeneric                      0.8.1              \n",
            "singledispatch                     3.4.0.3            \n",
            "six                                1.14.0             \n",
            "smdebug-rulesconfig                1.0.1              \n",
            "smmap                              3.0.5              \n",
            "snowballstemmer                    2.0.0              \n",
            "sortedcollections                  1.1.2              \n",
            "sortedcontainers                   2.1.0              \n",
            "soupsieve                          2.0                \n",
            "spacy                              2.3.2              \n",
            "spark-nlp                          2.6.2              \n",
            "Sphinx                             3.0.3              \n",
            "sphinxcontrib-applehelp            1.0.2              \n",
            "sphinxcontrib-devhelp              1.0.2              \n",
            "sphinxcontrib-htmlhelp             1.0.3              \n",
            "sphinxcontrib-jsmath               1.0.1              \n",
            "sphinxcontrib-qthelp               1.0.3              \n",
            "sphinxcontrib-serializinghtml      1.1.4              \n",
            "sphinxcontrib-websupport           1.2.1              \n",
            "spyder                             4.1.1              \n",
            "spyder-kernels                     1.9.0              \n",
            "SQLAlchemy                         1.3.16             \n",
            "srsly                              1.0.2              \n",
            "statsmodels                        0.11.0             \n",
            "streamlit                          0.62.0             \n",
            "sympy                              1.5.1              \n",
            "tables                             3.6.1              \n",
            "tblib                              1.6.0              \n",
            "tensorboard                        2.1.1              \n",
            "tensorflow                         2.1.0              \n",
            "tensorflow-estimator               2.1.0              \n",
            "termcolor                          1.1.0              \n",
            "terminado                          0.8.3              \n",
            "testpath                           0.4.4              \n",
            "text-unidecode                     1.3                \n",
            "thinc                              7.4.1              \n",
            "toml                               0.10.0             \n",
            "toolz                              0.10.0             \n",
            "tornado                            6.0.4              \n",
            "tqdm                               4.46.0             \n",
            "traitlets                          4.3.3              \n",
            "typed-ast                          1.4.1              \n",
            "typing-extensions                  3.7.4.1            \n",
            "tzlocal                            2.1                \n",
            "ujson                              1.35               \n",
            "unicodecsv                         0.14.1             \n",
            "urllib3                            1.25.8             \n",
            "validators                         0.15.0             \n",
            "wasabi                             0.7.1              \n",
            "watchdog                           0.10.2             \n",
            "wcwidth                            0.1.9              \n",
            "webencodings                       0.5.1              \n",
            "websocket-client                   0.57.0             \n",
            "Werkzeug                           1.0.1              \n",
            "wget                               3.2                \n",
            "wheel                              0.34.2             \n",
            "widgetsnbextension                 3.5.1              \n",
            "win-inet-pton                      1.1.0              \n",
            "win-unicode-console                0.5                \n",
            "wincertstore                       0.2                \n",
            "wrapt                              1.11.2             \n",
            "xgboost                            1.1.1              \n",
            "xlrd                               1.2.0              \n",
            "XlsxWriter                         1.2.8              \n",
            "xlwings                            0.19.0             \n",
            "xlwt                               1.3.0              \n",
            "xmltodict                          0.12.0             \n",
            "yapf                               0.28.0             \n",
            "yellowbrick                        1.1                \n",
            "zict                               2.0.0              \n",
            "zipp                               3.1.0              \n"
          ],
          "name": "stdout"
        }
      ]
    },
    {
      "cell_type": "code",
      "metadata": {
        "id": "YMZLE3DwOSMl",
        "outputId": "3807db74-bbe9-4546-f1e7-7b7e39a90cb9"
      },
      "source": [
        "pip --version"
      ],
      "execution_count": null,
      "outputs": [
        {
          "output_type": "stream",
          "text": [
            "pip 20.0.2 from C:\\Users\\YD\\Anaconda3\\lib\\site-packages\\pip (python 3.7)\n",
            "\n",
            "Note: you may need to restart the kernel to use updated packages.\n"
          ],
          "name": "stdout"
        }
      ]
    },
    {
      "cell_type": "code",
      "metadata": {
        "collapsed": true,
        "id": "6CFDf9IgOSMl",
        "outputId": "121d544d-6861-4754-db6e-e0edbb674947"
      },
      "source": [
        "pip install kaggle"
      ],
      "execution_count": null,
      "outputs": [
        {
          "output_type": "stream",
          "text": [
            "Collecting kaggle\n",
            "  Downloading kaggle-1.5.12.tar.gz (58 kB)\n",
            "Requirement already satisfied: six>=1.10 in c:\\users\\yd\\anaconda3\\lib\\site-packages (from kaggle) (1.14.0)\n",
            "Requirement already satisfied: certifi in c:\\users\\yd\\anaconda3\\lib\\site-packages (from kaggle) (2020.4.5.1)\n",
            "Requirement already satisfied: python-dateutil in c:\\users\\yd\\anaconda3\\lib\\site-packages (from kaggle) (2.8.1)\n",
            "Requirement already satisfied: requests in c:\\users\\yd\\anaconda3\\lib\\site-packages (from kaggle) (2.23.0)\n",
            "Requirement already satisfied: tqdm in c:\\users\\yd\\anaconda3\\lib\\site-packages (from kaggle) (4.46.0)\n",
            "Collecting python-slugify\n",
            "  Downloading python_slugify-5.0.2-py2.py3-none-any.whl (6.7 kB)\n",
            "Requirement already satisfied: urllib3 in c:\\users\\yd\\anaconda3\\lib\\site-packages (from kaggle) (1.25.8)\n",
            "Requirement already satisfied: idna<3,>=2.5 in c:\\users\\yd\\anaconda3\\lib\\site-packages (from requests->kaggle) (2.9)\n",
            "Requirement already satisfied: chardet<4,>=3.0.2 in c:\\users\\yd\\anaconda3\\lib\\site-packages (from requests->kaggle) (3.0.4)\n",
            "Requirement already satisfied: text-unidecode>=1.3 in c:\\users\\yd\\anaconda3\\lib\\site-packages (from python-slugify->kaggle) (1.3)\n",
            "Building wheels for collected packages: kaggle\n",
            "  Building wheel for kaggle (setup.py): started\n",
            "  Building wheel for kaggle (setup.py): finished with status 'done'\n",
            "  Created wheel for kaggle: filename=kaggle-1.5.12-py3-none-any.whl size=73058 sha256=a10f1ef227a0b16d5e4a9b6d2c414ff3d02501a4fc97f18d12723943c2dedc7d\n",
            "  Stored in directory: c:\\users\\yd\\appdata\\local\\pip\\cache\\wheels\\62\\d6\\58\\5853130f941e75b2177d281eb7e44b4a98ed46dd155f556dc5\n",
            "Successfully built kaggle\n",
            "Installing collected packages: python-slugify, kaggle\n",
            "Successfully installed kaggle-1.5.12 python-slugify-5.0.2\n",
            "Note: you may need to restart the kernel to use updated packages.\n"
          ],
          "name": "stdout"
        }
      ]
    },
    {
      "cell_type": "code",
      "metadata": {
        "id": "z0LLR8A3OSMl"
      },
      "source": [
        "import itertools"
      ],
      "execution_count": null,
      "outputs": []
    },
    {
      "cell_type": "code",
      "metadata": {
        "id": "xmJciTo1OSMm",
        "outputId": "fe0bbc68-176d-4e70-bea9-eaab6fa11b2d"
      },
      "source": [
        "pip show pep8"
      ],
      "execution_count": null,
      "outputs": [
        {
          "output_type": "stream",
          "text": [
            "Name: pep8\n",
            "Version: 1.7.1\n",
            "Summary: Python style guide checker\n",
            "Home-page: http://pep8.readthedocs.org/\n",
            "Author: Johann C. Rocholl\n",
            "Author-email: johann@rocholl.net\n",
            "License: Expat license\n",
            "Location: c:\\users\\yd\\anaconda3\\lib\\site-packages\n",
            "Requires: \n",
            "Required-by: \n",
            "Note: you may need to restart the kernel to use updated packages.\n"
          ],
          "name": "stdout"
        }
      ]
    },
    {
      "cell_type": "code",
      "metadata": {
        "id": "-2zjvQAEOSMm",
        "outputId": "09b2a6e4-6eb5-4a71-84e7-114eab6ecbe3"
      },
      "source": [
        "pip uninstall kaggle"
      ],
      "execution_count": null,
      "outputs": [
        {
          "output_type": "stream",
          "text": [
            "^C\n",
            "Note: you may need to restart the kernel to use updated packages.\n"
          ],
          "name": "stdout"
        }
      ]
    },
    {
      "cell_type": "code",
      "metadata": {
        "id": "XMc6bxVrOSMm"
      },
      "source": [
        "import math"
      ],
      "execution_count": null,
      "outputs": []
    },
    {
      "cell_type": "code",
      "metadata": {
        "id": "msx9PTXVOSMm",
        "outputId": "8fec669d-c01e-47fd-cca3-7995fbe7a1a5"
      },
      "source": [
        "print(math.sqrt(-25))"
      ],
      "execution_count": null,
      "outputs": [
        {
          "output_type": "error",
          "ename": "ValueError",
          "evalue": "math domain error",
          "traceback": [
            "\u001b[1;31m---------------------------------------------------------------------------\u001b[0m",
            "\u001b[1;31mValueError\u001b[0m                                Traceback (most recent call last)",
            "\u001b[1;32m<ipython-input-32-bd96441ed035>\u001b[0m in \u001b[0;36m<module>\u001b[1;34m\u001b[0m\n\u001b[1;32m----> 1\u001b[1;33m \u001b[0mprint\u001b[0m\u001b[1;33m(\u001b[0m\u001b[0mmath\u001b[0m\u001b[1;33m.\u001b[0m\u001b[0msqrt\u001b[0m\u001b[1;33m(\u001b[0m\u001b[1;33m-\u001b[0m\u001b[1;36m25\u001b[0m\u001b[1;33m)\u001b[0m\u001b[1;33m)\u001b[0m\u001b[1;33m\u001b[0m\u001b[1;33m\u001b[0m\u001b[0m\n\u001b[0m",
            "\u001b[1;31mValueError\u001b[0m: math domain error"
          ]
        }
      ]
    },
    {
      "cell_type": "code",
      "metadata": {
        "id": "ERdLbThCOSMm",
        "outputId": "f0052bcb-8c81-4238-f7e2-44064c773d00"
      },
      "source": [
        "math.factorial(-3)"
      ],
      "execution_count": null,
      "outputs": [
        {
          "output_type": "error",
          "ename": "ValueError",
          "evalue": "factorial() not defined for negative values",
          "traceback": [
            "\u001b[1;31m---------------------------------------------------------------------------\u001b[0m",
            "\u001b[1;31mValueError\u001b[0m                                Traceback (most recent call last)",
            "\u001b[1;32m<ipython-input-33-8f05d4f1138b>\u001b[0m in \u001b[0;36m<module>\u001b[1;34m\u001b[0m\n\u001b[1;32m----> 1\u001b[1;33m \u001b[0mmath\u001b[0m\u001b[1;33m.\u001b[0m\u001b[0mfactorial\u001b[0m\u001b[1;33m(\u001b[0m\u001b[1;33m-\u001b[0m\u001b[1;36m3\u001b[0m\u001b[1;33m)\u001b[0m\u001b[1;33m\u001b[0m\u001b[1;33m\u001b[0m\u001b[0m\n\u001b[0m",
            "\u001b[1;31mValueError\u001b[0m: factorial() not defined for negative values"
          ]
        }
      ]
    },
    {
      "cell_type": "code",
      "metadata": {
        "id": "ovEzxR3hOSMm",
        "outputId": "24171666-f77a-45be-f987-5f257751c268"
      },
      "source": [
        "printt()"
      ],
      "execution_count": null,
      "outputs": [
        {
          "output_type": "error",
          "ename": "NameError",
          "evalue": "name 'printt' is not defined",
          "traceback": [
            "\u001b[1;31m---------------------------------------------------------------------------\u001b[0m",
            "\u001b[1;31mNameError\u001b[0m                                 Traceback (most recent call last)",
            "\u001b[1;32m<ipython-input-34-170c3a814236>\u001b[0m in \u001b[0;36m<module>\u001b[1;34m\u001b[0m\n\u001b[1;32m----> 1\u001b[1;33m \u001b[0mprintt\u001b[0m\u001b[1;33m(\u001b[0m\u001b[1;33m)\u001b[0m\u001b[1;33m\u001b[0m\u001b[1;33m\u001b[0m\u001b[0m\n\u001b[0m",
            "\u001b[1;31mNameError\u001b[0m: name 'printt' is not defined"
          ]
        }
      ]
    },
    {
      "cell_type": "code",
      "metadata": {
        "id": "oL0PDFFzOSMm",
        "outputId": "088a0bf8-37bd-42c7-8b20-81d52e6b6383"
      },
      "source": [
        "print(2 + \"2\")"
      ],
      "execution_count": null,
      "outputs": [
        {
          "output_type": "error",
          "ename": "TypeError",
          "evalue": "unsupported operand type(s) for +: 'int' and 'str'",
          "traceback": [
            "\u001b[1;31m---------------------------------------------------------------------------\u001b[0m",
            "\u001b[1;31mTypeError\u001b[0m                                 Traceback (most recent call last)",
            "\u001b[1;32m<ipython-input-35-96788054896b>\u001b[0m in \u001b[0;36m<module>\u001b[1;34m\u001b[0m\n\u001b[1;32m----> 1\u001b[1;33m \u001b[0mprint\u001b[0m\u001b[1;33m(\u001b[0m\u001b[1;36m2\u001b[0m \u001b[1;33m+\u001b[0m \u001b[1;34m\"2\"\u001b[0m\u001b[1;33m)\u001b[0m\u001b[1;33m\u001b[0m\u001b[1;33m\u001b[0m\u001b[0m\n\u001b[0m",
            "\u001b[1;31mTypeError\u001b[0m: unsupported operand type(s) for +: 'int' and 'str'"
          ]
        }
      ]
    },
    {
      "cell_type": "code",
      "metadata": {
        "id": "OEMg8OYTOSMm",
        "outputId": "05376fde-c921-4868-aa1e-c992f6cc4305"
      },
      "source": [
        "print(2 * \"2\")"
      ],
      "execution_count": null,
      "outputs": [
        {
          "output_type": "stream",
          "text": [
            "22\n"
          ],
          "name": "stdout"
        }
      ]
    },
    {
      "cell_type": "code",
      "metadata": {
        "id": "Q4ZC3Q35OSMm",
        "outputId": "0cb1f820-1e49-4fbe-8c3e-64f579899a0f"
      },
      "source": [
        "print(\"hello\")\n",
        "print(4/0)"
      ],
      "execution_count": null,
      "outputs": [
        {
          "output_type": "stream",
          "text": [
            "hello\n"
          ],
          "name": "stdout"
        },
        {
          "output_type": "error",
          "ename": "ZeroDivisionError",
          "evalue": "division by zero",
          "traceback": [
            "\u001b[1;31m---------------------------------------------------------------------------\u001b[0m",
            "\u001b[1;31mZeroDivisionError\u001b[0m                         Traceback (most recent call last)",
            "\u001b[1;32m<ipython-input-37-15256f0d2731>\u001b[0m in \u001b[0;36m<module>\u001b[1;34m\u001b[0m\n\u001b[0;32m      1\u001b[0m \u001b[0mprint\u001b[0m\u001b[1;33m(\u001b[0m\u001b[1;34m\"hello\"\u001b[0m\u001b[1;33m)\u001b[0m\u001b[1;33m\u001b[0m\u001b[1;33m\u001b[0m\u001b[0m\n\u001b[1;32m----> 2\u001b[1;33m \u001b[0mprint\u001b[0m\u001b[1;33m(\u001b[0m\u001b[1;36m4\u001b[0m\u001b[1;33m/\u001b[0m\u001b[1;36m0\u001b[0m\u001b[1;33m)\u001b[0m\u001b[1;33m\u001b[0m\u001b[1;33m\u001b[0m\u001b[0m\n\u001b[0m",
            "\u001b[1;31mZeroDivisionError\u001b[0m: division by zero"
          ]
        }
      ]
    },
    {
      "cell_type": "code",
      "metadata": {
        "id": "-hhXKv6aOSMn",
        "outputId": "c82d3f9c-5214-4f41-b28f-41b7c518cf2c"
      },
      "source": [
        "while True :\n",
        "    a = int(input(\"ilk sayı :\"))\n",
        "    b = int(input(\"ikinci sayı :\"))\n",
        "    c = a / b\n",
        "    print(c)\n",
        "    break"
      ],
      "execution_count": null,
      "outputs": [
        {
          "output_type": "stream",
          "text": [
            "ilk sayı :5\n",
            "ikinci sayı :0\n"
          ],
          "name": "stdout"
        },
        {
          "output_type": "error",
          "ename": "ZeroDivisionError",
          "evalue": "division by zero",
          "traceback": [
            "\u001b[1;31m---------------------------------------------------------------------------\u001b[0m",
            "\u001b[1;31mZeroDivisionError\u001b[0m                         Traceback (most recent call last)",
            "\u001b[1;32m<ipython-input-39-26b9d5c0a2b3>\u001b[0m in \u001b[0;36m<module>\u001b[1;34m\u001b[0m\n\u001b[0;32m      2\u001b[0m     \u001b[0ma\u001b[0m \u001b[1;33m=\u001b[0m \u001b[0mint\u001b[0m\u001b[1;33m(\u001b[0m\u001b[0minput\u001b[0m\u001b[1;33m(\u001b[0m\u001b[1;34m\"ilk sayı :\"\u001b[0m\u001b[1;33m)\u001b[0m\u001b[1;33m)\u001b[0m\u001b[1;33m\u001b[0m\u001b[1;33m\u001b[0m\u001b[0m\n\u001b[0;32m      3\u001b[0m     \u001b[0mb\u001b[0m \u001b[1;33m=\u001b[0m \u001b[0mint\u001b[0m\u001b[1;33m(\u001b[0m\u001b[0minput\u001b[0m\u001b[1;33m(\u001b[0m\u001b[1;34m\"ikinci sayı :\"\u001b[0m\u001b[1;33m)\u001b[0m\u001b[1;33m)\u001b[0m\u001b[1;33m\u001b[0m\u001b[1;33m\u001b[0m\u001b[0m\n\u001b[1;32m----> 4\u001b[1;33m     \u001b[0mc\u001b[0m \u001b[1;33m=\u001b[0m \u001b[0ma\u001b[0m \u001b[1;33m/\u001b[0m \u001b[0mb\u001b[0m\u001b[1;33m\u001b[0m\u001b[1;33m\u001b[0m\u001b[0m\n\u001b[0m\u001b[0;32m      5\u001b[0m     \u001b[0mprint\u001b[0m\u001b[1;33m(\u001b[0m\u001b[0mc\u001b[0m\u001b[1;33m)\u001b[0m\u001b[1;33m\u001b[0m\u001b[1;33m\u001b[0m\u001b[0m\n\u001b[0;32m      6\u001b[0m     \u001b[1;32mbreak\u001b[0m\u001b[1;33m\u001b[0m\u001b[1;33m\u001b[0m\u001b[0m\n",
            "\u001b[1;31mZeroDivisionError\u001b[0m: division by zero"
          ]
        }
      ]
    },
    {
      "cell_type": "code",
      "metadata": {
        "id": "p-JT5T3NOSMn",
        "outputId": "e0aa581a-7c8e-400b-f05e-ed1465da0eb1"
      },
      "source": [
        "while True :\n",
        "    a = int(input(\"ilk sayı :\"))\n",
        "    b = int(input(\"ikinci sayı :\"))\n",
        "    \n",
        "    try:\n",
        "        c = a / b\n",
        "        print(c)\n",
        "        break\n",
        "    except :\n",
        "        print(\"Bir şeyler ters gitti.\")"
      ],
      "execution_count": null,
      "outputs": [
        {
          "output_type": "stream",
          "text": [
            "ilk sayı :7\n",
            "ikinci sayı :0\n",
            "Bir şeyler ters gitti.\n",
            "ilk sayı :5\n",
            "ikinci sayı :0\n",
            "Bir şeyler ters gitti.\n",
            "ilk sayı :4\n",
            "ikinci sayı :2\n",
            "2.0\n"
          ],
          "name": "stdout"
        }
      ]
    },
    {
      "cell_type": "code",
      "metadata": {
        "id": "oC9YtwsTOSMn",
        "outputId": "db957d1f-7f7a-477e-d609-998fb8efba85"
      },
      "source": [
        "try :\n",
        "    print(\"4\" + 4)\n",
        "except :\n",
        "    print(\"muhtemelen yanlış birşeyler yaptın.\")"
      ],
      "execution_count": null,
      "outputs": [
        {
          "output_type": "stream",
          "text": [
            "muhtemelen yanlış birşeyler yaptın.\n"
          ],
          "name": "stdout"
        }
      ]
    },
    {
      "cell_type": "code",
      "metadata": {
        "id": "aeybWvGVOSMn",
        "outputId": "066aa590-dd9a-4d7c-c599-af20f5420091"
      },
      "source": [
        "try :\n",
        "    print(\"4\" + \"4\")\n",
        "except :\n",
        "    print(\"muhtemelen yanlış birşeyler yaptın.\")"
      ],
      "execution_count": null,
      "outputs": [
        {
          "output_type": "stream",
          "text": [
            "44\n"
          ],
          "name": "stdout"
        }
      ]
    },
    {
      "cell_type": "code",
      "metadata": {
        "id": "OS5dOuduOSMn",
        "outputId": "92566c22-bcc7-47dd-f845-9b1dddf3c08a"
      },
      "source": [
        "while True :\n",
        "    a = int(input(\"ilk sayı :\"))\n",
        "    b = int(input(\"ikinci sayı :\"))\n",
        "    \n",
        "    try:\n",
        "        c = a / b\n",
        "        print(c)\n",
        "        break\n",
        "    except ZeroDivisionError:\n",
        "        print(\"Sıfıra bölünememe kuralını hatırla. İkinci sayıyı sıfır girme lütfen.\")"
      ],
      "execution_count": null,
      "outputs": [
        {
          "output_type": "stream",
          "text": [
            "ilk sayı :6\n",
            "ikinci sayı :0\n",
            "Sıfıra bölünememe kuralını hatırla. İkinci sayıyı sıfır girme lütfen.\n",
            "ilk sayı :8\n",
            "ikinci sayı :4\n",
            "2.0\n"
          ],
          "name": "stdout"
        }
      ]
    },
    {
      "cell_type": "code",
      "metadata": {
        "id": "jw8IPIEEOSMn",
        "outputId": "b8c95cf6-9900-4893-f642-7845acf624ff"
      },
      "source": [
        "try :\n",
        "    print(\"4\" + 4)\n",
        "except TypeError:\n",
        "    print(\"Type hatası var. Tipi kontrol etsen iyi olur.\")\n",
        "else :\n",
        "    print(\"Aaaa demek ki exception yükselmemiş. MMmm. Super.\")\n",
        "finally:\n",
        "    print(\"Eh nihayet bana sıra geldi. Ben çalıştım.\")"
      ],
      "execution_count": null,
      "outputs": [
        {
          "output_type": "stream",
          "text": [
            "Type hatası var. Tipi kontrol etsen iyi olur.\n",
            "Eh nihayet bana sıra geldi. Ben çalıştım.\n"
          ],
          "name": "stdout"
        }
      ]
    },
    {
      "cell_type": "code",
      "metadata": {
        "id": "JuEAHOg8OSMn",
        "outputId": "3366cac3-6360-4f7c-f810-b176f7ef94e3"
      },
      "source": [
        "try :\n",
        "    print(\"4\" + \"4\")\n",
        "except TypeError:\n",
        "    print(\"Type hatası var. Tipi kontrol etsen iyi olur.\")\n",
        "else :\n",
        "    print(\"Aaaa demek ki exception yükselmemiş. MMmm. Super.\")\n",
        "finally:\n",
        "    print(\"Eh nihayet bana sıra geldi. Ben çalıştım.\")"
      ],
      "execution_count": null,
      "outputs": [
        {
          "output_type": "stream",
          "text": [
            "44\n",
            "Aaaa demek ki exception yükselmemiş. MMmm. Super.\n",
            "Eh nihayet bana sıra geldi. Ben çalıştım.\n"
          ],
          "name": "stdout"
        }
      ]
    },
    {
      "cell_type": "code",
      "metadata": {
        "id": "YjUVh6dwOSMo",
        "outputId": "11c4bbba-ad7e-4925-8acf-8432ddd8ee7d"
      },
      "source": [
        "try :\n",
        "    print(\"4\" + 4)\n",
        "except ValueError:\n",
        "    print(\"Type hatası var. Tipi kontrol etsen iyi olur.\")\n",
        "else :\n",
        "    print(\"Aaaa demek ki exception yükselmemiş. MMmm. Super.\")\n",
        "finally:\n",
        "    print(\"Eh nihayet bana sıra geldi. Ben çalıştım.\")"
      ],
      "execution_count": null,
      "outputs": [
        {
          "output_type": "stream",
          "text": [
            "Eh nihayet bana sıra geldi. Ben çalıştım.\n"
          ],
          "name": "stdout"
        },
        {
          "output_type": "error",
          "ename": "TypeError",
          "evalue": "can only concatenate str (not \"int\") to str",
          "traceback": [
            "\u001b[1;31m---------------------------------------------------------------------------\u001b[0m",
            "\u001b[1;31mTypeError\u001b[0m                                 Traceback (most recent call last)",
            "\u001b[1;32m<ipython-input-46-9d2de3020bc7>\u001b[0m in \u001b[0;36m<module>\u001b[1;34m\u001b[0m\n\u001b[0;32m      1\u001b[0m \u001b[1;32mtry\u001b[0m \u001b[1;33m:\u001b[0m\u001b[1;33m\u001b[0m\u001b[1;33m\u001b[0m\u001b[0m\n\u001b[1;32m----> 2\u001b[1;33m     \u001b[0mprint\u001b[0m\u001b[1;33m(\u001b[0m\u001b[1;34m\"4\"\u001b[0m \u001b[1;33m+\u001b[0m \u001b[1;36m4\u001b[0m\u001b[1;33m)\u001b[0m\u001b[1;33m\u001b[0m\u001b[1;33m\u001b[0m\u001b[0m\n\u001b[0m\u001b[0;32m      3\u001b[0m \u001b[1;32mexcept\u001b[0m \u001b[0mValueError\u001b[0m\u001b[1;33m:\u001b[0m\u001b[1;33m\u001b[0m\u001b[1;33m\u001b[0m\u001b[0m\n\u001b[0;32m      4\u001b[0m     \u001b[0mprint\u001b[0m\u001b[1;33m(\u001b[0m\u001b[1;34m\"Type hatası var. Tipi kontrol etsen iyi olur.\"\u001b[0m\u001b[1;33m)\u001b[0m\u001b[1;33m\u001b[0m\u001b[1;33m\u001b[0m\u001b[0m\n\u001b[0;32m      5\u001b[0m \u001b[1;32melse\u001b[0m \u001b[1;33m:\u001b[0m\u001b[1;33m\u001b[0m\u001b[1;33m\u001b[0m\u001b[0m\n",
            "\u001b[1;31mTypeError\u001b[0m: can only concatenate str (not \"int\") to str"
          ]
        }
      ]
    },
    {
      "cell_type": "code",
      "metadata": {
        "id": "4ANWFoGfOSMo",
        "outputId": "68174b2f-0865-4cec-bd26-5fccfd1c2635"
      },
      "source": [
        "try :\n",
        "    isim = input(\"isminiz :\")\n",
        "    print(a)\n",
        "except Exception as hatam :\n",
        "    print(hatam)\n",
        "    print(type(hatam))"
      ],
      "execution_count": null,
      "outputs": [
        {
          "output_type": "stream",
          "text": [
            "isminiz :mm\n",
            "name 'a' is not defined\n",
            "<class 'NameError'>\n"
          ],
          "name": "stdout"
        }
      ]
    },
    {
      "cell_type": "code",
      "metadata": {
        "id": "io_QMWl8OSMo"
      },
      "source": [
        ""
      ],
      "execution_count": null,
      "outputs": []
    },
    {
      "cell_type": "code",
      "metadata": {
        "id": "8XMD_tZgOSMo"
      },
      "source": [
        ""
      ],
      "execution_count": null,
      "outputs": []
    },
    {
      "cell_type": "code",
      "metadata": {
        "id": "hW6yE9jsOSMo"
      },
      "source": [
        ""
      ],
      "execution_count": null,
      "outputs": []
    }
  ]
}