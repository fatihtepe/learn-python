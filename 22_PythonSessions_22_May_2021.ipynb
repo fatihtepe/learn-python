{
  "nbformat": 4,
  "nbformat_minor": 0,
  "metadata": {
    "kernelspec": {
      "display_name": "Python 3",
      "language": "python",
      "name": "python3"
    },
    "language_info": {
      "codemirror_mode": {
        "name": "ipython",
        "version": 3
      },
      "file_extension": ".py",
      "mimetype": "text/x-python",
      "name": "python",
      "nbconvert_exporter": "python",
      "pygments_lexer": "ipython3",
      "version": "3.7.3"
    },
    "colab": {
      "name": "22_PythonSessions-22-May-2021.ipynb",
      "provenance": [],
      "include_colab_link": true
    }
  },
  "cells": [
    {
      "cell_type": "markdown",
      "metadata": {
        "id": "view-in-github",
        "colab_type": "text"
      },
      "source": [
        "<a href=\"https://colab.research.google.com/github/fatihtepe/learn_python/blob/main/22_PythonSessions_22_May_2021.ipynb\" target=\"_parent\"><img src=\"https://colab.research.google.com/assets/colab-badge.svg\" alt=\"Open In Colab\"/></a>"
      ]
    },
    {
      "cell_type": "code",
      "metadata": {
        "id": "yt3b5l-3z5Lf"
      },
      "source": [
        "fruits = [\"banana\", \"mango\", \"pear\", \"apple\", \"kiwi\", \"grape\"]"
      ],
      "execution_count": null,
      "outputs": []
    },
    {
      "cell_type": "code",
      "metadata": {
        "id": "u_Yv-lO3z5Lg",
        "outputId": "4bed2cbc-0538-4457-c018-b9efb871d467"
      },
      "source": [
        "while True :\n",
        "    \n",
        "    try :\n",
        "        index = int(input(\"Favori meyve indexini girer misin? : \"))\n",
        "        print(\"Benim favori meyvem {}'dir.\".format(fruits[index]))\n",
        "        break\n",
        "    \n",
        "    except IndexError :\n",
        "        print(\"Böyle bir index bulunmamaktadır. Lütfen doğru giriş yapınız.\")\n",
        "        \n",
        "    except ValueError :\n",
        "        print(\"Integer yani numeric bir değer giriniz. Tekrar deneyin.\")"
      ],
      "execution_count": null,
      "outputs": [
        {
          "output_type": "stream",
          "text": [
            "Favori meyve indexini girer misin? : 7\n",
            "Böyle bir index bulunmamaktadır. Lütfen doğru giriş yapınız.\n",
            "Favori meyve indexini girer misin? : iki\n",
            "Integer yani numeric bir değer giriniz. Tekrar deneyin.\n",
            "Favori meyve indexini girer misin? : 1\n",
            "Benim favori meyvem mango'dir.\n"
          ],
          "name": "stdout"
        }
      ]
    },
    {
      "cell_type": "code",
      "metadata": {
        "id": "0QIgr7WEz5Lh",
        "outputId": "3afd1059-5e3c-4087-e651-d8b64e2cbb13"
      },
      "source": [
        "count = 3\n",
        "\n",
        "while count > 0 :\n",
        "    \n",
        "    try :\n",
        "        index = int(input(\"Favori meyve indexini girer misin? : \"))\n",
        "        print(\"Benim favori meyvem {}'dir.\".format(fruits[index]))\n",
        "    \n",
        "    except IndexError :\n",
        "        count -= 1\n",
        "        print(f\"Böyle bir index bulunmamaktadır. {count} adet giriş hakkınız kaldı. Lütfen doğru giriş yapınız.\")\n",
        "        \n",
        "    except ValueError :\n",
        "        count -= 1\n",
        "        print(f\"Integer yani numeric bir değer giriniz. {count} adet giriş hakkınız kaldı. Tekrar deneyin.\")\n",
        "        \n",
        "    else :\n",
        "        print(\"Tebrikler.. Doğru giriş yaptınız.\")\n",
        "        break\n",
        "        \n",
        "    finally :\n",
        "        print(\"Meyvelerim tazedir. Afiyet ossun.\")"
      ],
      "execution_count": null,
      "outputs": [
        {
          "output_type": "stream",
          "text": [
            "Favori meyve indexini girer misin? : 2\n",
            "Benim favori meyvem pear'dir.\n",
            "Tebrikler.. Doğru giriş yaptınız.\n",
            "Meyvelerim tazedir. Afiyet ossun.\n"
          ],
          "name": "stdout"
        }
      ]
    },
    {
      "cell_type": "code",
      "metadata": {
        "id": "gH_U0c2Yz5Li",
        "outputId": "0e17db19-aefb-4992-d741-ff42c7c04ce0"
      },
      "source": [
        "pwd"
      ],
      "execution_count": null,
      "outputs": [
        {
          "output_type": "execute_result",
          "data": {
            "text/plain": [
              "'C:\\\\Users\\\\YD\\\\pythonic\\\\PythonSessions\\\\Cohort-008-PythonSessions'"
            ]
          },
          "metadata": {
            "tags": []
          },
          "execution_count": 5
        }
      ]
    },
    {
      "cell_type": "code",
      "metadata": {
        "id": "uooueAfcz5Li",
        "outputId": "15866843-8b41-4d5b-d04b-33d5f38f7660"
      },
      "source": [
        "sea = open(\"C:\\\\Users\\\\YD\\\\pythonic\\\\fishes.txt\", \"r\")\n",
        "\n",
        "print(sea.read())\n",
        "\n",
        "sea.close()"
      ],
      "execution_count": null,
      "outputs": [
        {
          "output_type": "stream",
          "text": [
            "Orca is a kind of Dolphin.\n",
            "Blue Whale is the largest animal known on earth.\n",
            "Sharks are the sister group to the Rays (batoids).\n",
            "The Tuna Fish can weigh up to 260 kg.\n",
            "Squid and Octopus are in the same class.\n"
          ],
          "name": "stdout"
        }
      ]
    },
    {
      "cell_type": "code",
      "metadata": {
        "id": "Zh1IzOZtz5Lj",
        "outputId": "2d885f91-a5dd-4ae3-e5fb-eb5a0d73e5b1"
      },
      "source": [
        "sea = open(\"C:\\\\Users\\\\YD\\\\pythonic\\\\fishes.txt\", \"r\")\n",
        "\n",
        "print(sea.read(33))\n",
        "\n",
        "sea.close()"
      ],
      "execution_count": null,
      "outputs": [
        {
          "output_type": "stream",
          "text": [
            "Orca is a kind of Dolphin.\n",
            "Blue W\n"
          ],
          "name": "stdout"
        }
      ]
    },
    {
      "cell_type": "code",
      "metadata": {
        "id": "mxTMCSE5z5Lj",
        "outputId": "52bf4179-eb35-43bf-e6f8-d673472a6164"
      },
      "source": [
        "sea = open(\"C:\\\\Users\\\\YD\\\\pythonic\\\\fishes.txt\", \"r\")\n",
        "\n",
        "print(sea.read(33))\n",
        "print(sea.read(33))\n",
        "\n",
        "sea.close()"
      ],
      "execution_count": null,
      "outputs": [
        {
          "output_type": "stream",
          "text": [
            "Orca is a kind of Dolphin.\n",
            "Blue W\n",
            "hale is the largest animal known \n"
          ],
          "name": "stdout"
        }
      ]
    },
    {
      "cell_type": "code",
      "metadata": {
        "id": "BhtpTa0Cz5Lk",
        "outputId": "6c707fe2-14a8-4cd2-d1fe-732473609251"
      },
      "source": [
        "sea = open(\"C:\\\\Users\\\\YD\\\\pythonic\\\\fishes.txt\", \"r\")\n",
        "\n",
        "print(sea.read(33))\n",
        "print(sea.read(33))\n",
        "sea.seek(0)\n",
        "print(sea.read(33))\n",
        "\n",
        "sea.close()"
      ],
      "execution_count": null,
      "outputs": [
        {
          "output_type": "stream",
          "text": [
            "Orca is a kind of Dolphin.\n",
            "Blue W\n",
            "hale is the largest animal known \n",
            "Orca is a kind of Dolphin.\n",
            "Blue W\n"
          ],
          "name": "stdout"
        }
      ]
    },
    {
      "cell_type": "code",
      "metadata": {
        "id": "ml2LBqimz5Lk",
        "outputId": "016a8290-260a-466f-b2f1-b7e325ae9bb4"
      },
      "source": [
        "sea = open(\"C:\\\\Users\\\\YD\\\\pythonic\\\\fishes.txt\", \"r\")\n",
        "\n",
        "print(sea.read(33))\n",
        "print(sea.read(33))\n",
        "sea.seek(0)\n",
        "print(sea.read(33))\n",
        "print(sea.tell())\n",
        "\n",
        "sea.close()"
      ],
      "execution_count": null,
      "outputs": [
        {
          "output_type": "stream",
          "text": [
            "Orca is a kind of Dolphin.\n",
            "Blue W\n",
            "hale is the largest animal known \n",
            "Orca is a kind of Dolphin.\n",
            "Blue W\n",
            "34\n"
          ],
          "name": "stdout"
        }
      ]
    },
    {
      "cell_type": "code",
      "metadata": {
        "id": "_sNDW1Dnz5Lk",
        "outputId": "d6475e4b-ca81-4086-e749-2d204beaac2a"
      },
      "source": [
        "rumi = open(\"C:\\\\Users\\\\YD\\\\pythonic\\\\rumi.txt\", \"r\")\n",
        "\n",
        "print(rumi.read(35))\n",
        "print(rumi.read(13))\n",
        "print(rumi.tell())\n",
        "rumi.seek(15)\n",
        "print(rumi.read(21))\n",
        "\n",
        "\n",
        "rumi.close()"
      ],
      "execution_count": null,
      "outputs": [
        {
          "output_type": "stream",
          "text": [
            "I want to sing\n",
            "Like the birds sing,\n",
            "\n",
            "Not worrying\n",
            "50\n",
            "\n",
            "Like the birds sing,\n"
          ],
          "name": "stdout"
        }
      ]
    },
    {
      "cell_type": "code",
      "metadata": {
        "id": "yMxNDGshz5Ll",
        "outputId": "9b1235bf-c5e8-4a7c-9497-aa392e624e97"
      },
      "source": [
        "sea = open(\"C:\\\\Users\\\\YD\\\\pythonic\\\\fishes.txt\", \"r\")\n",
        "\n",
        "print(sea.readline())\n",
        "\n",
        "sea.close()"
      ],
      "execution_count": null,
      "outputs": [
        {
          "output_type": "stream",
          "text": [
            "Orca is a kind of Dolphin.\n",
            "\n"
          ],
          "name": "stdout"
        }
      ]
    },
    {
      "cell_type": "code",
      "metadata": {
        "id": "Kz1N-zWez5Ll",
        "outputId": "1c039725-0e18-438f-e457-ba2c453e48bd"
      },
      "source": [
        "sea = open(\"C:\\\\Users\\\\YD\\\\pythonic\\\\fishes.txt\", \"r\")\n",
        "\n",
        "print(sea.readline())\n",
        "print(sea.readline())\n",
        "print(sea.readline())\n",
        "print(sea.readline())\n",
        "\n",
        "sea.close()"
      ],
      "execution_count": null,
      "outputs": [
        {
          "output_type": "stream",
          "text": [
            "Orca is a kind of Dolphin.\n",
            "\n",
            "Blue Whale is the largest animal known on earth.\n",
            "\n",
            "Sharks are the sister group to the Rays (batoids).\n",
            "\n",
            "The Tuna Fish can weigh up to 260 kg.\n",
            "\n"
          ],
          "name": "stdout"
        }
      ]
    },
    {
      "cell_type": "code",
      "metadata": {
        "id": "lwpeblMIz5Ll",
        "outputId": "c3a9f8eb-d7c2-4a68-99a3-e63805e55356"
      },
      "source": [
        "sea = open(\"C:\\\\Users\\\\YD\\\\pythonic\\\\fishes.txt\", \"r\")\n",
        "\n",
        "print(sea.readline(13))\n",
        "print(sea.readline(13))\n",
        "print(sea.readline(13))\n",
        "print(sea.readline(13))\n",
        "\n",
        "sea.close()"
      ],
      "execution_count": null,
      "outputs": [
        {
          "output_type": "stream",
          "text": [
            "Orca is a kin\n",
            "d of Dolphin.\n",
            "\n",
            "\n",
            "Blue Whale is\n"
          ],
          "name": "stdout"
        }
      ]
    },
    {
      "cell_type": "code",
      "metadata": {
        "id": "qZRf7F4jz5Lm",
        "outputId": "99fd1e22-3701-43a9-a5ef-113aef3f55cb"
      },
      "source": [
        "sea = open(\"C:\\\\Users\\\\YD\\\\pythonic\\\\fishes.txt\", \"r\")\n",
        "\n",
        "print(sea.readline(13))\n",
        "print(sea.readline(13))\n",
        "print(sea.readline())\n",
        "print(sea.readline(13))\n",
        "\n",
        "sea.close()"
      ],
      "execution_count": null,
      "outputs": [
        {
          "output_type": "stream",
          "text": [
            "Orca is a kin\n",
            "d of Dolphin.\n",
            "\n",
            "\n",
            "Blue Whale is\n"
          ],
          "name": "stdout"
        }
      ]
    },
    {
      "cell_type": "code",
      "metadata": {
        "id": "KWw8ozEtz5Lm",
        "outputId": "2343f051-1dae-4a34-b946-05bcfed19be8"
      },
      "source": [
        "rumi = open(\"C:\\\\Users\\\\YD\\\\pythonic\\\\rumi.txt\", \"r\")\n",
        "\n",
        "print(rumi.readline())\n",
        "print(rumi.readline())\n",
        "print(rumi.readline(19))\n",
        "\n",
        "rumi.close()"
      ],
      "execution_count": null,
      "outputs": [
        {
          "output_type": "stream",
          "text": [
            "I want to sing\n",
            "\n",
            "Like the birds sing,\n",
            "\n",
            "Not worrying about\n",
            "\n"
          ],
          "name": "stdout"
        }
      ]
    },
    {
      "cell_type": "code",
      "metadata": {
        "id": "7uuaT5Q1z5Lm",
        "outputId": "fbbc8f98-875c-4828-ce30-067eaf3b2eba"
      },
      "source": [
        "rumi = open(\"C:\\\\Users\\\\YD\\\\pythonic\\\\rumi.txt\", \"r\")\n",
        "\n",
        "for line in rumi:\n",
        "    print(line)\n",
        "\n",
        "rumi.close()"
      ],
      "execution_count": null,
      "outputs": [
        {
          "output_type": "stream",
          "text": [
            "I want to sing\n",
            "\n",
            "Like the birds sing,\n",
            "\n",
            "Not worrying about\n",
            "\n",
            "Who hears or\n",
            "\n",
            "What they think.\n"
          ],
          "name": "stdout"
        }
      ]
    },
    {
      "cell_type": "code",
      "metadata": {
        "id": "4XBNyr_Oz5Lm",
        "outputId": "7d05cb75-c5f5-422c-d57f-0805aa6bc9a9"
      },
      "source": [
        "rumi = open(\"C:\\\\Users\\\\YD\\\\pythonic\\\\rumi.txt\", \"r\")\n",
        "\n",
        "for line in rumi.readlines():\n",
        "    print(line)\n",
        "\n",
        "rumi.close()"
      ],
      "execution_count": null,
      "outputs": [
        {
          "output_type": "stream",
          "text": [
            "I want to sing\n",
            "\n",
            "Like the birds sing,\n",
            "\n",
            "Not worrying about\n",
            "\n",
            "Who hears or\n",
            "\n",
            "What they think.\n"
          ],
          "name": "stdout"
        }
      ]
    },
    {
      "cell_type": "code",
      "metadata": {
        "id": "1hRp81_mz5Ln",
        "outputId": "6cf426dd-fe87-4d3f-85ce-fa5c4b9d7416"
      },
      "source": [
        "with open(\"C:\\\\Users\\\\YD\\\\pythonic\\\\fishes.txt\", \"r\") as sea :\n",
        "    print(sea.read())"
      ],
      "execution_count": null,
      "outputs": [
        {
          "output_type": "stream",
          "text": [
            "Orca is a kind of Dolphin.\n",
            "Blue Whale is the largest animal known on earth.\n",
            "Sharks are the sister group to the Rays (batoids).\n",
            "The Tuna Fish can weigh up to 260 kg.\n",
            "Squid and Octopus are in the same class.\n"
          ],
          "name": "stdout"
        }
      ]
    },
    {
      "cell_type": "code",
      "metadata": {
        "id": "ME8kjFSCz5Ln",
        "outputId": "805e4a29-7102-43d4-c787-88e4f9aab95a"
      },
      "source": [
        "with open(\"C:\\\\Users\\\\YD\\\\pythonic\\\\fishes.txt\", \"r\") as sea :\n",
        "    print(sea.read(33))\n",
        "    print(sea.read(33))\n",
        "    sea.seek(0)\n",
        "    print(sea.read(33))\n",
        "    print(sea.tell())"
      ],
      "execution_count": null,
      "outputs": [
        {
          "output_type": "stream",
          "text": [
            "Orca is a kind of Dolphin.\n",
            "Blue W\n",
            "hale is the largest animal known \n",
            "Orca is a kind of Dolphin.\n",
            "Blue W\n",
            "34\n"
          ],
          "name": "stdout"
        }
      ]
    },
    {
      "cell_type": "code",
      "metadata": {
        "id": "OWMOv7Maz5Ln"
      },
      "source": [
        "with open(\"benim_ilk_dosyam.txt\", \"w\", encoding = \"utf-8\") as dosyam :\n",
        "    dosyam.write(\"bu benim ilk satırım.\")"
      ],
      "execution_count": null,
      "outputs": []
    },
    {
      "cell_type": "code",
      "metadata": {
        "id": "P_E60Bjuz5Ln",
        "outputId": "bdbd0268-3cc4-45cc-b8dd-9aa1ff26bfdd"
      },
      "source": [
        "with open(\"benim_ilk_dosyam.txt\", \"r\", encoding = \"utf-8\") as dosyam :\n",
        "    print(dosyam.read())"
      ],
      "execution_count": null,
      "outputs": [
        {
          "output_type": "stream",
          "text": [
            "bu benim ilk satırım.\n"
          ],
          "name": "stdout"
        }
      ]
    },
    {
      "cell_type": "code",
      "metadata": {
        "id": "mZrfcJQ0z5Lo"
      },
      "source": [
        "with open(\"benim_ilk_dosyam.txt\", \"w\", encoding = \"utf-8\") as dosyam :\n",
        "    dosyam.write(\"bu benim ilk satırım. amma aslında ikinci satırım.\\n\")"
      ],
      "execution_count": null,
      "outputs": []
    },
    {
      "cell_type": "code",
      "metadata": {
        "id": "D-3p_95Ez5Lo"
      },
      "source": [
        "with open(\"benim_ilk_dosyam.txt\", \"w\", encoding = \"utf-8\") as dosyam :\n",
        "    dosyam.write(\"bu benim ilk satırım.\\namma aslında ikinci satırım.\\nBu da benim üçüncü satırım.\")"
      ],
      "execution_count": null,
      "outputs": []
    },
    {
      "cell_type": "code",
      "metadata": {
        "id": "KRgF7sMUz5Lo"
      },
      "source": [
        "fruits =[\"Banana\", \"Orange\", \"Apple\", \"Strawberry\", \"Cherry\"]"
      ],
      "execution_count": null,
      "outputs": []
    },
    {
      "cell_type": "code",
      "metadata": {
        "id": "iWksvCP2z5Lo"
      },
      "source": [
        "with open(\"fruits.txt\", \"w\", encoding=\"utf-8\") as file :\n",
        "    for meyve in fruits :\n",
        "        file.write(meyve + \"\\n\")"
      ],
      "execution_count": null,
      "outputs": []
    },
    {
      "cell_type": "code",
      "metadata": {
        "id": "gapCkSBmz5Lo"
      },
      "source": [
        ""
      ],
      "execution_count": null,
      "outputs": []
    }
  ]
}