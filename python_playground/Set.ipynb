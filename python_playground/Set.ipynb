{
  "nbformat": 4,
  "nbformat_minor": 0,
  "metadata": {
    "colab": {
      "name": "Set.ipynb",
      "provenance": [],
      "authorship_tag": "ABX9TyOYdfNA0HDA1fUMCvSjYxJF",
      "include_colab_link": true
    },
    "kernelspec": {
      "name": "python3",
      "display_name": "Python 3"
    },
    "language_info": {
      "name": "python"
    }
  },
  "cells": [
    {
      "cell_type": "markdown",
      "metadata": {
        "id": "view-in-github",
        "colab_type": "text"
      },
      "source": [
        "<a href=\"https://colab.research.google.com/github/fatihtepe/python_ground/blob/main/Set.ipynb\" target=\"_parent\"><img src=\"https://colab.research.google.com/assets/colab-badge.svg\" alt=\"Open In Colab\"/></a>"
      ]
    },
    {
      "cell_type": "code",
      "metadata": {
        "colab": {
          "base_uri": "https://localhost:8080/"
        },
        "id": "tUpVSXP9XxuO",
        "outputId": "c9408b08-2def-4bd1-8ff7-06eba5ab7ea0"
      },
      "source": [
        "set_1 = {'red', 'blue', 'pink', 'red'}\n",
        "colors = 'red', 'blue', 'pink', 'red'\n",
        "set_2 = set(colors)\n",
        "\n",
        "print(set_1)\n",
        "\n",
        "print(set_2)"
      ],
      "execution_count": 1,
      "outputs": [
        {
          "output_type": "stream",
          "text": [
            "{'pink', 'blue', 'red'}\n",
            "{'pink', 'blue', 'red'}\n"
          ],
          "name": "stdout"
        }
      ]
    },
    {
      "cell_type": "code",
      "metadata": {
        "colab": {
          "base_uri": "https://localhost:8080/"
        },
        "id": "io8J8kGzX38C",
        "outputId": "c9845aa0-643f-4a59-f671-a0d9deec2bb4"
      },
      "source": [
        "letter = 'a b c d e f g h i j k l m n o p r s t u v y z'.split()\n",
        "\n",
        "print(letter)"
      ],
      "execution_count": 2,
      "outputs": [
        {
          "output_type": "stream",
          "text": [
            "['a', 'b', 'c', 'd', 'e', 'f', 'g', 'h', 'i', 'j', 'k', 'l', 'm', 'n', 'o', 'p', 'r', 's', 't', 'u', 'v', 'y', 'z']\n"
          ],
          "name": "stdout"
        }
      ]
    },
    {
      "cell_type": "code",
      "metadata": {
        "colab": {
          "base_uri": "https://localhost:8080/"
        },
        "id": "byri2qITYP4h",
        "outputId": "5a4d5915-cf42-4d4c-d47e-6964b5685b04"
      },
      "source": [
        "print(set(letter))"
      ],
      "execution_count": 5,
      "outputs": [
        {
          "output_type": "stream",
          "text": [
            "{'p', 'e', 'b', 's', 'n', 'a', 'r', 'c', 'u', 'l', 'o', 'g', 'i', 'v', 'h', 'y', 'd', 'k', 'm', 'z', 'f', 'j', 't'}\n"
          ],
          "name": "stdout"
        }
      ]
    },
    {
      "cell_type": "code",
      "metadata": {
        "colab": {
          "base_uri": "https://localhost:8080/"
        },
        "id": "SuTmoA7KYn3u",
        "outputId": "80983dd4-60f6-4af6-e69f-8c196888b336"
      },
      "source": [
        "letter1 = 'h i j k l m n o p r a b c d e f g s t  j k l u v y z'.split()\n",
        "print(set(letter1))"
      ],
      "execution_count": 6,
      "outputs": [
        {
          "output_type": "stream",
          "text": [
            "{'p', 'e', 'b', 's', 'n', 'r', 'a', 'c', 'u', 'l', 'o', 'g', 'i', 'v', 'h', 'y', 'd', 'k', 'm', 'z', 'f', 'j', 't'}\n"
          ],
          "name": "stdout"
        }
      ]
    },
    {
      "cell_type": "code",
      "metadata": {
        "colab": {
          "base_uri": "https://localhost:8080/"
        },
        "id": "vPleJSrNZvHy",
        "outputId": "c9a50b0f-8ceb-41f8-b57a-2d37c8cb8c55"
      },
      "source": [
        "test = {1, 'bir', 1.0}\n",
        "len(test)"
      ],
      "execution_count": 9,
      "outputs": [
        {
          "output_type": "execute_result",
          "data": {
            "text/plain": [
              "2"
            ]
          },
          "metadata": {
            "tags": []
          },
          "execution_count": 9
        }
      ]
    },
    {
      "cell_type": "code",
      "metadata": {
        "colab": {
          "base_uri": "https://localhost:8080/"
        },
        "id": "U5_M9uUhcAB_",
        "outputId": "0e3e2118-9547-47b9-d016-340053791ebd"
      },
      "source": [
        "a = {'carnation', 'orchid', 'rose', 'violet'}\n",
        "b = {'rose', 'orchid', 'rose', 'violet', 'carnation'}\n",
        "print(a)\n",
        "print(b)"
      ],
      "execution_count": 10,
      "outputs": [
        {
          "output_type": "stream",
          "text": [
            "{'orchid', 'rose', 'carnation', 'violet'}\n",
            "{'orchid', 'carnation', 'rose', 'violet'}\n"
          ],
          "name": "stdout"
        }
      ]
    }
  ]
}