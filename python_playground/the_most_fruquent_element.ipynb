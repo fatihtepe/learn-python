{
  "nbformat": 4,
  "nbformat_minor": 0,
  "metadata": {
    "colab": {
      "name": "the_most_fruquent_element.ipynb",
      "provenance": [],
      "authorship_tag": "ABX9TyPuWWIocE7as7lCt+nd+z/q",
      "include_colab_link": true
    },
    "kernelspec": {
      "name": "python3",
      "display_name": "Python 3"
    },
    "language_info": {
      "name": "python"
    }
  },
  "cells": [
    {
      "cell_type": "markdown",
      "metadata": {
        "id": "view-in-github",
        "colab_type": "text"
      },
      "source": [
        "<a href=\"https://colab.research.google.com/github/fatihtepe/python_ground/blob/main/the_most_fruquent_element.ipynb\" target=\"_parent\"><img src=\"https://colab.research.google.com/assets/colab-badge.svg\" alt=\"Open In Colab\"/></a>"
      ]
    },
    {
      "cell_type": "markdown",
      "metadata": {
        "id": "gtJPH5pzs2iM"
      },
      "source": [
        ""
      ]
    },
    {
      "cell_type": "markdown",
      "metadata": {
        "id": "YQw-72MQsgqF"
      },
      "source": [
        "Assignment-008/1 (The Most Frequent Element)\n",
        "\n",
        "💡Objective:\n",
        "To improve your knowledge of collection types (list), working with several built-in functions skills.\n",
        "After finishing the task correctly, then submit your answer (code) as plain text which shows you did correctly.\n",
        "Task : Find out the most frequent number and its frequency.\n",
        "\n",
        "Write a program that;\n",
        "\n",
        "Finds out the most frequent number in the given list.\n",
        "Calculates its frequency.\n",
        "Prints out the result such as :\n",
        "Example\n",
        "\n",
        "Given list\t\n",
        "numbers = [1, 3, 7, 4, 3, 0, 3, 6, 3]\n",
        "\n",
        "Desired Output (\n",
        "the most frequent number is 3 and it was 4 times repeated)"
      ]
    },
    {
      "cell_type": "code",
      "metadata": {
        "colab": {
          "base_uri": "https://localhost:8080/"
        },
        "id": "3YSM1IwPrgbZ",
        "outputId": "b6fc035f-b5a3-4cf6-cb2d-05ee5e8164ff"
      },
      "source": [
        "from collections import Counter\n",
        "numbers = [1, 3, 7, 4, 3, 0, 3, 6, 3]\n",
        "the = Counter(numbers)\n",
        "\n",
        "print(f'the most frequent number is {the.most_common(1)[0][0]} and \\\n",
        "it was {the.most_common(1)[0][1]} times repeated')"
      ],
      "execution_count": 9,
      "outputs": [
        {
          "output_type": "stream",
          "text": [
            "the most frequent number is 3 and it was 4 times repeated\n"
          ],
          "name": "stdout"
        }
      ]
    }
  ]
}