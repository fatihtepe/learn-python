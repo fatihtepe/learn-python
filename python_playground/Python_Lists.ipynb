{
  "nbformat": 4,
  "nbformat_minor": 0,
  "metadata": {
    "colab": {
      "name": "Python Lists.ipynb",
      "provenance": [],
      "collapsed_sections": [],
      "authorship_tag": "ABX9TyNw+NEnqQUkjw6DY084KiiA",
      "include_colab_link": true
    },
    "kernelspec": {
      "name": "python3",
      "display_name": "Python 3"
    },
    "language_info": {
      "name": "python"
    }
  },
  "cells": [
    {
      "cell_type": "markdown",
      "metadata": {
        "id": "view-in-github",
        "colab_type": "text"
      },
      "source": [
        "<a href=\"https://colab.research.google.com/github/fatihtepe/python_ground/blob/main/Python_Lists.ipynb\" target=\"_parent\"><img src=\"https://colab.research.google.com/assets/colab-badge.svg\" alt=\"Open In Colab\"/></a>"
      ]
    },
    {
      "cell_type": "code",
      "metadata": {
        "colab": {
          "base_uri": "https://localhost:8080/"
        },
        "id": "AjFwMz0XYq-g",
        "outputId": "2abe4f61-32fd-4569-fb75-5bb6a41ddf86"
      },
      "source": [
        "# Python program to demonstrate \n",
        "# Creation of List \n",
        "  \n",
        "# Creating a List\n",
        "List = []\n",
        "print(\"Blank List: \")\n",
        "print(List)\n"
      ],
      "execution_count": null,
      "outputs": [
        {
          "output_type": "stream",
          "text": [
            "Blank List: \n",
            "[]\n"
          ],
          "name": "stdout"
        }
      ]
    },
    {
      "cell_type": "code",
      "metadata": {
        "colab": {
          "base_uri": "https://localhost:8080/"
        },
        "id": "mRqMktyAZGEL",
        "outputId": "688dec68-78e4-4ea8-d9b5-dd9f54b16ad0"
      },
      "source": [
        "# Creating a List of numbers\n",
        "List = [10, 20, 14]\n",
        "print(List)\n"
      ],
      "execution_count": null,
      "outputs": [
        {
          "output_type": "stream",
          "text": [
            "[10, 20, 14]\n"
          ],
          "name": "stdout"
        }
      ]
    },
    {
      "cell_type": "code",
      "metadata": {
        "colab": {
          "base_uri": "https://localhost:8080/"
        },
        "id": "rOcCvMsMZLhb",
        "outputId": "6d639c77-1ff1-4434-dbda-519d117721b1"
      },
      "source": [
        "# Creating a List of strings and accessing\n",
        "# using index\n",
        "List = [\"Geeks\", \"For\", \"Geeks\"]\n",
        "\n",
        "print(List[0:2]) \n",
        "print(List[2])"
      ],
      "execution_count": null,
      "outputs": [
        {
          "output_type": "stream",
          "text": [
            "['Geeks', 'For']\n",
            "Geeks\n"
          ],
          "name": "stdout"
        }
      ]
    },
    {
      "cell_type": "code",
      "metadata": {
        "colab": {
          "base_uri": "https://localhost:8080/"
        },
        "id": "RUeh1UoTZ9_g",
        "outputId": "35aa1b5d-5b06-4b90-88b8-7fba6d7c708a"
      },
      "source": [
        "# Creating a Multi-Dimensional List\n",
        "# (By Nesting a list inside a List)\n",
        "List = [['Geeks', 'For'] , ['Geeks']]\n",
        "\n",
        "print(List)\n",
        "print(List[0][1][2])"
      ],
      "execution_count": null,
      "outputs": [
        {
          "output_type": "stream",
          "text": [
            "[['Geeks', 'For'], ['Geeks']]\n",
            "r\n"
          ],
          "name": "stdout"
        }
      ]
    },
    {
      "cell_type": "code",
      "metadata": {
        "colab": {
          "base_uri": "https://localhost:8080/"
        },
        "id": "EoQ8nkuwbFRv",
        "outputId": "1e8ff4da-3cf6-4bd9-e3cd-329cfeb8b4b7"
      },
      "source": [
        "# Creating a List with \n",
        "# the use of Numbers\n",
        "# (Having duplicate values)\n",
        "Liste = [1, 2, 4, 4, 3, 3, 3, 6, 5]\n",
        "\n",
        "print(Liste)\n"
      ],
      "execution_count": null,
      "outputs": [
        {
          "output_type": "stream",
          "text": [
            "[1, 2, 4, 4, 3, 3, 3, 6, 5]\n"
          ],
          "name": "stdout"
        }
      ]
    },
    {
      "cell_type": "code",
      "metadata": {
        "colab": {
          "base_uri": "https://localhost:8080/"
        },
        "id": "2zljK8aabPjd",
        "outputId": "89d8ae8d-45da-42e4-cc16-963d7245be69"
      },
      "source": [
        "# Creating a List with \n",
        "# mixed type of values\n",
        "# (Having numbers and strings)\n",
        "liste = [1, 2, 'Geeks', 4, 'For', 6, 'Geeks']\n",
        "\n",
        "print(liste)\n",
        "\n",
        "print(liste[6][4])"
      ],
      "execution_count": null,
      "outputs": [
        {
          "output_type": "stream",
          "text": [
            "[1, 2, 'Geeks', 4, 'For', 6, 'Geeks']\n",
            "s\n"
          ],
          "name": "stdout"
        }
      ]
    },
    {
      "cell_type": "code",
      "metadata": {
        "colab": {
          "base_uri": "https://localhost:8080/"
        },
        "id": "16L-UvuxbtF-",
        "outputId": "a4de8fbb-8311-4d80-cb53-020010eeaabf"
      },
      "source": [
        "# Creating a List\n",
        "List1 = []\n",
        "print(len(List1))\n",
        "  \n",
        "# Creating a List of numbers\n",
        "List2 = [10, 20, 14]\n",
        "print(len(List2))"
      ],
      "execution_count": null,
      "outputs": [
        {
          "output_type": "stream",
          "text": [
            "0\n",
            "3\n"
          ],
          "name": "stdout"
        }
      ]
    },
    {
      "cell_type": "code",
      "metadata": {
        "colab": {
          "base_uri": "https://localhost:8080/"
        },
        "id": "VGlMHLhjcCXc",
        "outputId": "a308fe5e-3e38-42a5-ff56-fe87d376cd1d"
      },
      "source": [
        "# Addition of elements in a List\n",
        "\n",
        "listem = []\n",
        "print(listem)\n",
        "\n",
        "listem.append('ben')\n",
        "listem.append('sen')\n",
        "listem.append('biz')\n",
        "listem.append('bu')\n",
        "listem.append('su')\n",
        "print(listem)"
      ],
      "execution_count": null,
      "outputs": [
        {
          "output_type": "stream",
          "text": [
            "[]\n",
            "['ben', 'sen', 'biz', 'bu', 'su']\n"
          ],
          "name": "stdout"
        }
      ]
    },
    {
      "cell_type": "code",
      "metadata": {
        "colab": {
          "base_uri": "https://localhost:8080/"
        },
        "id": "WGApLW_ncgCa",
        "outputId": "4861d8b2-6189-49f6-de0c-7a3fd8fd0f55"
      },
      "source": [
        "# Adding elements to the List\n",
        "# using Iterator\n",
        "tepe = ['ben', 'sen', 'biz', 'bu', 'su']\n",
        "for i in range(1, 8):\n",
        "    tepe.append(i)\n",
        "\n",
        "print(tepe)"
      ],
      "execution_count": null,
      "outputs": [
        {
          "output_type": "stream",
          "text": [
            "['ben', 'sen', 'biz', 'bu', 'su', 1, 2, 3, 4, 5, 6, 7]\n"
          ],
          "name": "stdout"
        }
      ]
    },
    {
      "cell_type": "code",
      "metadata": {
        "colab": {
          "base_uri": "https://localhost:8080/"
        },
        "id": "NPVVLm3Ed9A5",
        "outputId": "c3db4948-96fc-46ca-8199-d9816e52fdc1"
      },
      "source": [
        "tepe = []\n",
        "\n",
        "for x in range(1, 21):\n",
        "    tepe.append(x)\n",
        "print(tepe)"
      ],
      "execution_count": null,
      "outputs": [
        {
          "output_type": "stream",
          "text": [
            "[1, 2, 3, 4, 5, 6, 7, 8, 9, 10, 11, 12, 13, 14, 15, 16, 17, 18, 19, 20]\n"
          ],
          "name": "stdout"
        }
      ]
    },
    {
      "cell_type": "code",
      "metadata": {
        "id": "fE5Q6aNdlYof",
        "colab": {
          "base_uri": "https://localhost:8080/"
        },
        "outputId": "e1123a09-3cb4-4370-88df-66ca97ecd14e"
      },
      "source": [
        "tepe = list(range(1, 21))\n",
        "print(tepe)"
      ],
      "execution_count": null,
      "outputs": [
        {
          "output_type": "stream",
          "text": [
            "[1, 2, 3, 4, 5, 6, 7, 8, 9, 10, 11, 12, 13, 14, 15, 16, 17, 18, 19, 20]\n"
          ],
          "name": "stdout"
        }
      ]
    },
    {
      "cell_type": "code",
      "metadata": {
        "colab": {
          "base_uri": "https://localhost:8080/"
        },
        "id": "N8mlr8INl2AJ",
        "outputId": "23b59e62-28ff-444d-e0ed-6613bc312d41"
      },
      "source": [
        "tepe = []\n",
        "\n",
        "for i in range(1, 11):\n",
        "    tepe.append(i)\n",
        "print(tepe)\n",
        "\n",
        "tepe.append(('elma', 'armut'))\n",
        "tepe.append(['kiraz','pamuk'])\n",
        "print(tepe)\n",
        "\n",
        "new_list = [tepe]\n",
        "print(new_list)\n",
        "\n",
        "print(new_list[0][11][0])\n",
        "print(new_list[0][10][1][1:4])"
      ],
      "execution_count": null,
      "outputs": [
        {
          "output_type": "stream",
          "text": [
            "[1, 2, 3, 4, 5, 6, 7, 8, 9, 10]\n",
            "[1, 2, 3, 4, 5, 6, 7, 8, 9, 10, ('elma', 'armut'), ['kiraz', 'pamuk']]\n",
            "[[1, 2, 3, 4, 5, 6, 7, 8, 9, 10, ('elma', 'armut'), ['kiraz', 'pamuk']]]\n",
            "kiraz\n",
            "rmu\n"
          ],
          "name": "stdout"
        }
      ]
    },
    {
      "cell_type": "code",
      "metadata": {
        "colab": {
          "base_uri": "https://localhost:8080/"
        },
        "id": "TiuDUb4aoJWr",
        "outputId": "f947a65e-4eb9-4e03-e38c-86c839ffa7e7"
      },
      "source": [
        "# Python program to demonstrate \n",
        "# Addition of elements in a List\n",
        "\n",
        "listeler = list(range(1, 5))\n",
        "print(listeler)\n",
        "\n",
        "listeler = [1, 2, 3, 4]\n",
        "\n",
        "listeler.insert(2, 5)\n",
        "print(listeler)"
      ],
      "execution_count": null,
      "outputs": [
        {
          "output_type": "stream",
          "text": [
            "[1, 2, 3, 4]\n",
            "[1, 2, 5, 3, 4]\n"
          ],
          "name": "stdout"
        }
      ]
    },
    {
      "cell_type": "code",
      "metadata": {
        "colab": {
          "base_uri": "https://localhost:8080/"
        },
        "id": "PtYVlWjRpLxO",
        "outputId": "49dfd259-fe84-4ea5-ee84-cbaa9049f0e8"
      },
      "source": [
        "# Addition of multiple elements\n",
        "# to the List at the end\n",
        "# (using Extend Method)\n",
        "listeler.extend([8, 'Geeks', 'Always'])\n",
        "listeler.append(['armut', 'elma'])\n",
        "print(listeler)"
      ],
      "execution_count": null,
      "outputs": [
        {
          "output_type": "stream",
          "text": [
            "[1, 2, 5, 3, 4, 8, 'Geeks', 'Always', 8, 'Geeks', 'Always', ['armut', 'elma'], 8, 'Geeks', 'Always', 8, 'Geeks', 'Always', ['armut', 'elma']]\n"
          ],
          "name": "stdout"
        }
      ]
    },
    {
      "cell_type": "code",
      "metadata": {
        "colab": {
          "base_uri": "https://localhost:8080/"
        },
        "id": "kjhjHTSnpoBd",
        "outputId": "5af44598-d070-401b-ba54-d83e780c40cf"
      },
      "source": [
        "blistem = []\n",
        "blistem.append(['fatih', 'can'])\n",
        "blistem.extend(['ebru', 'numan', 'tarik'])\n",
        "print(blistem)"
      ],
      "execution_count": null,
      "outputs": [
        {
          "output_type": "stream",
          "text": [
            "[['fatih', 'can'], 'ebru', 'numan', 'tarik']\n"
          ],
          "name": "stdout"
        }
      ]
    },
    {
      "cell_type": "markdown",
      "metadata": {
        "id": "evkM6umyqvYv"
      },
      "source": [
        "A Quick Fact!\n",
        "\n",
        "the difference between extend () ve append () methods\n",
        "\n",
        "listem = ['elma', 'armut']\n",
        "\n",
        "listem.append(['portakal', 'muz']\n",
        "['elma', 'armut', ['portakal', 'muz']]\n",
        "\n",
        "\n",
        "listem.extend(['portakal', 'muz']\n",
        "['elma', 'armut', 'portakal', 'muz']\n",
        "\n"
      ]
    },
    {
      "cell_type": "code",
      "metadata": {
        "colab": {
          "base_uri": "https://localhost:8080/"
        },
        "id": "ZOzUiwZituqq",
        "outputId": "c79e7d88-24b7-4583-9837-6f23c53d3cb8"
      },
      "source": [
        "listem = ['elma', 'armut']\n",
        "listem.extend(['portakal', 'muz'])\n",
        "listem.append(['portakal', 'muz'])\n",
        "print(listem)"
      ],
      "execution_count": null,
      "outputs": [
        {
          "output_type": "stream",
          "text": [
            "['elma', 'armut', 'portakal', 'muz', ['portakal', 'muz']]\n"
          ],
          "name": "stdout"
        }
      ]
    },
    {
      "cell_type": "code",
      "metadata": {
        "colab": {
          "base_uri": "https://localhost:8080/"
        },
        "id": "OZJXdHbUwVqi",
        "outputId": "a6b1eb3b-40a2-4623-c052-a607c850c95f"
      },
      "source": [
        "meyveler = ['elma', 'armut', 'portakal', 'muz', ['portakal', 'muz']]\n",
        "print(meyveler[3])\n",
        "print(meyveler[4][1])\n",
        "print(meyveler[-1])\n",
        "print(meyveler[-3][3])"
      ],
      "execution_count": null,
      "outputs": [
        {
          "output_type": "stream",
          "text": [
            "muz\n",
            "muz\n",
            "['portakal', 'muz']\n",
            "t\n"
          ],
          "name": "stdout"
        }
      ]
    },
    {
      "cell_type": "code",
      "metadata": {
        "colab": {
          "base_uri": "https://localhost:8080/"
        },
        "id": "XfKom4gEyE18",
        "outputId": "d3d9892f-c813-447a-c445-6a0670555857"
      },
      "source": [
        "# Python program to demonstrate \n",
        "# Removal of elements in a List\n",
        "  \n",
        "# Creating a List\n",
        "sayilar = [1, 2, 3, 4, 5, 6, \n",
        "        7, 8, 9, 10, 11, 12]\n",
        "\n",
        "print(sayilar)\n",
        "\n",
        "sayilar.remove(5)\n",
        "sayilar.remove(8)\n",
        "print(sayilar)\n",
        "\n",
        "for i in range(1, 5):\n",
        "    sayilar.remove(i)\n",
        "print(sayilar)\n",
        "\n",
        "for i in range(3, 15):\n",
        "    sayilar.append(i)\n",
        "print(sayilar)\n"
      ],
      "execution_count": null,
      "outputs": [
        {
          "output_type": "stream",
          "text": [
            "[1, 2, 3, 4, 5, 6, 7, 8, 9, 10, 11, 12]\n",
            "[1, 2, 3, 4, 6, 7, 9, 10, 11, 12]\n",
            "[6, 7, 9, 10, 11, 12]\n",
            "[6, 7, 9, 10, 11, 12, 3, 4, 5, 6, 7, 8, 9, 10, 11, 12, 13, 14]\n"
          ],
          "name": "stdout"
        }
      ]
    },
    {
      "cell_type": "code",
      "metadata": {
        "colab": {
          "base_uri": "https://localhost:8080/"
        },
        "id": "XvOgBwcyz_5g",
        "outputId": "9e63f4d2-72be-45fd-f5ad-c2afbde500fb"
      },
      "source": [
        "meyveler = ['elma', 'armut', 'portakal', 'muz', ['portakal', 'muz']]\n",
        "meyveler.pop()\n",
        "print(meyveler)\n",
        "\n",
        "meyveler.pop(1)\n",
        "print(meyveler)\n"
      ],
      "execution_count": null,
      "outputs": [
        {
          "output_type": "stream",
          "text": [
            "['elma', 'armut', 'portakal', 'muz']\n",
            "['elma', 'portakal', 'muz']\n"
          ],
          "name": "stdout"
        }
      ]
    },
    {
      "cell_type": "code",
      "metadata": {
        "colab": {
          "base_uri": "https://localhost:8080/"
        },
        "id": "9KW4If0E5p9r",
        "outputId": "461c70f0-f7e5-4846-9cec-a78a43ab1e1d"
      },
      "source": [
        "training = list('clarusway')\n",
        "print(training)\n",
        "\n",
        "training =['c', 'l', 'a', 'r', 'u', 's', 'w', 'a', 'y']\n",
        "print(training[3:9])\n",
        "print(len(training))\n",
        "print(training[-3:])\n",
        "print(training[-8:4])\n",
        "print(training[:-3])\n",
        "print(training.count('a'))\n"
      ],
      "execution_count": null,
      "outputs": [
        {
          "output_type": "stream",
          "text": [
            "['c', 'l', 'a', 'r', 'u', 's', 'w', 'a', 'y']\n",
            "['r', 'u', 's', 'w', 'a', 'y']\n",
            "9\n",
            "['w', 'a', 'y']\n",
            "['l', 'a', 'r']\n",
            "['c', 'l', 'a', 'r', 'u', 's']\n",
            "2\n",
            "None\n"
          ],
          "name": "stdout"
        }
      ]
    },
    {
      "cell_type": "code",
      "metadata": {
        "colab": {
          "base_uri": "https://localhost:8080/"
        },
        "id": "CBt-I_uE8vay",
        "outputId": "5e0b6223-e3c0-4f00-f762-ee5f58783e63"
      },
      "source": [
        "yey = [6, 7, 9, 10, 11, 12, 3, 4, 5, 6, 7, 8, 9, 10, 11, 12, 13, 14]\n",
        "\n",
        "yey.sort()\n",
        "print(yey)\n",
        "\n",
        "yey.reverse()\n",
        "print(yey)\n",
        "\n",
        "print(yey.copy())\n",
        "\n",
        "total = sum(yey, 150)\n",
        "print(total)\n",
        "\n",
        "print(yey[-1:2:-1])"
      ],
      "execution_count": null,
      "outputs": [
        {
          "output_type": "stream",
          "text": [
            "[3, 4, 5, 6, 6, 7, 7, 8, 9, 9, 10, 10, 11, 11, 12, 12, 13, 14]\n",
            "[14, 13, 12, 12, 11, 11, 10, 10, 9, 9, 8, 7, 7, 6, 6, 5, 4, 3]\n",
            "[14, 13, 12, 12, 11, 11, 10, 10, 9, 9, 8, 7, 7, 6, 6, 5, 4, 3]\n",
            "307\n",
            "[3, 4, 5, 6, 6, 7, 7, 8, 9, 9, 10, 10, 11, 11, 12]\n"
          ],
          "name": "stdout"
        }
      ]
    },
    {
      "cell_type": "code",
      "metadata": {
        "colab": {
          "base_uri": "https://localhost:8080/"
        },
        "id": "z2zFMnYpyuXu",
        "outputId": "1d2e8d9c-7a05-459d-a4e5-cd3ff7c0e511"
      },
      "source": [
        "sehirler2 = [['izmir', ['istanbul', 'bursa'], 'adana']]\n",
        "print(sehirler2[0][1][1])\n"
      ],
      "execution_count": null,
      "outputs": [
        {
          "output_type": "stream",
          "text": [
            "bursa\n"
          ],
          "name": "stdout"
        }
      ]
    },
    {
      "cell_type": "code",
      "metadata": {
        "colab": {
          "base_uri": "https://localhost:8080/"
        },
        "id": "V10rXQtF02tj",
        "outputId": "626f3451-c469-4237-9ba8-6bfe9c9da410"
      },
      "source": [
        "courses = ['History', 'Math', 'Pnysics', 'CompSci']\n",
        "print(courses[0])\n",
        "print(courses[3])\n",
        "print(courses[-1])\n",
        "print(courses[0:2])\n",
        "print(courses[2:])"
      ],
      "execution_count": null,
      "outputs": [
        {
          "output_type": "stream",
          "text": [
            "History\n",
            "CompSci\n",
            "CompSci\n",
            "['History', 'Math']\n",
            "['Pnysics', 'CompSci']\n"
          ],
          "name": "stdout"
        }
      ]
    },
    {
      "cell_type": "code",
      "metadata": {
        "colab": {
          "base_uri": "https://localhost:8080/"
        },
        "id": "7L5YeGqw1c_u",
        "outputId": "8edf129a-43eb-45b6-e436-5853dca44ac6"
      },
      "source": [
        "mylist = [1, 2, 3, 4, 5, 6, 7, 8, 9, 10 , 11, 12, 13, 14]\n",
        "\n",
        "print(mylist[-1:1:-1])\n",
        "print(mylist[-1:1:-2])\n",
        "print(mylist[::-1])"
      ],
      "execution_count": null,
      "outputs": [
        {
          "output_type": "stream",
          "text": [
            "[14, 13, 12, 11, 10, 9, 8, 7, 6, 5, 4, 3]\n",
            "[14, 12, 10, 8, 6, 4]\n",
            "[14, 13, 12, 11, 10, 9, 8, 7, 6, 5, 4, 3, 2, 1]\n"
          ],
          "name": "stdout"
        }
      ]
    },
    {
      "cell_type": "code",
      "metadata": {
        "colab": {
          "base_uri": "https://localhost:8080/"
        },
        "id": "0n3ATFHw6jbs",
        "outputId": "90ee7f08-ff26-4a7f-941b-41170cbe9cc2"
      },
      "source": [
        "url = 'https://www.youtube.com/watch?v=ajrtAuDg3yw'\n",
        "\n",
        "print(url[::-1])\n",
        "print(url[8:])"
      ],
      "execution_count": null,
      "outputs": [
        {
          "output_type": "stream",
          "text": [
            "wy3gDuAtrja=v?hctaw/moc.ebutuoy.www//:sptth\n",
            "www.youtube.com/watch?v=ajrtAuDg3yw\n"
          ],
          "name": "stdout"
        }
      ]
    },
    {
      "cell_type": "code",
      "metadata": {
        "colab": {
          "base_uri": "https://localhost:8080/"
        },
        "id": "-PzRp_j291tr",
        "outputId": "2517bdea-2a74-4edd-dbb4-4fabfaa308cb"
      },
      "source": [
        "courses = ['History', 'Math', 'Pnysics', 'CompSci']\n",
        "courses2 = ['Education', 'Management']\n",
        "courses.append('art')\n",
        "courses.insert(0, \"Art\")\n",
        "# courses.insert(0, courses2)\n",
        "courses.extend(courses2)\n",
        "courses.remove('Math')\n",
        "courses.pop()\n",
        "popped = courses.pop()\n",
        "courses.reverse()\n",
        "\n",
        "mylist = [1, 2, 14, 4, 5, 6, 7, 8, 7, 10 , 11, 21, 13, 14]\n",
        "# print(popped)\n",
        "\n",
        "# mylist.sort(reverse=True)\n",
        "# courses.sort(reverse=True)\n",
        "\n",
        "sorted(courses)\n",
        "sorted(mylist)\n",
        "print(courses)\n",
        "print(mylist)"
      ],
      "execution_count": null,
      "outputs": [
        {
          "output_type": "stream",
          "text": [
            "['art', 'CompSci', 'Pnysics', 'History', 'Art']\n",
            "[1, 2, 14, 4, 5, 6, 7, 8, 7, 10, 11, 21, 13, 14]\n"
          ],
          "name": "stdout"
        }
      ]
    },
    {
      "cell_type": "code",
      "metadata": {
        "colab": {
          "base_uri": "https://localhost:8080/"
        },
        "id": "iUVicWXHBFFO",
        "outputId": "9836af8c-a9a6-406a-989c-1dff5d4e96e1"
      },
      "source": [
        "courses = ['CompSci', 'Pnysics', 'History', 'Art']\n",
        "# courses.sort()\n",
        "sorted_courses = sorted(courses)\n",
        "# courses.sort(reverse=True)\n",
        "# print(courses)\n",
        "# print(sorted_courses)\n",
        "print(courses.index('History'))"
      ],
      "execution_count": null,
      "outputs": [
        {
          "output_type": "stream",
          "text": [
            "2\n"
          ],
          "name": "stdout"
        }
      ]
    },
    {
      "cell_type": "code",
      "metadata": {
        "colab": {
          "base_uri": "https://localhost:8080/"
        },
        "id": "eTVLYCg5CXPn",
        "outputId": "ab417aee-a9e2-4939-9b0e-082d8b5cea4e"
      },
      "source": [
        "mylist = [1, 2, 14, 4, 5, 6, 7, 8, 7, 10 , 11, 21, 13, 14]\n",
        "\n",
        "print(min(mylist))\n",
        "print(max(mylist))\n",
        "print(sum(mylist))\n",
        "print(sum(mylist, 100))"
      ],
      "execution_count": null,
      "outputs": [
        {
          "output_type": "stream",
          "text": [
            "1\n",
            "21\n",
            "123\n",
            "223\n"
          ],
          "name": "stdout"
        }
      ]
    },
    {
      "cell_type": "code",
      "metadata": {
        "colab": {
          "base_uri": "https://localhost:8080/"
        },
        "id": "1nHzNIjkC4ZR",
        "outputId": "1f36f9b4-21eb-4692-d308-43e2e95baac8"
      },
      "source": [
        "listem = [1, 2, 14, 4, 5, 6, 45, 8, 7, 10, 11, 21, 13, 14]\n",
        "\n",
        "# sorted_listem = sorted(listem)\n",
        "# print(sorted_listem)\n",
        "\n",
        "listem.sort()\n",
        "print(listem)"
      ],
      "execution_count": null,
      "outputs": [
        {
          "output_type": "stream",
          "text": [
            "[1, 2, 4, 5, 6, 7, 8, 10, 11, 13, 14, 14, 21, 45]\n"
          ],
          "name": "stdout"
        }
      ]
    },
    {
      "cell_type": "code",
      "metadata": {
        "colab": {
          "base_uri": "https://localhost:8080/"
        },
        "id": "B62JdYOgMmcm",
        "outputId": "6ac48a92-c8c8-4583-afcc-e56d0fb2e6f7"
      },
      "source": [
        "courses = ['CompSci', 'Pnysics', 'History', 'Art']\n",
        "\n",
        "print('Art' in courses)"
      ],
      "execution_count": null,
      "outputs": [
        {
          "output_type": "stream",
          "text": [
            "True\n"
          ],
          "name": "stdout"
        }
      ]
    },
    {
      "cell_type": "code",
      "metadata": {
        "colab": {
          "base_uri": "https://localhost:8080/"
        },
        "id": "rB9FQtjZM1Qb",
        "outputId": "c12489f6-3bd5-49dd-e21d-a1de635580af"
      },
      "source": [
        "courses = ['CompSci', 'Pnysics', 'History', 'Art']\n",
        "\n",
        "for i in courses:\n",
        "    print(i)"
      ],
      "execution_count": null,
      "outputs": [
        {
          "output_type": "stream",
          "text": [
            "CompSci\n",
            "Pnysics\n",
            "History\n",
            "Art\n"
          ],
          "name": "stdout"
        }
      ]
    },
    {
      "cell_type": "code",
      "metadata": {
        "colab": {
          "base_uri": "https://localhost:8080/"
        },
        "id": "tivmtbzSNVvl",
        "outputId": "f1984ae3-8a20-47d0-fef1-33bdf856b4bd"
      },
      "source": [
        "courses = ['CompSci', 'Pnysics', 'History', 'Art']\n",
        "\n",
        "for index, course in enumerate(courses, start=1):\n",
        "    print(index, course)"
      ],
      "execution_count": null,
      "outputs": [
        {
          "output_type": "stream",
          "text": [
            "1 CompSci\n",
            "2 Pnysics\n",
            "3 History\n",
            "4 Art\n"
          ],
          "name": "stdout"
        }
      ]
    },
    {
      "cell_type": "code",
      "metadata": {
        "id": "C5Rfyho-OKTC",
        "colab": {
          "base_uri": "https://localhost:8080/",
          "height": 373
        },
        "outputId": "0ce21422-beb7-47e3-ae7f-0cf34653d1b9"
      },
      "source": [
        "def validate_and_execute():\n",
        "    try:\n",
        "        user_input_number = int(num_of_days_element)\n",
        "        if user_input_number > 0:\n",
        "            calculated_value = num_of_days_element(user_input_number)\n",
        "            print(calculated_value)\n",
        "        elif user_input_number == 0:\n",
        "            print('you entered a 0, please enter a valid positive number')\n",
        "        else:\n",
        "            print('you entered a negative number, no conversion for you!')\n",
        "    except ValueError:\n",
        "        print('your input is not a valid number. Don\\'t ruin my program!')\n",
        "\n",
        "user_input = ''\n",
        "while user_input != 'exit':\n",
        "    user_input = input('Hey user, enter a number of days and I will convert it ot hours!')\n",
        "    print(type(user_input.split(',')))\n",
        "    print(user_input.split(','))\n",
        "    for num_of_days_element in user_input.split(','):\n",
        "        validate_and_execute()"
      ],
      "execution_count": null,
      "outputs": [
        {
          "output_type": "stream",
          "text": [
            "Hey user, enter a number of days and I will convert it ot hours!10, 20\n",
            "<class 'list'>\n",
            "['10', ' 20']\n"
          ],
          "name": "stdout"
        },
        {
          "output_type": "error",
          "ename": "TypeError",
          "evalue": "ignored",
          "traceback": [
            "\u001b[0;31m---------------------------------------------------------------------------\u001b[0m",
            "\u001b[0;31mTypeError\u001b[0m                                 Traceback (most recent call last)",
            "\u001b[0;32m<ipython-input-66-2a2d524dcd27>\u001b[0m in \u001b[0;36m<module>\u001b[0;34m()\u001b[0m\n\u001b[1;32m     18\u001b[0m     \u001b[0mprint\u001b[0m\u001b[0;34m(\u001b[0m\u001b[0muser_input\u001b[0m\u001b[0;34m.\u001b[0m\u001b[0msplit\u001b[0m\u001b[0;34m(\u001b[0m\u001b[0;34m','\u001b[0m\u001b[0;34m)\u001b[0m\u001b[0;34m)\u001b[0m\u001b[0;34m\u001b[0m\u001b[0;34m\u001b[0m\u001b[0m\n\u001b[1;32m     19\u001b[0m     \u001b[0;32mfor\u001b[0m \u001b[0mnum_of_days_element\u001b[0m \u001b[0;32min\u001b[0m \u001b[0muser_input\u001b[0m\u001b[0;34m.\u001b[0m\u001b[0msplit\u001b[0m\u001b[0;34m(\u001b[0m\u001b[0;34m','\u001b[0m\u001b[0;34m)\u001b[0m\u001b[0;34m:\u001b[0m\u001b[0;34m\u001b[0m\u001b[0;34m\u001b[0m\u001b[0m\n\u001b[0;32m---> 20\u001b[0;31m         \u001b[0mvalidate_and_execute\u001b[0m\u001b[0;34m(\u001b[0m\u001b[0;34m)\u001b[0m\u001b[0;34m\u001b[0m\u001b[0;34m\u001b[0m\u001b[0m\n\u001b[0m",
            "\u001b[0;32m<ipython-input-66-2a2d524dcd27>\u001b[0m in \u001b[0;36mvalidate_and_execute\u001b[0;34m()\u001b[0m\n\u001b[1;32m      3\u001b[0m         \u001b[0muser_input_number\u001b[0m \u001b[0;34m=\u001b[0m \u001b[0mint\u001b[0m\u001b[0;34m(\u001b[0m\u001b[0mnum_of_days_element\u001b[0m\u001b[0;34m)\u001b[0m\u001b[0;34m\u001b[0m\u001b[0;34m\u001b[0m\u001b[0m\n\u001b[1;32m      4\u001b[0m         \u001b[0;32mif\u001b[0m \u001b[0muser_input_number\u001b[0m \u001b[0;34m>\u001b[0m \u001b[0;36m0\u001b[0m\u001b[0;34m:\u001b[0m\u001b[0;34m\u001b[0m\u001b[0;34m\u001b[0m\u001b[0m\n\u001b[0;32m----> 5\u001b[0;31m             \u001b[0mcalculated_value\u001b[0m \u001b[0;34m=\u001b[0m \u001b[0mnum_of_days_element\u001b[0m\u001b[0;34m(\u001b[0m\u001b[0muser_input_number\u001b[0m\u001b[0;34m)\u001b[0m\u001b[0;34m\u001b[0m\u001b[0;34m\u001b[0m\u001b[0m\n\u001b[0m\u001b[1;32m      6\u001b[0m             \u001b[0mprint\u001b[0m\u001b[0;34m(\u001b[0m\u001b[0mcalculated_value\u001b[0m\u001b[0;34m)\u001b[0m\u001b[0;34m\u001b[0m\u001b[0;34m\u001b[0m\u001b[0m\n\u001b[1;32m      7\u001b[0m         \u001b[0;32melif\u001b[0m \u001b[0muser_input_number\u001b[0m \u001b[0;34m==\u001b[0m \u001b[0;36m0\u001b[0m\u001b[0;34m:\u001b[0m\u001b[0;34m\u001b[0m\u001b[0;34m\u001b[0m\u001b[0m\n",
            "\u001b[0;31mTypeError\u001b[0m: 'str' object is not callable"
          ]
        }
      ]
    },
    {
      "cell_type": "code",
      "metadata": {
        "colab": {
          "base_uri": "https://localhost:8080/"
        },
        "id": "gxbWAWapsOlO",
        "outputId": "ce05a85a-8adb-41a6-f33e-8e28c40bfb47"
      },
      "source": [
        "months = ['January', 'February', 'March']\n",
        "print(months[2])\n",
        "months.append('April')\n",
        "print(months[3])"
      ],
      "execution_count": null,
      "outputs": [
        {
          "output_type": "stream",
          "text": [
            "March\n",
            "April\n"
          ],
          "name": "stdout"
        }
      ]
    },
    {
      "cell_type": "code",
      "metadata": {
        "id": "dXMxyYJS5j_1"
      },
      "source": [
        "url = ['wy3gDuAtrja=v?hctaw/moc.ebutuoy.www//:sptth']\n"
      ],
      "execution_count": null,
      "outputs": []
    },
    {
      "cell_type": "code",
      "metadata": {
        "id": "7OAJ5pvI6_lM",
        "colab": {
          "base_uri": "https://localhost:8080/"
        },
        "outputId": "836f5bba-6574-46f2-ebdc-94f108cbacad"
      },
      "source": [
        "courses = ['History', 'Math', 'Pnysics', 'CompSci']\n",
        "\n",
        "courses.reverse()\n",
        "\n",
        "print(courses)"
      ],
      "execution_count": null,
      "outputs": [
        {
          "output_type": "stream",
          "text": [
            "['CompSci', 'Pnysics', 'Math', 'History']\n"
          ],
          "name": "stdout"
        }
      ]
    },
    {
      "cell_type": "code",
      "metadata": {
        "colab": {
          "base_uri": "https://localhost:8080/"
        },
        "id": "vZ8735AKyAme",
        "outputId": "c7ac8a1f-678a-46f7-fc2e-226a0501bcdb"
      },
      "source": [
        "my_list = list(range(1, 11))\n",
        "\n",
        "print(my_list[::-1])"
      ],
      "execution_count": 4,
      "outputs": [
        {
          "output_type": "stream",
          "text": [
            "[10, 9, 8, 7, 6, 5, 4, 3, 2, 1]\n"
          ],
          "name": "stdout"
        }
      ]
    },
    {
      "cell_type": "code",
      "metadata": {
        "colab": {
          "base_uri": "https://localhost:8080/"
        },
        "id": "cgPIoeEWyvGg",
        "outputId": "bbb7ebe1-d4a9-4cc7-bf5f-9344541f1ae2"
      },
      "source": [
        "my_list.sort(reverse=True)\n",
        "print(my_list)"
      ],
      "execution_count": 5,
      "outputs": [
        {
          "output_type": "stream",
          "text": [
            "[10, 9, 8, 7, 6, 5, 4, 3, 2, 1]\n"
          ],
          "name": "stdout"
        }
      ]
    },
    {
      "cell_type": "code",
      "metadata": {
        "colab": {
          "base_uri": "https://localhost:8080/"
        },
        "id": "Qu-dxFEfAEbf",
        "outputId": "a057b976-3203-40c0-f64e-e26a013c24a6"
      },
      "source": [
        "listem = [1, [1, 'one', 2, 'two', 3, 'three'], 4]\n",
        "\n",
        "print(listem[1][1::2])\n",
        "          "
      ],
      "execution_count": 10,
      "outputs": [
        {
          "output_type": "stream",
          "text": [
            "['one', 'two', 'three']\n"
          ],
          "name": "stdout"
        }
      ]
    },
    {
      "cell_type": "code",
      "metadata": {
        "colab": {
          "base_uri": "https://localhost:8080/"
        },
        "id": "jFwCqnWWT0-x",
        "outputId": "0c01500a-f4ac-425a-f0cb-2adc3b0445c1"
      },
      "source": [
        "# Create a new list.. remove repeated numbers\n",
        "\n",
        "numbers = [2, 3, 2, 4, 6, 6, 3 , 1, 8]\n",
        "uniques = []\n",
        "for number in numbers:\n",
        "    if number not in uniques:\n",
        "        uniques.append(number)\n",
        "print(uniques)\n",
        "uniques.sort()\n",
        "print(uniques)\n",
        "uniques.reverse()\n",
        "print(uniques)\n"
      ],
      "execution_count": 15,
      "outputs": [
        {
          "output_type": "stream",
          "text": [
            "[2, 3, 4, 6, 1, 8]\n",
            "[1, 2, 3, 4, 6, 8]\n",
            "[8, 6, 4, 3, 2, 1]\n"
          ],
          "name": "stdout"
        }
      ]
    }
  ]
}