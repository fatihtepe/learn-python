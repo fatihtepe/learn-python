{
  "nbformat": 4,
  "nbformat_minor": 0,
  "metadata": {
    "colab": {
      "name": "May26_sudoku_etc.ipynb",
      "provenance": [],
      "authorship_tag": "ABX9TyMtNOaQdO1dC/js2mIvJ8Kh",
      "include_colab_link": true
    },
    "kernelspec": {
      "name": "python3",
      "display_name": "Python 3"
    },
    "language_info": {
      "name": "python"
    }
  },
  "cells": [
    {
      "cell_type": "markdown",
      "metadata": {
        "id": "view-in-github",
        "colab_type": "text"
      },
      "source": [
        "<a href=\"https://colab.research.google.com/github/fatihtepe/learn_python/blob/main/May26_sudoku_etc.ipynb\" target=\"_parent\"><img src=\"https://colab.research.google.com/assets/colab-badge.svg\" alt=\"Open In Colab\"/></a>"
      ]
    },
    {
      "cell_type": "code",
      "metadata": {
        "colab": {
          "base_uri": "https://localhost:8080/"
        },
        "id": "55FRasmrrA1s",
        "outputId": "61dedf56-b985-4a4b-c598-6eca9e9af032"
      },
      "source": [
        "sudoku = [\n",
        "    [0, 0, 0, 0, 6, 4, 0, 0, 0],\n",
        "    [7, 0, 0, 0, 0, 0, 3, 9, 0],\n",
        "    [8, 0, 0, 0, 0, 0, 0, 0, 0],\n",
        "    [0, 0, 0, 5, 0, 2, 0, 6, 0],\n",
        "    [0, 8, 0, 4, 0, 0, 0, 0, 0],\n",
        "    [3, 5, 0, 6, 0, 0, 0, 7, 0],\n",
        "    [0, 0, 2, 0, 0, 0, 1, 0, 3],\n",
        "    [0, 0, 1, 0, 5, 9, 0, 0, 0],\n",
        "    [0, 0, 0, 0, 0, 0, 7, 0, 0]\n",
        "]\n",
        "\n",
        "count = 0\n",
        "print('- ' * 15)\n",
        "for i in sudoku:\n",
        "    for j in range(len(i)):\n",
        "        print(i[j], ' ', end='')\n",
        "        if (j + 1) == 9:\n",
        "            print()\n",
        "            count += 1\n",
        "            if count % 3 == 0 and count != 0:\n",
        "                print('- ' * 15)\n",
        "        if (j + 1 ) % 3 == 0 and j != 0 and j != 8:\n",
        "          print('| ', end = '')"
      ],
      "execution_count": 12,
      "outputs": [
        {
          "output_type": "stream",
          "text": [
            "- - - - - - - - - - - - - - - \n",
            "0  0  0  | 0  6  4  | 0  0  0  \n",
            "7  0  0  | 0  0  0  | 3  9  0  \n",
            "8  0  0  | 0  0  0  | 0  0  0  \n",
            "- - - - - - - - - - - - - - - \n",
            "0  0  0  | 5  0  2  | 0  6  0  \n",
            "0  8  0  | 4  0  0  | 0  0  0  \n",
            "3  5  0  | 6  0  0  | 0  7  0  \n",
            "- - - - - - - - - - - - - - - \n",
            "0  0  2  | 0  0  0  | 1  0  3  \n",
            "0  0  1  | 0  5  9  | 0  0  0  \n",
            "0  0  0  | 0  0  0  | 7  0  0  \n",
            "- - - - - - - - - - - - - - - \n"
          ],
          "name": "stdout"
        }
      ]
    },
    {
      "cell_type": "code",
      "metadata": {
        "colab": {
          "base_uri": "https://localhost:8080/"
        },
        "id": "7m-5SAL0wJNP",
        "outputId": "d0a8acb3-98b3-4b09-b217-0e2ee809b292"
      },
      "source": [
        "x = [([1], [2, 3], (4,5,6))]\n",
        "\n",
        "print(len(x))"
      ],
      "execution_count": 13,
      "outputs": [
        {
          "output_type": "stream",
          "text": [
            "1\n"
          ],
          "name": "stdout"
        }
      ]
    },
    {
      "cell_type": "code",
      "metadata": {
        "colab": {
          "base_uri": "https://localhost:8080/"
        },
        "id": "DbM8FQsgwjxt",
        "outputId": "7c071f71-0eb1-475a-dde5-c2128ca0a60f"
      },
      "source": [
        "x = [([1], [2, 3], (4,5,6))]\n",
        "a = []\n",
        "for i in x:\n",
        "    for j in i:\n",
        "        for k in j:\n",
        "            a.append(k)\n",
        "print(a)\n"
      ],
      "execution_count": 18,
      "outputs": [
        {
          "output_type": "stream",
          "text": [
            "[1, 2, 3, 4, 5, 6]\n"
          ],
          "name": "stdout"
        }
      ]
    },
    {
      "cell_type": "code",
      "metadata": {
        "colab": {
          "base_uri": "https://localhost:8080/"
        },
        "id": "u9I3n0DKzCqS",
        "outputId": "05e6ac97-ca0e-4737-f742-50d5aece846a"
      },
      "source": [
        "x = [([1], [2, 3], (4,5,6))]\n",
        "\n",
        "a = {k for i in x for j in i for k in j}\n",
        "\n",
        "print(a)"
      ],
      "execution_count": 27,
      "outputs": [
        {
          "output_type": "stream",
          "text": [
            "{1, 2, 3, 4, 5, 6}\n"
          ],
          "name": "stdout"
        }
      ]
    },
    {
      "cell_type": "code",
      "metadata": {
        "colab": {
          "base_uri": "https://localhost:8080/"
        },
        "id": "t5_b9k8F2h26",
        "outputId": "0499644d-8d47-4a57-e5e3-1f38dcd3ba61"
      },
      "source": [
        "xList = \"elma armut muz\".split()\n",
        "xList\n",
        "yList = \"selvi vahit ayşe\".split()\n",
        "yList\n",
        "\n",
        "for i in xList:\n",
        "  for j in yList:\n",
        "    result.append(i + j)\n",
        "print(result)\n",
        "\n",
        "neresult = [i + j for i in xList for j in yList]\n",
        "print(neresult)"
      ],
      "execution_count": 34,
      "outputs": [
        {
          "output_type": "stream",
          "text": [
            "['elmaselvi', 'elmavahit', 'elmaayşe', 'armutselvi', 'armutvahit', 'armutayşe', 'muzselvi', 'muzvahit', 'muzayşe', 'elmaselvi', 'elmavahit', 'elmaayşe', 'armutselvi', 'armutvahit', 'armutayşe', 'muzselvi', 'muzvahit', 'muzayşe']\n",
            "['elmaselvi', 'elmavahit', 'elmaayşe', 'armutselvi', 'armutvahit', 'armutayşe', 'muzselvi', 'muzvahit', 'muzayşe']\n"
          ],
          "name": "stdout"
        }
      ]
    },
    {
      "cell_type": "code",
      "metadata": {
        "colab": {
          "base_uri": "https://localhost:8080/"
        },
        "id": "NzUisIX52plN",
        "outputId": "9c6b0564-9acd-4fae-aeb6-26afa887523c"
      },
      "source": [
        "result = []\n",
        "\n",
        "for i in range(4):\n",
        "  if i % 2 == 0:\n",
        "    for j in ['bir', 'iki', 'uc']:\n",
        "      result.append(str(i) + '-->' + j)\n",
        "\n",
        "print(result)\n"
      ],
      "execution_count": 43,
      "outputs": [
        {
          "output_type": "stream",
          "text": [
            "['0-->bir', '0-->iki', '0-->uc', '2-->bir', '2-->iki', '2-->uc']\n"
          ],
          "name": "stdout"
        }
      ]
    },
    {
      "cell_type": "code",
      "metadata": {
        "colab": {
          "base_uri": "https://localhost:8080/"
        },
        "id": "P22sgM4I4ziC",
        "outputId": "8e5f6ee0-9046-4ac7-d41c-a19f9008d8d8"
      },
      "source": [
        "result = [str(i) + '-->' + j  for i in range (5) if i % 2 == 0 for j in ['bir', 'iki', 'üç']]\n",
        "print(result)"
      ],
      "execution_count": 46,
      "outputs": [
        {
          "output_type": "stream",
          "text": [
            "['0-->bir', '0-->iki', '0-->üç', '2-->bir', '2-->iki', '2-->üç', '4-->bir', '4-->iki', '4-->üç']\n"
          ],
          "name": "stdout"
        }
      ]
    },
    {
      "cell_type": "code",
      "metadata": {
        "colab": {
          "base_uri": "https://localhost:8080/"
        },
        "id": "qlQ88lSG7H_J",
        "outputId": "93c5d13c-86b6-459a-8700-3b3226d760c9"
      },
      "source": [
        "# function shows number of repeated numbers\n",
        "\n",
        "\n",
        "def equal(a, b, c) :\n",
        "    numbers = [a, b, c]\n",
        "    result = numbers.count(max(numbers, key = numbers.count))\n",
        "    if result > 1 :\n",
        "        return result\n",
        "    else :\n",
        "        return 0\n",
        "\n",
        "equal(4,4,5)"
      ],
      "execution_count": 55,
      "outputs": [
        {
          "output_type": "execute_result",
          "data": {
            "text/plain": [
              "2"
            ]
          },
          "metadata": {
            "tags": []
          },
          "execution_count": 55
        }
      ]
    },
    {
      "cell_type": "code",
      "metadata": {
        "colab": {
          "base_uri": "https://localhost:8080/"
        },
        "id": "IF6jjiZD9sz7",
        "outputId": "5d934564-fd3a-4cea-ee72-b4bf184a2cd4"
      },
      "source": [
        "def equal(*a) :\n",
        "    numbers = list(a)\n",
        "    result = numbers.count(max(numbers, key = numbers.count))\n",
        "    if result > 1 :\n",
        "        return result\n",
        "    else :\n",
        "        return 0\n",
        "\n",
        "equal(5, 5, 6, 6, 7, 5)"
      ],
      "execution_count": 58,
      "outputs": [
        {
          "output_type": "execute_result",
          "data": {
            "text/plain": [
              "3"
            ]
          },
          "metadata": {
            "tags": []
          },
          "execution_count": 58
        }
      ]
    },
    {
      "cell_type": "code",
      "metadata": {
        "colab": {
          "base_uri": "https://localhost:8080/"
        },
        "id": "prgqZTpe-7Su",
        "outputId": "110c70c8-6a73-4869-c46e-43d0eeb2b874"
      },
      "source": [
        "a = []\n",
        "def equals(*args):\n",
        "  r = max (zip(map(args.count, args), args))\n",
        "  return ('Encok tekrar eden sayi \"{}\" {} kez tekrar etmistir'.format(r[1], r[0]))\n",
        "print(equals(1,3,3))"
      ],
      "execution_count": 62,
      "outputs": [
        {
          "output_type": "stream",
          "text": [
            "Encok tekrar eden sayi \"3\" 2 kez tekrar etmistir\n"
          ],
          "name": "stdout"
        }
      ]
    },
    {
      "cell_type": "code",
      "metadata": {
        "colab": {
          "base_uri": "https://localhost:8080/"
        },
        "id": "QURCFExFKrq_",
        "outputId": "819c903b-ff34-4212-cead-f04371a85f09"
      },
      "source": [
        "L = [\"right 20\", \"right 30\", \"left 50\", \"up 10\", \"down 20\"]\n",
        "x = y = 0\n",
        "for i in range(len(L)) :\n",
        "  if L[i].startswith(\"r\") :  x = x + int(L[i].split()[1])\n",
        "  elif L[i].startswith(\"l\") :  x = x - int(L[i].split()[1])\n",
        "  elif L[i].startswith(\"u\") :  y = y + int(L[i].split()[1])\n",
        "  elif L[i].startswith(\"d\") :  y = y - int(L[i].split()[1])\n",
        "[x, y]"
      ],
      "execution_count": 69,
      "outputs": [
        {
          "output_type": "execute_result",
          "data": {
            "text/plain": [
              "[0, -10]"
            ]
          },
          "metadata": {
            "tags": []
          },
          "execution_count": 69
        }
      ]
    },
    {
      "cell_type": "code",
      "metadata": {
        "colab": {
          "base_uri": "https://localhost:8080/"
        },
        "id": "z5NtBQs0OwPT",
        "outputId": "95db5ad6-2891-4527-b9a3-5284223102e1"
      },
      "source": [
        "print('http://www.google.co.uk'.endswith(('.com', 'co.uk')))"
      ],
      "execution_count": 72,
      "outputs": [
        {
          "output_type": "stream",
          "text": [
            "True\n"
          ],
          "name": "stdout"
        }
      ]
    },
    {
      "cell_type": "code",
      "metadata": {
        "colab": {
          "base_uri": "https://localhost:8080/"
        },
        "id": "VArJmoFYPAEk",
        "outputId": "4eaaf29e-1bdb-400d-f92f-11cd3cadf7ca"
      },
      "source": [
        "ops = {'+': (lambda x, y: x + y), '-': (lambda x, y: x-d)}\n",
        "\n",
        "ops['+']"
      ],
      "execution_count": 76,
      "outputs": [
        {
          "output_type": "execute_result",
          "data": {
            "text/plain": [
              "<function __main__.<lambda>>"
            ]
          },
          "metadata": {
            "tags": []
          },
          "execution_count": 76
        }
      ]
    },
    {
      "cell_type": "code",
      "metadata": {
        "colab": {
          "base_uri": "https://localhost:8080/"
        },
        "id": "RcfbhTbtPjU3",
        "outputId": "5e3553d1-e53b-4c10-f4ac-5ca8ece86436"
      },
      "source": [
        "ops = {'+': (lambda x, y: x + y), '-': (lambda x, y: x-d)}\n",
        "\n",
        "ops['+'](3,5)"
      ],
      "execution_count": 77,
      "outputs": [
        {
          "output_type": "execute_result",
          "data": {
            "text/plain": [
              "8"
            ]
          },
          "metadata": {
            "tags": []
          },
          "execution_count": 77
        }
      ]
    },
    {
      "cell_type": "code",
      "metadata": {
        "colab": {
          "base_uri": "https://localhost:8080/"
        },
        "id": "t7G3AYX8QAP1",
        "outputId": "ed5ac2f3-15f2-4ce0-e629-0a5a4d62aa93"
      },
      "source": [
        "normal = {'bir': 11, 'iki': 22}\n",
        "\n",
        "normal['bir']"
      ],
      "execution_count": 78,
      "outputs": [
        {
          "output_type": "execute_result",
          "data": {
            "text/plain": [
              "11"
            ]
          },
          "metadata": {
            "tags": []
          },
          "execution_count": 78
        }
      ]
    }
  ]
}