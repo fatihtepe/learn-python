{
  "nbformat": 4,
  "nbformat_minor": 0,
  "metadata": {
    "kernelspec": {
      "display_name": "Python 3",
      "language": "python",
      "name": "python3"
    },
    "language_info": {
      "codemirror_mode": {
        "name": "ipython",
        "version": 3
      },
      "file_extension": ".py",
      "mimetype": "text/x-python",
      "name": "python",
      "nbconvert_exporter": "python",
      "pygments_lexer": "ipython3",
      "version": "3.7.3"
    },
    "colab": {
      "name": "25_PythonSessions-29-May-2021.ipynb",
      "provenance": [],
      "include_colab_link": true
    }
  },
  "cells": [
    {
      "cell_type": "markdown",
      "metadata": {
        "id": "view-in-github",
        "colab_type": "text"
      },
      "source": [
        "<a href=\"https://colab.research.google.com/github/fatihtepe/learn_python/blob/main/25_PythonSessions_29_May_2021.ipynb\" target=\"_parent\"><img src=\"https://colab.research.google.com/assets/colab-badge.svg\" alt=\"Open In Colab\"/></a>"
      ]
    },
    {
      "cell_type": "markdown",
      "metadata": {
        "id": "12wQM1gexON4"
      },
      "source": [
        "<img src=\"https://docs.google.com/uc?id=14xeXxFrVRjvOoUYWn_GuyE-v84wVzrqr\" class=\"img-fluid\" alt=\"CLRWY\" width=\"400\" height=\"200\">"
      ]
    },
    {
      "cell_type": "markdown",
      "metadata": {
        "id": "pa-8RTxKxON5"
      },
      "source": [
        "<h1><p style=\"text-align: center; color:darkblue\">Python In-Class, <br>29 May 2021</p><h1>"
      ]
    },
    {
      "cell_type": "markdown",
      "metadata": {
        "id": "Q3PizoHpxON6"
      },
      "source": [
        "### Quesiton - given a list `[1,2,3]` get an all possible output permutation of these numbers in a list."
      ]
    },
    {
      "cell_type": "markdown",
      "metadata": {
        "id": "dYj5drbsxON6"
      },
      "source": [
        "Example:\n",
        "\n",
        "Input: ``[1,2,3]``\n",
        "\n",
        "Output:\n",
        "```\n",
        "[\n",
        "  [1,2,3],\n",
        "  [1,3,2],\n",
        "  [2,1,3],\n",
        "  [2,3,1],\n",
        "  [3,1,2],\n",
        "  [3,2,1]\n",
        "]```"
      ]
    },
    {
      "cell_type": "code",
      "metadata": {
        "id": "4efn2pwHxON7"
      },
      "source": [
        "solution = [[]]"
      ],
      "execution_count": null,
      "outputs": []
    },
    {
      "cell_type": "markdown",
      "metadata": {
        "id": "KFaZd260xON7"
      },
      "source": [
        "### Kalem kağıt kullarak yapılması öngörülen iterasyon çalışması"
      ]
    },
    {
      "cell_type": "code",
      "metadata": {
        "id": "4Bq3frL8xON8"
      },
      "source": [
        "# solution-1 = [[1], [2], [3]]\n",
        "# solution-2 = [[1,2], [1,3], [2,1], [2,3], [3,1], [3,2]]\n",
        "# solution-3 = [[1,2,3], [1,3,2], [2,1,3], [2,3,1], [3,1,2], [3,2,1]]"
      ],
      "execution_count": null,
      "outputs": []
    },
    {
      "cell_type": "code",
      "metadata": {
        "id": "BB6mmX3hxON8",
        "outputId": "f2da3149-c633-40b6-b7c9-157a4e9cb1fd"
      },
      "source": [
        "for i in [[]] :\n",
        "    print(i)"
      ],
      "execution_count": null,
      "outputs": [
        {
          "output_type": "stream",
          "text": [
            "[]\n"
          ],
          "name": "stdout"
        }
      ]
    },
    {
      "cell_type": "code",
      "metadata": {
        "id": "hs5hCo3exON9"
      },
      "source": [
        "num = [1,2,3]"
      ],
      "execution_count": null,
      "outputs": []
    },
    {
      "cell_type": "code",
      "metadata": {
        "id": "ajlADOruxON9",
        "outputId": "00da7c11-1f3a-47c3-f40f-f8cc057c29e0"
      },
      "source": [
        "num_set = set(num)\n",
        "num_set"
      ],
      "execution_count": null,
      "outputs": [
        {
          "output_type": "execute_result",
          "data": {
            "text/plain": [
              "{1, 2, 3}"
            ]
          },
          "metadata": {
            "tags": []
          },
          "execution_count": 6
        }
      ]
    },
    {
      "cell_type": "code",
      "metadata": {
        "id": "BEaUu83QxON9",
        "outputId": "bb0a3b8e-992f-42fd-89d3-4d438076a6ac"
      },
      "source": [
        "set_bos_list = set([])\n",
        "set_bos_list"
      ],
      "execution_count": null,
      "outputs": [
        {
          "output_type": "execute_result",
          "data": {
            "text/plain": [
              "set()"
            ]
          },
          "metadata": {
            "tags": []
          },
          "execution_count": 7
        }
      ]
    },
    {
      "cell_type": "code",
      "metadata": {
        "id": "CuwDjlw9xON-",
        "outputId": "e166966f-716a-4198-9547-e9f4f74790ce"
      },
      "source": [
        "num_set - set_bos_list"
      ],
      "execution_count": null,
      "outputs": [
        {
          "output_type": "execute_result",
          "data": {
            "text/plain": [
              "{1, 2, 3}"
            ]
          },
          "metadata": {
            "tags": []
          },
          "execution_count": 8
        }
      ]
    },
    {
      "cell_type": "code",
      "metadata": {
        "id": "BHqd2F6TxON-",
        "outputId": "f0b31f0c-306a-404b-9725-579de7e615f4"
      },
      "source": [
        "num_set - set([1])"
      ],
      "execution_count": null,
      "outputs": [
        {
          "output_type": "execute_result",
          "data": {
            "text/plain": [
              "{2, 3}"
            ]
          },
          "metadata": {
            "tags": []
          },
          "execution_count": 9
        }
      ]
    },
    {
      "cell_type": "code",
      "metadata": {
        "id": "G6lENzzhxON-",
        "outputId": "db1d77b6-651c-454f-f284-19ea8d2424d5"
      },
      "source": [
        "num_set - set([2])"
      ],
      "execution_count": null,
      "outputs": [
        {
          "output_type": "execute_result",
          "data": {
            "text/plain": [
              "{1, 3}"
            ]
          },
          "metadata": {
            "tags": []
          },
          "execution_count": 10
        }
      ]
    },
    {
      "cell_type": "code",
      "metadata": {
        "id": "Aw-8penZxON-",
        "outputId": "d4513fcb-e8e3-4633-a9be-ed684e10363c"
      },
      "source": [
        "num_set - set([2,1])"
      ],
      "execution_count": null,
      "outputs": [
        {
          "output_type": "execute_result",
          "data": {
            "text/plain": [
              "{3}"
            ]
          },
          "metadata": {
            "tags": []
          },
          "execution_count": 11
        }
      ]
    },
    {
      "cell_type": "code",
      "metadata": {
        "id": "10OSiuo4xON_",
        "outputId": "9febeff7-2551-4e7b-8b36-4fe0ee687db7"
      },
      "source": [
        "[1] + [2,3]"
      ],
      "execution_count": null,
      "outputs": [
        {
          "output_type": "execute_result",
          "data": {
            "text/plain": [
              "[1, 2, 3]"
            ]
          },
          "metadata": {
            "tags": []
          },
          "execution_count": 13
        }
      ]
    },
    {
      "cell_type": "code",
      "metadata": {
        "id": "J7ATHLrUxON_",
        "outputId": "72d0bfc6-32ea-42ac-ccc9-e4795d892878"
      },
      "source": [
        "[] + [2]"
      ],
      "execution_count": null,
      "outputs": [
        {
          "output_type": "execute_result",
          "data": {
            "text/plain": [
              "[2]"
            ]
          },
          "metadata": {
            "tags": []
          },
          "execution_count": 14
        }
      ]
    },
    {
      "cell_type": "code",
      "metadata": {
        "id": "h8W-HsYXxON_",
        "outputId": "d83c5a98-8b3c-4add-c1ba-4d439894beeb"
      },
      "source": [
        "[1] + [2]"
      ],
      "execution_count": null,
      "outputs": [
        {
          "output_type": "execute_result",
          "data": {
            "text/plain": [
              "[1, 2]"
            ]
          },
          "metadata": {
            "tags": []
          },
          "execution_count": 15
        }
      ]
    },
    {
      "cell_type": "code",
      "metadata": {
        "id": "O2-iFtejxOOA",
        "outputId": "60196489-d502-4fd8-f5d9-01c2306da654"
      },
      "source": [
        "num_set - set([1] + [2])"
      ],
      "execution_count": null,
      "outputs": [
        {
          "output_type": "execute_result",
          "data": {
            "text/plain": [
              "{3}"
            ]
          },
          "metadata": {
            "tags": []
          },
          "execution_count": 16
        }
      ]
    },
    {
      "cell_type": "code",
      "metadata": {
        "id": "9BYC9QKXxOOA",
        "outputId": "78ae1156-cdb4-4375-e147-a55693264518"
      },
      "source": [
        "[1,2] + [3]"
      ],
      "execution_count": null,
      "outputs": [
        {
          "output_type": "execute_result",
          "data": {
            "text/plain": [
              "[1, 2, 3]"
            ]
          },
          "metadata": {
            "tags": []
          },
          "execution_count": 17
        }
      ]
    },
    {
      "cell_type": "code",
      "metadata": {
        "id": "k4VxSYyxxOOA"
      },
      "source": [
        "solution = [[]]"
      ],
      "execution_count": null,
      "outputs": []
    },
    {
      "cell_type": "code",
      "metadata": {
        "id": "hkGkU1FFxOOA"
      },
      "source": [
        "num_set = set(num)"
      ],
      "execution_count": null,
      "outputs": []
    },
    {
      "cell_type": "code",
      "metadata": {
        "id": "2cT6QtH5xOOA"
      },
      "source": [
        "num = [1,2,3]"
      ],
      "execution_count": null,
      "outputs": []
    },
    {
      "cell_type": "code",
      "metadata": {
        "id": "gT4pRvMHxOOB"
      },
      "source": [
        "# solution-1 = [[1], [2], [3]]\n",
        "# solution-2 = [[1,2], [1,3], [2,1], [2,3], [3,1], [3,2]]\n",
        "# solution-3 = [[1,2,3], [1,3,2], [2,1,3], [2,3,1], [3,1,2], [3,2,1]]"
      ],
      "execution_count": null,
      "outputs": []
    },
    {
      "cell_type": "code",
      "metadata": {
        "id": "45OU8sjgxOOB",
        "outputId": "d39a4ef2-39de-455d-e0a4-d94dab9a0959"
      },
      "source": [
        "for index in range(len(num)) :\n",
        "    solution = [i + [j] for i in solution for j in num_set.difference(set(i))]\n",
        "    print(solution)\n",
        "solution"
      ],
      "execution_count": null,
      "outputs": [
        {
          "output_type": "stream",
          "text": [
            "[[1], [2], [3]]\n",
            "[[1, 2], [1, 3], [2, 1], [2, 3], [3, 1], [3, 2]]\n",
            "[[1, 2, 3], [1, 3, 2], [2, 1, 3], [2, 3, 1], [3, 1, 2], [3, 2, 1]]\n"
          ],
          "name": "stdout"
        },
        {
          "output_type": "execute_result",
          "data": {
            "text/plain": [
              "[[1, 2, 3], [1, 3, 2], [2, 1, 3], [2, 3, 1], [3, 1, 2], [3, 2, 1]]"
            ]
          },
          "metadata": {
            "tags": []
          },
          "execution_count": 38
        }
      ]
    },
    {
      "cell_type": "code",
      "metadata": {
        "id": "ihwdk8ZvxOOB",
        "outputId": "def38d34-954e-4058-b45f-b23f9e4077b2"
      },
      "source": [
        "for i in range(3) :\n",
        "    print(\"bugün ayrılık günü\")"
      ],
      "execution_count": null,
      "outputs": [
        {
          "output_type": "stream",
          "text": [
            "bugün ayrılık günü\n",
            "bugün ayrılık günü\n",
            "bugün ayrılık günü\n"
          ],
          "name": "stdout"
        }
      ]
    },
    {
      "cell_type": "code",
      "metadata": {
        "id": "KP2uEtubxOOB",
        "outputId": "f3000f9a-d56f-4005-fff3-58dd576a2242"
      },
      "source": [
        "x = []\n",
        "for i in range(3) :\n",
        "    for j in range(4) :\n",
        "        x.append(j+i)\n",
        "x"
      ],
      "execution_count": null,
      "outputs": [
        {
          "output_type": "execute_result",
          "data": {
            "text/plain": [
              "[0, 1, 2, 3, 1, 2, 3, 4, 2, 3, 4, 5]"
            ]
          },
          "metadata": {
            "tags": []
          },
          "execution_count": 23
        }
      ]
    },
    {
      "cell_type": "code",
      "metadata": {
        "id": "kUq7yGioxOOC",
        "outputId": "87d28e4f-bc50-450d-ca9b-a9efcd650991"
      },
      "source": [
        "[j+i for i in range(3) for j in range(4)]"
      ],
      "execution_count": null,
      "outputs": [
        {
          "output_type": "execute_result",
          "data": {
            "text/plain": [
              "[0, 1, 2, 3, 1, 2, 3, 4, 2, 3, 4, 5]"
            ]
          },
          "metadata": {
            "tags": []
          },
          "execution_count": 25
        }
      ]
    },
    {
      "cell_type": "code",
      "metadata": {
        "id": "D7L7nprnxOOC"
      },
      "source": [
        "def equal(a, b, c):\n",
        "    numbers = [a, b, c]\n",
        "    res = numbers.count(max(numbers, key=numbers.count))\n",
        "    if res > 1 :\n",
        "        return res\n",
        "    else:\n",
        "        return 0"
      ],
      "execution_count": null,
      "outputs": []
    },
    {
      "cell_type": "code",
      "metadata": {
        "id": "aQzcOEVNxOOC",
        "outputId": "74ac8d6a-f193-47ae-b602-1d9d2ee7324a"
      },
      "source": [
        "equal(1,2,3)"
      ],
      "execution_count": null,
      "outputs": [
        {
          "output_type": "execute_result",
          "data": {
            "text/plain": [
              "0"
            ]
          },
          "metadata": {
            "tags": []
          },
          "execution_count": 44
        }
      ]
    },
    {
      "cell_type": "code",
      "metadata": {
        "id": "FgqvxPM9xOOC"
      },
      "source": [
        "equall = lambda x,y,z : [x,y,z].count(max([x,y,z], key = [x,y,z].count)) \\\n",
        "         if [x,y,z].count(max([x,y,z], key = [x,y,z].count))>1 else 0"
      ],
      "execution_count": null,
      "outputs": []
    },
    {
      "cell_type": "code",
      "metadata": {
        "id": "bMvUio4exOOD",
        "outputId": "1b31d623-b4bc-4686-bd70-e7ec4505b4ce"
      },
      "source": [
        "equall(1,2,3)"
      ],
      "execution_count": null,
      "outputs": [
        {
          "output_type": "execute_result",
          "data": {
            "text/plain": [
              "0"
            ]
          },
          "metadata": {
            "tags": []
          },
          "execution_count": 51
        }
      ]
    },
    {
      "cell_type": "markdown",
      "metadata": {
        "id": "wb6k7bTzxOOD"
      },
      "source": [
        "```python\n",
        "if_body if condition else else_body\n",
        "```"
      ]
    },
    {
      "cell_type": "markdown",
      "metadata": {
        "id": "xOWZVcojxOOD"
      },
      "source": [
        "```python\n",
        "(lambda parametre : statements)(arguments)\n",
        "```"
      ]
    },
    {
      "cell_type": "code",
      "metadata": {
        "id": "Qc6HjodxxOOD"
      },
      "source": [
        "bb = lambda *x :  list(x).count(max(list(x), key = list(x).count)) \\\n",
        "         if list(x).count(max(list(x), key = list(x).count))>1 else 0"
      ],
      "execution_count": null,
      "outputs": []
    },
    {
      "cell_type": "code",
      "metadata": {
        "id": "nHYk-t2txOOD",
        "outputId": "f5fb2c6c-d9f5-4e70-c41a-a246a7fa8f8d"
      },
      "source": [
        "bb(1,1,1,2,3,4)"
      ],
      "execution_count": null,
      "outputs": [
        {
          "output_type": "execute_result",
          "data": {
            "text/plain": [
              "3"
            ]
          },
          "metadata": {
            "tags": []
          },
          "execution_count": 53
        }
      ]
    },
    {
      "cell_type": "code",
      "metadata": {
        "id": "clx-wOxFxOOE"
      },
      "source": [
        ""
      ],
      "execution_count": null,
      "outputs": []
    },
    {
      "cell_type": "code",
      "metadata": {
        "id": "qxk7VT4bxOOE"
      },
      "source": [
        ""
      ],
      "execution_count": null,
      "outputs": []
    }
  ]
}